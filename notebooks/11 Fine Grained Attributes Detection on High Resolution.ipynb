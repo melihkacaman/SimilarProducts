{
 "cells": [
  {
   "cell_type": "markdown",
   "metadata": {},
   "source": [
    "# Get the Data "
   ]
  },
  {
   "cell_type": "code",
   "execution_count": 1,
   "metadata": {},
   "outputs": [],
   "source": [
    "import pandas as pd \n",
    "\n",
    "data = pd.read_csv(\"../datasets/attribute_set/train_val_data_fine_grained_all.csv\", index_col=0) "
   ]
  },
  {
   "cell_type": "code",
   "execution_count": 2,
   "metadata": {},
   "outputs": [
    {
     "name": "stdout",
     "output_type": "stream",
     "text": [
      "<class 'pandas.core.frame.DataFrame'>\n",
      "Int64Index: 16000 entries, 0 to 1999\n",
      "Data columns (total 27 columns):\n",
      " #   Column           Non-Null Count  Dtype \n",
      "---  ------           --------------  ----- \n",
      " 0   paths            16000 non-null  object\n",
      " 1   floral           16000 non-null  int64 \n",
      " 2   graphic          16000 non-null  int64 \n",
      " 3   striped          16000 non-null  int64 \n",
      " 4   embroidered      16000 non-null  int64 \n",
      " 5   pleated          16000 non-null  int64 \n",
      " 6   solid            16000 non-null  int64 \n",
      " 7   lattice          16000 non-null  int64 \n",
      " 8   long_sleeve      16000 non-null  int64 \n",
      " 9   short_sleeve     16000 non-null  int64 \n",
      " 10  sleeveless       16000 non-null  int64 \n",
      " 11  maxi_length      16000 non-null  int64 \n",
      " 12  mini_length      16000 non-null  int64 \n",
      " 13  no_dress         16000 non-null  int64 \n",
      " 14  crew_neckline    16000 non-null  int64 \n",
      " 15  v_neckline       16000 non-null  int64 \n",
      " 16  square_neckline  16000 non-null  int64 \n",
      " 17  no_neckline      16000 non-null  int64 \n",
      " 18  denim            16000 non-null  int64 \n",
      " 19  chiffon          16000 non-null  int64 \n",
      " 20  cotton           16000 non-null  int64 \n",
      " 21  leather          16000 non-null  int64 \n",
      " 22  faux             16000 non-null  int64 \n",
      " 23  knit             16000 non-null  int64 \n",
      " 24  tight            16000 non-null  int64 \n",
      " 25  loose            16000 non-null  int64 \n",
      " 26  conventional     16000 non-null  int64 \n",
      "dtypes: int64(26), object(1)\n",
      "memory usage: 3.4+ MB\n"
     ]
    }
   ],
   "source": [
    "data.info() "
   ]
  },
  {
   "cell_type": "code",
   "execution_count": 3,
   "metadata": {},
   "outputs": [
    {
     "data": {
      "text/html": [
       "<div>\n",
       "<style scoped>\n",
       "    .dataframe tbody tr th:only-of-type {\n",
       "        vertical-align: middle;\n",
       "    }\n",
       "\n",
       "    .dataframe tbody tr th {\n",
       "        vertical-align: top;\n",
       "    }\n",
       "\n",
       "    .dataframe thead th {\n",
       "        text-align: right;\n",
       "    }\n",
       "</style>\n",
       "<table border=\"1\" class=\"dataframe\">\n",
       "  <thead>\n",
       "    <tr style=\"text-align: right;\">\n",
       "      <th></th>\n",
       "      <th>paths</th>\n",
       "      <th>floral</th>\n",
       "      <th>graphic</th>\n",
       "      <th>striped</th>\n",
       "      <th>embroidered</th>\n",
       "      <th>pleated</th>\n",
       "      <th>solid</th>\n",
       "      <th>lattice</th>\n",
       "      <th>long_sleeve</th>\n",
       "      <th>short_sleeve</th>\n",
       "      <th>...</th>\n",
       "      <th>no_neckline</th>\n",
       "      <th>denim</th>\n",
       "      <th>chiffon</th>\n",
       "      <th>cotton</th>\n",
       "      <th>leather</th>\n",
       "      <th>faux</th>\n",
       "      <th>knit</th>\n",
       "      <th>tight</th>\n",
       "      <th>loose</th>\n",
       "      <th>conventional</th>\n",
       "    </tr>\n",
       "  </thead>\n",
       "  <tbody>\n",
       "    <tr>\n",
       "      <th>0</th>\n",
       "      <td>../datasets/big_ds/img_highres/img_highres/Swe...</td>\n",
       "      <td>0</td>\n",
       "      <td>0</td>\n",
       "      <td>0</td>\n",
       "      <td>1</td>\n",
       "      <td>0</td>\n",
       "      <td>0</td>\n",
       "      <td>0</td>\n",
       "      <td>0</td>\n",
       "      <td>0</td>\n",
       "      <td>...</td>\n",
       "      <td>1</td>\n",
       "      <td>0</td>\n",
       "      <td>1</td>\n",
       "      <td>0</td>\n",
       "      <td>0</td>\n",
       "      <td>0</td>\n",
       "      <td>0</td>\n",
       "      <td>0</td>\n",
       "      <td>0</td>\n",
       "      <td>1</td>\n",
       "    </tr>\n",
       "    <tr>\n",
       "      <th>1</th>\n",
       "      <td>../datasets/big_ds/img_highres/img_highres/Cla...</td>\n",
       "      <td>0</td>\n",
       "      <td>0</td>\n",
       "      <td>0</td>\n",
       "      <td>0</td>\n",
       "      <td>0</td>\n",
       "      <td>1</td>\n",
       "      <td>0</td>\n",
       "      <td>0</td>\n",
       "      <td>0</td>\n",
       "      <td>...</td>\n",
       "      <td>1</td>\n",
       "      <td>0</td>\n",
       "      <td>0</td>\n",
       "      <td>1</td>\n",
       "      <td>0</td>\n",
       "      <td>0</td>\n",
       "      <td>0</td>\n",
       "      <td>1</td>\n",
       "      <td>0</td>\n",
       "      <td>0</td>\n",
       "    </tr>\n",
       "    <tr>\n",
       "      <th>2</th>\n",
       "      <td>../datasets/big_ds/img_highres/img_highres/Str...</td>\n",
       "      <td>0</td>\n",
       "      <td>1</td>\n",
       "      <td>0</td>\n",
       "      <td>0</td>\n",
       "      <td>0</td>\n",
       "      <td>0</td>\n",
       "      <td>0</td>\n",
       "      <td>0</td>\n",
       "      <td>0</td>\n",
       "      <td>...</td>\n",
       "      <td>1</td>\n",
       "      <td>0</td>\n",
       "      <td>0</td>\n",
       "      <td>1</td>\n",
       "      <td>0</td>\n",
       "      <td>0</td>\n",
       "      <td>0</td>\n",
       "      <td>0</td>\n",
       "      <td>0</td>\n",
       "      <td>1</td>\n",
       "    </tr>\n",
       "    <tr>\n",
       "      <th>3</th>\n",
       "      <td>../datasets/big_ds/img_highres/img_highres/Mid...</td>\n",
       "      <td>0</td>\n",
       "      <td>0</td>\n",
       "      <td>0</td>\n",
       "      <td>0</td>\n",
       "      <td>0</td>\n",
       "      <td>1</td>\n",
       "      <td>0</td>\n",
       "      <td>0</td>\n",
       "      <td>0</td>\n",
       "      <td>...</td>\n",
       "      <td>1</td>\n",
       "      <td>1</td>\n",
       "      <td>0</td>\n",
       "      <td>0</td>\n",
       "      <td>0</td>\n",
       "      <td>0</td>\n",
       "      <td>0</td>\n",
       "      <td>1</td>\n",
       "      <td>0</td>\n",
       "      <td>0</td>\n",
       "    </tr>\n",
       "    <tr>\n",
       "      <th>4</th>\n",
       "      <td>../datasets/big_ds/img_highres/img_highres/Zip...</td>\n",
       "      <td>0</td>\n",
       "      <td>0</td>\n",
       "      <td>0</td>\n",
       "      <td>0</td>\n",
       "      <td>0</td>\n",
       "      <td>1</td>\n",
       "      <td>0</td>\n",
       "      <td>1</td>\n",
       "      <td>0</td>\n",
       "      <td>...</td>\n",
       "      <td>0</td>\n",
       "      <td>0</td>\n",
       "      <td>0</td>\n",
       "      <td>1</td>\n",
       "      <td>0</td>\n",
       "      <td>0</td>\n",
       "      <td>0</td>\n",
       "      <td>0</td>\n",
       "      <td>0</td>\n",
       "      <td>1</td>\n",
       "    </tr>\n",
       "  </tbody>\n",
       "</table>\n",
       "<p>5 rows × 27 columns</p>\n",
       "</div>"
      ],
      "text/plain": [
       "                                               paths  floral  graphic  \\\n",
       "0  ../datasets/big_ds/img_highres/img_highres/Swe...       0        0   \n",
       "1  ../datasets/big_ds/img_highres/img_highres/Cla...       0        0   \n",
       "2  ../datasets/big_ds/img_highres/img_highres/Str...       0        1   \n",
       "3  ../datasets/big_ds/img_highres/img_highres/Mid...       0        0   \n",
       "4  ../datasets/big_ds/img_highres/img_highres/Zip...       0        0   \n",
       "\n",
       "   striped  embroidered  pleated  solid  lattice  long_sleeve  short_sleeve  \\\n",
       "0        0            1        0      0        0            0             0   \n",
       "1        0            0        0      1        0            0             0   \n",
       "2        0            0        0      0        0            0             0   \n",
       "3        0            0        0      1        0            0             0   \n",
       "4        0            0        0      1        0            1             0   \n",
       "\n",
       "   ...  no_neckline  denim  chiffon  cotton  leather  faux  knit  tight  \\\n",
       "0  ...            1      0        1       0        0     0     0      0   \n",
       "1  ...            1      0        0       1        0     0     0      1   \n",
       "2  ...            1      0        0       1        0     0     0      0   \n",
       "3  ...            1      1        0       0        0     0     0      1   \n",
       "4  ...            0      0        0       1        0     0     0      0   \n",
       "\n",
       "   loose  conventional  \n",
       "0      0             1  \n",
       "1      0             0  \n",
       "2      0             1  \n",
       "3      0             0  \n",
       "4      0             1  \n",
       "\n",
       "[5 rows x 27 columns]"
      ]
     },
     "execution_count": 3,
     "metadata": {},
     "output_type": "execute_result"
    }
   ],
   "source": [
    "data[\"paths\"] = data.paths.apply(lambda s: s.replace(\"img-001/img\", \"img_highres/img_highres\"))\n",
    "data.head() "
   ]
  },
  {
   "cell_type": "code",
   "execution_count": 5,
   "metadata": {},
   "outputs": [],
   "source": [
    "data = data.loc[:, [\n",
    "    \"paths\",\n",
    "    \"floral\", \n",
    "    \"graphic\" ,\n",
    "    \"striped\",\n",
    "    \"embroidered\",\n",
    "    \"solid\",\n",
    "    \"lattice\",\n",
    "    \"denim\",\n",
    "    \"chiffon\",\n",
    "    \"cotton\",\n",
    "    \"leather\",\n",
    "    \"faux\",\n",
    "    \"knit\",\n",
    "    \"tight\",\n",
    "    \"loose\"\n",
    "]]"
   ]
  },
  {
   "cell_type": "code",
   "execution_count": 6,
   "metadata": {},
   "outputs": [],
   "source": [
    "data.columns = [\n",
    "    \"paths\",\n",
    "    \"cicekli\", \n",
    "    \"baskili\", \n",
    "    \"duz-cizgi\",\n",
    "    \"islemeli\", \n",
    "    \"solid\", \n",
    "    \"kafes\",\n",
    "    \"denim\",\n",
    "    \"sifon\", \n",
    "    \"pamuk\", \n",
    "    \"deri\", \n",
    "    \"kurk\", \n",
    "    \"orme\", \n",
    "    \"dar\",\n",
    "    \"bol-gevsek\" \n",
    "]"
   ]
  },
  {
   "cell_type": "code",
   "execution_count": 7,
   "metadata": {},
   "outputs": [
    {
     "name": "stdout",
     "output_type": "stream",
     "text": [
      "cicekli , positive: 2738 negative: 13262 \n",
      "baskili , positive: 2678 negative: 13322 \n",
      "duz-cizgi , positive: 1055 negative: 14945 \n",
      "islemeli , positive: 1329 negative: 14671 \n",
      "solid , positive: 7584 negative: 8416 \n",
      "kafes , positive: 280 negative: 15720 \n",
      "denim , positive: 949 negative: 15051 \n",
      "sifon , positive: 2342 negative: 13658 \n",
      "pamuk , positive: 10868 negative: 5132 \n",
      "deri , positive: 330 negative: 15670 \n",
      "kurk , positive: 143 negative: 15857 \n",
      "orme , positive: 1368 negative: 14632 \n",
      "dar , positive: 2296 negative: 13704 \n",
      "bol-gevsek , positive: 868 negative: 15132 \n"
     ]
    }
   ],
   "source": [
    "for c in data.columns[1:]: \n",
    "    print(f\"{c} , positive: {len(data[data[c] == 1])} negative: {len(data[data[c] == 0])} \")"
   ]
  },
  {
   "cell_type": "code",
   "execution_count": 8,
   "metadata": {},
   "outputs": [],
   "source": [
    "# data = data.drop([\"kafes\", \"deri\", \"kurk\"], axis=1) "
   ]
  },
  {
   "cell_type": "code",
   "execution_count": 9,
   "metadata": {},
   "outputs": [
    {
     "data": {
      "text/plain": [
       "11200"
      ]
     },
     "execution_count": 9,
     "metadata": {},
     "output_type": "execute_result"
    }
   ],
   "source": [
    "DATA_SIZE = data.shape[0]\n",
    "TRAIN_SIZE = int(0.70 * DATA_SIZE)\n",
    "TRAIN_SIZE "
   ]
  },
  {
   "attachments": {},
   "cell_type": "markdown",
   "metadata": {},
   "source": [
    "# Shuffle Training Data "
   ]
  },
  {
   "cell_type": "code",
   "execution_count": 10,
   "metadata": {},
   "outputs": [
    {
     "data": {
      "text/plain": [
       "((11200, 15), (4800, 15), (16000, 15))"
      ]
     },
     "execution_count": 10,
     "metadata": {},
     "output_type": "execute_result"
    }
   ],
   "source": [
    "data = data.sample(frac=1, random_state=128)\n",
    "trainig_data = data.iloc[:TRAIN_SIZE, :].reset_index(drop=True)\n",
    "val_data = data.iloc[TRAIN_SIZE:, :].reset_index(drop=True)\n",
    "trainig_data.shape, val_data.shape, data.shape "
   ]
  },
  {
   "cell_type": "code",
   "execution_count": 11,
   "metadata": {},
   "outputs": [
    {
     "data": {
      "text/html": [
       "<div>\n",
       "<style scoped>\n",
       "    .dataframe tbody tr th:only-of-type {\n",
       "        vertical-align: middle;\n",
       "    }\n",
       "\n",
       "    .dataframe tbody tr th {\n",
       "        vertical-align: top;\n",
       "    }\n",
       "\n",
       "    .dataframe thead th {\n",
       "        text-align: right;\n",
       "    }\n",
       "</style>\n",
       "<table border=\"1\" class=\"dataframe\">\n",
       "  <thead>\n",
       "    <tr style=\"text-align: right;\">\n",
       "      <th></th>\n",
       "      <th>paths</th>\n",
       "      <th>cicekli</th>\n",
       "      <th>baskili</th>\n",
       "      <th>duz-cizgi</th>\n",
       "      <th>islemeli</th>\n",
       "      <th>solid</th>\n",
       "      <th>kafes</th>\n",
       "      <th>denim</th>\n",
       "      <th>sifon</th>\n",
       "      <th>pamuk</th>\n",
       "      <th>deri</th>\n",
       "      <th>kurk</th>\n",
       "      <th>orme</th>\n",
       "      <th>dar</th>\n",
       "      <th>bol-gevsek</th>\n",
       "    </tr>\n",
       "  </thead>\n",
       "  <tbody>\n",
       "    <tr>\n",
       "      <th>0</th>\n",
       "      <td>../datasets/big_ds/img_highres/img_highres/Cow...</td>\n",
       "      <td>0</td>\n",
       "      <td>0</td>\n",
       "      <td>0</td>\n",
       "      <td>0</td>\n",
       "      <td>1</td>\n",
       "      <td>0</td>\n",
       "      <td>0</td>\n",
       "      <td>0</td>\n",
       "      <td>0</td>\n",
       "      <td>0</td>\n",
       "      <td>0</td>\n",
       "      <td>1</td>\n",
       "      <td>0</td>\n",
       "      <td>0</td>\n",
       "    </tr>\n",
       "    <tr>\n",
       "      <th>1</th>\n",
       "      <td>../datasets/big_ds/img_highres/img_highres/Dip...</td>\n",
       "      <td>1</td>\n",
       "      <td>0</td>\n",
       "      <td>0</td>\n",
       "      <td>0</td>\n",
       "      <td>0</td>\n",
       "      <td>0</td>\n",
       "      <td>0</td>\n",
       "      <td>0</td>\n",
       "      <td>1</td>\n",
       "      <td>0</td>\n",
       "      <td>0</td>\n",
       "      <td>0</td>\n",
       "      <td>0</td>\n",
       "      <td>0</td>\n",
       "    </tr>\n",
       "    <tr>\n",
       "      <th>2</th>\n",
       "      <td>../datasets/big_ds/img_highres/img_highres/Hea...</td>\n",
       "      <td>0</td>\n",
       "      <td>0</td>\n",
       "      <td>0</td>\n",
       "      <td>0</td>\n",
       "      <td>1</td>\n",
       "      <td>0</td>\n",
       "      <td>0</td>\n",
       "      <td>0</td>\n",
       "      <td>1</td>\n",
       "      <td>0</td>\n",
       "      <td>0</td>\n",
       "      <td>0</td>\n",
       "      <td>0</td>\n",
       "      <td>0</td>\n",
       "    </tr>\n",
       "    <tr>\n",
       "      <th>3</th>\n",
       "      <td>../datasets/big_ds/img_highres/img_highres/Dai...</td>\n",
       "      <td>0</td>\n",
       "      <td>0</td>\n",
       "      <td>0</td>\n",
       "      <td>1</td>\n",
       "      <td>0</td>\n",
       "      <td>0</td>\n",
       "      <td>0</td>\n",
       "      <td>0</td>\n",
       "      <td>0</td>\n",
       "      <td>0</td>\n",
       "      <td>0</td>\n",
       "      <td>1</td>\n",
       "      <td>0</td>\n",
       "      <td>0</td>\n",
       "    </tr>\n",
       "    <tr>\n",
       "      <th>4</th>\n",
       "      <td>../datasets/big_ds/img_highres/img_highres/Tas...</td>\n",
       "      <td>0</td>\n",
       "      <td>0</td>\n",
       "      <td>0</td>\n",
       "      <td>1</td>\n",
       "      <td>0</td>\n",
       "      <td>0</td>\n",
       "      <td>0</td>\n",
       "      <td>0</td>\n",
       "      <td>0</td>\n",
       "      <td>0</td>\n",
       "      <td>0</td>\n",
       "      <td>1</td>\n",
       "      <td>0</td>\n",
       "      <td>0</td>\n",
       "    </tr>\n",
       "  </tbody>\n",
       "</table>\n",
       "</div>"
      ],
      "text/plain": [
       "                                               paths  cicekli  baskili  \\\n",
       "0  ../datasets/big_ds/img_highres/img_highres/Cow...        0        0   \n",
       "1  ../datasets/big_ds/img_highres/img_highres/Dip...        1        0   \n",
       "2  ../datasets/big_ds/img_highres/img_highres/Hea...        0        0   \n",
       "3  ../datasets/big_ds/img_highres/img_highres/Dai...        0        0   \n",
       "4  ../datasets/big_ds/img_highres/img_highres/Tas...        0        0   \n",
       "\n",
       "   duz-cizgi  islemeli  solid  kafes  denim  sifon  pamuk  deri  kurk  orme  \\\n",
       "0          0         0      1      0      0      0      0     0     0     1   \n",
       "1          0         0      0      0      0      0      1     0     0     0   \n",
       "2          0         0      1      0      0      0      1     0     0     0   \n",
       "3          0         1      0      0      0      0      0     0     0     1   \n",
       "4          0         1      0      0      0      0      0     0     0     1   \n",
       "\n",
       "   dar  bol-gevsek  \n",
       "0    0           0  \n",
       "1    0           0  \n",
       "2    0           0  \n",
       "3    0           0  \n",
       "4    0           0  "
      ]
     },
     "execution_count": 11,
     "metadata": {},
     "output_type": "execute_result"
    }
   ],
   "source": [
    "trainig_data.head() "
   ]
  },
  {
   "cell_type": "markdown",
   "metadata": {},
   "source": [
    "# Distribution of Train - Val Set "
   ]
  },
  {
   "cell_type": "code",
   "execution_count": 12,
   "metadata": {},
   "outputs": [],
   "source": [
    "import seaborn as sns \n",
    "import matplotlib.pyplot as plt \n",
    "\n",
    "def show_distribution(dt: pd.DataFrame):\n",
    "    train_dist = dict()\n",
    "    for c in dt.columns[1:]: \n",
    "        train_dist[c] = len(dt[dt[c] == 1]) \n",
    "\n",
    "    train_dist = pd.DataFrame.from_dict(train_dist, orient=\"index\").reset_index()\n",
    "    train_dist.columns= [\"rows\", \"vals\"]\n",
    "\n",
    "    sns.barplot(x=\"rows\", y=\"vals\", data=train_dist)\n",
    "    plt.show()"
   ]
  },
  {
   "cell_type": "code",
   "execution_count": 13,
   "metadata": {},
   "outputs": [
    {
     "data": {
      "image/png": "[encoded data removed]",
      "text/plain": [
       "<Figure size 640x480 with 1 Axes>"
      ]
     },
     "metadata": {},
     "output_type": "display_data"
    }
   ],
   "source": [
    "show_distribution(trainig_data)"
   ]
  },
  {
   "cell_type": "code",
   "execution_count": 14,
   "metadata": {},
   "outputs": [
    {
     "data": {
      "image/png": "[encoded data removed]",
      "text/plain": [
       "<Figure size 640x480 with 1 Axes>"
      ]
     },
     "metadata": {},
     "output_type": "display_data"
    }
   ],
   "source": [
    "show_distribution(val_data)"
   ]
  },
  {
   "attachments": {},
   "cell_type": "markdown",
   "metadata": {},
   "source": [
    "# Create Keras Data Generators "
   ]
  },
  {
   "cell_type": "code",
   "execution_count": 15,
   "metadata": {},
   "outputs": [],
   "source": [
    "X_train = trainig_data.iloc[:, 0] \n",
    "y_train = trainig_data.iloc[:, 1:]\n",
    "\n",
    "X_test = val_data.iloc[:, 0] \n",
    "y_test = val_data.iloc[:, 1:] "
   ]
  },
  {
   "cell_type": "code",
   "execution_count": 16,
   "metadata": {},
   "outputs": [],
   "source": [
    "merged_all_classes = [] \n",
    "for idx, row in y_train.iterrows():\n",
    "    merged_all_classes.append([col for col, val in row.items() if val == 1])\n",
    "\n",
    "y_train = pd.Series(merged_all_classes, index=y_train.index, name=\"labels\") \n",
    "\n",
    "merged_all_classes = [] \n",
    "for idx, row in y_test.iterrows():\n",
    "    merged_all_classes.append([col for col, val in row.items() if val == 1])\n",
    "\n",
    "y_test = pd.Series(merged_all_classes, index=y_test.index, name=\"labels\") "
   ]
  },
  {
   "cell_type": "code",
   "execution_count": 17,
   "metadata": {},
   "outputs": [],
   "source": [
    "train_data_flow_df = pd.concat([\n",
    "    X_train, \n",
    "    y_train\n",
    "], axis=1)\n",
    "\n",
    "test_data_flow_df = pd.concat([\n",
    "    X_test, \n",
    "    y_test\n",
    "], axis=1) "
   ]
  },
  {
   "cell_type": "code",
   "execution_count": 18,
   "metadata": {},
   "outputs": [],
   "source": [
    "IMG_WIDTH = 456 \n",
    "IMG_HEIGHT = 456 \n",
    "nr_of_classes = 14"
   ]
  },
  {
   "cell_type": "code",
   "execution_count": 19,
   "metadata": {},
   "outputs": [],
   "source": [
    "from tensorflow.keras.preprocessing.image import ImageDataGenerator \n",
    "\n",
    "train_gen = ImageDataGenerator() \n",
    "test_gen = ImageDataGenerator()"
   ]
  },
  {
   "cell_type": "code",
   "execution_count": 20,
   "metadata": {},
   "outputs": [
    {
     "name": "stdout",
     "output_type": "stream",
     "text": [
      "Found 11200 validated image filenames belonging to 14 classes.\n",
      "Found 4800 validated image filenames belonging to 14 classes.\n"
     ]
    }
   ],
   "source": [
    "train = train_gen.flow_from_dataframe(\n",
    "    dataframe=train_data_flow_df, \n",
    "    directory=\"\", \n",
    "    x_col=\"paths\", \n",
    "    y_col=\"labels\", \n",
    "    class_mode='categorical', \n",
    "    target_size=(IMG_WIDTH, IMG_HEIGHT))\n",
    "\n",
    "test = test_gen.flow_from_dataframe(\n",
    "    dataframe=test_data_flow_df, \n",
    "    directory=\"\", \n",
    "    x_col=\"paths\", \n",
    "    y_col=\"labels\", \n",
    "    class_mode='categorical', \n",
    "    target_size=(IMG_WIDTH, IMG_HEIGHT))"
   ]
  },
  {
   "cell_type": "code",
   "execution_count": 21,
   "metadata": {},
   "outputs": [
    {
     "name": "stdout",
     "output_type": "stream",
     "text": [
      "(32, 456, 456, 3)\n"
     ]
    }
   ],
   "source": [
    "for b in train: \n",
    "    print(b[0].shape)\n",
    "    break"
   ]
  },
  {
   "cell_type": "markdown",
   "metadata": {},
   "source": [
    "# Test Data "
   ]
  },
  {
   "cell_type": "code",
   "execution_count": 22,
   "metadata": {},
   "outputs": [
    {
     "data": {
      "text/html": [
       "<div>\n",
       "<style scoped>\n",
       "    .dataframe tbody tr th:only-of-type {\n",
       "        vertical-align: middle;\n",
       "    }\n",
       "\n",
       "    .dataframe tbody tr th {\n",
       "        vertical-align: top;\n",
       "    }\n",
       "\n",
       "    .dataframe thead th {\n",
       "        text-align: right;\n",
       "    }\n",
       "</style>\n",
       "<table border=\"1\" class=\"dataframe\">\n",
       "  <thead>\n",
       "    <tr style=\"text-align: right;\">\n",
       "      <th></th>\n",
       "      <th>paths</th>\n",
       "      <th>cicekli</th>\n",
       "      <th>baskili</th>\n",
       "      <th>duz-cizgi</th>\n",
       "      <th>islemeli</th>\n",
       "      <th>solid</th>\n",
       "      <th>kafes</th>\n",
       "      <th>denim</th>\n",
       "      <th>sifon</th>\n",
       "      <th>pamuk</th>\n",
       "      <th>deri</th>\n",
       "      <th>kurk</th>\n",
       "      <th>orme</th>\n",
       "      <th>dar</th>\n",
       "      <th>bol-gevsek</th>\n",
       "    </tr>\n",
       "  </thead>\n",
       "  <tbody>\n",
       "    <tr>\n",
       "      <th>0</th>\n",
       "      <td>../datasets/big_ds/img_highres/img_highres/Flo...</td>\n",
       "      <td>1</td>\n",
       "      <td>0</td>\n",
       "      <td>0</td>\n",
       "      <td>0</td>\n",
       "      <td>0</td>\n",
       "      <td>0</td>\n",
       "      <td>0</td>\n",
       "      <td>0</td>\n",
       "      <td>1</td>\n",
       "      <td>0</td>\n",
       "      <td>0</td>\n",
       "      <td>0</td>\n",
       "      <td>1</td>\n",
       "      <td>0</td>\n",
       "    </tr>\n",
       "    <tr>\n",
       "      <th>1</th>\n",
       "      <td>../datasets/big_ds/img_highres/img_highres/But...</td>\n",
       "      <td>0</td>\n",
       "      <td>0</td>\n",
       "      <td>0</td>\n",
       "      <td>0</td>\n",
       "      <td>0</td>\n",
       "      <td>0</td>\n",
       "      <td>0</td>\n",
       "      <td>1</td>\n",
       "      <td>0</td>\n",
       "      <td>0</td>\n",
       "      <td>0</td>\n",
       "      <td>0</td>\n",
       "      <td>0</td>\n",
       "      <td>0</td>\n",
       "    </tr>\n",
       "    <tr>\n",
       "      <th>2</th>\n",
       "      <td>../datasets/big_ds/img_highres/img_highres/Mar...</td>\n",
       "      <td>0</td>\n",
       "      <td>0</td>\n",
       "      <td>0</td>\n",
       "      <td>0</td>\n",
       "      <td>1</td>\n",
       "      <td>0</td>\n",
       "      <td>0</td>\n",
       "      <td>0</td>\n",
       "      <td>0</td>\n",
       "      <td>0</td>\n",
       "      <td>0</td>\n",
       "      <td>1</td>\n",
       "      <td>0</td>\n",
       "      <td>0</td>\n",
       "    </tr>\n",
       "    <tr>\n",
       "      <th>3</th>\n",
       "      <td>../datasets/big_ds/img_highres/img_highres/Sun...</td>\n",
       "      <td>1</td>\n",
       "      <td>0</td>\n",
       "      <td>0</td>\n",
       "      <td>0</td>\n",
       "      <td>0</td>\n",
       "      <td>0</td>\n",
       "      <td>0</td>\n",
       "      <td>0</td>\n",
       "      <td>1</td>\n",
       "      <td>0</td>\n",
       "      <td>0</td>\n",
       "      <td>0</td>\n",
       "      <td>0</td>\n",
       "      <td>0</td>\n",
       "    </tr>\n",
       "    <tr>\n",
       "      <th>4</th>\n",
       "      <td>../datasets/big_ds/img_highres/img_highres/Col...</td>\n",
       "      <td>0</td>\n",
       "      <td>0</td>\n",
       "      <td>0</td>\n",
       "      <td>0</td>\n",
       "      <td>1</td>\n",
       "      <td>0</td>\n",
       "      <td>0</td>\n",
       "      <td>1</td>\n",
       "      <td>0</td>\n",
       "      <td>0</td>\n",
       "      <td>0</td>\n",
       "      <td>0</td>\n",
       "      <td>0</td>\n",
       "      <td>0</td>\n",
       "    </tr>\n",
       "  </tbody>\n",
       "</table>\n",
       "</div>"
      ],
      "text/plain": [
       "                                               paths  cicekli  baskili  \\\n",
       "0  ../datasets/big_ds/img_highres/img_highres/Flo...        1        0   \n",
       "1  ../datasets/big_ds/img_highres/img_highres/But...        0        0   \n",
       "2  ../datasets/big_ds/img_highres/img_highres/Mar...        0        0   \n",
       "3  ../datasets/big_ds/img_highres/img_highres/Sun...        1        0   \n",
       "4  ../datasets/big_ds/img_highres/img_highres/Col...        0        0   \n",
       "\n",
       "   duz-cizgi  islemeli  solid  kafes  denim  sifon  pamuk  deri  kurk  orme  \\\n",
       "0          0         0      0      0      0      0      1     0     0     0   \n",
       "1          0         0      0      0      0      1      0     0     0     0   \n",
       "2          0         0      1      0      0      0      0     0     0     1   \n",
       "3          0         0      0      0      0      0      1     0     0     0   \n",
       "4          0         0      1      0      0      1      0     0     0     0   \n",
       "\n",
       "   dar  bol-gevsek  \n",
       "0    1           0  \n",
       "1    0           0  \n",
       "2    0           0  \n",
       "3    0           0  \n",
       "4    0           0  "
      ]
     },
     "execution_count": 22,
     "metadata": {},
     "output_type": "execute_result"
    }
   ],
   "source": [
    "test_data = pd.read_csv(\"../datasets/attribute_set/test_data_fine_grained.csv\", index_col=0)\n",
    "test_data[\"paths\"] = test_data.paths.apply(lambda s: s.replace(\"img-001/img\", \"img_highres/img_highres\"))\n",
    "\n",
    "test_data = test_data.loc[:, [\n",
    "    \"paths\",\n",
    "    \"floral\", \n",
    "    \"graphic\" ,\n",
    "    \"striped\",\n",
    "    \"embroidered\",\n",
    "    \"solid\",\n",
    "    \"lattice\",\n",
    "    \"denim\",\n",
    "    \"chiffon\",\n",
    "    \"cotton\",\n",
    "    \"leather\",\n",
    "    \"faux\",\n",
    "    \"knit\",\n",
    "    \"tight\",\n",
    "    \"loose\"\n",
    "]]\n",
    "\n",
    "test_data.columns = [\n",
    "    \"paths\",\n",
    "    \"cicekli\", \n",
    "    \"baskili\", \n",
    "    \"duz-cizgi\",\n",
    "    \"islemeli\", \n",
    "    \"solid\", \n",
    "    \"kafes\",\n",
    "    \"denim\",\n",
    "    \"sifon\", \n",
    "    \"pamuk\", \n",
    "    \"deri\", \n",
    "    \"kurk\", \n",
    "    \"orme\", \n",
    "    \"dar\",\n",
    "    \"bol-gevsek\" \n",
    "]\n",
    "\n",
    "test_data.head() "
   ]
  },
  {
   "cell_type": "code",
   "execution_count": 32,
   "metadata": {},
   "outputs": [],
   "source": [
    "from PIL import Image\n",
    "import os\n",
    "\n",
    "max_pixel_limit = 178956970\n",
    "batch=0\n",
    "i = 0\n",
    "\n",
    "for k,row in test_data.iterrows():\n",
    "    try:\n",
    "        image = Image.open(row[\"paths\"])\n",
    "        total_pixels = image.size[0] * image.size[1]\n",
    "        if total_pixels > max_pixel_limit:\n",
    "            print(f\"Removed {i} - Exceeds pixel limit\")\n",
    "\n",
    "        i = i + 1 \n",
    "        if i >= 31:\n",
    "            i = 0 \n",
    "            batch = batch + 1 \n",
    "    except Exception as e:\n",
    "        print(f\"batch:{batch} index:{k}\")\n",
    "\n"
   ]
  },
  {
   "cell_type": "code",
   "execution_count": null,
   "metadata": {},
   "outputs": [],
   "source": [
    "test_data = test_data.drop([3778])"
   ]
  },
  {
   "cell_type": "code",
   "execution_count": 33,
   "metadata": {},
   "outputs": [],
   "source": [
    "X_test2 = test_data.iloc[:, 0] \n",
    "y_test2 = test_data.iloc[:, 1:] \n",
    "\n",
    "merged_all_classes = [] \n",
    "for idx, row in y_test2.iterrows():\n",
    "    merged_all_classes.append([col for col, val in row.items() if val == 1])\n",
    "\n",
    "y_test2 = pd.Series(merged_all_classes, index=y_test2.index, name=\"labels\") \n",
    "\n",
    "test2_data_flow_df = pd.concat([\n",
    "    X_test2, \n",
    "    y_test2\n",
    "], axis=1) "
   ]
  },
  {
   "cell_type": "code",
   "execution_count": 34,
   "metadata": {},
   "outputs": [
    {
     "name": "stdout",
     "output_type": "stream",
     "text": [
      "Found 3999 validated image filenames belonging to 14 classes.\n"
     ]
    }
   ],
   "source": [
    "test2_gen = ImageDataGenerator() \n",
    "test_2 = test2_gen.flow_from_dataframe(\n",
    "    dataframe=test2_data_flow_df, \n",
    "    directory=\"\", \n",
    "    x_col=\"paths\", \n",
    "    y_col=\"labels\", \n",
    "    class_mode='categorical', \n",
    "    target_size=(IMG_WIDTH, IMG_HEIGHT))"
   ]
  },
  {
   "attachments": {},
   "cell_type": "markdown",
   "metadata": {},
   "source": [
    "# Model 1: EfficientNetB5 "
   ]
  },
  {
   "cell_type": "code",
   "execution_count": 45,
   "metadata": {},
   "outputs": [],
   "source": [
    "from tensorflow import keras \n",
    "import tensorflow as tf "
   ]
  },
  {
   "cell_type": "code",
   "execution_count": 46,
   "metadata": {},
   "outputs": [],
   "source": [
    "efficient_net = tf.keras.applications.EfficientNetB5(include_top=False)\n",
    "efficient_net.trainable = False"
   ]
  },
  {
   "cell_type": "code",
   "execution_count": 47,
   "metadata": {},
   "outputs": [],
   "source": [
    "from tensorflow import keras \n",
    "\n",
    "inputs = keras.Input(shape=(IMG_WIDTH,IMG_HEIGHT,3)) \n",
    "x = efficient_net(inputs) \n",
    "x = keras.layers.GlobalAveragePooling2D()(x) \n",
    "\n",
    "initializer = tf.keras.initializers.GlorotUniform(seed=42) \n",
    "activation = tf.keras.activations.sigmoid  \n",
    "kernel_regularizer = tf.keras.regularizers.l2(0.01)\n",
    "outputs = keras.layers.Dense(nr_of_classes,\n",
    "                             kernel_initializer=initializer, \n",
    "                             kernel_regularizer = kernel_regularizer,\n",
    "                             activation=activation)(x) \n",
    "\n",
    "model_1 = keras.Model(inputs, outputs) "
   ]
  },
  {
   "cell_type": "code",
   "execution_count": 48,
   "metadata": {},
   "outputs": [],
   "source": [
    "METRICS = [\n",
    "      keras.metrics.BinaryAccuracy(name='accuracy'),\n",
    "      keras.metrics.Precision(name='precision'),\n",
    "      keras.metrics.Recall(name='recall')\n",
    "]\n",
    "\n",
    "\n",
    "model_1.compile(optimizer=keras.optimizers.Adam(),\n",
    "              loss=keras.losses.BinaryCrossentropy(), # default from_logits=False\n",
    "              metrics=METRICS)"
   ]
  },
  {
   "cell_type": "code",
   "execution_count": 49,
   "metadata": {},
   "outputs": [],
   "source": [
    "checkpoint_path = \"checkpoints/high_res_true_fine_grained_reg/checkpoint-{epoch:01d}.ckpt\" \n",
    "checkpoint_callback = tf.keras.callbacks.ModelCheckpoint(filepath=checkpoint_path,\n",
    "                                                         save_weights_only=True,\n",
    "                                                         save_best_only=False,\n",
    "                                                         verbose=1)\n",
    "\n",
    "# lr_scheduler = tf.keras.callbacks.LearningRateScheduler(lambda epoch: 1e-4 * 10**(epoch/20))"
   ]
  },
  {
   "cell_type": "code",
   "execution_count": 50,
   "metadata": {},
   "outputs": [
    {
     "name": "stdout",
     "output_type": "stream",
     "text": [
      "Epoch 1/20\n",
      "350/350 [==============================] - ETA: 0s - loss: 0.3727 - accuracy: 0.8906 - precision: 0.7234 - recall: 0.4794 \n",
      "Epoch 1: saving model to checkpoints/high_res_true_fine_grained_reg\\checkpoint-1.ckpt\n",
      "350/350 [==============================] - 5121s 15s/step - loss: 0.3727 - accuracy: 0.8906 - precision: 0.7234 - recall: 0.4794 - val_loss: 0.3326 - val_accuracy: 0.8935 - val_precision: 0.7437 - val_recall: 0.4822\n",
      "Epoch 2/20\n",
      "350/350 [==============================] - ETA: 0s - loss: 0.3303 - accuracy: 0.8953 - precision: 0.7486 - recall: 0.4907\n",
      "Epoch 2: saving model to checkpoints/high_res_true_fine_grained_reg\\checkpoint-2.ckpt\n",
      "350/350 [==============================] - 3697s 11s/step - loss: 0.3303 - accuracy: 0.8953 - precision: 0.7486 - recall: 0.4907 - val_loss: 0.3268 - val_accuracy: 0.8959 - val_precision: 0.7607 - val_recall: 0.4837\n",
      "Epoch 3/20\n",
      "350/350 [==============================] - ETA: 0s - loss: 0.3248 - accuracy: 0.8946 - precision: 0.7481 - recall: 0.4853\n",
      "Epoch 3: saving model to checkpoints/high_res_true_fine_grained_reg\\checkpoint-3.ckpt\n",
      "350/350 [==============================] - 3710s 11s/step - loss: 0.3248 - accuracy: 0.8946 - precision: 0.7481 - recall: 0.4853 - val_loss: 0.3222 - val_accuracy: 0.8972 - val_precision: 0.7582 - val_recall: 0.4986\n",
      "Epoch 4/20\n",
      "350/350 [==============================] - ETA: 0s - loss: 0.3201 - accuracy: 0.8942 - precision: 0.7466 - recall: 0.4834\n",
      "Epoch 4: saving model to checkpoints/high_res_true_fine_grained_reg\\checkpoint-4.ckpt\n",
      "350/350 [==============================] - 3701s 11s/step - loss: 0.3201 - accuracy: 0.8942 - precision: 0.7466 - recall: 0.4834 - val_loss: 0.3180 - val_accuracy: 0.8945 - val_precision: 0.7598 - val_recall: 0.4718\n",
      "Epoch 5/20\n",
      "350/350 [==============================] - ETA: 0s - loss: 0.3156 - accuracy: 0.8943 - precision: 0.7496 - recall: 0.4806\n",
      "Epoch 5: saving model to checkpoints/high_res_true_fine_grained_reg\\checkpoint-5.ckpt\n",
      "350/350 [==============================] - 3683s 11s/step - loss: 0.3156 - accuracy: 0.8943 - precision: 0.7496 - recall: 0.4806 - val_loss: 0.3148 - val_accuracy: 0.8913 - val_precision: 0.7238 - val_recall: 0.4881\n",
      "Epoch 6/20\n",
      "350/350 [==============================] - ETA: 0s - loss: 0.3121 - accuracy: 0.8942 - precision: 0.7487 - recall: 0.4799\n",
      "Epoch 6: saving model to checkpoints/high_res_true_fine_grained_reg\\checkpoint-6.ckpt\n",
      "350/350 [==============================] - 3688s 11s/step - loss: 0.3121 - accuracy: 0.8942 - precision: 0.7487 - recall: 0.4799 - val_loss: 0.3101 - val_accuracy: 0.8952 - val_precision: 0.7594 - val_recall: 0.4788\n",
      "Epoch 7/20\n",
      "350/350 [==============================] - ETA: 0s - loss: 0.3089 - accuracy: 0.8939 - precision: 0.7472 - recall: 0.4791\n",
      "Epoch 7: saving model to checkpoints/high_res_true_fine_grained_reg\\checkpoint-7.ckpt\n",
      "350/350 [==============================] - 3695s 11s/step - loss: 0.3089 - accuracy: 0.8939 - precision: 0.7472 - recall: 0.4791 - val_loss: 0.3077 - val_accuracy: 0.8964 - val_precision: 0.7705 - val_recall: 0.4768\n",
      "Epoch 8/20\n",
      "350/350 [==============================] - ETA: 0s - loss: 0.3059 - accuracy: 0.8939 - precision: 0.7484 - recall: 0.4779\n",
      "Epoch 8: saving model to checkpoints/high_res_true_fine_grained_reg\\checkpoint-8.ckpt\n",
      "350/350 [==============================] - 3687s 11s/step - loss: 0.3059 - accuracy: 0.8939 - precision: 0.7484 - recall: 0.4779 - val_loss: 0.3053 - val_accuracy: 0.8921 - val_precision: 0.7496 - val_recall: 0.4613\n",
      "Epoch 9/20\n",
      "350/350 [==============================] - ETA: 0s - loss: 0.3039 - accuracy: 0.8928 - precision: 0.7428 - recall: 0.4742\n",
      "Epoch 9: saving model to checkpoints/high_res_true_fine_grained_reg\\checkpoint-9.ckpt\n",
      "350/350 [==============================] - 3727s 11s/step - loss: 0.3039 - accuracy: 0.8928 - precision: 0.7428 - recall: 0.4742 - val_loss: 0.3031 - val_accuracy: 0.8921 - val_precision: 0.7407 - val_recall: 0.4730\n",
      "Epoch 10/20\n",
      "350/350 [==============================] - ETA: 0s - loss: 0.3020 - accuracy: 0.8930 - precision: 0.7452 - recall: 0.4732\n",
      "Epoch 10: saving model to checkpoints/high_res_true_fine_grained_reg\\checkpoint-10.ckpt\n",
      "350/350 [==============================] - 3848s 11s/step - loss: 0.3020 - accuracy: 0.8930 - precision: 0.7452 - recall: 0.4732 - val_loss: 0.3022 - val_accuracy: 0.8908 - val_precision: 0.7318 - val_recall: 0.4720\n",
      "Epoch 11/20\n",
      "350/350 [==============================] - ETA: 0s - loss: 0.3003 - accuracy: 0.8926 - precision: 0.7424 - recall: 0.4731\n",
      "Epoch 11: saving model to checkpoints/high_res_true_fine_grained_reg\\checkpoint-11.ckpt\n",
      "350/350 [==============================] - 4297s 12s/step - loss: 0.3003 - accuracy: 0.8926 - precision: 0.7424 - recall: 0.4731 - val_loss: 0.2996 - val_accuracy: 0.8930 - val_precision: 0.7444 - val_recall: 0.4765\n",
      "Epoch 12/20\n",
      "350/350 [==============================] - ETA: 0s - loss: 0.2991 - accuracy: 0.8931 - precision: 0.7463 - recall: 0.4727\n",
      "Epoch 12: saving model to checkpoints/high_res_true_fine_grained_reg\\checkpoint-12.ckpt\n",
      "350/350 [==============================] - 3852s 11s/step - loss: 0.2991 - accuracy: 0.8931 - precision: 0.7463 - recall: 0.4727 - val_loss: 0.2989 - val_accuracy: 0.8919 - val_precision: 0.7588 - val_recall: 0.4485\n",
      "Epoch 13/20\n",
      "350/350 [==============================] - ETA: 0s - loss: 0.2981 - accuracy: 0.8921 - precision: 0.7414 - recall: 0.4696\n",
      "Epoch 13: saving model to checkpoints/high_res_true_fine_grained_reg\\checkpoint-13.ckpt\n",
      "350/350 [==============================] - 4889s 14s/step - loss: 0.2981 - accuracy: 0.8921 - precision: 0.7414 - recall: 0.4696 - val_loss: 0.2985 - val_accuracy: 0.8940 - val_precision: 0.7504 - val_recall: 0.4784\n",
      "Epoch 14/20\n",
      "350/350 [==============================] - ETA: 0s - loss: 0.2973 - accuracy: 0.8924 - precision: 0.7436 - recall: 0.4696 \n",
      "Epoch 14: saving model to checkpoints/high_res_true_fine_grained_reg\\checkpoint-14.ckpt\n",
      "350/350 [==============================] - 7092s 20s/step - loss: 0.2973 - accuracy: 0.8924 - precision: 0.7436 - recall: 0.4696 - val_loss: 0.2970 - val_accuracy: 0.8919 - val_precision: 0.7710 - val_recall: 0.4350\n",
      "Epoch 15/20\n",
      "350/350 [==============================] - ETA: 0s - loss: 0.2961 - accuracy: 0.8927 - precision: 0.7443 - recall: 0.4718 \n",
      "Epoch 15: saving model to checkpoints/high_res_true_fine_grained_reg\\checkpoint-15.ckpt\n",
      "350/350 [==============================] - 6942s 20s/step - loss: 0.2961 - accuracy: 0.8927 - precision: 0.7443 - recall: 0.4718 - val_loss: 0.2992 - val_accuracy: 0.8917 - val_precision: 0.7235 - val_recall: 0.4935\n",
      "Epoch 16/20\n",
      "350/350 [==============================] - ETA: 0s - loss: 0.2957 - accuracy: 0.8924 - precision: 0.7423 - recall: 0.4712 \n",
      "Epoch 16: saving model to checkpoints/high_res_true_fine_grained_reg\\checkpoint-16.ckpt\n",
      "350/350 [==============================] - 6140s 18s/step - loss: 0.2957 - accuracy: 0.8924 - precision: 0.7423 - recall: 0.4712 - val_loss: 0.2975 - val_accuracy: 0.8895 - val_precision: 0.7504 - val_recall: 0.4350\n",
      "Epoch 17/20\n",
      "350/350 [==============================] - ETA: 0s - loss: 0.2954 - accuracy: 0.8921 - precision: 0.7413 - recall: 0.4698\n",
      "Epoch 17: saving model to checkpoints/high_res_true_fine_grained_reg\\checkpoint-17.ckpt\n",
      "350/350 [==============================] - 3838s 11s/step - loss: 0.2954 - accuracy: 0.8921 - precision: 0.7413 - recall: 0.4698 - val_loss: 0.2955 - val_accuracy: 0.8916 - val_precision: 0.7371 - val_recall: 0.4728\n",
      "Epoch 18/20\n",
      "350/350 [==============================] - ETA: 0s - loss: 0.2951 - accuracy: 0.8919 - precision: 0.7410 - recall: 0.4682\n",
      "Epoch 18: saving model to checkpoints/high_res_true_fine_grained_reg\\checkpoint-18.ckpt\n",
      "350/350 [==============================] - 3722s 11s/step - loss: 0.2951 - accuracy: 0.8919 - precision: 0.7410 - recall: 0.4682 - val_loss: 0.2952 - val_accuracy: 0.8934 - val_precision: 0.7336 - val_recall: 0.4952\n",
      "Epoch 19/20\n",
      "350/350 [==============================] - ETA: 0s - loss: 0.2947 - accuracy: 0.8926 - precision: 0.7442 - recall: 0.4701\n",
      "Epoch 19: saving model to checkpoints/high_res_true_fine_grained_reg\\checkpoint-19.ckpt\n",
      "350/350 [==============================] - 3735s 11s/step - loss: 0.2947 - accuracy: 0.8926 - precision: 0.7442 - recall: 0.4701 - val_loss: 0.2946 - val_accuracy: 0.8912 - val_precision: 0.7397 - val_recall: 0.4649\n",
      "Epoch 20/20\n",
      "350/350 [==============================] - ETA: 0s - loss: 0.2942 - accuracy: 0.8920 - precision: 0.7406 - recall: 0.4695\n",
      "Epoch 20: saving model to checkpoints/high_res_true_fine_grained_reg\\checkpoint-20.ckpt\n",
      "350/350 [==============================] - 3654s 10s/step - loss: 0.2942 - accuracy: 0.8920 - precision: 0.7406 - recall: 0.4695 - val_loss: 0.2952 - val_accuracy: 0.8939 - val_precision: 0.7730 - val_recall: 0.4514\n"
     ]
    }
   ],
   "source": [
    "history_model_1 = model_1.fit(train, \n",
    "        validation_data =test,\n",
    "        epochs=20,\n",
    "        callbacks=[checkpoint_callback])"
   ]
  },
  {
   "cell_type": "code",
   "execution_count": null,
   "metadata": {},
   "outputs": [],
   "source": [
    "# model_2.save(\"../trained_models/model_2_efficientnet_SHUFFLEDdata_fine_grained_vgg.h5\") "
   ]
  },
  {
   "cell_type": "code",
   "execution_count": null,
   "metadata": {},
   "outputs": [],
   "source": [
    "# from helpers import save_with_pickle\n",
    "# save_with_pickle(\"../trained_models/model_2_efficientnet_SHUFFLEDdata_fine_grained_vgg_HISTORY.pickle\", history_model_2.history)"
   ]
  },
  {
   "cell_type": "code",
   "execution_count": 51,
   "metadata": {},
   "outputs": [
    {
     "data": {
      "image/png": "[encoded data removed]",
      "text/plain": [
       "<Figure size 640x480 with 1 Axes>"
      ]
     },
     "metadata": {},
     "output_type": "display_data"
    }
   ],
   "source": [
    "from matplotlib import pyplot as plt \n",
    "\n",
    "plt.plot(pd.DataFrame(history_model_1.history)[[\"loss\", \"val_loss\"]])\n",
    "plt.show()"
   ]
  },
  {
   "attachments": {},
   "cell_type": "markdown",
   "metadata": {},
   "source": [
    "### Model 1 Fine Tune"
   ]
  },
  {
   "cell_type": "code",
   "execution_count": 53,
   "metadata": {},
   "outputs": [],
   "source": [
    "efficient_net.trainable = True  \n",
    "\n",
    "for layer in efficient_net.layers[:-15]:\n",
    "    layer.trainable = False \n",
    "\n",
    "model_1.compile(optimizer=keras.optimizers.Adam(),\n",
    "              loss=keras.losses.BinaryCrossentropy(), \n",
    "              metrics=METRICS)"
   ]
  },
  {
   "cell_type": "code",
   "execution_count": 54,
   "metadata": {},
   "outputs": [
    {
     "name": "stdout",
     "output_type": "stream",
     "text": [
      "Epoch 20/40\n",
      "350/350 [==============================] - ETA: 0s - loss: 0.2359 - accuracy: 0.9086 - precision: 0.7836 - recall: 0.5693 \n",
      "Epoch 20: saving model to checkpoints/high_res_true_fine_grained_reg\\checkpoint-20.ckpt\n",
      "350/350 [==============================] - 4517s 13s/step - loss: 0.2359 - accuracy: 0.9086 - precision: 0.7836 - recall: 0.5693 - val_loss: 0.2126 - val_accuracy: 0.9232 - val_precision: 0.7953 - val_recall: 0.6827\n",
      "Epoch 21/40\n",
      "350/350 [==============================] - ETA: 0s - loss: 0.2109 - accuracy: 0.9236 - precision: 0.8072 - recall: 0.6677\n",
      "Epoch 21: saving model to checkpoints/high_res_true_fine_grained_reg\\checkpoint-21.ckpt\n",
      "350/350 [==============================] - 4188s 12s/step - loss: 0.2109 - accuracy: 0.9236 - precision: 0.8072 - recall: 0.6677 - val_loss: 0.2076 - val_accuracy: 0.9232 - val_precision: 0.8036 - val_recall: 0.6705\n",
      "Epoch 22/40\n",
      "350/350 [==============================] - ETA: 0s - loss: 0.1988 - accuracy: 0.9286 - precision: 0.8207 - recall: 0.6920\n",
      "Epoch 22: saving model to checkpoints/high_res_true_fine_grained_reg\\checkpoint-22.ckpt\n",
      "350/350 [==============================] - 4346s 12s/step - loss: 0.1988 - accuracy: 0.9286 - precision: 0.8207 - recall: 0.6920 - val_loss: 0.2047 - val_accuracy: 0.9254 - val_precision: 0.8074 - val_recall: 0.6845\n",
      "Epoch 23/40\n",
      "350/350 [==============================] - ETA: 0s - loss: 0.1880 - accuracy: 0.9331 - precision: 0.8329 - recall: 0.7122\n",
      "Epoch 23: saving model to checkpoints/high_res_true_fine_grained_reg\\checkpoint-23.ckpt\n",
      "350/350 [==============================] - 4043s 12s/step - loss: 0.1880 - accuracy: 0.9331 - precision: 0.8329 - recall: 0.7122 - val_loss: 0.2050 - val_accuracy: 0.9258 - val_precision: 0.7892 - val_recall: 0.7146\n",
      "Epoch 24/40\n",
      "350/350 [==============================] - ETA: 0s - loss: 0.1759 - accuracy: 0.9388 - precision: 0.8501 - recall: 0.7362\n",
      "Epoch 24: saving model to checkpoints/high_res_true_fine_grained_reg\\checkpoint-24.ckpt\n",
      "350/350 [==============================] - 4059s 12s/step - loss: 0.1759 - accuracy: 0.9388 - precision: 0.8501 - recall: 0.7362 - val_loss: 0.2038 - val_accuracy: 0.9269 - val_precision: 0.8009 - val_recall: 0.7061\n",
      "Epoch 25/40\n",
      "350/350 [==============================] - ETA: 0s - loss: 0.1662 - accuracy: 0.9426 - precision: 0.8609 - recall: 0.7517\n",
      "Epoch 25: saving model to checkpoints/high_res_true_fine_grained_reg\\checkpoint-25.ckpt\n",
      "350/350 [==============================] - 3992s 11s/step - loss: 0.1662 - accuracy: 0.9426 - precision: 0.8609 - recall: 0.7517 - val_loss: 0.2058 - val_accuracy: 0.9271 - val_precision: 0.7998 - val_recall: 0.7095\n",
      "Epoch 26/40\n",
      "350/350 [==============================] - ETA: 0s - loss: 0.1571 - accuracy: 0.9474 - precision: 0.8759 - recall: 0.7706\n",
      "Epoch 26: saving model to checkpoints/high_res_true_fine_grained_reg\\checkpoint-26.ckpt\n",
      "350/350 [==============================] - 3962s 11s/step - loss: 0.1571 - accuracy: 0.9474 - precision: 0.8759 - recall: 0.7706 - val_loss: 0.2114 - val_accuracy: 0.9264 - val_precision: 0.7901 - val_recall: 0.7178\n",
      "Epoch 27/40\n",
      "350/350 [==============================] - ETA: 0s - loss: 0.1455 - accuracy: 0.9517 - precision: 0.8860 - recall: 0.7913\n",
      "Epoch 27: saving model to checkpoints/high_res_true_fine_grained_reg\\checkpoint-27.ckpt\n",
      "350/350 [==============================] - 3965s 11s/step - loss: 0.1455 - accuracy: 0.9517 - precision: 0.8860 - recall: 0.7913 - val_loss: 0.2128 - val_accuracy: 0.9250 - val_precision: 0.7866 - val_recall: 0.7113\n",
      "Epoch 28/40\n",
      "350/350 [==============================] - ETA: 0s - loss: 0.1370 - accuracy: 0.9560 - precision: 0.8971 - recall: 0.8097\n",
      "Epoch 28: saving model to checkpoints/high_res_true_fine_grained_reg\\checkpoint-28.ckpt\n",
      "350/350 [==============================] - 3994s 11s/step - loss: 0.1370 - accuracy: 0.9560 - precision: 0.8971 - recall: 0.8097 - val_loss: 0.2188 - val_accuracy: 0.9243 - val_precision: 0.7868 - val_recall: 0.7047\n",
      "Epoch 29/40\n",
      "350/350 [==============================] - ETA: 0s - loss: 0.1293 - accuracy: 0.9590 - precision: 0.9053 - recall: 0.8224\n",
      "Epoch 29: saving model to checkpoints/high_res_true_fine_grained_reg\\checkpoint-29.ckpt\n",
      "350/350 [==============================] - 3977s 11s/step - loss: 0.1293 - accuracy: 0.9590 - precision: 0.9053 - recall: 0.8224 - val_loss: 0.2195 - val_accuracy: 0.9241 - val_precision: 0.7805 - val_recall: 0.7133\n",
      "Epoch 30/40\n",
      "350/350 [==============================] - ETA: 0s - loss: 0.1201 - accuracy: 0.9633 - precision: 0.9173 - recall: 0.8395\n",
      "Epoch 30: saving model to checkpoints/high_res_true_fine_grained_reg\\checkpoint-30.ckpt\n",
      "350/350 [==============================] - 3965s 11s/step - loss: 0.1201 - accuracy: 0.9633 - precision: 0.9173 - recall: 0.8395 - val_loss: 0.2267 - val_accuracy: 0.9240 - val_precision: 0.7785 - val_recall: 0.7157\n",
      "Epoch 31/40\n",
      "350/350 [==============================] - ETA: 0s - loss: 0.1156 - accuracy: 0.9646 - precision: 0.9199 - recall: 0.8457\n",
      "Epoch 31: saving model to checkpoints/high_res_true_fine_grained_reg\\checkpoint-31.ckpt\n",
      "350/350 [==============================] - 4004s 11s/step - loss: 0.1156 - accuracy: 0.9646 - precision: 0.9199 - recall: 0.8457 - val_loss: 0.2317 - val_accuracy: 0.9231 - val_precision: 0.7750 - val_recall: 0.7129\n",
      "Epoch 32/40\n",
      "350/350 [==============================] - ETA: 0s - loss: 0.1096 - accuracy: 0.9672 - precision: 0.9267 - recall: 0.8568\n",
      "Epoch 32: saving model to checkpoints/high_res_true_fine_grained_reg\\checkpoint-32.ckpt\n",
      "350/350 [==============================] - 4001s 11s/step - loss: 0.1096 - accuracy: 0.9672 - precision: 0.9267 - recall: 0.8568 - val_loss: 0.2361 - val_accuracy: 0.9243 - val_precision: 0.7807 - val_recall: 0.7149\n",
      "Epoch 33/40\n",
      "350/350 [==============================] - ETA: 0s - loss: 0.1066 - accuracy: 0.9681 - precision: 0.9283 - recall: 0.8613\n",
      "Epoch 33: saving model to checkpoints/high_res_true_fine_grained_reg\\checkpoint-33.ckpt\n",
      "350/350 [==============================] - 3993s 11s/step - loss: 0.1066 - accuracy: 0.9681 - precision: 0.9283 - recall: 0.8613 - val_loss: 0.2353 - val_accuracy: 0.9232 - val_precision: 0.7781 - val_recall: 0.7091\n",
      "Epoch 34/40\n",
      "350/350 [==============================] - ETA: 0s - loss: 0.1026 - accuracy: 0.9701 - precision: 0.9331 - recall: 0.8702\n",
      "Epoch 34: saving model to checkpoints/high_res_true_fine_grained_reg\\checkpoint-34.ckpt\n",
      "350/350 [==============================] - 4019s 11s/step - loss: 0.1026 - accuracy: 0.9701 - precision: 0.9331 - recall: 0.8702 - val_loss: 0.2385 - val_accuracy: 0.9218 - val_precision: 0.7728 - val_recall: 0.7050\n",
      "Epoch 35/40\n",
      "350/350 [==============================] - ETA: 0s - loss: 0.0963 - accuracy: 0.9723 - precision: 0.9392 - recall: 0.8783\n",
      "Epoch 35: saving model to checkpoints/high_res_true_fine_grained_reg\\checkpoint-35.ckpt\n",
      "350/350 [==============================] - 4085s 12s/step - loss: 0.0963 - accuracy: 0.9723 - precision: 0.9392 - recall: 0.8783 - val_loss: 0.2453 - val_accuracy: 0.9228 - val_precision: 0.7732 - val_recall: 0.7134\n",
      "Epoch 36/40\n",
      "350/350 [==============================] - ETA: 0s - loss: 0.0942 - accuracy: 0.9728 - precision: 0.9395 - recall: 0.8819\n",
      "Epoch 36: saving model to checkpoints/high_res_true_fine_grained_reg\\checkpoint-36.ckpt\n",
      "350/350 [==============================] - 4061s 12s/step - loss: 0.0942 - accuracy: 0.9728 - precision: 0.9395 - recall: 0.8819 - val_loss: 0.2467 - val_accuracy: 0.9230 - val_precision: 0.7790 - val_recall: 0.7054\n",
      "Epoch 37/40\n",
      "350/350 [==============================] - ETA: 0s - loss: 0.0901 - accuracy: 0.9746 - precision: 0.9448 - recall: 0.8882\n",
      "Epoch 37: saving model to checkpoints/high_res_true_fine_grained_reg\\checkpoint-37.ckpt\n",
      "350/350 [==============================] - 4106s 12s/step - loss: 0.0901 - accuracy: 0.9746 - precision: 0.9448 - recall: 0.8882 - val_loss: 0.2491 - val_accuracy: 0.9225 - val_precision: 0.7774 - val_recall: 0.7043\n",
      "Epoch 38/40\n",
      "350/350 [==============================] - ETA: 0s - loss: 0.0898 - accuracy: 0.9742 - precision: 0.9434 - recall: 0.8875\n",
      "Epoch 38: saving model to checkpoints/high_res_true_fine_grained_reg\\checkpoint-38.ckpt\n",
      "350/350 [==============================] - 4147s 12s/step - loss: 0.0898 - accuracy: 0.9742 - precision: 0.9434 - recall: 0.8875 - val_loss: 0.2516 - val_accuracy: 0.9222 - val_precision: 0.7777 - val_recall: 0.7005\n",
      "Epoch 39/40\n",
      "350/350 [==============================] - ETA: 0s - loss: 0.0887 - accuracy: 0.9744 - precision: 0.9429 - recall: 0.8893\n",
      "Epoch 39: saving model to checkpoints/high_res_true_fine_grained_reg\\checkpoint-39.ckpt\n",
      "350/350 [==============================] - 4099s 12s/step - loss: 0.0887 - accuracy: 0.9744 - precision: 0.9429 - recall: 0.8893 - val_loss: 0.2562 - val_accuracy: 0.9206 - val_precision: 0.7611 - val_recall: 0.7142\n",
      "Epoch 40/40\n",
      "350/350 [==============================] - ETA: 0s - loss: 0.0849 - accuracy: 0.9758 - precision: 0.9470 - recall: 0.8944\n",
      "Epoch 40: saving model to checkpoints/high_res_true_fine_grained_reg\\checkpoint-40.ckpt\n",
      "350/350 [==============================] - 4267s 12s/step - loss: 0.0849 - accuracy: 0.9758 - precision: 0.9470 - recall: 0.8944 - val_loss: 0.2607 - val_accuracy: 0.9235 - val_precision: 0.7820 - val_recall: 0.7049\n"
     ]
    }
   ],
   "source": [
    "history_model_1_fine = model_1.fit(train, \n",
    "        validation_data =test,\n",
    "        epochs=40, \n",
    "        initial_epoch=history_model_1.epoch[-1], # start from previous last epoch \n",
    "        callbacks=[checkpoint_callback])"
   ]
  },
  {
   "cell_type": "code",
   "execution_count": null,
   "metadata": {},
   "outputs": [],
   "source": [
    "# model_2.save(\"../trained_models/fine_model_2_fine_grained_vgg.h5\") "
   ]
  },
  {
   "cell_type": "code",
   "execution_count": null,
   "metadata": {},
   "outputs": [],
   "source": [
    "def compare_historys(original_history, new_history, initial_epochs=10):\n",
    "    \"\"\"\n",
    "    Compares two TensorFlow model History objects.\n",
    "    \n",
    "    Args:\n",
    "      original_history: History object from original model (before new_history)\n",
    "      new_history: History object from continued model training (after original_history)\n",
    "      initial_epochs: Number of epochs in original_history (new_history plot starts from here) \n",
    "    \"\"\" \n",
    "    # Get original history measurements\n",
    "    loss = original_history.history[\"loss\"]\n",
    "\n",
    "    val_loss = original_history.history[\"val_loss\"]\n",
    "\n",
    "    # Combine original history with new history\n",
    "    total_loss = loss + new_history.history[\"loss\"]\n",
    "\n",
    "    total_val_loss = val_loss + new_history.history[\"val_loss\"]\n",
    "\n",
    "    # Make plots\n",
    "\n",
    "    plt.plot(total_loss, label='Training Loss')\n",
    "    plt.plot(total_val_loss, label='Validation Loss')\n",
    "    plt.plot([initial_epochs, initial_epochs],\n",
    "              plt.ylim(), label='Start Fine Tuning') # reshift plot around epoch\n",
    "    plt.legend(loc='upper right')\n",
    "    plt.title('Training and Validation Loss')\n",
    "    plt.xlabel('epoch')\n",
    "    plt.show()"
   ]
  },
  {
   "cell_type": "code",
   "execution_count": null,
   "metadata": {},
   "outputs": [
    {
     "data": {
      "image/png": "[encoded data removed]",
      "text/plain": [
       "<Figure size 640x480 with 1 Axes>"
      ]
     },
     "metadata": {},
     "output_type": "display_data"
    }
   ],
   "source": [
    "compare_historys(history_model_1, history_model_1_fine, 20)"
   ]
  },
  {
   "cell_type": "code",
   "execution_count": 81,
   "metadata": {},
   "outputs": [
    {
     "data": {
      "text/plain": [
       "<tensorflow.python.training.tracking.util.CheckpointLoadStatus at 0x1da294dc160>"
      ]
     },
     "execution_count": 81,
     "metadata": {},
     "output_type": "execute_result"
    }
   ],
   "source": [
    "model_1.load_weights(\"checkpoints/high_res_true_fine_grained_reg/checkpoint-21.ckpt\")"
   ]
  },
  {
   "cell_type": "code",
   "execution_count": 72,
   "metadata": {},
   "outputs": [],
   "source": [
    "model_1.save(\"../trained_models/efnet_high_res_reg_L2-epoch21.h5\")"
   ]
  },
  {
   "cell_type": "markdown",
   "metadata": {},
   "source": [
    "## Model 1: Fine Tune (-5 layers), reduce learning rate as 0.0001"
   ]
  },
  {
   "cell_type": "code",
   "execution_count": 82,
   "metadata": {},
   "outputs": [],
   "source": [
    "efficient_net.trainable = True  \n",
    "\n",
    "for layer in efficient_net.layers[:-5]:\n",
    "    layer.trainable = False \n",
    "\n",
    "model_1.compile(optimizer=keras.optimizers.Adam(learning_rate=0.0001),\n",
    "              loss=keras.losses.BinaryCrossentropy(), \n",
    "              metrics=METRICS)"
   ]
  },
  {
   "cell_type": "code",
   "execution_count": 83,
   "metadata": {},
   "outputs": [
    {
     "name": "stdout",
     "output_type": "stream",
     "text": [
      "Epoch 40/60\n",
      "350/350 [==============================] - ETA: 0s - loss: 0.1893 - accuracy: 0.9323 - precision: 0.8345 - recall: 0.7038 \n",
      "Epoch 40: saving model to checkpoints/high_res_true_fine_grained_reg\\checkpoint-40.ckpt\n",
      "350/350 [==============================] - 10661s 30s/step - loss: 0.1893 - accuracy: 0.9323 - precision: 0.8345 - recall: 0.7038 - val_loss: 0.1969 - val_accuracy: 0.9283 - val_precision: 0.8106 - val_recall: 0.7043\n",
      "Epoch 41/60\n",
      "350/350 [==============================] - ETA: 0s - loss: 0.1862 - accuracy: 0.9333 - precision: 0.8375 - recall: 0.7085 \n",
      "Epoch 41: saving model to checkpoints/high_res_true_fine_grained_reg\\checkpoint-41.ckpt\n",
      "350/350 [==============================] - 10923s 31s/step - loss: 0.1862 - accuracy: 0.9333 - precision: 0.8375 - recall: 0.7085 - val_loss: 0.1961 - val_accuracy: 0.9284 - val_precision: 0.8115 - val_recall: 0.7036\n",
      "Epoch 42/60\n",
      "350/350 [==============================] - ETA: 0s - loss: 0.1855 - accuracy: 0.9333 - precision: 0.8369 - recall: 0.7085 \n",
      "Epoch 42: saving model to checkpoints/high_res_true_fine_grained_reg\\checkpoint-42.ckpt\n",
      "350/350 [==============================] - 10713s 31s/step - loss: 0.1855 - accuracy: 0.9333 - precision: 0.8369 - recall: 0.7085 - val_loss: 0.1951 - val_accuracy: 0.9290 - val_precision: 0.8152 - val_recall: 0.7038\n",
      "Epoch 43/60\n",
      "350/350 [==============================] - ETA: 0s - loss: 0.1846 - accuracy: 0.9338 - precision: 0.8402 - recall: 0.7084 \n",
      "Epoch 43: saving model to checkpoints/high_res_true_fine_grained_reg\\checkpoint-43.ckpt\n",
      "350/350 [==============================] - 10771s 31s/step - loss: 0.1846 - accuracy: 0.9338 - precision: 0.8402 - recall: 0.7084 - val_loss: 0.1950 - val_accuracy: 0.9288 - val_precision: 0.8115 - val_recall: 0.7071\n",
      "Epoch 44/60\n",
      "350/350 [==============================] - ETA: 0s - loss: 0.1832 - accuracy: 0.9341 - precision: 0.8406 - recall: 0.7107 \n",
      "Epoch 44: saving model to checkpoints/high_res_true_fine_grained_reg\\checkpoint-44.ckpt\n",
      "350/350 [==============================] - 10677s 31s/step - loss: 0.1832 - accuracy: 0.9341 - precision: 0.8406 - recall: 0.7107 - val_loss: 0.1943 - val_accuracy: 0.9290 - val_precision: 0.8110 - val_recall: 0.7092\n",
      "Epoch 45/60\n",
      "350/350 [==============================] - ETA: 0s - loss: 0.1830 - accuracy: 0.9345 - precision: 0.8410 - recall: 0.7130 \n",
      "Epoch 45: saving model to checkpoints/high_res_true_fine_grained_reg\\checkpoint-45.ckpt\n",
      "350/350 [==============================] - 10703s 31s/step - loss: 0.1830 - accuracy: 0.9345 - precision: 0.8410 - recall: 0.7130 - val_loss: 0.1941 - val_accuracy: 0.9286 - val_precision: 0.8107 - val_recall: 0.7062\n",
      "Epoch 46/60\n",
      "350/350 [==============================] - ETA: 0s - loss: 0.1823 - accuracy: 0.9345 - precision: 0.8419 - recall: 0.7120 \n",
      "Epoch 46: saving model to checkpoints/high_res_true_fine_grained_reg\\checkpoint-46.ckpt\n",
      "350/350 [==============================] - 10715s 31s/step - loss: 0.1823 - accuracy: 0.9345 - precision: 0.8419 - recall: 0.7120 - val_loss: 0.1936 - val_accuracy: 0.9293 - val_precision: 0.8125 - val_recall: 0.7097\n",
      "Epoch 47/60\n",
      "350/350 [==============================] - ETA: 0s - loss: 0.1816 - accuracy: 0.9344 - precision: 0.8412 - recall: 0.7124 \n",
      "Epoch 47: saving model to checkpoints/high_res_true_fine_grained_reg\\checkpoint-47.ckpt\n",
      "350/350 [==============================] - 10691s 31s/step - loss: 0.1816 - accuracy: 0.9344 - precision: 0.8412 - recall: 0.7124 - val_loss: 0.1936 - val_accuracy: 0.9292 - val_precision: 0.8110 - val_recall: 0.7111\n",
      "Epoch 48/60\n",
      "350/350 [==============================] - ETA: 0s - loss: 0.1810 - accuracy: 0.9349 - precision: 0.8418 - recall: 0.7158 \n",
      "Epoch 48: saving model to checkpoints/high_res_true_fine_grained_reg\\checkpoint-48.ckpt\n",
      "350/350 [==============================] - 5074s 14s/step - loss: 0.1810 - accuracy: 0.9349 - precision: 0.8418 - recall: 0.7158 - val_loss: 0.1929 - val_accuracy: 0.9292 - val_precision: 0.8110 - val_recall: 0.7108\n",
      "Epoch 49/60\n",
      "350/350 [==============================] - ETA: 0s - loss: 0.1804 - accuracy: 0.9353 - precision: 0.8437 - recall: 0.7165\n",
      "Epoch 49: saving model to checkpoints/high_res_true_fine_grained_reg\\checkpoint-49.ckpt\n",
      "350/350 [==============================] - 3800s 11s/step - loss: 0.1804 - accuracy: 0.9353 - precision: 0.8437 - recall: 0.7165 - val_loss: 0.1925 - val_accuracy: 0.9294 - val_precision: 0.8130 - val_recall: 0.7099\n",
      "Epoch 50/60\n",
      "350/350 [==============================] - ETA: 0s - loss: 0.1795 - accuracy: 0.9352 - precision: 0.8417 - recall: 0.7178\n",
      "Epoch 50: saving model to checkpoints/high_res_true_fine_grained_reg\\checkpoint-50.ckpt\n",
      "350/350 [==============================] - 3840s 11s/step - loss: 0.1795 - accuracy: 0.9352 - precision: 0.8417 - recall: 0.7178 - val_loss: 0.1922 - val_accuracy: 0.9295 - val_precision: 0.8154 - val_recall: 0.7074\n",
      "Epoch 51/60\n",
      "350/350 [==============================] - ETA: 0s - loss: 0.1798 - accuracy: 0.9360 - precision: 0.8457 - recall: 0.7195\n",
      "Epoch 51: saving model to checkpoints/high_res_true_fine_grained_reg\\checkpoint-51.ckpt\n",
      "350/350 [==============================] - 3750s 11s/step - loss: 0.1798 - accuracy: 0.9360 - precision: 0.8457 - recall: 0.7195 - val_loss: 0.1922 - val_accuracy: 0.9297 - val_precision: 0.8138 - val_recall: 0.7115\n",
      "Epoch 52/60\n",
      "350/350 [==============================] - ETA: 0s - loss: 0.1793 - accuracy: 0.9353 - precision: 0.8424 - recall: 0.7177\n",
      "Epoch 52: saving model to checkpoints/high_res_true_fine_grained_reg\\checkpoint-52.ckpt\n",
      "350/350 [==============================] - 3792s 11s/step - loss: 0.1793 - accuracy: 0.9353 - precision: 0.8424 - recall: 0.7177 - val_loss: 0.1921 - val_accuracy: 0.9296 - val_precision: 0.8107 - val_recall: 0.7151\n",
      "Epoch 53/60\n",
      "350/350 [==============================] - ETA: 0s - loss: 0.1783 - accuracy: 0.9361 - precision: 0.8448 - recall: 0.7211\n",
      "Epoch 53: saving model to checkpoints/high_res_true_fine_grained_reg\\checkpoint-53.ckpt\n",
      "350/350 [==============================] - 3772s 11s/step - loss: 0.1783 - accuracy: 0.9361 - precision: 0.8448 - recall: 0.7211 - val_loss: 0.1921 - val_accuracy: 0.9296 - val_precision: 0.8117 - val_recall: 0.7136\n",
      "Epoch 54/60\n",
      "350/350 [==============================] - ETA: 0s - loss: 0.1773 - accuracy: 0.9367 - precision: 0.8475 - recall: 0.7228\n",
      "Epoch 54: saving model to checkpoints/high_res_true_fine_grained_reg\\checkpoint-54.ckpt\n",
      "350/350 [==============================] - 3748s 11s/step - loss: 0.1773 - accuracy: 0.9367 - precision: 0.8475 - recall: 0.7228 - val_loss: 0.1914 - val_accuracy: 0.9296 - val_precision: 0.8095 - val_recall: 0.7164\n",
      "Epoch 55/60\n",
      "350/350 [==============================] - ETA: 0s - loss: 0.1772 - accuracy: 0.9358 - precision: 0.8433 - recall: 0.7211\n",
      "Epoch 55: saving model to checkpoints/high_res_true_fine_grained_reg\\checkpoint-55.ckpt\n",
      "350/350 [==============================] - 6270s 18s/step - loss: 0.1772 - accuracy: 0.9358 - precision: 0.8433 - recall: 0.7211 - val_loss: 0.1916 - val_accuracy: 0.9299 - val_precision: 0.8139 - val_recall: 0.7128\n",
      "Epoch 56/60\n",
      "350/350 [==============================] - ETA: 0s - loss: 0.1772 - accuracy: 0.9361 - precision: 0.8442 - recall: 0.7220 \n",
      "Epoch 56: saving model to checkpoints/high_res_true_fine_grained_reg\\checkpoint-56.ckpt\n",
      "350/350 [==============================] - 10737s 31s/step - loss: 0.1772 - accuracy: 0.9361 - precision: 0.8442 - recall: 0.7220 - val_loss: 0.1917 - val_accuracy: 0.9297 - val_precision: 0.8120 - val_recall: 0.7143\n",
      "Epoch 57/60\n",
      "350/350 [==============================] - ETA: 0s - loss: 0.1772 - accuracy: 0.9361 - precision: 0.8440 - recall: 0.7220 \n",
      "Epoch 57: saving model to checkpoints/high_res_true_fine_grained_reg\\checkpoint-57.ckpt\n",
      "350/350 [==============================] - 10632s 30s/step - loss: 0.1772 - accuracy: 0.9361 - precision: 0.8440 - recall: 0.7220 - val_loss: 0.1912 - val_accuracy: 0.9296 - val_precision: 0.8089 - val_recall: 0.7175\n",
      "Epoch 58/60\n",
      "350/350 [==============================] - ETA: 0s - loss: 0.1765 - accuracy: 0.9365 - precision: 0.8448 - recall: 0.7242 \n",
      "Epoch 58: saving model to checkpoints/high_res_true_fine_grained_reg\\checkpoint-58.ckpt\n",
      "350/350 [==============================] - 10508s 30s/step - loss: 0.1765 - accuracy: 0.9365 - precision: 0.8448 - recall: 0.7242 - val_loss: 0.1912 - val_accuracy: 0.9297 - val_precision: 0.8127 - val_recall: 0.7125\n",
      "Epoch 59/60\n",
      "350/350 [==============================] - ETA: 0s - loss: 0.1744 - accuracy: 0.9378 - precision: 0.8510 - recall: 0.7272 \n",
      "Epoch 59: saving model to checkpoints/high_res_true_fine_grained_reg\\checkpoint-59.ckpt\n",
      "350/350 [==============================] - 10582s 30s/step - loss: 0.1744 - accuracy: 0.9378 - precision: 0.8510 - recall: 0.7272 - val_loss: 0.1911 - val_accuracy: 0.9297 - val_precision: 0.8094 - val_recall: 0.7179\n",
      "Epoch 60/60\n",
      "350/350 [==============================] - ETA: 0s - loss: 0.1752 - accuracy: 0.9369 - precision: 0.8473 - recall: 0.7243 \n",
      "Epoch 60: saving model to checkpoints/high_res_true_fine_grained_reg\\checkpoint-60.ckpt\n",
      "350/350 [==============================] - 10664s 30s/step - loss: 0.1752 - accuracy: 0.9369 - precision: 0.8473 - recall: 0.7243 - val_loss: 0.1906 - val_accuracy: 0.9296 - val_precision: 0.8130 - val_recall: 0.7113\n"
     ]
    }
   ],
   "source": [
    "history_model_1_fine_reg = model_1.fit(train, \n",
    "        validation_data =test,\n",
    "        epochs=60, \n",
    "        initial_epoch=history_model_1_fine.epoch[-1], # start from previous last epoch \n",
    "        callbacks=[checkpoint_callback])"
   ]
  },
  {
   "cell_type": "code",
   "execution_count": 87,
   "metadata": {},
   "outputs": [
    {
     "data": {
      "image/png": "[encoded data removed]",
      "text/plain": [
       "<Figure size 640x480 with 1 Axes>"
      ]
     },
     "metadata": {},
     "output_type": "display_data"
    }
   ],
   "source": [
    "compare_historys(history_model_1, history_model_1_fine_reg, 20)"
   ]
  },
  {
   "cell_type": "code",
   "execution_count": 92,
   "metadata": {},
   "outputs": [
    {
     "name": "stdout",
     "output_type": "stream",
     "text": [
      "Epoch 60/80\n",
      "350/350 [==============================] - ETA: 0s - loss: 0.1748 - accuracy: 0.9373 - precision: 0.8486 - recall: 0.7258 \n",
      "Epoch 60: saving model to checkpoints/high_res_true_fine_grained_reg\\checkpoint-60.ckpt\n",
      "350/350 [==============================] - 10971s 31s/step - loss: 0.1748 - accuracy: 0.9373 - precision: 0.8486 - recall: 0.7258 - val_loss: 0.1909 - val_accuracy: 0.9297 - val_precision: 0.8098 - val_recall: 0.7172\n",
      "Epoch 61/80\n",
      "350/350 [==============================] - ETA: 0s - loss: 0.1740 - accuracy: 0.9377 - precision: 0.8498 - recall: 0.7279 \n",
      "Epoch 61: saving model to checkpoints/high_res_true_fine_grained_reg\\checkpoint-61.ckpt\n",
      "350/350 [==============================] - 11004s 31s/step - loss: 0.1740 - accuracy: 0.9377 - precision: 0.8498 - recall: 0.7279 - val_loss: 0.1900 - val_accuracy: 0.9297 - val_precision: 0.8092 - val_recall: 0.7175\n",
      "Epoch 62/80\n",
      "350/350 [==============================] - ETA: 0s - loss: 0.1740 - accuracy: 0.9373 - precision: 0.8482 - recall: 0.7263 \n",
      "Epoch 62: saving model to checkpoints/high_res_true_fine_grained_reg\\checkpoint-62.ckpt\n",
      "350/350 [==============================] - 10900s 31s/step - loss: 0.1740 - accuracy: 0.9373 - precision: 0.8482 - recall: 0.7263 - val_loss: 0.1900 - val_accuracy: 0.9299 - val_precision: 0.8127 - val_recall: 0.7142\n",
      "Epoch 63/80\n",
      "350/350 [==============================] - ETA: 0s - loss: 0.1750 - accuracy: 0.9372 - precision: 0.8478 - recall: 0.7261 \n",
      "Epoch 63: saving model to checkpoints/high_res_true_fine_grained_reg\\checkpoint-63.ckpt\n",
      "350/350 [==============================] - 10802s 31s/step - loss: 0.1750 - accuracy: 0.9372 - precision: 0.8478 - recall: 0.7261 - val_loss: 0.1901 - val_accuracy: 0.9297 - val_precision: 0.8103 - val_recall: 0.7166\n",
      "Epoch 64/80\n",
      "350/350 [==============================] - ETA: 0s - loss: 0.1725 - accuracy: 0.9382 - precision: 0.8506 - recall: 0.7302 \n",
      "Epoch 64: saving model to checkpoints/high_res_true_fine_grained_reg\\checkpoint-64.ckpt\n",
      "350/350 [==============================] - 10813s 31s/step - loss: 0.1725 - accuracy: 0.9382 - precision: 0.8506 - recall: 0.7302 - val_loss: 0.1901 - val_accuracy: 0.9304 - val_precision: 0.8126 - val_recall: 0.7185\n",
      "Epoch 65/80\n",
      "350/350 [==============================] - ETA: 0s - loss: 0.1737 - accuracy: 0.9378 - precision: 0.8496 - recall: 0.7285 \n",
      "Epoch 65: saving model to checkpoints/high_res_true_fine_grained_reg\\checkpoint-65.ckpt\n",
      "350/350 [==============================] - 10883s 31s/step - loss: 0.1737 - accuracy: 0.9378 - precision: 0.8496 - recall: 0.7285 - val_loss: 0.1896 - val_accuracy: 0.9299 - val_precision: 0.8138 - val_recall: 0.7131\n",
      "Epoch 66/80\n",
      "350/350 [==============================] - ETA: 0s - loss: 0.1727 - accuracy: 0.9377 - precision: 0.8478 - recall: 0.7298 \n",
      "Epoch 66: saving model to checkpoints/high_res_true_fine_grained_reg\\checkpoint-66.ckpt\n",
      "350/350 [==============================] - 10712s 31s/step - loss: 0.1727 - accuracy: 0.9377 - precision: 0.8478 - recall: 0.7298 - val_loss: 0.1895 - val_accuracy: 0.9301 - val_precision: 0.8118 - val_recall: 0.7176\n",
      "Epoch 67/80\n",
      "350/350 [==============================] - ETA: 0s - loss: 0.1732 - accuracy: 0.9380 - precision: 0.8500 - recall: 0.7300 \n",
      "Epoch 67: saving model to checkpoints/high_res_true_fine_grained_reg\\checkpoint-67.ckpt\n",
      "350/350 [==============================] - 10921s 31s/step - loss: 0.1732 - accuracy: 0.9380 - precision: 0.8500 - recall: 0.7300 - val_loss: 0.1898 - val_accuracy: 0.9301 - val_precision: 0.8109 - val_recall: 0.7192\n",
      "Epoch 68/80\n",
      "350/350 [==============================] - ETA: 0s - loss: 0.1720 - accuracy: 0.9378 - precision: 0.8504 - recall: 0.7280 \n",
      "Epoch 68: saving model to checkpoints/high_res_true_fine_grained_reg\\checkpoint-68.ckpt\n",
      "350/350 [==============================] - 10893s 31s/step - loss: 0.1720 - accuracy: 0.9378 - precision: 0.8504 - recall: 0.7280 - val_loss: 0.1899 - val_accuracy: 0.9304 - val_precision: 0.8114 - val_recall: 0.7207\n",
      "Epoch 69/80\n",
      "350/350 [==============================] - ETA: 0s - loss: 0.1716 - accuracy: 0.9386 - precision: 0.8522 - recall: 0.7318 \n",
      "Epoch 69: saving model to checkpoints/high_res_true_fine_grained_reg\\checkpoint-69.ckpt\n",
      "350/350 [==============================] - 10930s 31s/step - loss: 0.1716 - accuracy: 0.9386 - precision: 0.8522 - recall: 0.7318 - val_loss: 0.1896 - val_accuracy: 0.9299 - val_precision: 0.8111 - val_recall: 0.7169\n",
      "Epoch 70/80\n",
      "350/350 [==============================] - ETA: 0s - loss: 0.1720 - accuracy: 0.9378 - precision: 0.8501 - recall: 0.7279 \n",
      "Epoch 70: saving model to checkpoints/high_res_true_fine_grained_reg\\checkpoint-70.ckpt\n",
      "350/350 [==============================] - 10801s 31s/step - loss: 0.1720 - accuracy: 0.9378 - precision: 0.8501 - recall: 0.7279 - val_loss: 0.1895 - val_accuracy: 0.9303 - val_precision: 0.8116 - val_recall: 0.7196\n",
      "Epoch 71/80\n",
      "350/350 [==============================] - ETA: 0s - loss: 0.1712 - accuracy: 0.9384 - precision: 0.8497 - recall: 0.7332 \n",
      "Epoch 71: saving model to checkpoints/high_res_true_fine_grained_reg\\checkpoint-71.ckpt\n",
      "350/350 [==============================] - 10893s 31s/step - loss: 0.1712 - accuracy: 0.9384 - precision: 0.8497 - recall: 0.7332 - val_loss: 0.1895 - val_accuracy: 0.9301 - val_precision: 0.8108 - val_recall: 0.7186\n",
      "Epoch 72/80\n",
      "350/350 [==============================] - ETA: 0s - loss: 0.1722 - accuracy: 0.9377 - precision: 0.8491 - recall: 0.7288 \n",
      "Epoch 72: saving model to checkpoints/high_res_true_fine_grained_reg\\checkpoint-72.ckpt\n",
      "350/350 [==============================] - 10774s 31s/step - loss: 0.1722 - accuracy: 0.9377 - precision: 0.8491 - recall: 0.7288 - val_loss: 0.1892 - val_accuracy: 0.9308 - val_precision: 0.8130 - val_recall: 0.7213\n",
      "Epoch 73/80\n",
      "350/350 [==============================] - ETA: 0s - loss: 0.1711 - accuracy: 0.9385 - precision: 0.8513 - recall: 0.7318 \n",
      "Epoch 73: saving model to checkpoints/high_res_true_fine_grained_reg\\checkpoint-73.ckpt\n",
      "350/350 [==============================] - 5990s 17s/step - loss: 0.1711 - accuracy: 0.9385 - precision: 0.8513 - recall: 0.7318 - val_loss: 0.1897 - val_accuracy: 0.9301 - val_precision: 0.8089 - val_recall: 0.7217\n",
      "Epoch 74/80\n",
      "350/350 [==============================] - ETA: 0s - loss: 0.1708 - accuracy: 0.9388 - precision: 0.8526 - recall: 0.7328\n",
      "Epoch 74: saving model to checkpoints/high_res_true_fine_grained_reg\\checkpoint-74.ckpt\n",
      "350/350 [==============================] - 3770s 11s/step - loss: 0.1708 - accuracy: 0.9388 - precision: 0.8526 - recall: 0.7328 - val_loss: 0.1889 - val_accuracy: 0.9302 - val_precision: 0.8132 - val_recall: 0.7164\n",
      "Epoch 75/80\n",
      "350/350 [==============================] - ETA: 0s - loss: 0.1708 - accuracy: 0.9384 - precision: 0.8500 - recall: 0.7327\n",
      "Epoch 75: saving model to checkpoints/high_res_true_fine_grained_reg\\checkpoint-75.ckpt\n",
      "350/350 [==============================] - 3761s 11s/step - loss: 0.1708 - accuracy: 0.9384 - precision: 0.8500 - recall: 0.7327 - val_loss: 0.1891 - val_accuracy: 0.9303 - val_precision: 0.8136 - val_recall: 0.7163\n",
      "Epoch 76/80\n",
      "350/350 [==============================] - ETA: 0s - loss: 0.1701 - accuracy: 0.9388 - precision: 0.8512 - recall: 0.7349\n",
      "Epoch 76: saving model to checkpoints/high_res_true_fine_grained_reg\\checkpoint-76.ckpt\n",
      "350/350 [==============================] - 3763s 11s/step - loss: 0.1701 - accuracy: 0.9388 - precision: 0.8512 - recall: 0.7349 - val_loss: 0.1888 - val_accuracy: 0.9303 - val_precision: 0.8119 - val_recall: 0.7186\n",
      "Epoch 77/80\n",
      "350/350 [==============================] - ETA: 0s - loss: 0.1693 - accuracy: 0.9396 - precision: 0.8545 - recall: 0.7369\n",
      "Epoch 77: saving model to checkpoints/high_res_true_fine_grained_reg\\checkpoint-77.ckpt\n",
      "350/350 [==============================] - 3793s 11s/step - loss: 0.1693 - accuracy: 0.9396 - precision: 0.8545 - recall: 0.7369 - val_loss: 0.1892 - val_accuracy: 0.9304 - val_precision: 0.8115 - val_recall: 0.7205\n",
      "Epoch 78/80\n",
      "350/350 [==============================] - ETA: 0s - loss: 0.1698 - accuracy: 0.9389 - precision: 0.8518 - recall: 0.7345\n",
      "Epoch 78: saving model to checkpoints/high_res_true_fine_grained_reg\\checkpoint-78.ckpt\n",
      "350/350 [==============================] - 3758s 11s/step - loss: 0.1698 - accuracy: 0.9389 - precision: 0.8518 - recall: 0.7345 - val_loss: 0.1890 - val_accuracy: 0.9304 - val_precision: 0.8106 - val_recall: 0.7215\n",
      "Epoch 79/80\n",
      "350/350 [==============================] - ETA: 0s - loss: 0.1696 - accuracy: 0.9391 - precision: 0.8536 - recall: 0.7342\n",
      "Epoch 79: saving model to checkpoints/high_res_true_fine_grained_reg\\checkpoint-79.ckpt\n",
      "350/350 [==============================] - 3971s 11s/step - loss: 0.1696 - accuracy: 0.9391 - precision: 0.8536 - recall: 0.7342 - val_loss: 0.1888 - val_accuracy: 0.9304 - val_precision: 0.8118 - val_recall: 0.7199\n",
      "Epoch 80/80\n",
      "350/350 [==============================] - ETA: 0s - loss: 0.1693 - accuracy: 0.9396 - precision: 0.8546 - recall: 0.7363 \n",
      "Epoch 80: saving model to checkpoints/high_res_true_fine_grained_reg\\checkpoint-80.ckpt\n",
      "350/350 [==============================] - 10363s 30s/step - loss: 0.1693 - accuracy: 0.9396 - precision: 0.8546 - recall: 0.7363 - val_loss: 0.1892 - val_accuracy: 0.9302 - val_precision: 0.8088 - val_recall: 0.7230\n"
     ]
    }
   ],
   "source": [
    "history_model_1_fine_reg2 = model_1.fit(train, \n",
    "        validation_data = test,\n",
    "        epochs=80, \n",
    "        initial_epoch=history_model_1_fine_reg.epoch[-1], # start from previous last epoch \n",
    "        callbacks=[checkpoint_callback])"
   ]
  },
  {
   "cell_type": "code",
   "execution_count": 96,
   "metadata": {},
   "outputs": [
    {
     "data": {
      "image/png": "[encoded data removed]",
      "text/plain": [
       "<Figure size 640x480 with 1 Axes>"
      ]
     },
     "metadata": {},
     "output_type": "display_data"
    }
   ],
   "source": [
    "compare_historys(history_model_1, history_model_1_fine_reg2, 20)"
   ]
  },
  {
   "cell_type": "code",
   "execution_count": 95,
   "metadata": {},
   "outputs": [
    {
     "data": {
      "text/plain": [
       "[59,\n",
       " 60,\n",
       " 61,\n",
       " 62,\n",
       " 63,\n",
       " 64,\n",
       " 65,\n",
       " 66,\n",
       " 67,\n",
       " 68,\n",
       " 69,\n",
       " 70,\n",
       " 71,\n",
       " 72,\n",
       " 73,\n",
       " 74,\n",
       " 75,\n",
       " 76,\n",
       " 77,\n",
       " 78,\n",
       " 79]"
      ]
     },
     "execution_count": 95,
     "metadata": {},
     "output_type": "execute_result"
    }
   ],
   "source": [
    "history_model_1_fine_reg2  "
   ]
  },
  {
   "cell_type": "markdown",
   "metadata": {},
   "source": [
    "# Coarse to fine "
   ]
  },
  {
   "cell_type": "code",
   "execution_count": 40,
   "metadata": {},
   "outputs": [
    {
     "data": {
      "text/plain": [
       "56"
      ]
     },
     "execution_count": 40,
     "metadata": {},
     "output_type": "execute_result"
    }
   ],
   "source": [
    "from sklearn.model_selection import ParameterGrid \n",
    "import numpy as np\n",
    "\n",
    "parameters = {\n",
    "    'batch_size': [32, 64],\n",
    "    'learning_rate': [10**(-4 * np.random.rand()) for i in range(7)],\n",
    "    'freeze': [False, True],\n",
    "    'regularization': [ {\"type\": \"l2\", \"rate\": 0.01}, {\"type\": 'dropout', \"rate\": 0.2}]\n",
    "}\n",
    "\n",
    "len(list(ParameterGrid(parameters)))"
   ]
  },
  {
   "cell_type": "code",
   "execution_count": 41,
   "metadata": {},
   "outputs": [],
   "source": [
    "def get_generator(batch_size:int, random_state: int, target_size): \n",
    "    train_gen_grid = ImageDataGenerator() \n",
    "    test_gen_grid = ImageDataGenerator()\n",
    "\n",
    "    train_grid = train_gen_grid.flow_from_dataframe(\n",
    "        dataframe=train_data_flow_df, \n",
    "        directory=\"\", \n",
    "        x_col=\"paths\", \n",
    "        y_col=\"labels\", \n",
    "        seed=random_state, \n",
    "        class_mode='categorical', \n",
    "        batch_size=batch_size,\n",
    "        target_size=target_size)\n",
    "\n",
    "    test_grid = test_gen_grid.flow_from_dataframe(\n",
    "        dataframe=test_data_flow_df, \n",
    "        directory=\"\", \n",
    "        x_col=\"paths\", \n",
    "        y_col=\"labels\", \n",
    "        seed=random_state, \n",
    "        class_mode='categorical',\n",
    "        batch_size=batch_size, \n",
    "        target_size=target_size)\n",
    "    \n",
    "    return train_grid, test_grid"
   ]
  },
  {
   "cell_type": "code",
   "execution_count": 42,
   "metadata": {},
   "outputs": [],
   "source": [
    "def create_model(learning_rate, freeze: bool, regularization): \n",
    "    efficient_net = tf.keras.applications.EfficientNetB5(include_top=False)\n",
    "    efficient_net.trainable = False\n",
    "\n",
    "    if freeze: \n",
    "        efficient_net.trainable = True \n",
    "        for layer in efficient_net.layers[:-15]:\n",
    "            layer.trainable = False \n",
    "\n",
    "    inputs = keras.Input(shape=(IMG_HEIGHT,IMG_WIDTH,3)) \n",
    "    x = efficient_net(inputs) \n",
    "    x = keras.layers.GlobalAveragePooling2D()(x) \n",
    "    \n",
    "    kernel_regularizer = None \n",
    "    if regularization[\"type\"] == \"dropout\": \n",
    "        x = keras.layers.Dropout(regularization[\"rate\"])(x)\n",
    "    elif regularization[\"type\"] == \"l2\":\n",
    "        kernel_regularizer = tf.keras.regularizers.l2(regularization[\"rate\"])\n",
    "    \n",
    "    \n",
    "    outputs = keras.layers.Dense(nr_of_classes,\n",
    "                                kernel_initializer=tf.keras.initializers.GlorotUniform(seed=42), \n",
    "                                kernel_regularizer = kernel_regularizer,\n",
    "                                activation=tf.keras.activations.sigmoid)(x) \n",
    "\n",
    "    model = keras.Model(inputs, outputs) \n",
    "    METRICS = [\n",
    "        keras.metrics.BinaryAccuracy(name='accuracy'),\n",
    "        keras.metrics.Precision(name='precision'),\n",
    "        keras.metrics.Recall(name='recall')\n",
    "    ]\n",
    "    \n",
    "    model.compile(optimizer=keras.optimizers.Adam(learning_rate=learning_rate),\n",
    "                loss=keras.losses.BinaryCrossentropy(), # default from_logits=False\n",
    "                metrics=METRICS)   \n",
    "    \n",
    "    return model"
   ]
  },
  {
   "cell_type": "code",
   "execution_count": 43,
   "metadata": {},
   "outputs": [],
   "source": [
    "def try_fit(parameters_list: list): \n",
    "    historys = [] \n",
    "    i = 0\n",
    "    for idx,parameter_set in enumerate(parameters_list):\n",
    "        print(parameter_set)\n",
    "        gen_train, gen_test = get_generator(parameter_set[\"batch_size\"], random_state=64, target_size=(IMG_WIDTH, IMG_HEIGHT))\n",
    "        model = create_model(learning_rate=parameter_set[\"learning_rate\"], freeze=parameter_set[\"freeze\"], regularization=parameter_set[\"regularization\"]) \n",
    "        history = model.fit(gen_train, validation_data=gen_test, epochs=30) \n",
    "        historys.append({\n",
    "            \"model_id\": idx, \n",
    "            \"model_parameters\": parameters_list, \n",
    "            \"history\": history.history,\n",
    "            \"model_weights\": model.get_weights() \n",
    "        })\n",
    "    \n",
    "    return historys "
   ]
  },
  {
   "cell_type": "code",
   "execution_count": null,
   "metadata": {},
   "outputs": [],
   "source": [
    "histories_coarse_search = try_fit(list(ParameterGrid(parameters)))"
   ]
  },
  {
   "cell_type": "code",
   "execution_count": null,
   "metadata": {},
   "outputs": [],
   "source": []
  }
 ],
 "metadata": {
  "kernelspec": {
   "display_name": "Python 3.9.13 ('env_similar-products')",
   "language": "python",
   "name": "python3"
  },
  "language_info": {
   "codemirror_mode": {
    "name": "ipython",
    "version": 3
   },
   "file_extension": ".py",
   "mimetype": "text/x-python",
   "name": "python",
   "nbconvert_exporter": "python",
   "pygments_lexer": "ipython3",
   "version": "3.9.13"
  },
  "orig_nbformat": 4,
  "vscode": {
   "interpreter": {
    "hash": "3a9fdba9d57aea1bb5c6986083e3594030ae55b020a0216061e1820b16640168"
   }
  }
 },
 "nbformat": 4,
 "nbformat_minor": 2
}
