{
 "cells": [
  {
   "cell_type": "markdown",
   "metadata": {},
   "source": [
    "# Get the Data "
   ]
  },
  {
   "cell_type": "code",
   "execution_count": 1,
   "metadata": {},
   "outputs": [],
   "source": [
    "import pandas as pd \n",
    "\n",
    "data = pd.read_csv(\"../datasets/attribute_set/train_val_data_fine_grained_all.csv\", index_col=0) "
   ]
  },
  {
   "cell_type": "code",
   "execution_count": 2,
   "metadata": {},
   "outputs": [
    {
     "name": "stdout",
     "output_type": "stream",
     "text": [
      "<class 'pandas.core.frame.DataFrame'>\n",
      "Int64Index: 16000 entries, 0 to 1999\n",
      "Data columns (total 27 columns):\n",
      " #   Column           Non-Null Count  Dtype \n",
      "---  ------           --------------  ----- \n",
      " 0   paths            16000 non-null  object\n",
      " 1   floral           16000 non-null  int64 \n",
      " 2   graphic          16000 non-null  int64 \n",
      " 3   striped          16000 non-null  int64 \n",
      " 4   embroidered      16000 non-null  int64 \n",
      " 5   pleated          16000 non-null  int64 \n",
      " 6   solid            16000 non-null  int64 \n",
      " 7   lattice          16000 non-null  int64 \n",
      " 8   long_sleeve      16000 non-null  int64 \n",
      " 9   short_sleeve     16000 non-null  int64 \n",
      " 10  sleeveless       16000 non-null  int64 \n",
      " 11  maxi_length      16000 non-null  int64 \n",
      " 12  mini_length      16000 non-null  int64 \n",
      " 13  no_dress         16000 non-null  int64 \n",
      " 14  crew_neckline    16000 non-null  int64 \n",
      " 15  v_neckline       16000 non-null  int64 \n",
      " 16  square_neckline  16000 non-null  int64 \n",
      " 17  no_neckline      16000 non-null  int64 \n",
      " 18  denim            16000 non-null  int64 \n",
      " 19  chiffon          16000 non-null  int64 \n",
      " 20  cotton           16000 non-null  int64 \n",
      " 21  leather          16000 non-null  int64 \n",
      " 22  faux             16000 non-null  int64 \n",
      " 23  knit             16000 non-null  int64 \n",
      " 24  tight            16000 non-null  int64 \n",
      " 25  loose            16000 non-null  int64 \n",
      " 26  conventional     16000 non-null  int64 \n",
      "dtypes: int64(26), object(1)\n",
      "memory usage: 3.4+ MB\n"
     ]
    }
   ],
   "source": [
    "data.info() "
   ]
  },
  {
   "cell_type": "code",
   "execution_count": 3,
   "metadata": {},
   "outputs": [
    {
     "data": {
      "text/html": [
       "<div>\n",
       "<style scoped>\n",
       "    .dataframe tbody tr th:only-of-type {\n",
       "        vertical-align: middle;\n",
       "    }\n",
       "\n",
       "    .dataframe tbody tr th {\n",
       "        vertical-align: top;\n",
       "    }\n",
       "\n",
       "    .dataframe thead th {\n",
       "        text-align: right;\n",
       "    }\n",
       "</style>\n",
       "<table border=\"1\" class=\"dataframe\">\n",
       "  <thead>\n",
       "    <tr style=\"text-align: right;\">\n",
       "      <th></th>\n",
       "      <th>paths</th>\n",
       "      <th>floral</th>\n",
       "      <th>graphic</th>\n",
       "      <th>striped</th>\n",
       "      <th>embroidered</th>\n",
       "      <th>pleated</th>\n",
       "      <th>solid</th>\n",
       "      <th>lattice</th>\n",
       "      <th>long_sleeve</th>\n",
       "      <th>short_sleeve</th>\n",
       "      <th>...</th>\n",
       "      <th>no_neckline</th>\n",
       "      <th>denim</th>\n",
       "      <th>chiffon</th>\n",
       "      <th>cotton</th>\n",
       "      <th>leather</th>\n",
       "      <th>faux</th>\n",
       "      <th>knit</th>\n",
       "      <th>tight</th>\n",
       "      <th>loose</th>\n",
       "      <th>conventional</th>\n",
       "    </tr>\n",
       "  </thead>\n",
       "  <tbody>\n",
       "    <tr>\n",
       "      <th>0</th>\n",
       "      <td>../datasets/big_ds/img_highres/img_highres/Swe...</td>\n",
       "      <td>0</td>\n",
       "      <td>0</td>\n",
       "      <td>0</td>\n",
       "      <td>1</td>\n",
       "      <td>0</td>\n",
       "      <td>0</td>\n",
       "      <td>0</td>\n",
       "      <td>0</td>\n",
       "      <td>0</td>\n",
       "      <td>...</td>\n",
       "      <td>1</td>\n",
       "      <td>0</td>\n",
       "      <td>1</td>\n",
       "      <td>0</td>\n",
       "      <td>0</td>\n",
       "      <td>0</td>\n",
       "      <td>0</td>\n",
       "      <td>0</td>\n",
       "      <td>0</td>\n",
       "      <td>1</td>\n",
       "    </tr>\n",
       "    <tr>\n",
       "      <th>1</th>\n",
       "      <td>../datasets/big_ds/img_highres/img_highres/Cla...</td>\n",
       "      <td>0</td>\n",
       "      <td>0</td>\n",
       "      <td>0</td>\n",
       "      <td>0</td>\n",
       "      <td>0</td>\n",
       "      <td>1</td>\n",
       "      <td>0</td>\n",
       "      <td>0</td>\n",
       "      <td>0</td>\n",
       "      <td>...</td>\n",
       "      <td>1</td>\n",
       "      <td>0</td>\n",
       "      <td>0</td>\n",
       "      <td>1</td>\n",
       "      <td>0</td>\n",
       "      <td>0</td>\n",
       "      <td>0</td>\n",
       "      <td>1</td>\n",
       "      <td>0</td>\n",
       "      <td>0</td>\n",
       "    </tr>\n",
       "    <tr>\n",
       "      <th>2</th>\n",
       "      <td>../datasets/big_ds/img_highres/img_highres/Str...</td>\n",
       "      <td>0</td>\n",
       "      <td>1</td>\n",
       "      <td>0</td>\n",
       "      <td>0</td>\n",
       "      <td>0</td>\n",
       "      <td>0</td>\n",
       "      <td>0</td>\n",
       "      <td>0</td>\n",
       "      <td>0</td>\n",
       "      <td>...</td>\n",
       "      <td>1</td>\n",
       "      <td>0</td>\n",
       "      <td>0</td>\n",
       "      <td>1</td>\n",
       "      <td>0</td>\n",
       "      <td>0</td>\n",
       "      <td>0</td>\n",
       "      <td>0</td>\n",
       "      <td>0</td>\n",
       "      <td>1</td>\n",
       "    </tr>\n",
       "    <tr>\n",
       "      <th>3</th>\n",
       "      <td>../datasets/big_ds/img_highres/img_highres/Mid...</td>\n",
       "      <td>0</td>\n",
       "      <td>0</td>\n",
       "      <td>0</td>\n",
       "      <td>0</td>\n",
       "      <td>0</td>\n",
       "      <td>1</td>\n",
       "      <td>0</td>\n",
       "      <td>0</td>\n",
       "      <td>0</td>\n",
       "      <td>...</td>\n",
       "      <td>1</td>\n",
       "      <td>1</td>\n",
       "      <td>0</td>\n",
       "      <td>0</td>\n",
       "      <td>0</td>\n",
       "      <td>0</td>\n",
       "      <td>0</td>\n",
       "      <td>1</td>\n",
       "      <td>0</td>\n",
       "      <td>0</td>\n",
       "    </tr>\n",
       "    <tr>\n",
       "      <th>4</th>\n",
       "      <td>../datasets/big_ds/img_highres/img_highres/Zip...</td>\n",
       "      <td>0</td>\n",
       "      <td>0</td>\n",
       "      <td>0</td>\n",
       "      <td>0</td>\n",
       "      <td>0</td>\n",
       "      <td>1</td>\n",
       "      <td>0</td>\n",
       "      <td>1</td>\n",
       "      <td>0</td>\n",
       "      <td>...</td>\n",
       "      <td>0</td>\n",
       "      <td>0</td>\n",
       "      <td>0</td>\n",
       "      <td>1</td>\n",
       "      <td>0</td>\n",
       "      <td>0</td>\n",
       "      <td>0</td>\n",
       "      <td>0</td>\n",
       "      <td>0</td>\n",
       "      <td>1</td>\n",
       "    </tr>\n",
       "  </tbody>\n",
       "</table>\n",
       "<p>5 rows × 27 columns</p>\n",
       "</div>"
      ],
      "text/plain": [
       "                                               paths  floral  graphic  \\\n",
       "0  ../datasets/big_ds/img_highres/img_highres/Swe...       0        0   \n",
       "1  ../datasets/big_ds/img_highres/img_highres/Cla...       0        0   \n",
       "2  ../datasets/big_ds/img_highres/img_highres/Str...       0        1   \n",
       "3  ../datasets/big_ds/img_highres/img_highres/Mid...       0        0   \n",
       "4  ../datasets/big_ds/img_highres/img_highres/Zip...       0        0   \n",
       "\n",
       "   striped  embroidered  pleated  solid  lattice  long_sleeve  short_sleeve  \\\n",
       "0        0            1        0      0        0            0             0   \n",
       "1        0            0        0      1        0            0             0   \n",
       "2        0            0        0      0        0            0             0   \n",
       "3        0            0        0      1        0            0             0   \n",
       "4        0            0        0      1        0            1             0   \n",
       "\n",
       "   ...  no_neckline  denim  chiffon  cotton  leather  faux  knit  tight  \\\n",
       "0  ...            1      0        1       0        0     0     0      0   \n",
       "1  ...            1      0        0       1        0     0     0      1   \n",
       "2  ...            1      0        0       1        0     0     0      0   \n",
       "3  ...            1      1        0       0        0     0     0      1   \n",
       "4  ...            0      0        0       1        0     0     0      0   \n",
       "\n",
       "   loose  conventional  \n",
       "0      0             1  \n",
       "1      0             0  \n",
       "2      0             1  \n",
       "3      0             0  \n",
       "4      0             1  \n",
       "\n",
       "[5 rows x 27 columns]"
      ]
     },
     "execution_count": 3,
     "metadata": {},
     "output_type": "execute_result"
    }
   ],
   "source": [
    "data[\"paths\"] = data.paths.apply(lambda s: s.replace(\"img-001/img\", \"img_highres/img_highres\"))\n",
    "data.head() "
   ]
  },
  {
   "cell_type": "code",
   "execution_count": 5,
   "metadata": {},
   "outputs": [],
   "source": [
    "data = data.loc[:, [\n",
    "    \"paths\",\n",
    "    \"floral\", \n",
    "    \"graphic\" ,\n",
    "    \"striped\",\n",
    "    \"embroidered\",\n",
    "    \"solid\",\n",
    "    \"lattice\",\n",
    "    \"denim\",\n",
    "    \"chiffon\",\n",
    "    \"cotton\",\n",
    "    \"leather\",\n",
    "    \"faux\",\n",
    "    \"knit\",\n",
    "    \"tight\",\n",
    "    \"loose\"\n",
    "]]"
   ]
  },
  {
   "cell_type": "code",
   "execution_count": 6,
   "metadata": {},
   "outputs": [],
   "source": [
    "data.columns = [\n",
    "    \"paths\",\n",
    "    \"cicekli\", \n",
    "    \"baskili\", \n",
    "    \"duz-cizgi\",\n",
    "    \"islemeli\", \n",
    "    \"solid\", \n",
    "    \"kafes\",\n",
    "    \"denim\",\n",
    "    \"sifon\", \n",
    "    \"pamuk\", \n",
    "    \"deri\", \n",
    "    \"kurk\", \n",
    "    \"orme\", \n",
    "    \"dar\",\n",
    "    \"bol-gevsek\" \n",
    "]"
   ]
  },
  {
   "cell_type": "code",
   "execution_count": 7,
   "metadata": {},
   "outputs": [
    {
     "name": "stdout",
     "output_type": "stream",
     "text": [
      "cicekli , positive: 2738 negative: 13262 \n",
      "baskili , positive: 2678 negative: 13322 \n",
      "duz-cizgi , positive: 1055 negative: 14945 \n",
      "islemeli , positive: 1329 negative: 14671 \n",
      "solid , positive: 7584 negative: 8416 \n",
      "kafes , positive: 280 negative: 15720 \n",
      "denim , positive: 949 negative: 15051 \n",
      "sifon , positive: 2342 negative: 13658 \n",
      "pamuk , positive: 10868 negative: 5132 \n",
      "deri , positive: 330 negative: 15670 \n",
      "kurk , positive: 143 negative: 15857 \n",
      "orme , positive: 1368 negative: 14632 \n",
      "dar , positive: 2296 negative: 13704 \n",
      "bol-gevsek , positive: 868 negative: 15132 \n"
     ]
    }
   ],
   "source": [
    "for c in data.columns[1:]: \n",
    "    print(f\"{c} , positive: {len(data[data[c] == 1])} negative: {len(data[data[c] == 0])} \")"
   ]
  },
  {
   "cell_type": "code",
   "execution_count": 8,
   "metadata": {},
   "outputs": [],
   "source": [
    "# data = data.drop([\"kafes\", \"deri\", \"kurk\"], axis=1) "
   ]
  },
  {
   "cell_type": "code",
   "execution_count": 9,
   "metadata": {},
   "outputs": [
    {
     "data": {
      "text/plain": [
       "11200"
      ]
     },
     "execution_count": 9,
     "metadata": {},
     "output_type": "execute_result"
    }
   ],
   "source": [
    "DATA_SIZE = data.shape[0]\n",
    "TRAIN_SIZE = int(0.70 * DATA_SIZE)\n",
    "TRAIN_SIZE "
   ]
  },
  {
   "attachments": {},
   "cell_type": "markdown",
   "metadata": {},
   "source": [
    "# Shuffle Training Data "
   ]
  },
  {
   "cell_type": "code",
   "execution_count": 10,
   "metadata": {},
   "outputs": [
    {
     "data": {
      "text/plain": [
       "((11200, 15), (4800, 15), (16000, 15))"
      ]
     },
     "execution_count": 10,
     "metadata": {},
     "output_type": "execute_result"
    }
   ],
   "source": [
    "data = data.sample(frac=1, random_state=128)\n",
    "trainig_data = data.iloc[:TRAIN_SIZE, :].reset_index(drop=True)\n",
    "val_data = data.iloc[TRAIN_SIZE:, :].reset_index(drop=True)\n",
    "trainig_data.shape, val_data.shape, data.shape "
   ]
  },
  {
   "cell_type": "code",
   "execution_count": 11,
   "metadata": {},
   "outputs": [
    {
     "data": {
      "text/html": [
       "<div>\n",
       "<style scoped>\n",
       "    .dataframe tbody tr th:only-of-type {\n",
       "        vertical-align: middle;\n",
       "    }\n",
       "\n",
       "    .dataframe tbody tr th {\n",
       "        vertical-align: top;\n",
       "    }\n",
       "\n",
       "    .dataframe thead th {\n",
       "        text-align: right;\n",
       "    }\n",
       "</style>\n",
       "<table border=\"1\" class=\"dataframe\">\n",
       "  <thead>\n",
       "    <tr style=\"text-align: right;\">\n",
       "      <th></th>\n",
       "      <th>paths</th>\n",
       "      <th>cicekli</th>\n",
       "      <th>baskili</th>\n",
       "      <th>duz-cizgi</th>\n",
       "      <th>islemeli</th>\n",
       "      <th>solid</th>\n",
       "      <th>kafes</th>\n",
       "      <th>denim</th>\n",
       "      <th>sifon</th>\n",
       "      <th>pamuk</th>\n",
       "      <th>deri</th>\n",
       "      <th>kurk</th>\n",
       "      <th>orme</th>\n",
       "      <th>dar</th>\n",
       "      <th>bol-gevsek</th>\n",
       "    </tr>\n",
       "  </thead>\n",
       "  <tbody>\n",
       "    <tr>\n",
       "      <th>0</th>\n",
       "      <td>../datasets/big_ds/img_highres/img_highres/Cow...</td>\n",
       "      <td>0</td>\n",
       "      <td>0</td>\n",
       "      <td>0</td>\n",
       "      <td>0</td>\n",
       "      <td>1</td>\n",
       "      <td>0</td>\n",
       "      <td>0</td>\n",
       "      <td>0</td>\n",
       "      <td>0</td>\n",
       "      <td>0</td>\n",
       "      <td>0</td>\n",
       "      <td>1</td>\n",
       "      <td>0</td>\n",
       "      <td>0</td>\n",
       "    </tr>\n",
       "    <tr>\n",
       "      <th>1</th>\n",
       "      <td>../datasets/big_ds/img_highres/img_highres/Dip...</td>\n",
       "      <td>1</td>\n",
       "      <td>0</td>\n",
       "      <td>0</td>\n",
       "      <td>0</td>\n",
       "      <td>0</td>\n",
       "      <td>0</td>\n",
       "      <td>0</td>\n",
       "      <td>0</td>\n",
       "      <td>1</td>\n",
       "      <td>0</td>\n",
       "      <td>0</td>\n",
       "      <td>0</td>\n",
       "      <td>0</td>\n",
       "      <td>0</td>\n",
       "    </tr>\n",
       "    <tr>\n",
       "      <th>2</th>\n",
       "      <td>../datasets/big_ds/img_highres/img_highres/Hea...</td>\n",
       "      <td>0</td>\n",
       "      <td>0</td>\n",
       "      <td>0</td>\n",
       "      <td>0</td>\n",
       "      <td>1</td>\n",
       "      <td>0</td>\n",
       "      <td>0</td>\n",
       "      <td>0</td>\n",
       "      <td>1</td>\n",
       "      <td>0</td>\n",
       "      <td>0</td>\n",
       "      <td>0</td>\n",
       "      <td>0</td>\n",
       "      <td>0</td>\n",
       "    </tr>\n",
       "    <tr>\n",
       "      <th>3</th>\n",
       "      <td>../datasets/big_ds/img_highres/img_highres/Dai...</td>\n",
       "      <td>0</td>\n",
       "      <td>0</td>\n",
       "      <td>0</td>\n",
       "      <td>1</td>\n",
       "      <td>0</td>\n",
       "      <td>0</td>\n",
       "      <td>0</td>\n",
       "      <td>0</td>\n",
       "      <td>0</td>\n",
       "      <td>0</td>\n",
       "      <td>0</td>\n",
       "      <td>1</td>\n",
       "      <td>0</td>\n",
       "      <td>0</td>\n",
       "    </tr>\n",
       "    <tr>\n",
       "      <th>4</th>\n",
       "      <td>../datasets/big_ds/img_highres/img_highres/Tas...</td>\n",
       "      <td>0</td>\n",
       "      <td>0</td>\n",
       "      <td>0</td>\n",
       "      <td>1</td>\n",
       "      <td>0</td>\n",
       "      <td>0</td>\n",
       "      <td>0</td>\n",
       "      <td>0</td>\n",
       "      <td>0</td>\n",
       "      <td>0</td>\n",
       "      <td>0</td>\n",
       "      <td>1</td>\n",
       "      <td>0</td>\n",
       "      <td>0</td>\n",
       "    </tr>\n",
       "  </tbody>\n",
       "</table>\n",
       "</div>"
      ],
      "text/plain": [
       "                                               paths  cicekli  baskili  \\\n",
       "0  ../datasets/big_ds/img_highres/img_highres/Cow...        0        0   \n",
       "1  ../datasets/big_ds/img_highres/img_highres/Dip...        1        0   \n",
       "2  ../datasets/big_ds/img_highres/img_highres/Hea...        0        0   \n",
       "3  ../datasets/big_ds/img_highres/img_highres/Dai...        0        0   \n",
       "4  ../datasets/big_ds/img_highres/img_highres/Tas...        0        0   \n",
       "\n",
       "   duz-cizgi  islemeli  solid  kafes  denim  sifon  pamuk  deri  kurk  orme  \\\n",
       "0          0         0      1      0      0      0      0     0     0     1   \n",
       "1          0         0      0      0      0      0      1     0     0     0   \n",
       "2          0         0      1      0      0      0      1     0     0     0   \n",
       "3          0         1      0      0      0      0      0     0     0     1   \n",
       "4          0         1      0      0      0      0      0     0     0     1   \n",
       "\n",
       "   dar  bol-gevsek  \n",
       "0    0           0  \n",
       "1    0           0  \n",
       "2    0           0  \n",
       "3    0           0  \n",
       "4    0           0  "
      ]
     },
     "execution_count": 11,
     "metadata": {},
     "output_type": "execute_result"
    }
   ],
   "source": [
    "trainig_data.head() "
   ]
  },
  {
   "cell_type": "markdown",
   "metadata": {},
   "source": [
    "# Distribution of Train - Val Set "
   ]
  },
  {
   "cell_type": "code",
   "execution_count": 12,
   "metadata": {},
   "outputs": [],
   "source": [
    "import seaborn as sns \n",
    "import matplotlib.pyplot as plt \n",
    "\n",
    "def show_distribution(dt: pd.DataFrame):\n",
    "    train_dist = dict()\n",
    "    for c in dt.columns[1:]: \n",
    "        train_dist[c] = len(dt[dt[c] == 1]) \n",
    "\n",
    "    train_dist = pd.DataFrame.from_dict(train_dist, orient=\"index\").reset_index()\n",
    "    train_dist.columns= [\"rows\", \"vals\"]\n",
    "\n",
    "    sns.barplot(x=\"rows\", y=\"vals\", data=train_dist)\n",
    "    plt.show()"
   ]
  },
  {
   "cell_type": "code",
   "execution_count": 13,
   "metadata": {},
   "outputs": [
    {
     "data": {
      "image/png": "[encoded data removed]",
      "text/plain": [
       "<Figure size 640x480 with 1 Axes>"
      ]
     },
     "metadata": {},
     "output_type": "display_data"
    }
   ],
   "source": [
    "show_distribution(trainig_data)"
   ]
  },
  {
   "cell_type": "code",
   "execution_count": 14,
   "metadata": {},
   "outputs": [
    {
     "data": {
      "image/png": "[encoded data removed]",
      "text/plain": [
       "<Figure size 640x480 with 1 Axes>"
      ]
     },
     "metadata": {},
     "output_type": "display_data"
    }
   ],
   "source": [
    "show_distribution(val_data)"
   ]
  },
  {
   "attachments": {},
   "cell_type": "markdown",
   "metadata": {},
   "source": [
    "# Create Keras Data Generators "
   ]
  },
  {
   "cell_type": "code",
   "execution_count": 15,
   "metadata": {},
   "outputs": [],
   "source": [
    "X_train = trainig_data.iloc[:, 0] \n",
    "y_train = trainig_data.iloc[:, 1:]\n",
    "\n",
    "X_test = val_data.iloc[:, 0] \n",
    "y_test = val_data.iloc[:, 1:] "
   ]
  },
  {
   "cell_type": "code",
   "execution_count": 16,
   "metadata": {},
   "outputs": [],
   "source": [
    "merged_all_classes = [] \n",
    "for idx, row in y_train.iterrows():\n",
    "    merged_all_classes.append([col for col, val in row.items() if val == 1])\n",
    "\n",
    "y_train = pd.Series(merged_all_classes, index=y_train.index, name=\"labels\") \n",
    "\n",
    "merged_all_classes = [] \n",
    "for idx, row in y_test.iterrows():\n",
    "    merged_all_classes.append([col for col, val in row.items() if val == 1])\n",
    "\n",
    "y_test = pd.Series(merged_all_classes, index=y_test.index, name=\"labels\") "
   ]
  },
  {
   "cell_type": "code",
   "execution_count": 17,
   "metadata": {},
   "outputs": [],
   "source": [
    "train_data_flow_df = pd.concat([\n",
    "    X_train, \n",
    "    y_train\n",
    "], axis=1)\n",
    "\n",
    "test_data_flow_df = pd.concat([\n",
    "    X_test, \n",
    "    y_test\n",
    "], axis=1) "
   ]
  },
  {
   "cell_type": "code",
   "execution_count": 18,
   "metadata": {},
   "outputs": [],
   "source": [
    "IMG_WIDTH = 456 \n",
    "IMG_HEIGHT = 456 \n",
    "nr_of_classes = 14"
   ]
  },
  {
   "cell_type": "code",
   "execution_count": 19,
   "metadata": {},
   "outputs": [],
   "source": [
    "from tensorflow.keras.preprocessing.image import ImageDataGenerator \n",
    "\n",
    "train_gen = ImageDataGenerator() \n",
    "test_gen = ImageDataGenerator()"
   ]
  },
  {
   "cell_type": "code",
   "execution_count": 20,
   "metadata": {},
   "outputs": [
    {
     "name": "stdout",
     "output_type": "stream",
     "text": [
      "Found 11200 validated image filenames belonging to 14 classes.\n",
      "Found 4800 validated image filenames belonging to 14 classes.\n"
     ]
    }
   ],
   "source": [
    "train = train_gen.flow_from_dataframe(\n",
    "    dataframe=train_data_flow_df, \n",
    "    directory=\"\", \n",
    "    x_col=\"paths\", \n",
    "    y_col=\"labels\", \n",
    "    class_mode='categorical', \n",
    "    target_size=(IMG_WIDTH, IMG_HEIGHT))\n",
    "\n",
    "test = test_gen.flow_from_dataframe(\n",
    "    dataframe=test_data_flow_df, \n",
    "    directory=\"\", \n",
    "    x_col=\"paths\", \n",
    "    y_col=\"labels\", \n",
    "    class_mode='categorical', \n",
    "    target_size=(IMG_WIDTH, IMG_HEIGHT))"
   ]
  },
  {
   "cell_type": "code",
   "execution_count": 21,
   "metadata": {},
   "outputs": [
    {
     "name": "stdout",
     "output_type": "stream",
     "text": [
      "(32, 456, 456, 3)\n"
     ]
    }
   ],
   "source": [
    "for b in train: \n",
    "    print(b[0].shape)\n",
    "    break"
   ]
  },
  {
   "cell_type": "markdown",
   "metadata": {},
   "source": [
    "# Test Data "
   ]
  },
  {
   "cell_type": "code",
   "execution_count": 22,
   "metadata": {},
   "outputs": [
    {
     "data": {
      "text/html": [
       "<div>\n",
       "<style scoped>\n",
       "    .dataframe tbody tr th:only-of-type {\n",
       "        vertical-align: middle;\n",
       "    }\n",
       "\n",
       "    .dataframe tbody tr th {\n",
       "        vertical-align: top;\n",
       "    }\n",
       "\n",
       "    .dataframe thead th {\n",
       "        text-align: right;\n",
       "    }\n",
       "</style>\n",
       "<table border=\"1\" class=\"dataframe\">\n",
       "  <thead>\n",
       "    <tr style=\"text-align: right;\">\n",
       "      <th></th>\n",
       "      <th>paths</th>\n",
       "      <th>cicekli</th>\n",
       "      <th>baskili</th>\n",
       "      <th>duz-cizgi</th>\n",
       "      <th>islemeli</th>\n",
       "      <th>solid</th>\n",
       "      <th>kafes</th>\n",
       "      <th>denim</th>\n",
       "      <th>sifon</th>\n",
       "      <th>pamuk</th>\n",
       "      <th>deri</th>\n",
       "      <th>kurk</th>\n",
       "      <th>orme</th>\n",
       "      <th>dar</th>\n",
       "      <th>bol-gevsek</th>\n",
       "    </tr>\n",
       "  </thead>\n",
       "  <tbody>\n",
       "    <tr>\n",
       "      <th>0</th>\n",
       "      <td>../datasets/big_ds/img_highres/img_highres/Flo...</td>\n",
       "      <td>1</td>\n",
       "      <td>0</td>\n",
       "      <td>0</td>\n",
       "      <td>0</td>\n",
       "      <td>0</td>\n",
       "      <td>0</td>\n",
       "      <td>0</td>\n",
       "      <td>0</td>\n",
       "      <td>1</td>\n",
       "      <td>0</td>\n",
       "      <td>0</td>\n",
       "      <td>0</td>\n",
       "      <td>1</td>\n",
       "      <td>0</td>\n",
       "    </tr>\n",
       "    <tr>\n",
       "      <th>1</th>\n",
       "      <td>../datasets/big_ds/img_highres/img_highres/But...</td>\n",
       "      <td>0</td>\n",
       "      <td>0</td>\n",
       "      <td>0</td>\n",
       "      <td>0</td>\n",
       "      <td>0</td>\n",
       "      <td>0</td>\n",
       "      <td>0</td>\n",
       "      <td>1</td>\n",
       "      <td>0</td>\n",
       "      <td>0</td>\n",
       "      <td>0</td>\n",
       "      <td>0</td>\n",
       "      <td>0</td>\n",
       "      <td>0</td>\n",
       "    </tr>\n",
       "    <tr>\n",
       "      <th>2</th>\n",
       "      <td>../datasets/big_ds/img_highres/img_highres/Mar...</td>\n",
       "      <td>0</td>\n",
       "      <td>0</td>\n",
       "      <td>0</td>\n",
       "      <td>0</td>\n",
       "      <td>1</td>\n",
       "      <td>0</td>\n",
       "      <td>0</td>\n",
       "      <td>0</td>\n",
       "      <td>0</td>\n",
       "      <td>0</td>\n",
       "      <td>0</td>\n",
       "      <td>1</td>\n",
       "      <td>0</td>\n",
       "      <td>0</td>\n",
       "    </tr>\n",
       "    <tr>\n",
       "      <th>3</th>\n",
       "      <td>../datasets/big_ds/img_highres/img_highres/Sun...</td>\n",
       "      <td>1</td>\n",
       "      <td>0</td>\n",
       "      <td>0</td>\n",
       "      <td>0</td>\n",
       "      <td>0</td>\n",
       "      <td>0</td>\n",
       "      <td>0</td>\n",
       "      <td>0</td>\n",
       "      <td>1</td>\n",
       "      <td>0</td>\n",
       "      <td>0</td>\n",
       "      <td>0</td>\n",
       "      <td>0</td>\n",
       "      <td>0</td>\n",
       "    </tr>\n",
       "    <tr>\n",
       "      <th>4</th>\n",
       "      <td>../datasets/big_ds/img_highres/img_highres/Col...</td>\n",
       "      <td>0</td>\n",
       "      <td>0</td>\n",
       "      <td>0</td>\n",
       "      <td>0</td>\n",
       "      <td>1</td>\n",
       "      <td>0</td>\n",
       "      <td>0</td>\n",
       "      <td>1</td>\n",
       "      <td>0</td>\n",
       "      <td>0</td>\n",
       "      <td>0</td>\n",
       "      <td>0</td>\n",
       "      <td>0</td>\n",
       "      <td>0</td>\n",
       "    </tr>\n",
       "  </tbody>\n",
       "</table>\n",
       "</div>"
      ],
      "text/plain": [
       "                                               paths  cicekli  baskili  \\\n",
       "0  ../datasets/big_ds/img_highres/img_highres/Flo...        1        0   \n",
       "1  ../datasets/big_ds/img_highres/img_highres/But...        0        0   \n",
       "2  ../datasets/big_ds/img_highres/img_highres/Mar...        0        0   \n",
       "3  ../datasets/big_ds/img_highres/img_highres/Sun...        1        0   \n",
       "4  ../datasets/big_ds/img_highres/img_highres/Col...        0        0   \n",
       "\n",
       "   duz-cizgi  islemeli  solid  kafes  denim  sifon  pamuk  deri  kurk  orme  \\\n",
       "0          0         0      0      0      0      0      1     0     0     0   \n",
       "1          0         0      0      0      0      1      0     0     0     0   \n",
       "2          0         0      1      0      0      0      0     0     0     1   \n",
       "3          0         0      0      0      0      0      1     0     0     0   \n",
       "4          0         0      1      0      0      1      0     0     0     0   \n",
       "\n",
       "   dar  bol-gevsek  \n",
       "0    1           0  \n",
       "1    0           0  \n",
       "2    0           0  \n",
       "3    0           0  \n",
       "4    0           0  "
      ]
     },
     "execution_count": 22,
     "metadata": {},
     "output_type": "execute_result"
    }
   ],
   "source": [
    "test_data = pd.read_csv(\"../datasets/attribute_set/test_data_fine_grained.csv\", index_col=0)\n",
    "test_data[\"paths\"] = test_data.paths.apply(lambda s: s.replace(\"img-001/img\", \"img_highres/img_highres\"))\n",
    "\n",
    "test_data = test_data.loc[:, [\n",
    "    \"paths\",\n",
    "    \"floral\", \n",
    "    \"graphic\" ,\n",
    "    \"striped\",\n",
    "    \"embroidered\",\n",
    "    \"solid\",\n",
    "    \"lattice\",\n",
    "    \"denim\",\n",
    "    \"chiffon\",\n",
    "    \"cotton\",\n",
    "    \"leather\",\n",
    "    \"faux\",\n",
    "    \"knit\",\n",
    "    \"tight\",\n",
    "    \"loose\"\n",
    "]]\n",
    "\n",
    "test_data.columns = [\n",
    "    \"paths\",\n",
    "    \"cicekli\", \n",
    "    \"baskili\", \n",
    "    \"duz-cizgi\",\n",
    "    \"islemeli\", \n",
    "    \"solid\", \n",
    "    \"kafes\",\n",
    "    \"denim\",\n",
    "    \"sifon\", \n",
    "    \"pamuk\", \n",
    "    \"deri\", \n",
    "    \"kurk\", \n",
    "    \"orme\", \n",
    "    \"dar\",\n",
    "    \"bol-gevsek\" \n",
    "]\n",
    "\n",
    "test_data.head() "
   ]
  },
  {
   "cell_type": "code",
   "execution_count": 32,
   "metadata": {},
   "outputs": [],
   "source": [
    "from PIL import Image\n",
    "import os\n",
    "\n",
    "max_pixel_limit = 178956970\n",
    "batch=0\n",
    "i = 0\n",
    "\n",
    "for k,row in test_data.iterrows():\n",
    "    try:\n",
    "        image = Image.open(row[\"paths\"])\n",
    "        total_pixels = image.size[0] * image.size[1]\n",
    "        if total_pixels > max_pixel_limit:\n",
    "            print(f\"Removed {i} - Exceeds pixel limit\")\n",
    "\n",
    "        i = i + 1 \n",
    "        if i >= 31:\n",
    "            i = 0 \n",
    "            batch = batch + 1 \n",
    "    except Exception as e:\n",
    "        print(f\"batch:{batch} index:{k}\")\n",
    "\n"
   ]
  },
  {
   "cell_type": "code",
   "execution_count": null,
   "metadata": {},
   "outputs": [],
   "source": [
    "test_data = test_data.drop([3778])"
   ]
  },
  {
   "cell_type": "code",
   "execution_count": 33,
   "metadata": {},
   "outputs": [],
   "source": [
    "X_test2 = test_data.iloc[:, 0] \n",
    "y_test2 = test_data.iloc[:, 1:] \n",
    "\n",
    "merged_all_classes = [] \n",
    "for idx, row in y_test2.iterrows():\n",
    "    merged_all_classes.append([col for col, val in row.items() if val == 1])\n",
    "\n",
    "y_test2 = pd.Series(merged_all_classes, index=y_test2.index, name=\"labels\") \n",
    "\n",
    "test2_data_flow_df = pd.concat([\n",
    "    X_test2, \n",
    "    y_test2\n",
    "], axis=1) "
   ]
  },
  {
   "cell_type": "code",
   "execution_count": 34,
   "metadata": {},
   "outputs": [
    {
     "name": "stdout",
     "output_type": "stream",
     "text": [
      "Found 3999 validated image filenames belonging to 14 classes.\n"
     ]
    }
   ],
   "source": [
    "test2_gen = ImageDataGenerator() \n",
    "test_2 = test2_gen.flow_from_dataframe(\n",
    "    dataframe=test2_data_flow_df, \n",
    "    directory=\"\", \n",
    "    x_col=\"paths\", \n",
    "    y_col=\"labels\", \n",
    "    class_mode='categorical', \n",
    "    target_size=(IMG_WIDTH, IMG_HEIGHT))"
   ]
  },
  {
   "attachments": {},
   "cell_type": "markdown",
   "metadata": {},
   "source": [
    "# Model 1: EfficientNetB5 "
   ]
  },
  {
   "cell_type": "code",
   "execution_count": 45,
   "metadata": {},
   "outputs": [],
   "source": [
    "from tensorflow import keras \n",
    "import tensorflow as tf "
   ]
  },
  {
   "cell_type": "code",
   "execution_count": 46,
   "metadata": {},
   "outputs": [],
   "source": [
    "efficient_net = tf.keras.applications.EfficientNetB5(include_top=False)\n",
    "efficient_net.trainable = False"
   ]
  },
  {
   "cell_type": "code",
   "execution_count": 47,
   "metadata": {},
   "outputs": [],
   "source": [
    "from tensorflow import keras \n",
    "\n",
    "inputs = keras.Input(shape=(IMG_WIDTH,IMG_HEIGHT,3)) \n",
    "x = efficient_net(inputs) \n",
    "x = keras.layers.GlobalAveragePooling2D()(x) \n",
    "\n",
    "initializer = tf.keras.initializers.GlorotUniform(seed=42) \n",
    "activation = tf.keras.activations.sigmoid  \n",
    "kernel_regularizer = tf.keras.regularizers.l2(0.01)\n",
    "outputs = keras.layers.Dense(nr_of_classes,\n",
    "                             kernel_initializer=initializer, \n",
    "                             kernel_regularizer = kernel_regularizer,\n",
    "                             activation=activation)(x) \n",
    "\n",
    "model_1 = keras.Model(inputs, outputs) "
   ]
  },
  {
   "cell_type": "code",
   "execution_count": 48,
   "metadata": {},
   "outputs": [],
   "source": [
    "METRICS = [\n",
    "      keras.metrics.BinaryAccuracy(name='accuracy'),\n",
    "      keras.metrics.Precision(name='precision'),\n",
    "      keras.metrics.Recall(name='recall')\n",
    "]\n",
    "\n",
    "\n",
    "model_1.compile(optimizer=keras.optimizers.Adam(),\n",
    "              loss=keras.losses.BinaryCrossentropy(), # default from_logits=False\n",
    "              metrics=METRICS)"
   ]
  },
  {
   "cell_type": "code",
   "execution_count": 49,
   "metadata": {},
   "outputs": [],
   "source": [
    "checkpoint_path = \"checkpoints/high_res_true_fine_grained_reg/checkpoint-{epoch:01d}.ckpt\" \n",
    "checkpoint_callback = tf.keras.callbacks.ModelCheckpoint(filepath=checkpoint_path,\n",
    "                                                         save_weights_only=True,\n",
    "                                                         save_best_only=False,\n",
    "                                                         verbose=1)\n",
    "\n",
    "# lr_scheduler = tf.keras.callbacks.LearningRateScheduler(lambda epoch: 1e-4 * 10**(epoch/20))"
   ]
  },
  {
   "cell_type": "code",
   "execution_count": 50,
   "metadata": {},
   "outputs": [
    {
     "name": "stdout",
     "output_type": "stream",
     "text": [
      "Epoch 1/20\n",
      "350/350 [==============================] - ETA: 0s - loss: 0.3727 - accuracy: 0.8906 - precision: 0.7234 - recall: 0.4794 \n",
      "Epoch 1: saving model to checkpoints/high_res_true_fine_grained_reg\\checkpoint-1.ckpt\n",
      "350/350 [==============================] - 5121s 15s/step - loss: 0.3727 - accuracy: 0.8906 - precision: 0.7234 - recall: 0.4794 - val_loss: 0.3326 - val_accuracy: 0.8935 - val_precision: 0.7437 - val_recall: 0.4822\n",
      "Epoch 2/20\n",
      "350/350 [==============================] - ETA: 0s - loss: 0.3303 - accuracy: 0.8953 - precision: 0.7486 - recall: 0.4907\n",
      "Epoch 2: saving model to checkpoints/high_res_true_fine_grained_reg\\checkpoint-2.ckpt\n",
      "350/350 [==============================] - 3697s 11s/step - loss: 0.3303 - accuracy: 0.8953 - precision: 0.7486 - recall: 0.4907 - val_loss: 0.3268 - val_accuracy: 0.8959 - val_precision: 0.7607 - val_recall: 0.4837\n",
      "Epoch 3/20\n",
      "350/350 [==============================] - ETA: 0s - loss: 0.3248 - accuracy: 0.8946 - precision: 0.7481 - recall: 0.4853\n",
      "Epoch 3: saving model to checkpoints/high_res_true_fine_grained_reg\\checkpoint-3.ckpt\n",
      "350/350 [==============================] - 3710s 11s/step - loss: 0.3248 - accuracy: 0.8946 - precision: 0.7481 - recall: 0.4853 - val_loss: 0.3222 - val_accuracy: 0.8972 - val_precision: 0.7582 - val_recall: 0.4986\n",
      "Epoch 4/20\n",
      "350/350 [==============================] - ETA: 0s - loss: 0.3201 - accuracy: 0.8942 - precision: 0.7466 - recall: 0.4834\n",
      "Epoch 4: saving model to checkpoints/high_res_true_fine_grained_reg\\checkpoint-4.ckpt\n",
      "350/350 [==============================] - 3701s 11s/step - loss: 0.3201 - accuracy: 0.8942 - precision: 0.7466 - recall: 0.4834 - val_loss: 0.3180 - val_accuracy: 0.8945 - val_precision: 0.7598 - val_recall: 0.4718\n",
      "Epoch 5/20\n",
      "350/350 [==============================] - ETA: 0s - loss: 0.3156 - accuracy: 0.8943 - precision: 0.7496 - recall: 0.4806\n",
      "Epoch 5: saving model to checkpoints/high_res_true_fine_grained_reg\\checkpoint-5.ckpt\n",
      "350/350 [==============================] - 3683s 11s/step - loss: 0.3156 - accuracy: 0.8943 - precision: 0.7496 - recall: 0.4806 - val_loss: 0.3148 - val_accuracy: 0.8913 - val_precision: 0.7238 - val_recall: 0.4881\n",
      "Epoch 6/20\n",
      "350/350 [==============================] - ETA: 0s - loss: 0.3121 - accuracy: 0.8942 - precision: 0.7487 - recall: 0.4799\n",
      "Epoch 6: saving model to checkpoints/high_res_true_fine_grained_reg\\checkpoint-6.ckpt\n",
      "350/350 [==============================] - 3688s 11s/step - loss: 0.3121 - accuracy: 0.8942 - precision: 0.7487 - recall: 0.4799 - val_loss: 0.3101 - val_accuracy: 0.8952 - val_precision: 0.7594 - val_recall: 0.4788\n",
      "Epoch 7/20\n",
      "350/350 [==============================] - ETA: 0s - loss: 0.3089 - accuracy: 0.8939 - precision: 0.7472 - recall: 0.4791\n",
      "Epoch 7: saving model to checkpoints/high_res_true_fine_grained_reg\\checkpoint-7.ckpt\n",
      "350/350 [==============================] - 3695s 11s/step - loss: 0.3089 - accuracy: 0.8939 - precision: 0.7472 - recall: 0.4791 - val_loss: 0.3077 - val_accuracy: 0.8964 - val_precision: 0.7705 - val_recall: 0.4768\n",
      "Epoch 8/20\n",
      "350/350 [==============================] - ETA: 0s - loss: 0.3059 - accuracy: 0.8939 - precision: 0.7484 - recall: 0.4779\n",
      "Epoch 8: saving model to checkpoints/high_res_true_fine_grained_reg\\checkpoint-8.ckpt\n",
      "350/350 [==============================] - 3687s 11s/step - loss: 0.3059 - accuracy: 0.8939 - precision: 0.7484 - recall: 0.4779 - val_loss: 0.3053 - val_accuracy: 0.8921 - val_precision: 0.7496 - val_recall: 0.4613\n",
      "Epoch 9/20\n",
      "350/350 [==============================] - ETA: 0s - loss: 0.3039 - accuracy: 0.8928 - precision: 0.7428 - recall: 0.4742\n",
      "Epoch 9: saving model to checkpoints/high_res_true_fine_grained_reg\\checkpoint-9.ckpt\n",
      "350/350 [==============================] - 3727s 11s/step - loss: 0.3039 - accuracy: 0.8928 - precision: 0.7428 - recall: 0.4742 - val_loss: 0.3031 - val_accuracy: 0.8921 - val_precision: 0.7407 - val_recall: 0.4730\n",
      "Epoch 10/20\n",
      "350/350 [==============================] - ETA: 0s - loss: 0.3020 - accuracy: 0.8930 - precision: 0.7452 - recall: 0.4732\n",
      "Epoch 10: saving model to checkpoints/high_res_true_fine_grained_reg\\checkpoint-10.ckpt\n",
      "350/350 [==============================] - 3848s 11s/step - loss: 0.3020 - accuracy: 0.8930 - precision: 0.7452 - recall: 0.4732 - val_loss: 0.3022 - val_accuracy: 0.8908 - val_precision: 0.7318 - val_recall: 0.4720\n",
      "Epoch 11/20\n",
      "350/350 [==============================] - ETA: 0s - loss: 0.3003 - accuracy: 0.8926 - precision: 0.7424 - recall: 0.4731\n",
      "Epoch 11: saving model to checkpoints/high_res_true_fine_grained_reg\\checkpoint-11.ckpt\n",
      "350/350 [==============================] - 4297s 12s/step - loss: 0.3003 - accuracy: 0.8926 - precision: 0.7424 - recall: 0.4731 - val_loss: 0.2996 - val_accuracy: 0.8930 - val_precision: 0.7444 - val_recall: 0.4765\n",
      "Epoch 12/20\n",
      "350/350 [==============================] - ETA: 0s - loss: 0.2991 - accuracy: 0.8931 - precision: 0.7463 - recall: 0.4727\n",
      "Epoch 12: saving model to checkpoints/high_res_true_fine_grained_reg\\checkpoint-12.ckpt\n",
      "350/350 [==============================] - 3852s 11s/step - loss: 0.2991 - accuracy: 0.8931 - precision: 0.7463 - recall: 0.4727 - val_loss: 0.2989 - val_accuracy: 0.8919 - val_precision: 0.7588 - val_recall: 0.4485\n",
      "Epoch 13/20\n",
      "350/350 [==============================] - ETA: 0s - loss: 0.2981 - accuracy: 0.8921 - precision: 0.7414 - recall: 0.4696\n",
      "Epoch 13: saving model to checkpoints/high_res_true_fine_grained_reg\\checkpoint-13.ckpt\n",
      "350/350 [==============================] - 4889s 14s/step - loss: 0.2981 - accuracy: 0.8921 - precision: 0.7414 - recall: 0.4696 - val_loss: 0.2985 - val_accuracy: 0.8940 - val_precision: 0.7504 - val_recall: 0.4784\n",
      "Epoch 14/20\n",
      "350/350 [==============================] - ETA: 0s - loss: 0.2973 - accuracy: 0.8924 - precision: 0.7436 - recall: 0.4696 \n",
      "Epoch 14: saving model to checkpoints/high_res_true_fine_grained_reg\\checkpoint-14.ckpt\n",
      "350/350 [==============================] - 7092s 20s/step - loss: 0.2973 - accuracy: 0.8924 - precision: 0.7436 - recall: 0.4696 - val_loss: 0.2970 - val_accuracy: 0.8919 - val_precision: 0.7710 - val_recall: 0.4350\n",
      "Epoch 15/20\n",
      "350/350 [==============================] - ETA: 0s - loss: 0.2961 - accuracy: 0.8927 - precision: 0.7443 - recall: 0.4718 \n",
      "Epoch 15: saving model to checkpoints/high_res_true_fine_grained_reg\\checkpoint-15.ckpt\n",
      "350/350 [==============================] - 6942s 20s/step - loss: 0.2961 - accuracy: 0.8927 - precision: 0.7443 - recall: 0.4718 - val_loss: 0.2992 - val_accuracy: 0.8917 - val_precision: 0.7235 - val_recall: 0.4935\n",
      "Epoch 16/20\n",
      "350/350 [==============================] - ETA: 0s - loss: 0.2957 - accuracy: 0.8924 - precision: 0.7423 - recall: 0.4712 \n",
      "Epoch 16: saving model to checkpoints/high_res_true_fine_grained_reg\\checkpoint-16.ckpt\n",
      "350/350 [==============================] - 6140s 18s/step - loss: 0.2957 - accuracy: 0.8924 - precision: 0.7423 - recall: 0.4712 - val_loss: 0.2975 - val_accuracy: 0.8895 - val_precision: 0.7504 - val_recall: 0.4350\n",
      "Epoch 17/20\n",
      "350/350 [==============================] - ETA: 0s - loss: 0.2954 - accuracy: 0.8921 - precision: 0.7413 - recall: 0.4698\n",
      "Epoch 17: saving model to checkpoints/high_res_true_fine_grained_reg\\checkpoint-17.ckpt\n",
      "350/350 [==============================] - 3838s 11s/step - loss: 0.2954 - accuracy: 0.8921 - precision: 0.7413 - recall: 0.4698 - val_loss: 0.2955 - val_accuracy: 0.8916 - val_precision: 0.7371 - val_recall: 0.4728\n",
      "Epoch 18/20\n",
      "350/350 [==============================] - ETA: 0s - loss: 0.2951 - accuracy: 0.8919 - precision: 0.7410 - recall: 0.4682\n",
      "Epoch 18: saving model to checkpoints/high_res_true_fine_grained_reg\\checkpoint-18.ckpt\n",
      "350/350 [==============================] - 3722s 11s/step - loss: 0.2951 - accuracy: 0.8919 - precision: 0.7410 - recall: 0.4682 - val_loss: 0.2952 - val_accuracy: 0.8934 - val_precision: 0.7336 - val_recall: 0.4952\n",
      "Epoch 19/20\n",
      "350/350 [==============================] - ETA: 0s - loss: 0.2947 - accuracy: 0.8926 - precision: 0.7442 - recall: 0.4701\n",
      "Epoch 19: saving model to checkpoints/high_res_true_fine_grained_reg\\checkpoint-19.ckpt\n",
      "350/350 [==============================] - 3735s 11s/step - loss: 0.2947 - accuracy: 0.8926 - precision: 0.7442 - recall: 0.4701 - val_loss: 0.2946 - val_accuracy: 0.8912 - val_precision: 0.7397 - val_recall: 0.4649\n",
      "Epoch 20/20\n",
      "350/350 [==============================] - ETA: 0s - loss: 0.2942 - accuracy: 0.8920 - precision: 0.7406 - recall: 0.4695\n",
      "Epoch 20: saving model to checkpoints/high_res_true_fine_grained_reg\\checkpoint-20.ckpt\n",
      "350/350 [==============================] - 3654s 10s/step - loss: 0.2942 - accuracy: 0.8920 - precision: 0.7406 - recall: 0.4695 - val_loss: 0.2952 - val_accuracy: 0.8939 - val_precision: 0.7730 - val_recall: 0.4514\n"
     ]
    }
   ],
   "source": [
    "history_model_1 = model_1.fit(train, \n",
    "        validation_data =test,\n",
    "        epochs=20,\n",
    "        callbacks=[checkpoint_callback])"
   ]
  },
  {
   "cell_type": "code",
   "execution_count": null,
   "metadata": {},
   "outputs": [],
   "source": [
    "# model_2.save(\"../trained_models/model_2_efficientnet_SHUFFLEDdata_fine_grained_vgg.h5\") "
   ]
  },
  {
   "cell_type": "code",
   "execution_count": null,
   "metadata": {},
   "outputs": [],
   "source": [
    "# from helpers import save_with_pickle\n",
    "# save_with_pickle(\"../trained_models/model_2_efficientnet_SHUFFLEDdata_fine_grained_vgg_HISTORY.pickle\", history_model_2.history)"
   ]
  },
  {
   "cell_type": "code",
   "execution_count": 51,
   "metadata": {},
   "outputs": [
    {
     "data": {
      "image/png": "[encoded data removed]",
      "text/plain": [
       "<Figure size 640x480 with 1 Axes>"
      ]
     },
     "metadata": {},
     "output_type": "display_data"
    }
   ],
   "source": [
    "from matplotlib import pyplot as plt \n",
    "\n",
    "plt.plot(pd.DataFrame(history_model_1.history)[[\"loss\", \"val_loss\"]])\n",
    "plt.show()"
   ]
  },
  {
   "attachments": {},
   "cell_type": "markdown",
   "metadata": {},
   "source": [
    "### Model 2 Fine Tune"
   ]
  },
  {
   "cell_type": "code",
   "execution_count": 53,
   "metadata": {},
   "outputs": [],
   "source": [
    "efficient_net.trainable = True  \n",
    "\n",
    "for layer in efficient_net.layers[:-15]:\n",
    "    layer.trainable = False \n",
    "\n",
    "model_1.compile(optimizer=keras.optimizers.Adam(),\n",
    "              loss=keras.losses.BinaryCrossentropy(), \n",
    "              metrics=METRICS)"
   ]
  },
  {
   "cell_type": "code",
   "execution_count": 54,
   "metadata": {},
   "outputs": [
    {
     "name": "stdout",
     "output_type": "stream",
     "text": [
      "Epoch 20/40\n",
      "350/350 [==============================] - ETA: 0s - loss: 0.2359 - accuracy: 0.9086 - precision: 0.7836 - recall: 0.5693 \n",
      "Epoch 20: saving model to checkpoints/high_res_true_fine_grained_reg\\checkpoint-20.ckpt\n",
      "350/350 [==============================] - 4517s 13s/step - loss: 0.2359 - accuracy: 0.9086 - precision: 0.7836 - recall: 0.5693 - val_loss: 0.2126 - val_accuracy: 0.9232 - val_precision: 0.7953 - val_recall: 0.6827\n",
      "Epoch 21/40\n",
      "350/350 [==============================] - ETA: 0s - loss: 0.2109 - accuracy: 0.9236 - precision: 0.8072 - recall: 0.6677\n",
      "Epoch 21: saving model to checkpoints/high_res_true_fine_grained_reg\\checkpoint-21.ckpt\n",
      "350/350 [==============================] - 4188s 12s/step - loss: 0.2109 - accuracy: 0.9236 - precision: 0.8072 - recall: 0.6677 - val_loss: 0.2076 - val_accuracy: 0.9232 - val_precision: 0.8036 - val_recall: 0.6705\n",
      "Epoch 22/40\n",
      "176/350 [==============>...............] - ETA: 29:44 - loss: 0.2011 - accuracy: 0.9272 - precision: 0.8175 - recall: 0.6830"
     ]
    }
   ],
   "source": [
    "history_model_1_fine = model_1.fit(train, \n",
    "        validation_data =test,\n",
    "        epochs=40, \n",
    "        initial_epoch=history_model_1.epoch[-1], # start from previous last epoch \n",
    "        callbacks=[checkpoint_callback])"
   ]
  },
  {
   "cell_type": "code",
   "execution_count": null,
   "metadata": {},
   "outputs": [],
   "source": [
    "# model_2.save(\"../trained_models/fine_model_2_fine_grained_vgg.h5\") "
   ]
  },
  {
   "cell_type": "code",
   "execution_count": 55,
   "metadata": {},
   "outputs": [],
   "source": [
    "def compare_historys(original_history, new_history, initial_epochs=10):\n",
    "    \"\"\"\n",
    "    Compares two TensorFlow model History objects.\n",
    "    \n",
    "    Args:\n",
    "      original_history: History object from original model (before new_history)\n",
    "      new_history: History object from continued model training (after original_history)\n",
    "      initial_epochs: Number of epochs in original_history (new_history plot starts from here) \n",
    "    \"\"\" \n",
    "    # Get original history measurements\n",
    "    loss = original_history.history[\"loss\"]\n",
    "\n",
    "    val_loss = original_history.history[\"val_loss\"]\n",
    "\n",
    "    # Combine original history with new history\n",
    "    total_loss = loss + new_history.history[\"loss\"]\n",
    "\n",
    "    total_val_loss = val_loss + new_history.history[\"val_loss\"]\n",
    "\n",
    "    # Make plots\n",
    "    plt.figure(figsize=(8, 8))\n",
    "    plt.subplot(2, 1, 1)\n",
    "    plt.plot([initial_epochs-1, initial_epochs-1],\n",
    "              plt.ylim(), label='Start Fine Tuning') # reshift plot around epochs\n",
    "    plt.legend(loc='lower right')\n",
    "    plt.title('Training and Validation Accuracy')\n",
    "\n",
    "    plt.subplot(2, 1, 2)\n",
    "    plt.plot(total_loss, label='Training Loss')\n",
    "    plt.plot(total_val_loss, label='Validation Loss')\n",
    "    plt.plot([initial_epochs-1, initial_epochs-1],\n",
    "              plt.ylim(), label='Start Fine Tuning') # reshift plot around epochs\n",
    "    plt.legend(loc='upper right')\n",
    "    plt.title('Training and Validation Loss')\n",
    "    plt.xlabel('epoch')\n",
    "    plt.show()"
   ]
  },
  {
   "cell_type": "code",
   "execution_count": 57,
   "metadata": {},
   "outputs": [
    {
     "data": {
      "image/png": "[encoded data removed]",
      "text/plain": [
       "<Figure size 800x800 with 2 Axes>"
      ]
     },
     "metadata": {},
     "output_type": "display_data"
    }
   ],
   "source": [
    "compare_historys(history_model_1, history_model_1_fine, 20)"
   ]
  },
  {
   "cell_type": "code",
   "execution_count": 59,
   "metadata": {},
   "outputs": [
    {
     "data": {
      "text/plain": [
       "<Axes: >"
      ]
     },
     "execution_count": 59,
     "metadata": {},
     "output_type": "execute_result"
    },
    {
     "data": {
      "image/png": "[encoded data removed]",
      "text/plain": [
       "<Figure size 640x480 with 1 Axes>"
      ]
     },
     "metadata": {},
     "output_type": "display_data"
    }
   ],
   "source": [
    "pd.DataFrame(history_model_1_fine.history)[[\"loss\", \"val_loss\"]].plot()"
   ]
  },
  {
   "cell_type": "code",
   "execution_count": 62,
   "metadata": {},
   "outputs": [
    {
     "data": {
      "text/plain": [
       "<tensorflow.python.training.tracking.util.CheckpointLoadStatus at 0x1957f1c3f40>"
      ]
     },
     "execution_count": 62,
     "metadata": {},
     "output_type": "execute_result"
    }
   ],
   "source": [
    "model_1.load_weights(\"./checkpoints/high_res_true_fine_grained/checkpoint-21.ckpt\")"
   ]
  },
  {
   "cell_type": "code",
   "execution_count": 63,
   "metadata": {},
   "outputs": [],
   "source": [
    "model_1.save(\"../trained_models/efnet_high_res_based12.h5\")"
   ]
  },
  {
   "cell_type": "markdown",
   "metadata": {},
   "source": [
    "# Coarse to fine "
   ]
  },
  {
   "cell_type": "code",
   "execution_count": 40,
   "metadata": {},
   "outputs": [
    {
     "data": {
      "text/plain": [
       "56"
      ]
     },
     "execution_count": 40,
     "metadata": {},
     "output_type": "execute_result"
    }
   ],
   "source": [
    "from sklearn.model_selection import ParameterGrid \n",
    "import numpy as np\n",
    "\n",
    "parameters = {\n",
    "    'batch_size': [32, 64],\n",
    "    'learning_rate': [10**(-4 * np.random.rand()) for i in range(7)],\n",
    "    'freeze': [False, True],\n",
    "    'regularization': [ {\"type\": \"l2\", \"rate\": 0.01}, {\"type\": 'dropout', \"rate\": 0.2}]\n",
    "}\n",
    "\n",
    "len(list(ParameterGrid(parameters)))"
   ]
  },
  {
   "cell_type": "code",
   "execution_count": 41,
   "metadata": {},
   "outputs": [],
   "source": [
    "def get_generator(batch_size:int, random_state: int, target_size): \n",
    "    train_gen_grid = ImageDataGenerator() \n",
    "    test_gen_grid = ImageDataGenerator()\n",
    "\n",
    "    train_grid = train_gen_grid.flow_from_dataframe(\n",
    "        dataframe=train_data_flow_df, \n",
    "        directory=\"\", \n",
    "        x_col=\"paths\", \n",
    "        y_col=\"labels\", \n",
    "        seed=random_state, \n",
    "        class_mode='categorical', \n",
    "        batch_size=batch_size,\n",
    "        target_size=target_size)\n",
    "\n",
    "    test_grid = test_gen_grid.flow_from_dataframe(\n",
    "        dataframe=test_data_flow_df, \n",
    "        directory=\"\", \n",
    "        x_col=\"paths\", \n",
    "        y_col=\"labels\", \n",
    "        seed=random_state, \n",
    "        class_mode='categorical',\n",
    "        batch_size=batch_size, \n",
    "        target_size=target_size)\n",
    "    \n",
    "    return train_grid, test_grid"
   ]
  },
  {
   "cell_type": "code",
   "execution_count": 42,
   "metadata": {},
   "outputs": [],
   "source": [
    "def create_model(learning_rate, freeze: bool, regularization): \n",
    "    efficient_net = tf.keras.applications.EfficientNetB5(include_top=False)\n",
    "    efficient_net.trainable = False\n",
    "\n",
    "    if freeze: \n",
    "        efficient_net.trainable = True \n",
    "        for layer in efficient_net.layers[:-15]:\n",
    "            layer.trainable = False \n",
    "\n",
    "    inputs = keras.Input(shape=(IMG_HEIGHT,IMG_WIDTH,3)) \n",
    "    x = efficient_net(inputs) \n",
    "    x = keras.layers.GlobalAveragePooling2D()(x) \n",
    "    \n",
    "    kernel_regularizer = None \n",
    "    if regularization[\"type\"] == \"dropout\": \n",
    "        x = keras.layers.Dropout(regularization[\"rate\"])(x)\n",
    "    elif regularization[\"type\"] == \"l2\":\n",
    "        kernel_regularizer = tf.keras.regularizers.l2(regularization[\"rate\"])\n",
    "    \n",
    "    \n",
    "    outputs = keras.layers.Dense(nr_of_classes,\n",
    "                                kernel_initializer=tf.keras.initializers.GlorotUniform(seed=42), \n",
    "                                kernel_regularizer = kernel_regularizer,\n",
    "                                activation=tf.keras.activations.sigmoid)(x) \n",
    "\n",
    "    model = keras.Model(inputs, outputs) \n",
    "    METRICS = [\n",
    "        keras.metrics.BinaryAccuracy(name='accuracy'),\n",
    "        keras.metrics.Precision(name='precision'),\n",
    "        keras.metrics.Recall(name='recall')\n",
    "    ]\n",
    "    \n",
    "    model.compile(optimizer=keras.optimizers.Adam(learning_rate=learning_rate),\n",
    "                loss=keras.losses.BinaryCrossentropy(), # default from_logits=False\n",
    "                metrics=METRICS)   \n",
    "    \n",
    "    return model"
   ]
  },
  {
   "cell_type": "code",
   "execution_count": 43,
   "metadata": {},
   "outputs": [],
   "source": [
    "def try_fit(parameters_list: list): \n",
    "    historys = [] \n",
    "    i = 0\n",
    "    for idx,parameter_set in enumerate(parameters_list):\n",
    "        print(parameter_set)\n",
    "        gen_train, gen_test = get_generator(parameter_set[\"batch_size\"], random_state=64, target_size=(IMG_WIDTH, IMG_HEIGHT))\n",
    "        model = create_model(learning_rate=parameter_set[\"learning_rate\"], freeze=parameter_set[\"freeze\"], regularization=parameter_set[\"regularization\"]) \n",
    "        history = model.fit(gen_train, validation_data=gen_test, epochs=30) \n",
    "        historys.append({\n",
    "            \"model_id\": idx, \n",
    "            \"model_parameters\": parameters_list, \n",
    "            \"history\": history.history,\n",
    "            \"model_weights\": model.get_weights() \n",
    "        })\n",
    "    \n",
    "    return historys "
   ]
  },
  {
   "cell_type": "code",
   "execution_count": null,
   "metadata": {},
   "outputs": [],
   "source": [
    "histories_coarse_search = try_fit(list(ParameterGrid(parameters)))"
   ]
  },
  {
   "cell_type": "code",
   "execution_count": null,
   "metadata": {},
   "outputs": [],
   "source": []
  }
 ],
 "metadata": {
  "kernelspec": {
   "display_name": "Python 3.9.13 ('env_similar-products')",
   "language": "python",
   "name": "python3"
  },
  "language_info": {
   "codemirror_mode": {
    "name": "ipython",
    "version": 3
   },
   "file_extension": ".py",
   "mimetype": "text/x-python",
   "name": "python",
   "nbconvert_exporter": "python",
   "pygments_lexer": "ipython3",
   "version": "3.9.13"
  },
  "orig_nbformat": 4,
  "vscode": {
   "interpreter": {
    "hash": "3a9fdba9d57aea1bb5c6986083e3594030ae55b020a0216061e1820b16640168"
   }
  }
 },
 "nbformat": 4,
 "nbformat_minor": 2
}
