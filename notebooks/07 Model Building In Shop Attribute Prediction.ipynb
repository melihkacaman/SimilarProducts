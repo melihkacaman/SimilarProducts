{
 "cells": [
  {
   "cell_type": "code",
   "execution_count": 1,
   "metadata": {},
   "outputs": [],
   "source": [
    "import pandas as pd \n",
    "\n",
    "data = pd.read_csv(\"../datasets/attribute_set/in_shop_attr/in_shop_data_all.csv\", index_col=0)"
   ]
  },
  {
   "cell_type": "code",
   "execution_count": 2,
   "metadata": {},
   "outputs": [
    {
     "name": "stdout",
     "output_type": "stream",
     "text": [
      "<class 'pandas.core.frame.DataFrame'>\n",
      "Int64Index: 53590 entries, 0 to 53589\n",
      "Columns: 350 entries, path to 361_cutout\n",
      "dtypes: int64(347), object(3)\n",
      "memory usage: 143.5+ MB\n"
     ]
    }
   ],
   "source": [
    "data.info() "
   ]
  },
  {
   "cell_type": "code",
   "execution_count": 3,
   "metadata": {},
   "outputs": [
    {
     "data": {
      "text/html": [
       "<div>\n",
       "<style scoped>\n",
       "    .dataframe tbody tr th:only-of-type {\n",
       "        vertical-align: middle;\n",
       "    }\n",
       "\n",
       "    .dataframe tbody tr th {\n",
       "        vertical-align: top;\n",
       "    }\n",
       "\n",
       "    .dataframe thead th {\n",
       "        text-align: right;\n",
       "    }\n",
       "</style>\n",
       "<table border=\"1\" class=\"dataframe\">\n",
       "  <thead>\n",
       "    <tr style=\"text-align: right;\">\n",
       "      <th></th>\n",
       "      <th>path</th>\n",
       "      <th>id</th>\n",
       "      <th>group</th>\n",
       "      <th>0_lightweight</th>\n",
       "      <th>1_polyester</th>\n",
       "      <th>2_woven</th>\n",
       "      <th>3_knit</th>\n",
       "      <th>4_cotton</th>\n",
       "      <th>5_unlined</th>\n",
       "      <th>6_rayon</th>\n",
       "      <th>...</th>\n",
       "      <th>352_vest</th>\n",
       "      <th>353_accessorie</th>\n",
       "      <th>354_brunch</th>\n",
       "      <th>355_girly</th>\n",
       "      <th>356_open-knit</th>\n",
       "      <th>357_polka</th>\n",
       "      <th>358_gauze</th>\n",
       "      <th>359_grey</th>\n",
       "      <th>360_outhwestern</th>\n",
       "      <th>361_cutout</th>\n",
       "    </tr>\n",
       "  </thead>\n",
       "  <tbody>\n",
       "    <tr>\n",
       "      <th>0</th>\n",
       "      <td>../datasets/big_ds/img-in_shop/img/img/WOMEN/D...</td>\n",
       "      <td>id_00000002</td>\n",
       "      <td>train</td>\n",
       "      <td>1</td>\n",
       "      <td>0</td>\n",
       "      <td>1</td>\n",
       "      <td>0</td>\n",
       "      <td>0</td>\n",
       "      <td>1</td>\n",
       "      <td>1</td>\n",
       "      <td>...</td>\n",
       "      <td>0</td>\n",
       "      <td>0</td>\n",
       "      <td>0</td>\n",
       "      <td>0</td>\n",
       "      <td>0</td>\n",
       "      <td>0</td>\n",
       "      <td>0</td>\n",
       "      <td>0</td>\n",
       "      <td>0</td>\n",
       "      <td>0</td>\n",
       "    </tr>\n",
       "    <tr>\n",
       "      <th>1</th>\n",
       "      <td>../datasets/big_ds/img-in_shop/img/img/WOMEN/D...</td>\n",
       "      <td>id_00000002</td>\n",
       "      <td>train</td>\n",
       "      <td>1</td>\n",
       "      <td>0</td>\n",
       "      <td>1</td>\n",
       "      <td>0</td>\n",
       "      <td>0</td>\n",
       "      <td>1</td>\n",
       "      <td>1</td>\n",
       "      <td>...</td>\n",
       "      <td>0</td>\n",
       "      <td>0</td>\n",
       "      <td>0</td>\n",
       "      <td>0</td>\n",
       "      <td>0</td>\n",
       "      <td>0</td>\n",
       "      <td>0</td>\n",
       "      <td>0</td>\n",
       "      <td>0</td>\n",
       "      <td>0</td>\n",
       "    </tr>\n",
       "    <tr>\n",
       "      <th>2</th>\n",
       "      <td>../datasets/big_ds/img-in_shop/img/img/WOMEN/D...</td>\n",
       "      <td>id_00000002</td>\n",
       "      <td>train</td>\n",
       "      <td>1</td>\n",
       "      <td>0</td>\n",
       "      <td>1</td>\n",
       "      <td>0</td>\n",
       "      <td>0</td>\n",
       "      <td>1</td>\n",
       "      <td>1</td>\n",
       "      <td>...</td>\n",
       "      <td>0</td>\n",
       "      <td>0</td>\n",
       "      <td>0</td>\n",
       "      <td>0</td>\n",
       "      <td>0</td>\n",
       "      <td>0</td>\n",
       "      <td>0</td>\n",
       "      <td>0</td>\n",
       "      <td>0</td>\n",
       "      <td>0</td>\n",
       "    </tr>\n",
       "    <tr>\n",
       "      <th>3</th>\n",
       "      <td>../datasets/big_ds/img-in_shop/img/img/WOMEN/D...</td>\n",
       "      <td>id_00000002</td>\n",
       "      <td>train</td>\n",
       "      <td>1</td>\n",
       "      <td>0</td>\n",
       "      <td>1</td>\n",
       "      <td>0</td>\n",
       "      <td>0</td>\n",
       "      <td>1</td>\n",
       "      <td>1</td>\n",
       "      <td>...</td>\n",
       "      <td>0</td>\n",
       "      <td>0</td>\n",
       "      <td>0</td>\n",
       "      <td>0</td>\n",
       "      <td>0</td>\n",
       "      <td>0</td>\n",
       "      <td>0</td>\n",
       "      <td>0</td>\n",
       "      <td>0</td>\n",
       "      <td>0</td>\n",
       "    </tr>\n",
       "    <tr>\n",
       "      <th>4</th>\n",
       "      <td>../datasets/big_ds/img-in_shop/img/img/WOMEN/S...</td>\n",
       "      <td>id_00000003</td>\n",
       "      <td>train</td>\n",
       "      <td>1</td>\n",
       "      <td>1</td>\n",
       "      <td>1</td>\n",
       "      <td>0</td>\n",
       "      <td>0</td>\n",
       "      <td>0</td>\n",
       "      <td>1</td>\n",
       "      <td>...</td>\n",
       "      <td>0</td>\n",
       "      <td>0</td>\n",
       "      <td>0</td>\n",
       "      <td>0</td>\n",
       "      <td>0</td>\n",
       "      <td>0</td>\n",
       "      <td>0</td>\n",
       "      <td>0</td>\n",
       "      <td>0</td>\n",
       "      <td>0</td>\n",
       "    </tr>\n",
       "  </tbody>\n",
       "</table>\n",
       "<p>5 rows × 350 columns</p>\n",
       "</div>"
      ],
      "text/plain": [
       "                                                path           id  group  \\\n",
       "0  ../datasets/big_ds/img-in_shop/img/img/WOMEN/D...  id_00000002  train   \n",
       "1  ../datasets/big_ds/img-in_shop/img/img/WOMEN/D...  id_00000002  train   \n",
       "2  ../datasets/big_ds/img-in_shop/img/img/WOMEN/D...  id_00000002  train   \n",
       "3  ../datasets/big_ds/img-in_shop/img/img/WOMEN/D...  id_00000002  train   \n",
       "4  ../datasets/big_ds/img-in_shop/img/img/WOMEN/S...  id_00000003  train   \n",
       "\n",
       "   0_lightweight  1_polyester  2_woven  3_knit  4_cotton  5_unlined  6_rayon  \\\n",
       "0              1            0        1       0         0          1        1   \n",
       "1              1            0        1       0         0          1        1   \n",
       "2              1            0        1       0         0          1        1   \n",
       "3              1            0        1       0         0          1        1   \n",
       "4              1            1        1       0         0          0        1   \n",
       "\n",
       "   ...  352_vest  353_accessorie  354_brunch  355_girly  356_open-knit  \\\n",
       "0  ...         0               0           0          0              0   \n",
       "1  ...         0               0           0          0              0   \n",
       "2  ...         0               0           0          0              0   \n",
       "3  ...         0               0           0          0              0   \n",
       "4  ...         0               0           0          0              0   \n",
       "\n",
       "   357_polka  358_gauze  359_grey  360_outhwestern  361_cutout  \n",
       "0          0          0         0                0           0  \n",
       "1          0          0         0                0           0  \n",
       "2          0          0         0                0           0  \n",
       "3          0          0         0                0           0  \n",
       "4          0          0         0                0           0  \n",
       "\n",
       "[5 rows x 350 columns]"
      ]
     },
     "execution_count": 3,
     "metadata": {},
     "output_type": "execute_result"
    }
   ],
   "source": [
    "data.head() "
   ]
  },
  {
   "cell_type": "code",
   "execution_count": 4,
   "metadata": {},
   "outputs": [
    {
     "data": {
      "text/html": [
       "<div>\n",
       "<style scoped>\n",
       "    .dataframe tbody tr th:only-of-type {\n",
       "        vertical-align: middle;\n",
       "    }\n",
       "\n",
       "    .dataframe tbody tr th {\n",
       "        vertical-align: top;\n",
       "    }\n",
       "\n",
       "    .dataframe thead th {\n",
       "        text-align: right;\n",
       "    }\n",
       "</style>\n",
       "<table border=\"1\" class=\"dataframe\">\n",
       "  <thead>\n",
       "    <tr style=\"text-align: right;\">\n",
       "      <th></th>\n",
       "      <th>path</th>\n",
       "      <th>id</th>\n",
       "      <th>group</th>\n",
       "      <th>0_lightweight</th>\n",
       "      <th>1_polyester</th>\n",
       "      <th>2_woven</th>\n",
       "      <th>3_knit</th>\n",
       "      <th>4_cotton</th>\n",
       "      <th>5_unlined</th>\n",
       "      <th>6_rayon</th>\n",
       "      <th>...</th>\n",
       "      <th>352_vest</th>\n",
       "      <th>353_accessorie</th>\n",
       "      <th>354_brunch</th>\n",
       "      <th>355_girly</th>\n",
       "      <th>356_open-knit</th>\n",
       "      <th>357_polka</th>\n",
       "      <th>358_gauze</th>\n",
       "      <th>359_grey</th>\n",
       "      <th>360_outhwestern</th>\n",
       "      <th>361_cutout</th>\n",
       "    </tr>\n",
       "  </thead>\n",
       "  <tbody>\n",
       "    <tr>\n",
       "      <th>53585</th>\n",
       "      <td>../datasets/big_ds/img-in_shop/img/img/WOMEN/J...</td>\n",
       "      <td>id_00007982</td>\n",
       "      <td>gallery</td>\n",
       "      <td>1</td>\n",
       "      <td>1</td>\n",
       "      <td>0</td>\n",
       "      <td>1</td>\n",
       "      <td>0</td>\n",
       "      <td>0</td>\n",
       "      <td>1</td>\n",
       "      <td>...</td>\n",
       "      <td>0</td>\n",
       "      <td>0</td>\n",
       "      <td>0</td>\n",
       "      <td>0</td>\n",
       "      <td>0</td>\n",
       "      <td>0</td>\n",
       "      <td>0</td>\n",
       "      <td>0</td>\n",
       "      <td>0</td>\n",
       "      <td>0</td>\n",
       "    </tr>\n",
       "    <tr>\n",
       "      <th>53586</th>\n",
       "      <td>../datasets/big_ds/img-in_shop/img/img/WOMEN/J...</td>\n",
       "      <td>id_00007982</td>\n",
       "      <td>query</td>\n",
       "      <td>1</td>\n",
       "      <td>1</td>\n",
       "      <td>0</td>\n",
       "      <td>1</td>\n",
       "      <td>0</td>\n",
       "      <td>0</td>\n",
       "      <td>1</td>\n",
       "      <td>...</td>\n",
       "      <td>0</td>\n",
       "      <td>0</td>\n",
       "      <td>0</td>\n",
       "      <td>0</td>\n",
       "      <td>0</td>\n",
       "      <td>0</td>\n",
       "      <td>0</td>\n",
       "      <td>0</td>\n",
       "      <td>0</td>\n",
       "      <td>0</td>\n",
       "    </tr>\n",
       "    <tr>\n",
       "      <th>53587</th>\n",
       "      <td>../datasets/big_ds/img-in_shop/img/img/WOMEN/J...</td>\n",
       "      <td>id_00007982</td>\n",
       "      <td>gallery</td>\n",
       "      <td>1</td>\n",
       "      <td>1</td>\n",
       "      <td>0</td>\n",
       "      <td>1</td>\n",
       "      <td>0</td>\n",
       "      <td>0</td>\n",
       "      <td>1</td>\n",
       "      <td>...</td>\n",
       "      <td>0</td>\n",
       "      <td>0</td>\n",
       "      <td>0</td>\n",
       "      <td>0</td>\n",
       "      <td>0</td>\n",
       "      <td>0</td>\n",
       "      <td>0</td>\n",
       "      <td>0</td>\n",
       "      <td>0</td>\n",
       "      <td>0</td>\n",
       "    </tr>\n",
       "    <tr>\n",
       "      <th>53588</th>\n",
       "      <td>../datasets/big_ds/img-in_shop/img/img/WOMEN/J...</td>\n",
       "      <td>id_00007982</td>\n",
       "      <td>query</td>\n",
       "      <td>1</td>\n",
       "      <td>1</td>\n",
       "      <td>0</td>\n",
       "      <td>1</td>\n",
       "      <td>0</td>\n",
       "      <td>0</td>\n",
       "      <td>1</td>\n",
       "      <td>...</td>\n",
       "      <td>0</td>\n",
       "      <td>0</td>\n",
       "      <td>0</td>\n",
       "      <td>0</td>\n",
       "      <td>0</td>\n",
       "      <td>0</td>\n",
       "      <td>0</td>\n",
       "      <td>0</td>\n",
       "      <td>0</td>\n",
       "      <td>0</td>\n",
       "    </tr>\n",
       "    <tr>\n",
       "      <th>53589</th>\n",
       "      <td>../datasets/big_ds/img-in_shop/img/img/WOMEN/J...</td>\n",
       "      <td>id_00007982</td>\n",
       "      <td>query</td>\n",
       "      <td>1</td>\n",
       "      <td>1</td>\n",
       "      <td>0</td>\n",
       "      <td>1</td>\n",
       "      <td>0</td>\n",
       "      <td>0</td>\n",
       "      <td>1</td>\n",
       "      <td>...</td>\n",
       "      <td>0</td>\n",
       "      <td>0</td>\n",
       "      <td>0</td>\n",
       "      <td>0</td>\n",
       "      <td>0</td>\n",
       "      <td>0</td>\n",
       "      <td>0</td>\n",
       "      <td>0</td>\n",
       "      <td>0</td>\n",
       "      <td>0</td>\n",
       "    </tr>\n",
       "  </tbody>\n",
       "</table>\n",
       "<p>5 rows × 350 columns</p>\n",
       "</div>"
      ],
      "text/plain": [
       "                                                    path           id  \\\n",
       "53585  ../datasets/big_ds/img-in_shop/img/img/WOMEN/J...  id_00007982   \n",
       "53586  ../datasets/big_ds/img-in_shop/img/img/WOMEN/J...  id_00007982   \n",
       "53587  ../datasets/big_ds/img-in_shop/img/img/WOMEN/J...  id_00007982   \n",
       "53588  ../datasets/big_ds/img-in_shop/img/img/WOMEN/J...  id_00007982   \n",
       "53589  ../datasets/big_ds/img-in_shop/img/img/WOMEN/J...  id_00007982   \n",
       "\n",
       "         group  0_lightweight  1_polyester  2_woven  3_knit  4_cotton  \\\n",
       "53585  gallery              1            1        0       1         0   \n",
       "53586    query              1            1        0       1         0   \n",
       "53587  gallery              1            1        0       1         0   \n",
       "53588    query              1            1        0       1         0   \n",
       "53589    query              1            1        0       1         0   \n",
       "\n",
       "       5_unlined  6_rayon  ...  352_vest  353_accessorie  354_brunch  \\\n",
       "53585          0        1  ...         0               0           0   \n",
       "53586          0        1  ...         0               0           0   \n",
       "53587          0        1  ...         0               0           0   \n",
       "53588          0        1  ...         0               0           0   \n",
       "53589          0        1  ...         0               0           0   \n",
       "\n",
       "       355_girly  356_open-knit  357_polka  358_gauze  359_grey  \\\n",
       "53585          0              0          0          0         0   \n",
       "53586          0              0          0          0         0   \n",
       "53587          0              0          0          0         0   \n",
       "53588          0              0          0          0         0   \n",
       "53589          0              0          0          0         0   \n",
       "\n",
       "       360_outhwestern  361_cutout  \n",
       "53585                0           0  \n",
       "53586                0           0  \n",
       "53587                0           0  \n",
       "53588                0           0  \n",
       "53589                0           0  \n",
       "\n",
       "[5 rows x 350 columns]"
      ]
     },
     "execution_count": 4,
     "metadata": {},
     "output_type": "execute_result"
    }
   ],
   "source": [
    "data.tail() "
   ]
  },
  {
   "cell_type": "code",
   "execution_count": 5,
   "metadata": {},
   "outputs": [
    {
     "data": {
      "text/plain": [
       "26338"
      ]
     },
     "execution_count": 5,
     "metadata": {},
     "output_type": "execute_result"
    }
   ],
   "source": [
    "TRAIN_SIZE = data[data[\"group\"] == \"train\"].shape[0]\n",
    "TRAIN_SIZE"
   ]
  },
  {
   "cell_type": "code",
   "execution_count": 6,
   "metadata": {},
   "outputs": [
    {
     "data": {
      "text/plain": [
       "((14000, 350), (12338, 350))"
      ]
     },
     "execution_count": 6,
     "metadata": {},
     "output_type": "execute_result"
    }
   ],
   "source": [
    "train_data_first = data[data[\"group\"] == \"train\"].iloc[:14000, :]\n",
    "train_data_second = data[data[\"group\"] == \"train\"].iloc[14000:, :].sample(frac=1).reset_index(drop=True)\n",
    "train_data_first.shape, train_data_second.shape "
   ]
  },
  {
   "cell_type": "code",
   "execution_count": 7,
   "metadata": {},
   "outputs": [
    {
     "data": {
      "text/plain": [
       "12811"
      ]
     },
     "execution_count": 7,
     "metadata": {},
     "output_type": "execute_result"
    }
   ],
   "source": [
    "data[data[\"group\"] == \"gallery\"].shape[0] "
   ]
  },
  {
   "cell_type": "code",
   "execution_count": 8,
   "metadata": {},
   "outputs": [
    {
     "data": {
      "text/plain": [
       "((2000, 350), (2000, 350))"
      ]
     },
     "execution_count": 8,
     "metadata": {},
     "output_type": "execute_result"
    }
   ],
   "source": [
    "val_data_first = data[data[\"group\"] == \"gallery\"].iloc[:2000,:] \n",
    "val_data_second = data[data[\"group\"] == \"gallery\"].iloc[2000:4000, :] \n",
    "val_data_first.shape, val_data_second.shape "
   ]
  },
  {
   "cell_type": "code",
   "execution_count": 9,
   "metadata": {},
   "outputs": [
    {
     "data": {
      "text/plain": [
       "(8720, 350)"
      ]
     },
     "execution_count": 9,
     "metadata": {},
     "output_type": "execute_result"
    }
   ],
   "source": [
    "remaining_data = data[data[\"group\"] == \"gallery\"].iloc[4000:,:].drop_duplicates() \n",
    "remaining_data.shape "
   ]
  },
  {
   "cell_type": "code",
   "execution_count": 10,
   "metadata": {},
   "outputs": [
    {
     "data": {
      "text/plain": [
       "(18520, 350)"
      ]
     },
     "execution_count": 10,
     "metadata": {},
     "output_type": "execute_result"
    }
   ],
   "source": [
    "remaining_data_q = data[data[\"group\"] == \"query\"].iloc[:10000, :].drop_duplicates()\n",
    "remaining_data = pd.concat([remaining_data, remaining_data_q]) \n",
    "remaining_data.shape "
   ]
  },
  {
   "cell_type": "code",
   "execution_count": 54,
   "metadata": {},
   "outputs": [
    {
     "data": {
      "text/plain": [
       "(4441, 350)"
      ]
     },
     "execution_count": 54,
     "metadata": {},
     "output_type": "execute_result"
    }
   ],
   "source": [
    "# test_in_shop_partition = data[data[\"group\"] == \"query\"].iloc[10000:, :] \n",
    "test_in_shop_partition = pd.read_csv(\"../datasets/attribute_set/in_shop_attr/test_in_shop_partitioned.csv\", index_col=0) \n",
    "test_in_shop_partition.shape "
   ]
  },
  {
   "cell_type": "code",
   "execution_count": 12,
   "metadata": {},
   "outputs": [],
   "source": [
    "# test_in_shop_partition.to_csv(\"../datasets/attribute_set/in_shop_attr/test_in_shop_partitioned.csv\")"
   ]
  },
  {
   "cell_type": "code",
   "execution_count": 13,
   "metadata": {},
   "outputs": [
    {
     "data": {
      "text/plain": [
       "((16000, 350), (14338, 350))"
      ]
     },
     "execution_count": 13,
     "metadata": {},
     "output_type": "execute_result"
    }
   ],
   "source": [
    "data_first = pd.concat([train_data_first, val_data_first]) \n",
    "data_second = pd.concat([train_data_second, val_data_second]) \n",
    "data_first.shape, data_second.shape "
   ]
  },
  {
   "cell_type": "code",
   "execution_count": 14,
   "metadata": {},
   "outputs": [],
   "source": [
    "data_first_for_resnet_tr = data[data[\"group\"] == \"train\"].iloc[:TRAIN_SIZE, :].sample(frac=1).drop_duplicates()\n",
    "data_vl_for_resnet = pd.concat([val_data_first, val_data_second]).sample(frac=1).drop_duplicates() \n",
    "\n",
    "data = pd.concat([data_first_for_resnet_tr, data_vl_for_resnet]).reset_index(drop=True)"
   ]
  },
  {
   "cell_type": "code",
   "execution_count": 15,
   "metadata": {},
   "outputs": [
    {
     "data": {
      "text/html": [
       "<div>\n",
       "<style scoped>\n",
       "    .dataframe tbody tr th:only-of-type {\n",
       "        vertical-align: middle;\n",
       "    }\n",
       "\n",
       "    .dataframe tbody tr th {\n",
       "        vertical-align: top;\n",
       "    }\n",
       "\n",
       "    .dataframe thead th {\n",
       "        text-align: right;\n",
       "    }\n",
       "</style>\n",
       "<table border=\"1\" class=\"dataframe\">\n",
       "  <thead>\n",
       "    <tr style=\"text-align: right;\">\n",
       "      <th></th>\n",
       "      <th>path</th>\n",
       "      <th>id</th>\n",
       "      <th>group</th>\n",
       "      <th>0_lightweight</th>\n",
       "      <th>1_polyester</th>\n",
       "      <th>2_woven</th>\n",
       "      <th>3_knit</th>\n",
       "      <th>4_cotton</th>\n",
       "      <th>5_unlined</th>\n",
       "      <th>6_rayon</th>\n",
       "      <th>...</th>\n",
       "      <th>352_vest</th>\n",
       "      <th>353_accessorie</th>\n",
       "      <th>354_brunch</th>\n",
       "      <th>355_girly</th>\n",
       "      <th>356_open-knit</th>\n",
       "      <th>357_polka</th>\n",
       "      <th>358_gauze</th>\n",
       "      <th>359_grey</th>\n",
       "      <th>360_outhwestern</th>\n",
       "      <th>361_cutout</th>\n",
       "    </tr>\n",
       "  </thead>\n",
       "  <tbody>\n",
       "    <tr>\n",
       "      <th>0</th>\n",
       "      <td>../datasets/big_ds/img-in_shop/img/img/WOMEN/D...</td>\n",
       "      <td>id_00000233</td>\n",
       "      <td>train</td>\n",
       "      <td>1</td>\n",
       "      <td>1</td>\n",
       "      <td>1</td>\n",
       "      <td>1</td>\n",
       "      <td>0</td>\n",
       "      <td>0</td>\n",
       "      <td>0</td>\n",
       "      <td>...</td>\n",
       "      <td>0</td>\n",
       "      <td>0</td>\n",
       "      <td>0</td>\n",
       "      <td>0</td>\n",
       "      <td>0</td>\n",
       "      <td>0</td>\n",
       "      <td>0</td>\n",
       "      <td>0</td>\n",
       "      <td>0</td>\n",
       "      <td>0</td>\n",
       "    </tr>\n",
       "    <tr>\n",
       "      <th>1</th>\n",
       "      <td>../datasets/big_ds/img-in_shop/img/img/WOMEN/D...</td>\n",
       "      <td>id_00001805</td>\n",
       "      <td>train</td>\n",
       "      <td>1</td>\n",
       "      <td>1</td>\n",
       "      <td>1</td>\n",
       "      <td>0</td>\n",
       "      <td>0</td>\n",
       "      <td>1</td>\n",
       "      <td>0</td>\n",
       "      <td>...</td>\n",
       "      <td>0</td>\n",
       "      <td>0</td>\n",
       "      <td>0</td>\n",
       "      <td>0</td>\n",
       "      <td>0</td>\n",
       "      <td>0</td>\n",
       "      <td>0</td>\n",
       "      <td>0</td>\n",
       "      <td>0</td>\n",
       "      <td>0</td>\n",
       "    </tr>\n",
       "    <tr>\n",
       "      <th>2</th>\n",
       "      <td>../datasets/big_ds/img-in_shop/img/img/WOMEN/J...</td>\n",
       "      <td>id_00004888</td>\n",
       "      <td>train</td>\n",
       "      <td>0</td>\n",
       "      <td>1</td>\n",
       "      <td>1</td>\n",
       "      <td>0</td>\n",
       "      <td>1</td>\n",
       "      <td>0</td>\n",
       "      <td>0</td>\n",
       "      <td>...</td>\n",
       "      <td>0</td>\n",
       "      <td>0</td>\n",
       "      <td>0</td>\n",
       "      <td>0</td>\n",
       "      <td>0</td>\n",
       "      <td>0</td>\n",
       "      <td>0</td>\n",
       "      <td>0</td>\n",
       "      <td>0</td>\n",
       "      <td>0</td>\n",
       "    </tr>\n",
       "    <tr>\n",
       "      <th>3</th>\n",
       "      <td>../datasets/big_ds/img-in_shop/img/img/WOMEN/R...</td>\n",
       "      <td>id_00002916</td>\n",
       "      <td>train</td>\n",
       "      <td>0</td>\n",
       "      <td>0</td>\n",
       "      <td>1</td>\n",
       "      <td>0</td>\n",
       "      <td>0</td>\n",
       "      <td>1</td>\n",
       "      <td>1</td>\n",
       "      <td>...</td>\n",
       "      <td>0</td>\n",
       "      <td>1</td>\n",
       "      <td>0</td>\n",
       "      <td>0</td>\n",
       "      <td>0</td>\n",
       "      <td>0</td>\n",
       "      <td>0</td>\n",
       "      <td>0</td>\n",
       "      <td>0</td>\n",
       "      <td>0</td>\n",
       "    </tr>\n",
       "    <tr>\n",
       "      <th>4</th>\n",
       "      <td>../datasets/big_ds/img-in_shop/img/img/WOMEN/T...</td>\n",
       "      <td>id_00006103</td>\n",
       "      <td>train</td>\n",
       "      <td>1</td>\n",
       "      <td>0</td>\n",
       "      <td>0</td>\n",
       "      <td>1</td>\n",
       "      <td>0</td>\n",
       "      <td>0</td>\n",
       "      <td>1</td>\n",
       "      <td>...</td>\n",
       "      <td>0</td>\n",
       "      <td>0</td>\n",
       "      <td>0</td>\n",
       "      <td>0</td>\n",
       "      <td>0</td>\n",
       "      <td>0</td>\n",
       "      <td>0</td>\n",
       "      <td>0</td>\n",
       "      <td>0</td>\n",
       "      <td>0</td>\n",
       "    </tr>\n",
       "  </tbody>\n",
       "</table>\n",
       "<p>5 rows × 350 columns</p>\n",
       "</div>"
      ],
      "text/plain": [
       "                                                path           id  group  \\\n",
       "0  ../datasets/big_ds/img-in_shop/img/img/WOMEN/D...  id_00000233  train   \n",
       "1  ../datasets/big_ds/img-in_shop/img/img/WOMEN/D...  id_00001805  train   \n",
       "2  ../datasets/big_ds/img-in_shop/img/img/WOMEN/J...  id_00004888  train   \n",
       "3  ../datasets/big_ds/img-in_shop/img/img/WOMEN/R...  id_00002916  train   \n",
       "4  ../datasets/big_ds/img-in_shop/img/img/WOMEN/T...  id_00006103  train   \n",
       "\n",
       "   0_lightweight  1_polyester  2_woven  3_knit  4_cotton  5_unlined  6_rayon  \\\n",
       "0              1            1        1       1         0          0        0   \n",
       "1              1            1        1       0         0          1        0   \n",
       "2              0            1        1       0         1          0        0   \n",
       "3              0            0        1       0         0          1        1   \n",
       "4              1            0        0       1         0          0        1   \n",
       "\n",
       "   ...  352_vest  353_accessorie  354_brunch  355_girly  356_open-knit  \\\n",
       "0  ...         0               0           0          0              0   \n",
       "1  ...         0               0           0          0              0   \n",
       "2  ...         0               0           0          0              0   \n",
       "3  ...         0               1           0          0              0   \n",
       "4  ...         0               0           0          0              0   \n",
       "\n",
       "   357_polka  358_gauze  359_grey  360_outhwestern  361_cutout  \n",
       "0          0          0         0                0           0  \n",
       "1          0          0         0                0           0  \n",
       "2          0          0         0                0           0  \n",
       "3          0          0         0                0           0  \n",
       "4          0          0         0                0           0  \n",
       "\n",
       "[5 rows x 350 columns]"
      ]
     },
     "execution_count": 15,
     "metadata": {},
     "output_type": "execute_result"
    }
   ],
   "source": [
    "data.head() "
   ]
  },
  {
   "cell_type": "code",
   "execution_count": 16,
   "metadata": {},
   "outputs": [
    {
     "data": {
      "text/plain": [
       "(29774, 350)"
      ]
     },
     "execution_count": 16,
     "metadata": {},
     "output_type": "execute_result"
    }
   ],
   "source": [
    "data.shape "
   ]
  },
  {
   "attachments": {},
   "cell_type": "markdown",
   "metadata": {},
   "source": [
    "# Train \n"
   ]
  },
  {
   "cell_type": "code",
   "execution_count": 17,
   "metadata": {},
   "outputs": [],
   "source": [
    "# data = remaining_data"
   ]
  },
  {
   "cell_type": "code",
   "execution_count": 18,
   "metadata": {},
   "outputs": [
    {
     "data": {
      "text/plain": [
       "(array(['../datasets/big_ds/img-in_shop/img/img/WOMEN/Dresses/id_00000233/03_4_full.jpg',\n",
       "        '../datasets/big_ds/img-in_shop/img/img/WOMEN/Dresses/id_00001805/02_7_additional.jpg',\n",
       "        '../datasets/big_ds/img-in_shop/img/img/WOMEN/Jackets_Coats/id_00004888/01_4_full.jpg',\n",
       "        '../datasets/big_ds/img-in_shop/img/img/WOMEN/Rompers_Jumpsuits/id_00002916/06_3_back.jpg',\n",
       "        '../datasets/big_ds/img-in_shop/img/img/WOMEN/Tees_Tanks/id_00006103/12_4_full.jpg'],\n",
       "       dtype=object),\n",
       " 29774)"
      ]
     },
     "execution_count": 18,
     "metadata": {},
     "output_type": "execute_result"
    }
   ],
   "source": [
    "fnames = data.path.to_numpy()  \n",
    "fnames[:5], len(fnames)"
   ]
  },
  {
   "cell_type": "code",
   "execution_count": 19,
   "metadata": {},
   "outputs": [
    {
     "data": {
      "text/plain": [
       "29774"
      ]
     },
     "execution_count": 19,
     "metadata": {},
     "output_type": "execute_result"
    }
   ],
   "source": [
    "import tensorflow as tf \n",
    "\n",
    "ds_size = data.shape[0] \n",
    "number_of_selected_samples = 500 \n",
    "\n",
    "#filelist_ds = tf.data.Dataset.from_tensor_slices(fnames[:number_of_selected_samples]) \n",
    "filelist_ds = tf.data.Dataset.from_tensor_slices(fnames) \n",
    "\n",
    "\n",
    "filelist_ds.cardinality().numpy() "
   ]
  },
  {
   "attachments": {},
   "cell_type": "markdown",
   "metadata": {},
   "source": [
    "## Custom tf Helpers "
   ]
  },
  {
   "cell_type": "code",
   "execution_count": 20,
   "metadata": {},
   "outputs": [],
   "source": [
    "def get_label(file_path):\n",
    "    \"\"\"\n",
    "        file_path: the file path for the image that you want to select\n",
    "    \"\"\"\n",
    "    labels = data.loc[data.path == file_path].to_numpy().squeeze()[3:].astype(\"int64\")\n",
    "    return tf.convert_to_tensor(labels) "
   ]
  },
  {
   "cell_type": "code",
   "execution_count": 21,
   "metadata": {},
   "outputs": [
    {
     "data": {
      "text/plain": [
       "<tf.Tensor: shape=(347,), dtype=int64, numpy=\n",
       "array([1, 1, 1, 1, 0, 0, 0, 0, 0, 0, 0, 1, 1, 1, 0, 0, 1, 0, 0, 0, 1, 1,\n",
       "       0, 1, 0, 1, 0, 0, 0, 0, 0, 0, 0, 0, 0, 0, 0, 0, 0, 0, 0, 0, 0, 0,\n",
       "       0, 0, 0, 0, 0, 0, 0, 1, 0, 0, 1, 0, 0, 0, 0, 0, 0, 0, 0, 0, 0, 1,\n",
       "       0, 0, 0, 0, 0, 0, 0, 0, 0, 0, 0, 0, 0, 0, 0, 0, 0, 0, 0, 0, 0, 0,\n",
       "       0, 0, 0, 0, 0, 0, 0, 0, 0, 0, 0, 0, 0, 0, 0, 0, 0, 0, 0, 0, 0, 0,\n",
       "       0, 0, 0, 0, 0, 0, 0, 0, 0, 0, 0, 0, 0, 0, 0, 0, 0, 0, 0, 0, 0, 0,\n",
       "       0, 0, 0, 0, 0, 0, 0, 0, 0, 0, 0, 0, 0, 0, 0, 0, 0, 0, 0, 1, 0, 0,\n",
       "       0, 0, 0, 0, 0, 0, 0, 0, 0, 0, 0, 0, 0, 0, 0, 0, 0, 0, 1, 0, 0, 0,\n",
       "       0, 0, 0, 0, 0, 0, 0, 0, 0, 0, 0, 0, 0, 0, 0, 0, 0, 0, 0, 1, 0, 0,\n",
       "       0, 0, 0, 0, 0, 0, 0, 0, 0, 0, 0, 0, 0, 0, 0, 0, 0, 0, 0, 0, 0, 0,\n",
       "       0, 0, 0, 0, 0, 0, 0, 0, 0, 0, 0, 0, 0, 0, 0, 0, 0, 0, 0, 0, 0, 0,\n",
       "       0, 0, 0, 0, 0, 0, 0, 0, 0, 0, 0, 0, 0, 0, 0, 0, 0, 0, 0, 0, 0, 0,\n",
       "       0, 1, 0, 0, 0, 0, 0, 0, 0, 0, 0, 0, 0, 0, 0, 0, 0, 1, 0, 0, 0, 0,\n",
       "       0, 0, 0, 0, 0, 0, 0, 0, 0, 0, 1, 0, 0, 0, 0, 0, 0, 0, 0, 0, 0, 0,\n",
       "       1, 0, 0, 0, 0, 0, 0, 0, 0, 0, 0, 1, 0, 0, 0, 0, 0, 0, 0, 0, 0, 0,\n",
       "       0, 0, 0, 0, 0, 0, 0, 0, 0, 0, 0, 0, 0, 0, 0, 0, 0], dtype=int64)>"
      ]
     },
     "execution_count": 21,
     "metadata": {},
     "output_type": "execute_result"
    }
   ],
   "source": [
    "get_label(fnames[0])"
   ]
  },
  {
   "cell_type": "code",
   "execution_count": 22,
   "metadata": {},
   "outputs": [],
   "source": [
    "# resize and scale the images so that we can save time in training  \n",
    "IMG_WIDTH, IMG_HEIGHT = 224, 224 \n",
    "def decode_img(img):\n",
    "    \"\"\"\n",
    "        img: img is the image \n",
    "    \"\"\" \n",
    "    #color images \n",
    "    img = tf.image.decode_jpeg(img, channels=3) \n",
    "    # img = tf.image.convert_image_dtype(img, tf.float32)  #convert unit8 tensor to floats in the [0,1] range\n",
    "    img = tf.image.resize(img, [IMG_WIDTH, IMG_HEIGHT]) \n",
    "    # img = img / tf.constant(256, dtype=tf.float32)\n",
    "    return img"
   ]
  },
  {
   "cell_type": "code",
   "execution_count": 23,
   "metadata": {},
   "outputs": [],
   "source": [
    "def combine_images_labels(file_path: tf.Tensor): \n",
    "    label = get_label(file_path) \n",
    "    img = tf.io.read_file(file_path) \n",
    "    img = decode_img(img) \n",
    "    return img, label "
   ]
  },
  {
   "cell_type": "code",
   "execution_count": 24,
   "metadata": {},
   "outputs": [],
   "source": [
    "# combine_images_labels(fnames[0])"
   ]
  },
  {
   "attachments": {},
   "cell_type": "markdown",
   "metadata": {},
   "source": [
    "## Train/Test Split "
   ]
  },
  {
   "cell_type": "code",
   "execution_count": 25,
   "metadata": {},
   "outputs": [
    {
     "data": {
      "text/plain": [
       "(29774, 350)"
      ]
     },
     "execution_count": 25,
     "metadata": {},
     "output_type": "execute_result"
    }
   ],
   "source": [
    "data.shape "
   ]
  },
  {
   "cell_type": "code",
   "execution_count": 26,
   "metadata": {},
   "outputs": [],
   "source": [
    "split_size = 0.8\n",
    "data_size = data.shape[0]\n",
    "ds_train = filelist_ds.take(TRAIN_SIZE) \n",
    "ds_test = filelist_ds.skip(TRAIN_SIZE)"
   ]
  },
  {
   "cell_type": "code",
   "execution_count": 27,
   "metadata": {},
   "outputs": [],
   "source": [
    "BATCH_SIZE = 32 "
   ]
  },
  {
   "attachments": {},
   "cell_type": "markdown",
   "metadata": {},
   "source": [
    "## Pre-process All the Images "
   ]
  },
  {
   "cell_type": "code",
   "execution_count": 28,
   "metadata": {},
   "outputs": [],
   "source": [
    "ds_train = ds_train.map(lambda x: \n",
    "                        tf.py_function(func=combine_images_labels, \n",
    "                                       inp=[x], # input of the function \n",
    "                                       Tout=(tf.float32,tf.int64)),  # return type \n",
    "                        num_parallel_calls=tf.data.AUTOTUNE, # parallelizing data extraction \n",
    "                        deterministic=False \n",
    "                        )"
   ]
  },
  {
   "cell_type": "code",
   "execution_count": 29,
   "metadata": {},
   "outputs": [],
   "source": [
    "ds_test= ds_test.map(lambda x: tf.py_function(func=combine_images_labels,\n",
    "          inp=[x], Tout=(tf.float32,tf.int64)),\n",
    "          num_parallel_calls=tf.data.AUTOTUNE,\n",
    "          deterministic=False)"
   ]
  },
  {
   "attachments": {},
   "cell_type": "markdown",
   "metadata": {},
   "source": [
    "### Prepare Data Pipeline \n",
    "\n",
    "- **batch**(): Combines consecutive elements of this dataset into batches.\n",
    "- **cache**(): Caches the elements in this dataset. he first time the dataset is iterated over, its elements will be cached either in the specified file or in memory.Subsequent iterations will use the cached data.\n",
    "- **prefetch**(): Creates a Dataset that prefetches elements from this dataset. Most dataset input pipelines should end with a call to *prefetch*. This allows later elements to be prepared while the current element is being processed. This often improves latency and throughput, at the cost of using additional memory to store prefetched elements.\n",
    " "
   ]
  },
  {
   "cell_type": "code",
   "execution_count": 30,
   "metadata": {},
   "outputs": [],
   "source": [
    "ds_train_batched = ds_train.batch(BATCH_SIZE).cache().prefetch(tf.data.experimental.AUTOTUNE) \n",
    "ds_test_batched = ds_test.batch(BATCH_SIZE).cache().prefetch(tf.data.experimental.AUTOTUNE) "
   ]
  },
  {
   "cell_type": "code",
   "execution_count": 31,
   "metadata": {},
   "outputs": [
    {
     "data": {
      "text/plain": [
       "824"
      ]
     },
     "execution_count": 31,
     "metadata": {},
     "output_type": "execute_result"
    }
   ],
   "source": [
    "ds_train_batched.cardinality().numpy() "
   ]
  },
  {
   "cell_type": "code",
   "execution_count": 32,
   "metadata": {},
   "outputs": [
    {
     "data": {
      "text/plain": [
       "(26368, 26338)"
      ]
     },
     "execution_count": 32,
     "metadata": {},
     "output_type": "execute_result"
    }
   ],
   "source": [
    "824*32, TRAIN_SIZE "
   ]
  },
  {
   "cell_type": "code",
   "execution_count": 33,
   "metadata": {},
   "outputs": [
    {
     "data": {
      "text/plain": [
       "347"
      ]
     },
     "execution_count": 33,
     "metadata": {},
     "output_type": "execute_result"
    }
   ],
   "source": [
    "nr_of_classes = len(data.columns) - 3  \n",
    "nr_of_classes"
   ]
  },
  {
   "cell_type": "markdown",
   "metadata": {},
   "source": [
    "# Models "
   ]
  },
  {
   "attachments": {},
   "cell_type": "markdown",
   "metadata": {},
   "source": [
    "## Model 1:Fine Grained VGG16 "
   ]
  },
  {
   "cell_type": "code",
   "execution_count": 59,
   "metadata": {},
   "outputs": [],
   "source": [
    "from tensorflow import keras \n",
    "base_model = keras.applications.VGG16(\n",
    "    weights=\"imagenet\", # load weights pre-trained on ImageNet. \n",
    "    input_shape=(IMG_WIDTH, IMG_HEIGHT, 3), # VGG16 expects min 32 x 32 \n",
    "    include_top = False # do not include output layer of the image net vgg \n",
    ")\n",
    "base_model.trainable = False "
   ]
  },
  {
   "cell_type": "code",
   "execution_count": 60,
   "metadata": {},
   "outputs": [],
   "source": [
    "inputs = keras.Input(shape=(IMG_WIDTH,IMG_HEIGHT,3))\n",
    "x = tf.cast(inputs, tf.float32)\n",
    "x = tf.keras.applications.vgg16.preprocess_input(x)   \n",
    "x = base_model(x) \n",
    "x = keras.layers.GlobalAveragePooling2D()(x) \n",
    "\n",
    "initializer = tf.keras.initializers.GlorotUniform(seed=42) \n",
    "activation = tf.keras.activations.sigmoid  \n",
    "\n",
    "outputs = keras.layers.Dense(nr_of_classes,\n",
    "                             kernel_initializer=initializer, \n",
    "                             activation=activation)(x) \n",
    "\n",
    "model_1 = keras.Model(inputs, outputs) "
   ]
  },
  {
   "cell_type": "code",
   "execution_count": 61,
   "metadata": {},
   "outputs": [],
   "source": [
    "model_1.compile(optimizer=keras.optimizers.Adam(),\n",
    "              loss=keras.losses.BinaryCrossentropy(), # default from_logits=False\n",
    "              metrics=[keras.metrics.TruePositives(name='tp'),\n",
    "      keras.metrics.FalsePositives(name='fp'),\n",
    "      keras.metrics.TrueNegatives(name='tn'),\n",
    "      keras.metrics.FalseNegatives(name='fn'), \n",
    "      keras.metrics.BinaryAccuracy(name='accuracy'),\n",
    "      keras.metrics.Precision(name='precision'),\n",
    "      keras.metrics.Recall(name='recall')])"
   ]
  },
  {
   "cell_type": "code",
   "execution_count": 131,
   "metadata": {},
   "outputs": [],
   "source": [
    "early_stopping = tf.keras.callbacks.EarlyStopping(monitor='loss', patience=5) \n",
    "checkpoint_path = \"checkpoints/in-shop_model_1_STEP3/checkpoint_VGG_Model_1.ckpt\" \n",
    "checkpoint_callback = tf.keras.callbacks.ModelCheckpoint(filepath=checkpoint_path,\n",
    "                                                         save_weights_only=True,\n",
    "                                                         save_best_only=False,\n",
    "                                                         verbose=1)"
   ]
  },
  {
   "cell_type": "code",
   "execution_count": 63,
   "metadata": {},
   "outputs": [
    {
     "data": {
      "text/plain": [
       "<tensorflow.python.training.tracking.util.CheckpointLoadStatus at 0x23077b103a0>"
      ]
     },
     "execution_count": 63,
     "metadata": {},
     "output_type": "execute_result"
    }
   ],
   "source": [
    "# model_1.load_weights(previous_checkpoint)"
   ]
  },
  {
   "cell_type": "code",
   "execution_count": 132,
   "metadata": {},
   "outputs": [
    {
     "name": "stdout",
     "output_type": "stream",
     "text": [
      "Epoch 1/10\n",
      "463/463 [==============================] - ETA: 0s - loss: 0.1849 - tp: 78052.0000 - fp: 67696.0000 - tn: 4786434.0000 - fn: 208970.0000 - accuracy: 0.9462 - precision: 0.5355 - recall: 0.2719  \n",
      "Epoch 1: saving model to checkpoints/in-shop_model_1_STEP3\\checkpoint_VGG_Model_1.ckpt\n",
      "463/463 [==============================] - 89226s 193s/step - loss: 0.1849 - tp: 78052.0000 - fp: 67696.0000 - tn: 4786434.0000 - fn: 208970.0000 - accuracy: 0.9462 - precision: 0.5355 - recall: 0.2719 - val_loss: 0.1767 - val_tp: 20149.0000 - val_fp: 16916.0000 - val_tn: 1196616.0000 - val_fn: 51607.0000 - val_accuracy: 0.9467 - val_precision: 0.5436 - val_recall: 0.2808\n",
      "Epoch 2/10\n",
      "463/463 [==============================] - ETA: 0s - loss: 0.1652 - tp: 81799.0000 - fp: 55268.0000 - tn: 4798862.0000 - fn: 205223.0000 - accuracy: 0.9493 - precision: 0.5968 - recall: 0.2850\n",
      "Epoch 2: saving model to checkpoints/in-shop_model_1_STEP3\\checkpoint_VGG_Model_1.ckpt\n",
      "463/463 [==============================] - 939s 2s/step - loss: 0.1652 - tp: 81799.0000 - fp: 55268.0000 - tn: 4798862.0000 - fn: 205223.0000 - accuracy: 0.9493 - precision: 0.5968 - recall: 0.2850 - val_loss: 0.1717 - val_tp: 19977.0000 - val_fp: 15804.0000 - val_tn: 1197728.0000 - val_fn: 51779.0000 - val_accuracy: 0.9474 - val_precision: 0.5583 - val_recall: 0.2784\n",
      "Epoch 3/10\n",
      "463/463 [==============================] - ETA: 0s - loss: 0.1573 - tp: 83621.0000 - fp: 50751.0000 - tn: 4803379.0000 - fn: 203401.0000 - accuracy: 0.9506 - precision: 0.6223 - recall: 0.2913\n",
      "Epoch 3: saving model to checkpoints/in-shop_model_1_STEP3\\checkpoint_VGG_Model_1.ckpt\n",
      "463/463 [==============================] - 913s 2s/step - loss: 0.1573 - tp: 83621.0000 - fp: 50751.0000 - tn: 4803379.0000 - fn: 203401.0000 - accuracy: 0.9506 - precision: 0.6223 - recall: 0.2913 - val_loss: 0.1696 - val_tp: 19888.0000 - val_fp: 15334.0000 - val_tn: 1198198.0000 - val_fn: 51868.0000 - val_accuracy: 0.9477 - val_precision: 0.5646 - val_recall: 0.2772\n",
      "Epoch 4/10\n",
      "463/463 [==============================] - ETA: 0s - loss: 0.1526 - tp: 84849.0000 - fp: 48437.0000 - tn: 4805693.0000 - fn: 202173.0000 - accuracy: 0.9513 - precision: 0.6366 - recall: 0.2956\n",
      "Epoch 4: saving model to checkpoints/in-shop_model_1_STEP3\\checkpoint_VGG_Model_1.ckpt\n",
      "463/463 [==============================] - 921s 2s/step - loss: 0.1526 - tp: 84849.0000 - fp: 48437.0000 - tn: 4805693.0000 - fn: 202173.0000 - accuracy: 0.9513 - precision: 0.6366 - recall: 0.2956 - val_loss: 0.1686 - val_tp: 19873.0000 - val_fp: 15233.0000 - val_tn: 1198299.0000 - val_fn: 51883.0000 - val_accuracy: 0.9478 - val_precision: 0.5661 - val_recall: 0.2770\n",
      "Epoch 5/10\n",
      "463/463 [==============================] - ETA: 0s - loss: 0.1495 - tp: 85850.0000 - fp: 47307.0000 - tn: 4806823.0000 - fn: 201172.0000 - accuracy: 0.9517 - precision: 0.6447 - recall: 0.2991\n",
      "Epoch 5: saving model to checkpoints/in-shop_model_1_STEP3\\checkpoint_VGG_Model_1.ckpt\n",
      "463/463 [==============================] - 889s 2s/step - loss: 0.1495 - tp: 85850.0000 - fp: 47307.0000 - tn: 4806823.0000 - fn: 201172.0000 - accuracy: 0.9517 - precision: 0.6447 - recall: 0.2991 - val_loss: 0.1682 - val_tp: 19912.0000 - val_fp: 15190.0000 - val_tn: 1198342.0000 - val_fn: 51844.0000 - val_accuracy: 0.9478 - val_precision: 0.5673 - val_recall: 0.2775\n",
      "Epoch 6/10\n",
      "463/463 [==============================] - ETA: 0s - loss: 0.1473 - tp: 86717.0000 - fp: 46583.0000 - tn: 4807547.0000 - fn: 200305.0000 - accuracy: 0.9520 - precision: 0.6505 - recall: 0.3021\n",
      "Epoch 6: saving model to checkpoints/in-shop_model_1_STEP3\\checkpoint_VGG_Model_1.ckpt\n",
      "463/463 [==============================] - 881s 2s/step - loss: 0.1473 - tp: 86717.0000 - fp: 46583.0000 - tn: 4807547.0000 - fn: 200305.0000 - accuracy: 0.9520 - precision: 0.6505 - recall: 0.3021 - val_loss: 0.1682 - val_tp: 19918.0000 - val_fp: 15221.0000 - val_tn: 1198311.0000 - val_fn: 51838.0000 - val_accuracy: 0.9478 - val_precision: 0.5668 - val_recall: 0.2776\n",
      "Epoch 7/10\n",
      "463/463 [==============================] - ETA: 0s - loss: 0.1456 - tp: 87537.0000 - fp: 46247.0000 - tn: 4807883.0000 - fn: 199485.0000 - accuracy: 0.9522 - precision: 0.6543 - recall: 0.3050\n",
      "Epoch 7: saving model to checkpoints/in-shop_model_1_STEP3\\checkpoint_VGG_Model_1.ckpt\n",
      "463/463 [==============================] - 935s 2s/step - loss: 0.1456 - tp: 87537.0000 - fp: 46247.0000 - tn: 4807883.0000 - fn: 199485.0000 - accuracy: 0.9522 - precision: 0.6543 - recall: 0.3050 - val_loss: 0.1684 - val_tp: 19959.0000 - val_fp: 15321.0000 - val_tn: 1198211.0000 - val_fn: 51797.0000 - val_accuracy: 0.9478 - val_precision: 0.5657 - val_recall: 0.2782\n",
      "Epoch 8/10\n",
      "463/463 [==============================] - ETA: 0s - loss: 0.1443 - tp: 88260.0000 - fp: 46137.0000 - tn: 4807993.0000 - fn: 198762.0000 - accuracy: 0.9524 - precision: 0.6567 - recall: 0.3075\n",
      "Epoch 8: saving model to checkpoints/in-shop_model_1_STEP3\\checkpoint_VGG_Model_1.ckpt\n",
      "463/463 [==============================] - 887s 2s/step - loss: 0.1443 - tp: 88260.0000 - fp: 46137.0000 - tn: 4807993.0000 - fn: 198762.0000 - accuracy: 0.9524 - precision: 0.6567 - recall: 0.3075 - val_loss: 0.1688 - val_tp: 19980.0000 - val_fp: 15479.0000 - val_tn: 1198053.0000 - val_fn: 51776.0000 - val_accuracy: 0.9477 - val_precision: 0.5635 - val_recall: 0.2784\n",
      "Epoch 9/10\n",
      "463/463 [==============================] - ETA: 0s - loss: 0.1433 - tp: 88920.0000 - fp: 46151.0000 - tn: 4807979.0000 - fn: 198102.0000 - accuracy: 0.9525 - precision: 0.6583 - recall: 0.3098\n",
      "Epoch 9: saving model to checkpoints/in-shop_model_1_STEP3\\checkpoint_VGG_Model_1.ckpt\n",
      "463/463 [==============================] - 899s 2s/step - loss: 0.1433 - tp: 88920.0000 - fp: 46151.0000 - tn: 4807979.0000 - fn: 198102.0000 - accuracy: 0.9525 - precision: 0.6583 - recall: 0.3098 - val_loss: 0.1692 - val_tp: 19997.0000 - val_fp: 15625.0000 - val_tn: 1197907.0000 - val_fn: 51759.0000 - val_accuracy: 0.9476 - val_precision: 0.5614 - val_recall: 0.2787\n",
      "Epoch 10/10\n",
      "463/463 [==============================] - ETA: 0s - loss: 0.1424 - tp: 89471.0000 - fp: 46231.0000 - tn: 4807899.0000 - fn: 197551.0000 - accuracy: 0.9526 - precision: 0.6593 - recall: 0.3117\n",
      "Epoch 10: saving model to checkpoints/in-shop_model_1_STEP3\\checkpoint_VGG_Model_1.ckpt\n",
      "463/463 [==============================] - 912s 2s/step - loss: 0.1424 - tp: 89471.0000 - fp: 46231.0000 - tn: 4807899.0000 - fn: 197551.0000 - accuracy: 0.9526 - precision: 0.6593 - recall: 0.3117 - val_loss: 0.1697 - val_tp: 20013.0000 - val_fp: 15810.0000 - val_tn: 1197722.0000 - val_fn: 51743.0000 - val_accuracy: 0.9474 - val_precision: 0.5587 - val_recall: 0.2789\n"
     ]
    }
   ],
   "source": [
    "history_model_1 = model_1.fit(ds_train_batched, \n",
    "                            epochs=10,\n",
    "                            validation_data =ds_test_batched,\n",
    "                            callbacks=[early_stopping, checkpoint_callback]\n",
    "                            )"
   ]
  },
  {
   "cell_type": "code",
   "execution_count": 133,
   "metadata": {},
   "outputs": [],
   "source": [
    "model_1.save(\"../trained_models/IN_SHOP_Models/model_1_vgg.h5\") "
   ]
  },
  {
   "cell_type": "code",
   "execution_count": 134,
   "metadata": {},
   "outputs": [],
   "source": [
    "pd.DataFrame(history_model_1.history).to_csv(\"../trained_models/IN_SHOP_Models/model_1_vgg_RESULT_2.csv\")"
   ]
  },
  {
   "attachments": {},
   "cell_type": "markdown",
   "metadata": {},
   "source": [
    "## Model 2: Efficient Net "
   ]
  },
  {
   "cell_type": "code",
   "execution_count": 45,
   "metadata": {},
   "outputs": [],
   "source": [
    "efficient_net = tf.keras.applications.EfficientNetB0(include_top=False)\n",
    "efficient_net.trainable = False"
   ]
  },
  {
   "cell_type": "code",
   "execution_count": 46,
   "metadata": {},
   "outputs": [],
   "source": [
    "from tensorflow import keras \n",
    "inputs = keras.Input(shape=(IMG_WIDTH,IMG_HEIGHT,3)) \n",
    "x = efficient_net(inputs) \n",
    "x = keras.layers.GlobalAveragePooling2D()(x) \n",
    "\n",
    "initializer = tf.keras.initializers.GlorotUniform(seed=42) \n",
    "activation = tf.keras.activations.sigmoid  \n",
    "\n",
    "outputs = keras.layers.Dense(nr_of_classes,\n",
    "                             kernel_initializer=initializer, \n",
    "                             activation=activation)(x) \n",
    "\n",
    "model_2 = keras.Model(inputs, outputs) "
   ]
  },
  {
   "cell_type": "code",
   "execution_count": 48,
   "metadata": {},
   "outputs": [],
   "source": [
    "METRICS = [\n",
    "      keras.metrics.TruePositives(name='tp'),\n",
    "      keras.metrics.FalsePositives(name='fp'),\n",
    "      keras.metrics.TrueNegatives(name='tn'),\n",
    "      keras.metrics.FalseNegatives(name='fn'), \n",
    "      keras.metrics.BinaryAccuracy(name='accuracy'),\n",
    "      keras.metrics.Precision(name='precision'),\n",
    "      keras.metrics.Recall(name='recall')\n",
    "]\n",
    "\n",
    "model_2.compile(optimizer=keras.optimizers.Adam(),\n",
    "              loss=keras.losses.BinaryCrossentropy(), # default from_logits=False\n",
    "              metrics=METRICS)"
   ]
  },
  {
   "cell_type": "code",
   "execution_count": 70,
   "metadata": {},
   "outputs": [
    {
     "data": {
      "text/plain": [
       "<tensorflow.python.training.tracking.util.CheckpointLoadStatus at 0x234804c1640>"
      ]
     },
     "execution_count": 70,
     "metadata": {},
     "output_type": "execute_result"
    }
   ],
   "source": [
    "# model_2.load_weights(\"checkpoints/in-shop_ds_model2/checkpoint_Efficient_Base.ckpt\")"
   ]
  },
  {
   "cell_type": "code",
   "execution_count": 138,
   "metadata": {},
   "outputs": [],
   "source": [
    "early_stopping = tf.keras.callbacks.EarlyStopping(monitor='loss', patience=5) \n",
    "checkpoint_path = \"checkpoints/in-shop_ds_model2_STEP_3/checkpoint_Efficient_Base.ckpt\" \n",
    "checkpoint_callback = tf.keras.callbacks.ModelCheckpoint(filepath=checkpoint_path,\n",
    "                                                         save_weights_only=True,\n",
    "                                                         save_best_only=False,\n",
    "                                                         verbose=1)"
   ]
  },
  {
   "cell_type": "code",
   "execution_count": 49,
   "metadata": {},
   "outputs": [
    {
     "name": "stdout",
     "output_type": "stream",
     "text": [
      "Epoch 1/25\n",
      "824/824 [==============================] - 602s 710ms/step - loss: 0.1582 - tp: 117412.0000 - fp: 63329.0000 - tn: 8570585.0000 - fn: 387960.0000 - accuracy: 0.9506 - precision: 0.6496 - recall: 0.2323 - val_loss: 0.1476 - val_tp: 18157.0000 - val_fp: 7524.0000 - val_tn: 1118752.0000 - val_fn: 47859.0000 - val_accuracy: 0.9535 - val_precision: 0.7070 - val_recall: 0.2750\n",
      "Epoch 2/25\n",
      "824/824 [==============================] - 589s 715ms/step - loss: 0.1431 - tp: 134621.0000 - fp: 52124.0000 - tn: 8581790.0000 - fn: 370751.0000 - accuracy: 0.9537 - precision: 0.7209 - recall: 0.2664 - val_loss: 0.1458 - val_tp: 19156.0000 - val_fp: 8065.0000 - val_tn: 1118211.0000 - val_fn: 46860.0000 - val_accuracy: 0.9539 - val_precision: 0.7037 - val_recall: 0.2902\n",
      "Epoch 3/25\n",
      "824/824 [==============================] - 589s 714ms/step - loss: 0.1388 - tp: 141585.0000 - fp: 53022.0000 - tn: 8580892.0000 - fn: 363787.0000 - accuracy: 0.9544 - precision: 0.7275 - recall: 0.2802 - val_loss: 0.1452 - val_tp: 19649.0000 - val_fp: 8338.0000 - val_tn: 1117938.0000 - val_fn: 46367.0000 - val_accuracy: 0.9541 - val_precision: 0.7021 - val_recall: 0.2976\n",
      "Epoch 4/25\n",
      "824/824 [==============================] - 604s 733ms/step - loss: 0.1359 - tp: 146177.0000 - fp: 53742.0000 - tn: 8580172.0000 - fn: 359195.0000 - accuracy: 0.9548 - precision: 0.7312 - recall: 0.2892 - val_loss: 0.1451 - val_tp: 19949.0000 - val_fp: 8534.0000 - val_tn: 1117742.0000 - val_fn: 46067.0000 - val_accuracy: 0.9542 - val_precision: 0.7004 - val_recall: 0.3022\n",
      "Epoch 5/25\n",
      "824/824 [==============================] - 595s 722ms/step - loss: 0.1337 - tp: 149544.0000 - fp: 54144.0000 - tn: 8579770.0000 - fn: 355828.0000 - accuracy: 0.9551 - precision: 0.7342 - recall: 0.2959 - val_loss: 0.1452 - val_tp: 20248.0000 - val_fp: 8873.0000 - val_tn: 1117403.0000 - val_fn: 45768.0000 - val_accuracy: 0.9542 - val_precision: 0.6953 - val_recall: 0.3067\n",
      "Epoch 6/25\n",
      "824/824 [==============================] - 637s 773ms/step - loss: 0.1319 - tp: 152761.0000 - fp: 54455.0000 - tn: 8579459.0000 - fn: 352611.0000 - accuracy: 0.9555 - precision: 0.7372 - recall: 0.3023 - val_loss: 0.1453 - val_tp: 20452.0000 - val_fp: 9088.0000 - val_tn: 1117188.0000 - val_fn: 45564.0000 - val_accuracy: 0.9542 - val_precision: 0.6923 - val_recall: 0.3098\n",
      "Epoch 7/25\n",
      "824/824 [==============================] - 604s 733ms/step - loss: 0.1304 - tp: 155365.0000 - fp: 54782.0000 - tn: 8579132.0000 - fn: 350007.0000 - accuracy: 0.9557 - precision: 0.7393 - recall: 0.3074 - val_loss: 0.1456 - val_tp: 20642.0000 - val_fp: 9354.0000 - val_tn: 1116922.0000 - val_fn: 45374.0000 - val_accuracy: 0.9541 - val_precision: 0.6882 - val_recall: 0.3127\n",
      "Epoch 8/25\n",
      "824/824 [==============================] - 595s 722ms/step - loss: 0.1292 - tp: 157507.0000 - fp: 55213.0000 - tn: 8578701.0000 - fn: 347865.0000 - accuracy: 0.9559 - precision: 0.7404 - recall: 0.3117 - val_loss: 0.1459 - val_tp: 20824.0000 - val_fp: 9549.0000 - val_tn: 1116727.0000 - val_fn: 45192.0000 - val_accuracy: 0.9541 - val_precision: 0.6856 - val_recall: 0.3154\n",
      "Epoch 9/25\n",
      "824/824 [==============================] - 589s 716ms/step - loss: 0.1280 - tp: 159642.0000 - fp: 55725.0000 - tn: 8578189.0000 - fn: 345730.0000 - accuracy: 0.9561 - precision: 0.7413 - recall: 0.3159 - val_loss: 0.1461 - val_tp: 20917.0000 - val_fp: 9672.0000 - val_tn: 1116604.0000 - val_fn: 45099.0000 - val_accuracy: 0.9541 - val_precision: 0.6838 - val_recall: 0.3168\n",
      "Epoch 10/25\n",
      "824/824 [==============================] - 603s 732ms/step - loss: 0.1270 - tp: 161649.0000 - fp: 55984.0000 - tn: 8577930.0000 - fn: 343723.0000 - accuracy: 0.9563 - precision: 0.7428 - recall: 0.3199 - val_loss: 0.1464 - val_tp: 20939.0000 - val_fp: 9710.0000 - val_tn: 1116566.0000 - val_fn: 45077.0000 - val_accuracy: 0.9540 - val_precision: 0.6832 - val_recall: 0.3172\n",
      "Epoch 11/25\n",
      "824/824 [==============================] - 615s 747ms/step - loss: 0.1262 - tp: 163168.0000 - fp: 56262.0000 - tn: 8577652.0000 - fn: 342204.0000 - accuracy: 0.9564 - precision: 0.7436 - recall: 0.3229 - val_loss: 0.1467 - val_tp: 21182.0000 - val_fp: 9929.0000 - val_tn: 1116347.0000 - val_fn: 44834.0000 - val_accuracy: 0.9541 - val_precision: 0.6809 - val_recall: 0.3209\n",
      "Epoch 12/25\n",
      "824/824 [==============================] - 677s 822ms/step - loss: 0.1254 - tp: 164705.0000 - fp: 56681.0000 - tn: 8577233.0000 - fn: 340667.0000 - accuracy: 0.9565 - precision: 0.7440 - recall: 0.3259 - val_loss: 0.1469 - val_tp: 21245.0000 - val_fp: 9938.0000 - val_tn: 1116338.0000 - val_fn: 44771.0000 - val_accuracy: 0.9541 - val_precision: 0.6813 - val_recall: 0.3218\n",
      "Epoch 13/25\n",
      "824/824 [==============================] - 628s 761ms/step - loss: 0.1247 - tp: 166183.0000 - fp: 57298.0000 - tn: 8576616.0000 - fn: 339189.0000 - accuracy: 0.9566 - precision: 0.7436 - recall: 0.3288 - val_loss: 0.1472 - val_tp: 21262.0000 - val_fp: 10161.0000 - val_tn: 1116115.0000 - val_fn: 44754.0000 - val_accuracy: 0.9539 - val_precision: 0.6766 - val_recall: 0.3221\n",
      "Epoch 14/25\n",
      "824/824 [==============================] - 592s 719ms/step - loss: 0.1240 - tp: 167621.0000 - fp: 57315.0000 - tn: 8576599.0000 - fn: 337751.0000 - accuracy: 0.9568 - precision: 0.7452 - recall: 0.3317 - val_loss: 0.1475 - val_tp: 21361.0000 - val_fp: 10289.0000 - val_tn: 1115987.0000 - val_fn: 44655.0000 - val_accuracy: 0.9539 - val_precision: 0.6749 - val_recall: 0.3236\n",
      "Epoch 15/25\n",
      "824/824 [==============================] - 613s 744ms/step - loss: 0.1234 - tp: 169134.0000 - fp: 57451.0000 - tn: 8576463.0000 - fn: 336238.0000 - accuracy: 0.9569 - precision: 0.7464 - recall: 0.3347 - val_loss: 0.1477 - val_tp: 21337.0000 - val_fp: 10334.0000 - val_tn: 1115942.0000 - val_fn: 44679.0000 - val_accuracy: 0.9539 - val_precision: 0.6737 - val_recall: 0.3232\n",
      "Epoch 16/25\n",
      "824/824 [==============================] - 641s 778ms/step - loss: 0.1229 - tp: 170369.0000 - fp: 57822.0000 - tn: 8576092.0000 - fn: 335003.0000 - accuracy: 0.9570 - precision: 0.7466 - recall: 0.3371 - val_loss: 0.1480 - val_tp: 21549.0000 - val_fp: 10613.0000 - val_tn: 1115663.0000 - val_fn: 44467.0000 - val_accuracy: 0.9538 - val_precision: 0.6700 - val_recall: 0.3264\n",
      "Epoch 17/25\n",
      "824/824 [==============================] - 670s 813ms/step - loss: 0.1223 - tp: 171698.0000 - fp: 58266.0000 - tn: 8575648.0000 - fn: 333674.0000 - accuracy: 0.9571 - precision: 0.7466 - recall: 0.3397 - val_loss: 0.1483 - val_tp: 21525.0000 - val_fp: 10704.0000 - val_tn: 1115572.0000 - val_fn: 44491.0000 - val_accuracy: 0.9537 - val_precision: 0.6679 - val_recall: 0.3261\n",
      "Epoch 18/25\n",
      "824/824 [==============================] - 671s 814ms/step - loss: 0.1218 - tp: 172394.0000 - fp: 58692.0000 - tn: 8575222.0000 - fn: 332978.0000 - accuracy: 0.9571 - precision: 0.7460 - recall: 0.3411 - val_loss: 0.1486 - val_tp: 21585.0000 - val_fp: 10735.0000 - val_tn: 1115541.0000 - val_fn: 44431.0000 - val_accuracy: 0.9537 - val_precision: 0.6679 - val_recall: 0.3270\n",
      "Epoch 19/25\n",
      "824/824 [==============================] - 610s 740ms/step - loss: 0.1213 - tp: 173748.0000 - fp: 58693.0000 - tn: 8575221.0000 - fn: 331624.0000 - accuracy: 0.9573 - precision: 0.7475 - recall: 0.3438 - val_loss: 0.1488 - val_tp: 21502.0000 - val_fp: 10680.0000 - val_tn: 1115596.0000 - val_fn: 44514.0000 - val_accuracy: 0.9537 - val_precision: 0.6681 - val_recall: 0.3257\n",
      "Epoch 20/25\n",
      "824/824 [==============================] - 618s 750ms/step - loss: 0.1211 - tp: 174416.0000 - fp: 59085.0000 - tn: 8574829.0000 - fn: 330956.0000 - accuracy: 0.9573 - precision: 0.7470 - recall: 0.3451 - val_loss: 0.1491 - val_tp: 21617.0000 - val_fp: 10842.0000 - val_tn: 1115434.0000 - val_fn: 44399.0000 - val_accuracy: 0.9537 - val_precision: 0.6660 - val_recall: 0.3275\n",
      "Epoch 21/25\n",
      "824/824 [==============================] - 617s 749ms/step - loss: 0.1206 - tp: 175616.0000 - fp: 59101.0000 - tn: 8574813.0000 - fn: 329756.0000 - accuracy: 0.9575 - precision: 0.7482 - recall: 0.3475 - val_loss: 0.1493 - val_tp: 21628.0000 - val_fp: 10894.0000 - val_tn: 1115382.0000 - val_fn: 44388.0000 - val_accuracy: 0.9536 - val_precision: 0.6650 - val_recall: 0.3276\n",
      "Epoch 22/25\n",
      "824/824 [==============================] - 609s 738ms/step - loss: 0.1203 - tp: 176521.0000 - fp: 59553.0000 - tn: 8574361.0000 - fn: 328851.0000 - accuracy: 0.9575 - precision: 0.7477 - recall: 0.3493 - val_loss: 0.1495 - val_tp: 21713.0000 - val_fp: 11037.0000 - val_tn: 1115239.0000 - val_fn: 44303.0000 - val_accuracy: 0.9536 - val_precision: 0.6630 - val_recall: 0.3289\n",
      "Epoch 23/25\n",
      "824/824 [==============================] - 598s 725ms/step - loss: 0.1198 - tp: 177403.0000 - fp: 59695.0000 - tn: 8574219.0000 - fn: 327969.0000 - accuracy: 0.9576 - precision: 0.7482 - recall: 0.3510 - val_loss: 0.1498 - val_tp: 21793.0000 - val_fp: 11262.0000 - val_tn: 1115014.0000 - val_fn: 44223.0000 - val_accuracy: 0.9535 - val_precision: 0.6593 - val_recall: 0.3301\n",
      "Epoch 24/25\n",
      "824/824 [==============================] - 608s 737ms/step - loss: 0.1194 - tp: 178114.0000 - fp: 59854.0000 - tn: 8574060.0000 - fn: 327258.0000 - accuracy: 0.9576 - precision: 0.7485 - recall: 0.3524 - val_loss: 0.1501 - val_tp: 21839.0000 - val_fp: 11365.0000 - val_tn: 1114911.0000 - val_fn: 44177.0000 - val_accuracy: 0.9534 - val_precision: 0.6577 - val_recall: 0.3308\n",
      "Epoch 25/25\n",
      "824/824 [==============================] - 640s 777ms/step - loss: 0.1192 - tp: 179137.0000 - fp: 59952.0000 - tn: 8573962.0000 - fn: 326235.0000 - accuracy: 0.9577 - precision: 0.7492 - recall: 0.3545 - val_loss: 0.1503 - val_tp: 21892.0000 - val_fp: 11470.0000 - val_tn: 1114806.0000 - val_fn: 44124.0000 - val_accuracy: 0.9534 - val_precision: 0.6562 - val_recall: 0.3316\n"
     ]
    }
   ],
   "source": [
    "history_model_2 = model_2.fit(ds_train_batched, \n",
    "        validation_data =ds_test_batched,\n",
    "        epochs=25)"
   ]
  },
  {
   "cell_type": "code",
   "execution_count": 140,
   "metadata": {},
   "outputs": [],
   "source": [
    "model_2.save(\"../trained_models/IN_SHOP_Models/model_2_efficient_net.h5\") "
   ]
  },
  {
   "cell_type": "code",
   "execution_count": 141,
   "metadata": {},
   "outputs": [],
   "source": [
    "pd.DataFrame(history_model_2.history).to_csv(\"../trained_models/IN_SHOP_Models/model_2_efficient_net_step3.csv\")"
   ]
  },
  {
   "cell_type": "code",
   "execution_count": 180,
   "metadata": {},
   "outputs": [
    {
     "data": {
      "text/html": [
       "<div>\n",
       "<style scoped>\n",
       "    .dataframe tbody tr th:only-of-type {\n",
       "        vertical-align: middle;\n",
       "    }\n",
       "\n",
       "    .dataframe tbody tr th {\n",
       "        vertical-align: top;\n",
       "    }\n",
       "\n",
       "    .dataframe thead th {\n",
       "        text-align: right;\n",
       "    }\n",
       "</style>\n",
       "<table border=\"1\" class=\"dataframe\">\n",
       "  <thead>\n",
       "    <tr style=\"text-align: right;\">\n",
       "      <th></th>\n",
       "      <th>loss</th>\n",
       "      <th>tp</th>\n",
       "      <th>fp</th>\n",
       "      <th>tn</th>\n",
       "      <th>fn</th>\n",
       "      <th>accuracy</th>\n",
       "      <th>precision</th>\n",
       "      <th>recall</th>\n",
       "      <th>val_loss</th>\n",
       "      <th>val_tp</th>\n",
       "      <th>val_fp</th>\n",
       "      <th>val_tn</th>\n",
       "      <th>val_fn</th>\n",
       "      <th>val_accuracy</th>\n",
       "      <th>val_precision</th>\n",
       "      <th>val_recall</th>\n",
       "    </tr>\n",
       "  </thead>\n",
       "  <tbody>\n",
       "    <tr>\n",
       "      <th>0</th>\n",
       "      <td>0.170253</td>\n",
       "      <td>62134.0</td>\n",
       "      <td>42225.0</td>\n",
       "      <td>4811905.0</td>\n",
       "      <td>224888.0</td>\n",
       "      <td>0.948044</td>\n",
       "      <td>0.595387</td>\n",
       "      <td>0.216478</td>\n",
       "      <td>0.154673</td>\n",
       "      <td>16258.0</td>\n",
       "      <td>6287.0</td>\n",
       "      <td>1207245.0</td>\n",
       "      <td>55498.0</td>\n",
       "      <td>0.951929</td>\n",
       "      <td>0.721135</td>\n",
       "      <td>0.226573</td>\n",
       "    </tr>\n",
       "    <tr>\n",
       "      <th>1</th>\n",
       "      <td>0.151555</td>\n",
       "      <td>71549.0</td>\n",
       "      <td>30430.0</td>\n",
       "      <td>4823700.0</td>\n",
       "      <td>215473.0</td>\n",
       "      <td>0.952170</td>\n",
       "      <td>0.701605</td>\n",
       "      <td>0.249281</td>\n",
       "      <td>0.150605</td>\n",
       "      <td>17393.0</td>\n",
       "      <td>6585.0</td>\n",
       "      <td>1206947.0</td>\n",
       "      <td>54363.0</td>\n",
       "      <td>0.952580</td>\n",
       "      <td>0.725373</td>\n",
       "      <td>0.242391</td>\n",
       "    </tr>\n",
       "    <tr>\n",
       "      <th>2</th>\n",
       "      <td>0.147034</td>\n",
       "      <td>75705.0</td>\n",
       "      <td>30986.0</td>\n",
       "      <td>4823144.0</td>\n",
       "      <td>211317.0</td>\n",
       "      <td>0.952870</td>\n",
       "      <td>0.709572</td>\n",
       "      <td>0.263760</td>\n",
       "      <td>0.148437</td>\n",
       "      <td>18115.0</td>\n",
       "      <td>6857.0</td>\n",
       "      <td>1206675.0</td>\n",
       "      <td>53641.0</td>\n",
       "      <td>0.952930</td>\n",
       "      <td>0.725412</td>\n",
       "      <td>0.252453</td>\n",
       "    </tr>\n",
       "    <tr>\n",
       "      <th>3</th>\n",
       "      <td>0.144012</td>\n",
       "      <td>78448.0</td>\n",
       "      <td>31352.0</td>\n",
       "      <td>4822778.0</td>\n",
       "      <td>208574.0</td>\n",
       "      <td>0.953332</td>\n",
       "      <td>0.714463</td>\n",
       "      <td>0.273317</td>\n",
       "      <td>0.147052</td>\n",
       "      <td>18652.0</td>\n",
       "      <td>7088.0</td>\n",
       "      <td>1206444.0</td>\n",
       "      <td>53104.0</td>\n",
       "      <td>0.953168</td>\n",
       "      <td>0.724631</td>\n",
       "      <td>0.259936</td>\n",
       "    </tr>\n",
       "    <tr>\n",
       "      <th>4</th>\n",
       "      <td>0.141567</td>\n",
       "      <td>80641.0</td>\n",
       "      <td>31457.0</td>\n",
       "      <td>4822673.0</td>\n",
       "      <td>206381.0</td>\n",
       "      <td>0.953738</td>\n",
       "      <td>0.719379</td>\n",
       "      <td>0.280958</td>\n",
       "      <td>0.145927</td>\n",
       "      <td>19119.0</td>\n",
       "      <td>7279.0</td>\n",
       "      <td>1206253.0</td>\n",
       "      <td>52637.0</td>\n",
       "      <td>0.953383</td>\n",
       "      <td>0.724259</td>\n",
       "      <td>0.266445</td>\n",
       "    </tr>\n",
       "    <tr>\n",
       "      <th>5</th>\n",
       "      <td>0.139605</td>\n",
       "      <td>82255.0</td>\n",
       "      <td>31566.0</td>\n",
       "      <td>4822564.0</td>\n",
       "      <td>204767.0</td>\n",
       "      <td>0.954031</td>\n",
       "      <td>0.722670</td>\n",
       "      <td>0.286581</td>\n",
       "      <td>0.145110</td>\n",
       "      <td>19415.0</td>\n",
       "      <td>7412.0</td>\n",
       "      <td>1206120.0</td>\n",
       "      <td>52341.0</td>\n",
       "      <td>0.953510</td>\n",
       "      <td>0.723711</td>\n",
       "      <td>0.270570</td>\n",
       "    </tr>\n",
       "    <tr>\n",
       "      <th>6</th>\n",
       "      <td>0.138022</td>\n",
       "      <td>83670.0</td>\n",
       "      <td>31731.0</td>\n",
       "      <td>4822399.0</td>\n",
       "      <td>203352.0</td>\n",
       "      <td>0.954274</td>\n",
       "      <td>0.725037</td>\n",
       "      <td>0.291511</td>\n",
       "      <td>0.144447</td>\n",
       "      <td>19671.0</td>\n",
       "      <td>7512.0</td>\n",
       "      <td>1206020.0</td>\n",
       "      <td>52085.0</td>\n",
       "      <td>0.953631</td>\n",
       "      <td>0.723651</td>\n",
       "      <td>0.274137</td>\n",
       "    </tr>\n",
       "    <tr>\n",
       "      <th>7</th>\n",
       "      <td>0.136454</td>\n",
       "      <td>85136.0</td>\n",
       "      <td>31782.0</td>\n",
       "      <td>4822348.0</td>\n",
       "      <td>201886.0</td>\n",
       "      <td>0.954549</td>\n",
       "      <td>0.728168</td>\n",
       "      <td>0.296618</td>\n",
       "      <td>0.143910</td>\n",
       "      <td>20009.0</td>\n",
       "      <td>7765.0</td>\n",
       "      <td>1205767.0</td>\n",
       "      <td>51747.0</td>\n",
       "      <td>0.953698</td>\n",
       "      <td>0.720422</td>\n",
       "      <td>0.278848</td>\n",
       "    </tr>\n",
       "    <tr>\n",
       "      <th>8</th>\n",
       "      <td>0.135226</td>\n",
       "      <td>85799.0</td>\n",
       "      <td>31865.0</td>\n",
       "      <td>4822265.0</td>\n",
       "      <td>201223.0</td>\n",
       "      <td>0.954662</td>\n",
       "      <td>0.729186</td>\n",
       "      <td>0.298928</td>\n",
       "      <td>0.143462</td>\n",
       "      <td>20065.0</td>\n",
       "      <td>7721.0</td>\n",
       "      <td>1205811.0</td>\n",
       "      <td>51691.0</td>\n",
       "      <td>0.953775</td>\n",
       "      <td>0.722126</td>\n",
       "      <td>0.279628</td>\n",
       "    </tr>\n",
       "    <tr>\n",
       "      <th>9</th>\n",
       "      <td>0.133995</td>\n",
       "      <td>87296.0</td>\n",
       "      <td>32037.0</td>\n",
       "      <td>4822093.0</td>\n",
       "      <td>199726.0</td>\n",
       "      <td>0.954920</td>\n",
       "      <td>0.731533</td>\n",
       "      <td>0.304144</td>\n",
       "      <td>0.143069</td>\n",
       "      <td>20256.0</td>\n",
       "      <td>7785.0</td>\n",
       "      <td>1205747.0</td>\n",
       "      <td>51500.0</td>\n",
       "      <td>0.953874</td>\n",
       "      <td>0.722371</td>\n",
       "      <td>0.282290</td>\n",
       "    </tr>\n",
       "  </tbody>\n",
       "</table>\n",
       "</div>"
      ],
      "text/plain": [
       "       loss       tp       fp         tn        fn  accuracy  precision  \\\n",
       "0  0.170253  62134.0  42225.0  4811905.0  224888.0  0.948044   0.595387   \n",
       "1  0.151555  71549.0  30430.0  4823700.0  215473.0  0.952170   0.701605   \n",
       "2  0.147034  75705.0  30986.0  4823144.0  211317.0  0.952870   0.709572   \n",
       "3  0.144012  78448.0  31352.0  4822778.0  208574.0  0.953332   0.714463   \n",
       "4  0.141567  80641.0  31457.0  4822673.0  206381.0  0.953738   0.719379   \n",
       "5  0.139605  82255.0  31566.0  4822564.0  204767.0  0.954031   0.722670   \n",
       "6  0.138022  83670.0  31731.0  4822399.0  203352.0  0.954274   0.725037   \n",
       "7  0.136454  85136.0  31782.0  4822348.0  201886.0  0.954549   0.728168   \n",
       "8  0.135226  85799.0  31865.0  4822265.0  201223.0  0.954662   0.729186   \n",
       "9  0.133995  87296.0  32037.0  4822093.0  199726.0  0.954920   0.731533   \n",
       "\n",
       "     recall  val_loss   val_tp  val_fp     val_tn   val_fn  val_accuracy  \\\n",
       "0  0.216478  0.154673  16258.0  6287.0  1207245.0  55498.0      0.951929   \n",
       "1  0.249281  0.150605  17393.0  6585.0  1206947.0  54363.0      0.952580   \n",
       "2  0.263760  0.148437  18115.0  6857.0  1206675.0  53641.0      0.952930   \n",
       "3  0.273317  0.147052  18652.0  7088.0  1206444.0  53104.0      0.953168   \n",
       "4  0.280958  0.145927  19119.0  7279.0  1206253.0  52637.0      0.953383   \n",
       "5  0.286581  0.145110  19415.0  7412.0  1206120.0  52341.0      0.953510   \n",
       "6  0.291511  0.144447  19671.0  7512.0  1206020.0  52085.0      0.953631   \n",
       "7  0.296618  0.143910  20009.0  7765.0  1205767.0  51747.0      0.953698   \n",
       "8  0.298928  0.143462  20065.0  7721.0  1205811.0  51691.0      0.953775   \n",
       "9  0.304144  0.143069  20256.0  7785.0  1205747.0  51500.0      0.953874   \n",
       "\n",
       "   val_precision  val_recall  \n",
       "0       0.721135    0.226573  \n",
       "1       0.725373    0.242391  \n",
       "2       0.725412    0.252453  \n",
       "3       0.724631    0.259936  \n",
       "4       0.724259    0.266445  \n",
       "5       0.723711    0.270570  \n",
       "6       0.723651    0.274137  \n",
       "7       0.720422    0.278848  \n",
       "8       0.722126    0.279628  \n",
       "9       0.722371    0.282290  "
      ]
     },
     "execution_count": 180,
     "metadata": {},
     "output_type": "execute_result"
    }
   ],
   "source": [
    "pd.DataFrame(history_model_2.history)"
   ]
  },
  {
   "attachments": {},
   "cell_type": "markdown",
   "metadata": {},
   "source": [
    "### Model 2 Fine Tune"
   ]
  },
  {
   "cell_type": "code",
   "execution_count": 62,
   "metadata": {},
   "outputs": [],
   "source": [
    "from tensorflow.keras.models import clone_model \n",
    "\n",
    "model_2_fine = clone_model(model_2)\n",
    "model_2_fine.set_weights(model_2.get_weights())"
   ]
  },
  {
   "cell_type": "code",
   "execution_count": 169,
   "metadata": {},
   "outputs": [
    {
     "name": "stdout",
     "output_type": "stream",
     "text": [
      "True name: input_8\n",
      "True name: efficientnetb0\n",
      "True name: global_average_pooling2d_3\n",
      "True name: dense_3\n"
     ]
    }
   ],
   "source": [
    "for layer in model_2_fine.layers: \n",
    "    print(layer.trainable,\"name:\" ,layer.name)"
   ]
  },
  {
   "cell_type": "code",
   "execution_count": 76,
   "metadata": {},
   "outputs": [
    {
     "data": {
      "text/plain": [
       "'efficientnetb0'"
      ]
     },
     "execution_count": 76,
     "metadata": {},
     "output_type": "execute_result"
    }
   ],
   "source": [
    "ef_net_for_fine = model_2_fine.layers[1]\n",
    "model_2_fine.layers[1].name "
   ]
  },
  {
   "cell_type": "code",
   "execution_count": 174,
   "metadata": {},
   "outputs": [],
   "source": [
    "ef_net_for_fine.trainable = True  \n",
    "\n",
    "for layer in ef_net_for_fine.layers[:-10]:\n",
    "    layer.trainable = False "
   ]
  },
  {
   "cell_type": "code",
   "execution_count": 63,
   "metadata": {},
   "outputs": [],
   "source": [
    "METRICS = [\n",
    "      keras.metrics.TruePositives(name='tp'),\n",
    "      keras.metrics.FalsePositives(name='fp'),\n",
    "      keras.metrics.TrueNegatives(name='tn'),\n",
    "      keras.metrics.FalseNegatives(name='fn'), \n",
    "      keras.metrics.BinaryAccuracy(name='accuracy'),\n",
    "      keras.metrics.Precision(name='precision'),\n",
    "      keras.metrics.Recall(name='recall')\n",
    "]\n",
    "\n",
    "model_2_fine.compile(optimizer=keras.optimizers.Adam(),\n",
    "              loss=keras.losses.BinaryCrossentropy(), \n",
    "              metrics=METRICS)"
   ]
  },
  {
   "cell_type": "code",
   "execution_count": 176,
   "metadata": {},
   "outputs": [
    {
     "name": "stdout",
     "output_type": "stream",
     "text": [
      "True block7a_se_squeeze\n",
      "True block7a_se_reshape\n",
      "True block7a_se_reduce\n",
      "True block7a_se_expand\n",
      "True block7a_se_excite\n",
      "True block7a_project_conv\n",
      "True block7a_project_bn\n",
      "True top_conv\n",
      "True top_bn\n",
      "True top_activation\n"
     ]
    }
   ],
   "source": [
    "for layer in ef_net_for_fine.layers[-10:]: \n",
    "    print(layer.trainable, layer.name)"
   ]
  },
  {
   "cell_type": "code",
   "execution_count": 85,
   "metadata": {},
   "outputs": [
    {
     "data": {
      "text/plain": [
       "<tensorflow.python.training.tracking.util.CheckpointLoadStatus at 0x2349d965fa0>"
      ]
     },
     "execution_count": 85,
     "metadata": {},
     "output_type": "execute_result"
    }
   ],
   "source": [
    "# model_2_fine.load_weights(\"checkpoints/in-shop_ds_model2_fine_tune/checkpoint_Efficient_Base.ckpt\" )"
   ]
  },
  {
   "cell_type": "code",
   "execution_count": 177,
   "metadata": {},
   "outputs": [],
   "source": [
    "checkpoint_path = \"checkpoints/in-shop_ds_model2_fine_tune_STEP3_V2/checkpoint_epoch-{epoch:01d}.ckpt\" \n",
    "checkpoint_callback = tf.keras.callbacks.ModelCheckpoint(filepath=checkpoint_path,\n",
    "                                                         save_weights_only=True,\n",
    "                                                         save_best_only=False,\n",
    "                                                         verbose=1)"
   ]
  },
  {
   "cell_type": "code",
   "execution_count": 178,
   "metadata": {},
   "outputs": [
    {
     "name": "stdout",
     "output_type": "stream",
     "text": [
      "Epoch 10/20\n",
      "463/463 [==============================] - ETA: 0s - loss: 0.1401 - tp: 87936.0000 - fp: 45272.0000 - tn: 4808858.0000 - fn: 199086.0000 - accuracy: 0.9525 - precision: 0.6601 - recall: 0.3064\n",
      "Epoch 10: saving model to checkpoints/in-shop_ds_model2_fine_tune_STEP3_V2\\checkpoint_epoch-10.ckpt\n",
      "463/463 [==============================] - 682s 1s/step - loss: 0.1401 - tp: 87936.0000 - fp: 45272.0000 - tn: 4808858.0000 - fn: 199086.0000 - accuracy: 0.9525 - precision: 0.6601 - recall: 0.3064 - val_loss: 0.1446 - val_tp: 23887.0000 - val_fp: 13182.0000 - val_tn: 1200350.0000 - val_fn: 47869.0000 - val_accuracy: 0.9525 - val_precision: 0.6444 - val_recall: 0.3329\n",
      "Epoch 11/20\n",
      "463/463 [==============================] - ETA: 0s - loss: 0.1284 - tp: 96668.0000 - fp: 38964.0000 - tn: 4815166.0000 - fn: 190354.0000 - accuracy: 0.9554 - precision: 0.7127 - recall: 0.3368\n",
      "Epoch 11: saving model to checkpoints/in-shop_ds_model2_fine_tune_STEP3_V2\\checkpoint_epoch-11.ckpt\n",
      "463/463 [==============================] - 681s 1s/step - loss: 0.1284 - tp: 96668.0000 - fp: 38964.0000 - tn: 4815166.0000 - fn: 190354.0000 - accuracy: 0.9554 - precision: 0.7127 - recall: 0.3368 - val_loss: 0.1430 - val_tp: 24455.0000 - val_fp: 13162.0000 - val_tn: 1200370.0000 - val_fn: 47301.0000 - val_accuracy: 0.9530 - val_precision: 0.6501 - val_recall: 0.3408\n",
      "Epoch 12/20\n",
      "463/463 [==============================] - ETA: 0s - loss: 0.1222 - tp: 103090.0000 - fp: 37123.0000 - tn: 4817007.0000 - fn: 183932.0000 - accuracy: 0.9570 - precision: 0.7352 - recall: 0.3592\n",
      "Epoch 12: saving model to checkpoints/in-shop_ds_model2_fine_tune_STEP3_V2\\checkpoint_epoch-12.ckpt\n",
      "463/463 [==============================] - 663s 1s/step - loss: 0.1222 - tp: 103090.0000 - fp: 37123.0000 - tn: 4817007.0000 - fn: 183932.0000 - accuracy: 0.9570 - precision: 0.7352 - recall: 0.3592 - val_loss: 0.1438 - val_tp: 25314.0000 - val_fp: 13996.0000 - val_tn: 1199536.0000 - val_fn: 46442.0000 - val_accuracy: 0.9530 - val_precision: 0.6440 - val_recall: 0.3528\n",
      "Epoch 13/20\n",
      "463/463 [==============================] - ETA: 0s - loss: 0.1173 - tp: 108535.0000 - fp: 35944.0000 - tn: 4818186.0000 - fn: 178487.0000 - accuracy: 0.9583 - precision: 0.7512 - recall: 0.3781\n",
      "Epoch 13: saving model to checkpoints/in-shop_ds_model2_fine_tune_STEP3_V2\\checkpoint_epoch-13.ckpt\n",
      "463/463 [==============================] - 724s 2s/step - loss: 0.1173 - tp: 108535.0000 - fp: 35944.0000 - tn: 4818186.0000 - fn: 178487.0000 - accuracy: 0.9583 - precision: 0.7512 - recall: 0.3781 - val_loss: 0.1424 - val_tp: 25058.0000 - val_fp: 12995.0000 - val_tn: 1200537.0000 - val_fn: 46698.0000 - val_accuracy: 0.9536 - val_precision: 0.6585 - val_recall: 0.3492\n",
      "Epoch 14/20\n",
      "463/463 [==============================] - ETA: 0s - loss: 0.1129 - tp: 113939.0000 - fp: 34802.0000 - tn: 4819328.0000 - fn: 173083.0000 - accuracy: 0.9596 - precision: 0.7660 - recall: 0.3970\n",
      "Epoch 14: saving model to checkpoints/in-shop_ds_model2_fine_tune_STEP3_V2\\checkpoint_epoch-14.ckpt\n",
      "463/463 [==============================] - 684s 1s/step - loss: 0.1129 - tp: 113939.0000 - fp: 34802.0000 - tn: 4819328.0000 - fn: 173083.0000 - accuracy: 0.9596 - precision: 0.7660 - recall: 0.3970 - val_loss: 0.1421 - val_tp: 24781.0000 - val_fp: 12498.0000 - val_tn: 1201034.0000 - val_fn: 46975.0000 - val_accuracy: 0.9537 - val_precision: 0.6647 - val_recall: 0.3454\n",
      "Epoch 15/20\n",
      "463/463 [==============================] - ETA: 0s - loss: 0.1094 - tp: 118106.0000 - fp: 34205.0000 - tn: 4819925.0000 - fn: 168916.0000 - accuracy: 0.9605 - precision: 0.7754 - recall: 0.4115\n",
      "Epoch 15: saving model to checkpoints/in-shop_ds_model2_fine_tune_STEP3_V2\\checkpoint_epoch-15.ckpt\n",
      "463/463 [==============================] - 693s 1s/step - loss: 0.1094 - tp: 118106.0000 - fp: 34205.0000 - tn: 4819925.0000 - fn: 168916.0000 - accuracy: 0.9605 - precision: 0.7754 - recall: 0.4115 - val_loss: 0.1417 - val_tp: 25314.0000 - val_fp: 13097.0000 - val_tn: 1200435.0000 - val_fn: 46442.0000 - val_accuracy: 0.9537 - val_precision: 0.6590 - val_recall: 0.3528\n",
      "Epoch 16/20\n",
      "463/463 [==============================] - ETA: 0s - loss: 0.1060 - tp: 122783.0000 - fp: 33702.0000 - tn: 4820428.0000 - fn: 164239.0000 - accuracy: 0.9615 - precision: 0.7846 - recall: 0.4278\n",
      "Epoch 16: saving model to checkpoints/in-shop_ds_model2_fine_tune_STEP3_V2\\checkpoint_epoch-16.ckpt\n",
      "463/463 [==============================] - 638s 1s/step - loss: 0.1060 - tp: 122783.0000 - fp: 33702.0000 - tn: 4820428.0000 - fn: 164239.0000 - accuracy: 0.9615 - precision: 0.7846 - recall: 0.4278 - val_loss: 0.1429 - val_tp: 25400.0000 - val_fp: 13800.0000 - val_tn: 1199732.0000 - val_fn: 46356.0000 - val_accuracy: 0.9532 - val_precision: 0.6480 - val_recall: 0.3540\n",
      "Epoch 17/20\n",
      "463/463 [==============================] - ETA: 0s - loss: 0.1027 - tp: 127020.0000 - fp: 32873.0000 - tn: 4821257.0000 - fn: 160002.0000 - accuracy: 0.9625 - precision: 0.7944 - recall: 0.4425\n",
      "Epoch 17: saving model to checkpoints/in-shop_ds_model2_fine_tune_STEP3_V2\\checkpoint_epoch-17.ckpt\n",
      "463/463 [==============================] - 678s 1s/step - loss: 0.1027 - tp: 127020.0000 - fp: 32873.0000 - tn: 4821257.0000 - fn: 160002.0000 - accuracy: 0.9625 - precision: 0.7944 - recall: 0.4425 - val_loss: 0.1433 - val_tp: 25367.0000 - val_fp: 13557.0000 - val_tn: 1199975.0000 - val_fn: 46389.0000 - val_accuracy: 0.9534 - val_precision: 0.6517 - val_recall: 0.3535\n",
      "Epoch 18/20\n",
      "463/463 [==============================] - ETA: 0s - loss: 0.0996 - tp: 131242.0000 - fp: 32515.0000 - tn: 4821615.0000 - fn: 155780.0000 - accuracy: 0.9634 - precision: 0.8014 - recall: 0.4573\n",
      "Epoch 18: saving model to checkpoints/in-shop_ds_model2_fine_tune_STEP3_V2\\checkpoint_epoch-18.ckpt\n",
      "463/463 [==============================] - 666s 1s/step - loss: 0.0996 - tp: 131242.0000 - fp: 32515.0000 - tn: 4821615.0000 - fn: 155780.0000 - accuracy: 0.9634 - precision: 0.8014 - recall: 0.4573 - val_loss: 0.1450 - val_tp: 26059.0000 - val_fp: 14766.0000 - val_tn: 1198766.0000 - val_fn: 45697.0000 - val_accuracy: 0.9530 - val_precision: 0.6383 - val_recall: 0.3632\n",
      "Epoch 19/20\n",
      "463/463 [==============================] - ETA: 0s - loss: 0.0967 - tp: 135404.0000 - fp: 32316.0000 - tn: 4821814.0000 - fn: 151618.0000 - accuracy: 0.9642 - precision: 0.8073 - recall: 0.4718\n",
      "Epoch 19: saving model to checkpoints/in-shop_ds_model2_fine_tune_STEP3_V2\\checkpoint_epoch-19.ckpt\n",
      "463/463 [==============================] - 753s 2s/step - loss: 0.0967 - tp: 135404.0000 - fp: 32316.0000 - tn: 4821814.0000 - fn: 151618.0000 - accuracy: 0.9642 - precision: 0.8073 - recall: 0.4718 - val_loss: 0.1503 - val_tp: 25760.0000 - val_fp: 14993.0000 - val_tn: 1198539.0000 - val_fn: 45996.0000 - val_accuracy: 0.9525 - val_precision: 0.6321 - val_recall: 0.3590\n",
      "Epoch 20/20\n",
      "463/463 [==============================] - ETA: 0s - loss: 0.0938 - tp: 139761.0000 - fp: 31795.0000 - tn: 4822335.0000 - fn: 147261.0000 - accuracy: 0.9652 - precision: 0.8147 - recall: 0.4869\n",
      "Epoch 20: saving model to checkpoints/in-shop_ds_model2_fine_tune_STEP3_V2\\checkpoint_epoch-20.ckpt\n",
      "463/463 [==============================] - 636s 1s/step - loss: 0.0938 - tp: 139761.0000 - fp: 31795.0000 - tn: 4822335.0000 - fn: 147261.0000 - accuracy: 0.9652 - precision: 0.8147 - recall: 0.4869 - val_loss: 0.1503 - val_tp: 25487.0000 - val_fp: 14885.0000 - val_tn: 1198647.0000 - val_fn: 46269.0000 - val_accuracy: 0.9524 - val_precision: 0.6313 - val_recall: 0.3552\n"
     ]
    }
   ],
   "source": [
    "history_model_2_fine = model_2_fine.fit(ds_train_batched, \n",
    "        validation_data =ds_test_batched,\n",
    "        epochs=20, \n",
    "        initial_epoch=history_model_2.epoch[-1], # start from previous last epoch \n",
    "        callbacks=[early_stopping, checkpoint_callback])"
   ]
  },
  {
   "cell_type": "code",
   "execution_count": 64,
   "metadata": {},
   "outputs": [
    {
     "data": {
      "text/plain": [
       "<tensorflow.python.training.tracking.util.CheckpointLoadStatus at 0x19b4ddc7d90>"
      ]
     },
     "execution_count": 64,
     "metadata": {},
     "output_type": "execute_result"
    }
   ],
   "source": [
    "model_2_fine.load_weights(\"checkpoints/in-shop_ds_model2_fine_tune_STEP3_V2/checkpoint_epoch-12.ckpt\")"
   ]
  },
  {
   "cell_type": "code",
   "execution_count": 74,
   "metadata": {},
   "outputs": [],
   "source": [
    "model_2_fine.save(\"../trained_models/IN_SHOP_Models/model_2_efficient_net_fine_tune_epoch12.h5\") "
   ]
  },
  {
   "cell_type": "code",
   "execution_count": 73,
   "metadata": {},
   "outputs": [
    {
     "data": {
      "text/plain": [
       "[array([[[[ 0.00261383,  0.03877489, -0.05772045, ...,  0.07658176,\n",
       "            0.10543673,  0.11697716],\n",
       "          [ 0.20669161,  0.09331141,  0.16125034, ...,  0.11468742,\n",
       "            0.12391451,  0.27957806],\n",
       "          [-0.01753765,  0.02719756,  0.03158375, ...,  0.11168793,\n",
       "            0.05209725,  0.02963421],\n",
       "          ...,\n",
       "          [ 0.18821481,  0.03468722, -0.05783768, ...,  0.0633119 ,\n",
       "           -0.01665328,  0.0797701 ],\n",
       "          [-0.04145981, -0.00616127, -0.0484126 , ..., -0.03554172,\n",
       "           -0.06225879,  0.05479826],\n",
       "          [ 0.12199806, -0.01668012, -0.22656727, ..., -0.11075154,\n",
       "           -0.05991073,  0.0352614 ]]]], dtype=float32)]"
      ]
     },
     "execution_count": 73,
     "metadata": {},
     "output_type": "execute_result"
    }
   ],
   "source": [
    "model_2_fine.layers[1].layers[-3].get_weights() "
   ]
  },
  {
   "cell_type": "code",
   "execution_count": 158,
   "metadata": {},
   "outputs": [],
   "source": [
    "pd.DataFrame(history_model_2_fine.history).to_csv(\"../trained_models/IN_SHOP_Models/model_2_efficient_net_fine_tune_STEP_3_OverFitting.csv\")"
   ]
  },
  {
   "cell_type": "code",
   "execution_count": 179,
   "metadata": {},
   "outputs": [
    {
     "data": {
      "text/html": [
       "<div>\n",
       "<style scoped>\n",
       "    .dataframe tbody tr th:only-of-type {\n",
       "        vertical-align: middle;\n",
       "    }\n",
       "\n",
       "    .dataframe tbody tr th {\n",
       "        vertical-align: top;\n",
       "    }\n",
       "\n",
       "    .dataframe thead th {\n",
       "        text-align: right;\n",
       "    }\n",
       "</style>\n",
       "<table border=\"1\" class=\"dataframe\">\n",
       "  <thead>\n",
       "    <tr style=\"text-align: right;\">\n",
       "      <th></th>\n",
       "      <th>loss</th>\n",
       "      <th>tp</th>\n",
       "      <th>fp</th>\n",
       "      <th>tn</th>\n",
       "      <th>fn</th>\n",
       "      <th>accuracy</th>\n",
       "      <th>precision</th>\n",
       "      <th>recall</th>\n",
       "      <th>val_loss</th>\n",
       "      <th>val_tp</th>\n",
       "      <th>val_fp</th>\n",
       "      <th>val_tn</th>\n",
       "      <th>val_fn</th>\n",
       "      <th>val_accuracy</th>\n",
       "      <th>val_precision</th>\n",
       "      <th>val_recall</th>\n",
       "    </tr>\n",
       "  </thead>\n",
       "  <tbody>\n",
       "    <tr>\n",
       "      <th>0</th>\n",
       "      <td>0.140084</td>\n",
       "      <td>87936.0</td>\n",
       "      <td>45272.0</td>\n",
       "      <td>4808858.0</td>\n",
       "      <td>199086.0</td>\n",
       "      <td>0.952470</td>\n",
       "      <td>0.660141</td>\n",
       "      <td>0.306374</td>\n",
       "      <td>0.144631</td>\n",
       "      <td>23887.0</td>\n",
       "      <td>13182.0</td>\n",
       "      <td>1200350.0</td>\n",
       "      <td>47869.0</td>\n",
       "      <td>0.952500</td>\n",
       "      <td>0.644393</td>\n",
       "      <td>0.332892</td>\n",
       "    </tr>\n",
       "    <tr>\n",
       "      <th>1</th>\n",
       "      <td>0.128383</td>\n",
       "      <td>96668.0</td>\n",
       "      <td>38964.0</td>\n",
       "      <td>4815166.0</td>\n",
       "      <td>190354.0</td>\n",
       "      <td>0.955396</td>\n",
       "      <td>0.712723</td>\n",
       "      <td>0.336796</td>\n",
       "      <td>0.143026</td>\n",
       "      <td>24455.0</td>\n",
       "      <td>13162.0</td>\n",
       "      <td>1200370.0</td>\n",
       "      <td>47301.0</td>\n",
       "      <td>0.952958</td>\n",
       "      <td>0.650105</td>\n",
       "      <td>0.340808</td>\n",
       "    </tr>\n",
       "    <tr>\n",
       "      <th>2</th>\n",
       "      <td>0.122210</td>\n",
       "      <td>103090.0</td>\n",
       "      <td>37123.0</td>\n",
       "      <td>4817007.0</td>\n",
       "      <td>183932.0</td>\n",
       "      <td>0.957003</td>\n",
       "      <td>0.735239</td>\n",
       "      <td>0.359171</td>\n",
       "      <td>0.143784</td>\n",
       "      <td>25314.0</td>\n",
       "      <td>13996.0</td>\n",
       "      <td>1199536.0</td>\n",
       "      <td>46442.0</td>\n",
       "      <td>0.952977</td>\n",
       "      <td>0.643958</td>\n",
       "      <td>0.352779</td>\n",
       "    </tr>\n",
       "    <tr>\n",
       "      <th>3</th>\n",
       "      <td>0.117334</td>\n",
       "      <td>108535.0</td>\n",
       "      <td>35944.0</td>\n",
       "      <td>4818186.0</td>\n",
       "      <td>178487.0</td>\n",
       "      <td>0.958291</td>\n",
       "      <td>0.751216</td>\n",
       "      <td>0.378142</td>\n",
       "      <td>0.142381</td>\n",
       "      <td>25058.0</td>\n",
       "      <td>12995.0</td>\n",
       "      <td>1200537.0</td>\n",
       "      <td>46698.0</td>\n",
       "      <td>0.953557</td>\n",
       "      <td>0.658503</td>\n",
       "      <td>0.349211</td>\n",
       "    </tr>\n",
       "    <tr>\n",
       "      <th>4</th>\n",
       "      <td>0.112902</td>\n",
       "      <td>113939.0</td>\n",
       "      <td>34802.0</td>\n",
       "      <td>4819328.0</td>\n",
       "      <td>173083.0</td>\n",
       "      <td>0.959565</td>\n",
       "      <td>0.766023</td>\n",
       "      <td>0.396970</td>\n",
       "      <td>0.142135</td>\n",
       "      <td>24781.0</td>\n",
       "      <td>12498.0</td>\n",
       "      <td>1201034.0</td>\n",
       "      <td>46975.0</td>\n",
       "      <td>0.953728</td>\n",
       "      <td>0.664744</td>\n",
       "      <td>0.345351</td>\n",
       "    </tr>\n",
       "    <tr>\n",
       "      <th>5</th>\n",
       "      <td>0.109367</td>\n",
       "      <td>118106.0</td>\n",
       "      <td>34205.0</td>\n",
       "      <td>4819925.0</td>\n",
       "      <td>168916.0</td>\n",
       "      <td>0.960491</td>\n",
       "      <td>0.775427</td>\n",
       "      <td>0.411488</td>\n",
       "      <td>0.141718</td>\n",
       "      <td>25314.0</td>\n",
       "      <td>13097.0</td>\n",
       "      <td>1200435.0</td>\n",
       "      <td>46442.0</td>\n",
       "      <td>0.953677</td>\n",
       "      <td>0.659030</td>\n",
       "      <td>0.352779</td>\n",
       "    </tr>\n",
       "    <tr>\n",
       "      <th>6</th>\n",
       "      <td>0.105951</td>\n",
       "      <td>122783.0</td>\n",
       "      <td>33702.0</td>\n",
       "      <td>4820428.0</td>\n",
       "      <td>164239.0</td>\n",
       "      <td>0.961499</td>\n",
       "      <td>0.784631</td>\n",
       "      <td>0.427783</td>\n",
       "      <td>0.142947</td>\n",
       "      <td>25400.0</td>\n",
       "      <td>13800.0</td>\n",
       "      <td>1199732.0</td>\n",
       "      <td>46356.0</td>\n",
       "      <td>0.953196</td>\n",
       "      <td>0.647959</td>\n",
       "      <td>0.353977</td>\n",
       "    </tr>\n",
       "    <tr>\n",
       "      <th>7</th>\n",
       "      <td>0.102698</td>\n",
       "      <td>127020.0</td>\n",
       "      <td>32873.0</td>\n",
       "      <td>4821257.0</td>\n",
       "      <td>160002.0</td>\n",
       "      <td>0.962484</td>\n",
       "      <td>0.794406</td>\n",
       "      <td>0.442544</td>\n",
       "      <td>0.143345</td>\n",
       "      <td>25367.0</td>\n",
       "      <td>13557.0</td>\n",
       "      <td>1199975.0</td>\n",
       "      <td>46389.0</td>\n",
       "      <td>0.953360</td>\n",
       "      <td>0.651706</td>\n",
       "      <td>0.353517</td>\n",
       "    </tr>\n",
       "    <tr>\n",
       "      <th>8</th>\n",
       "      <td>0.099644</td>\n",
       "      <td>131242.0</td>\n",
       "      <td>32515.0</td>\n",
       "      <td>4821615.0</td>\n",
       "      <td>155780.0</td>\n",
       "      <td>0.963375</td>\n",
       "      <td>0.801444</td>\n",
       "      <td>0.457254</td>\n",
       "      <td>0.144958</td>\n",
       "      <td>26059.0</td>\n",
       "      <td>14766.0</td>\n",
       "      <td>1198766.0</td>\n",
       "      <td>45697.0</td>\n",
       "      <td>0.952958</td>\n",
       "      <td>0.638310</td>\n",
       "      <td>0.363161</td>\n",
       "    </tr>\n",
       "    <tr>\n",
       "      <th>9</th>\n",
       "      <td>0.096730</td>\n",
       "      <td>135404.0</td>\n",
       "      <td>32316.0</td>\n",
       "      <td>4821814.0</td>\n",
       "      <td>151618.0</td>\n",
       "      <td>0.964223</td>\n",
       "      <td>0.807322</td>\n",
       "      <td>0.471755</td>\n",
       "      <td>0.150292</td>\n",
       "      <td>25760.0</td>\n",
       "      <td>14993.0</td>\n",
       "      <td>1198539.0</td>\n",
       "      <td>45996.0</td>\n",
       "      <td>0.952548</td>\n",
       "      <td>0.632101</td>\n",
       "      <td>0.358994</td>\n",
       "    </tr>\n",
       "    <tr>\n",
       "      <th>10</th>\n",
       "      <td>0.093818</td>\n",
       "      <td>139761.0</td>\n",
       "      <td>31795.0</td>\n",
       "      <td>4822335.0</td>\n",
       "      <td>147261.0</td>\n",
       "      <td>0.965172</td>\n",
       "      <td>0.814667</td>\n",
       "      <td>0.486935</td>\n",
       "      <td>0.150267</td>\n",
       "      <td>25487.0</td>\n",
       "      <td>14885.0</td>\n",
       "      <td>1198647.0</td>\n",
       "      <td>46269.0</td>\n",
       "      <td>0.952420</td>\n",
       "      <td>0.631304</td>\n",
       "      <td>0.355190</td>\n",
       "    </tr>\n",
       "  </tbody>\n",
       "</table>\n",
       "</div>"
      ],
      "text/plain": [
       "        loss        tp       fp         tn        fn  accuracy  precision  \\\n",
       "0   0.140084   87936.0  45272.0  4808858.0  199086.0  0.952470   0.660141   \n",
       "1   0.128383   96668.0  38964.0  4815166.0  190354.0  0.955396   0.712723   \n",
       "2   0.122210  103090.0  37123.0  4817007.0  183932.0  0.957003   0.735239   \n",
       "3   0.117334  108535.0  35944.0  4818186.0  178487.0  0.958291   0.751216   \n",
       "4   0.112902  113939.0  34802.0  4819328.0  173083.0  0.959565   0.766023   \n",
       "5   0.109367  118106.0  34205.0  4819925.0  168916.0  0.960491   0.775427   \n",
       "6   0.105951  122783.0  33702.0  4820428.0  164239.0  0.961499   0.784631   \n",
       "7   0.102698  127020.0  32873.0  4821257.0  160002.0  0.962484   0.794406   \n",
       "8   0.099644  131242.0  32515.0  4821615.0  155780.0  0.963375   0.801444   \n",
       "9   0.096730  135404.0  32316.0  4821814.0  151618.0  0.964223   0.807322   \n",
       "10  0.093818  139761.0  31795.0  4822335.0  147261.0  0.965172   0.814667   \n",
       "\n",
       "      recall  val_loss   val_tp   val_fp     val_tn   val_fn  val_accuracy  \\\n",
       "0   0.306374  0.144631  23887.0  13182.0  1200350.0  47869.0      0.952500   \n",
       "1   0.336796  0.143026  24455.0  13162.0  1200370.0  47301.0      0.952958   \n",
       "2   0.359171  0.143784  25314.0  13996.0  1199536.0  46442.0      0.952977   \n",
       "3   0.378142  0.142381  25058.0  12995.0  1200537.0  46698.0      0.953557   \n",
       "4   0.396970  0.142135  24781.0  12498.0  1201034.0  46975.0      0.953728   \n",
       "5   0.411488  0.141718  25314.0  13097.0  1200435.0  46442.0      0.953677   \n",
       "6   0.427783  0.142947  25400.0  13800.0  1199732.0  46356.0      0.953196   \n",
       "7   0.442544  0.143345  25367.0  13557.0  1199975.0  46389.0      0.953360   \n",
       "8   0.457254  0.144958  26059.0  14766.0  1198766.0  45697.0      0.952958   \n",
       "9   0.471755  0.150292  25760.0  14993.0  1198539.0  45996.0      0.952548   \n",
       "10  0.486935  0.150267  25487.0  14885.0  1198647.0  46269.0      0.952420   \n",
       "\n",
       "    val_precision  val_recall  \n",
       "0        0.644393    0.332892  \n",
       "1        0.650105    0.340808  \n",
       "2        0.643958    0.352779  \n",
       "3        0.658503    0.349211  \n",
       "4        0.664744    0.345351  \n",
       "5        0.659030    0.352779  \n",
       "6        0.647959    0.353977  \n",
       "7        0.651706    0.353517  \n",
       "8        0.638310    0.363161  \n",
       "9        0.632101    0.358994  \n",
       "10       0.631304    0.355190  "
      ]
     },
     "execution_count": 179,
     "metadata": {},
     "output_type": "execute_result"
    }
   ],
   "source": [
    "pd.DataFrame(history_model_2_fine.history)"
   ]
  },
  {
   "cell_type": "markdown",
   "metadata": {},
   "source": [
    "### Model 2 Fine Tune: Partitioned Learning Rate and MultiOptimizer "
   ]
  },
  {
   "cell_type": "code",
   "execution_count": 77,
   "metadata": {},
   "outputs": [],
   "source": [
    "int(len(ef_net_for_fine.layers) / 3)\n",
    "\n",
    "optimizers = [\n",
    "    keras.optimizers.Adam(), # for layer [0] and last layer \n",
    "    tf.keras.optimizers.Adam(learning_rate=1e-6), # ef net [0 to 80] \n",
    "    tf.keras.optimizers.Adam(learning_rate=1e-4), # ef net [80 to 160] \n",
    "    tf.keras.optimizers.Adam(learning_rate=1e-2), # # ef net [160 to :ef net last] \n",
    "]"
   ]
  },
  {
   "cell_type": "code",
   "execution_count": 78,
   "metadata": {},
   "outputs": [],
   "source": [
    "optimizers_and_layers = [\n",
    "    (optimizers[0], model_2_fine.layers[0]), \n",
    "    (optimizers[1], ef_net_for_fine.layers[0:80]), \n",
    "    (optimizers[2], ef_net_for_fine.layers[80:160]),\n",
    "    (optimizers[3], ef_net_for_fine.layers[160:]),\n",
    "    (optimizers[0], model_2_fine.layers[-1]),   \n",
    "]"
   ]
  },
  {
   "cell_type": "code",
   "execution_count": null,
   "metadata": {},
   "outputs": [],
   "source": [
    "#!pip install tensorflow-addons"
   ]
  },
  {
   "cell_type": "code",
   "execution_count": 79,
   "metadata": {},
   "outputs": [],
   "source": [
    "import tensorflow_addons as tfa\n",
    "optimizer = tfa.optimizers.MultiOptimizer(optimizers_and_layers)"
   ]
  },
  {
   "cell_type": "code",
   "execution_count": 81,
   "metadata": {},
   "outputs": [],
   "source": [
    "model_2_fine_multi_optimizer = clone_model(model_2)\n",
    "model_2_fine_multi_optimizer.set_weights(model_2.get_weights())\n",
    "ef_net_for_fine = model_2_fine_multi_optimizer.layers[1]\n",
    "\n",
    "\n",
    "ef_net_for_fine.trainable = True  \n",
    "for layer in ef_net_for_fine.layers[:-20]:\n",
    "    layer.trainable = False \n",
    "\n",
    "METRICS = [\n",
    "      keras.metrics.TruePositives(name='tp'),\n",
    "      keras.metrics.FalsePositives(name='fp'),\n",
    "      keras.metrics.TrueNegatives(name='tn'),\n",
    "      keras.metrics.FalseNegatives(name='fn'), \n",
    "      keras.metrics.BinaryAccuracy(name='accuracy'),\n",
    "      keras.metrics.Precision(name='precision'),\n",
    "      keras.metrics.Recall(name='recall')\n",
    "]\n",
    "\n",
    "model_2_fine_multi_optimizer.compile(optimizer=optimizer,\n",
    "                    loss=keras.losses.BinaryCrossentropy(), \n",
    "                    metrics=METRICS)\n",
    "\n",
    "#checkpoint_path = \"checkpoints/in-shop_ds_model2_fine_tune_STEP3/checkpoint_Efficient_multi_optimizer.ckpt\" \n",
    "#checkpoint_callback = tf.keras.callbacks.ModelCheckpoint(filepath=checkpoint_path,\n",
    "                                                        # save_weights_only=True,\n",
    "                                                         #save_best_only=False,\n",
    "                                                        # verbose=1)\n",
    "\n",
    "history_model_2_fine_multi_optimizer = model_2_fine_multi_optimizer.fit(ds_train_batched, \n",
    "        validation_data =ds_test_batched,\n",
    "        epochs=20, \n",
    "        initial_epoch=history_model_2.epoch[-1], # start from previous last epoch \n",
    "        )"
   ]
  },
  {
   "cell_type": "code",
   "execution_count": 164,
   "metadata": {},
   "outputs": [
    {
     "data": {
      "text/html": [
       "<div>\n",
       "<style scoped>\n",
       "    .dataframe tbody tr th:only-of-type {\n",
       "        vertical-align: middle;\n",
       "    }\n",
       "\n",
       "    .dataframe tbody tr th {\n",
       "        vertical-align: top;\n",
       "    }\n",
       "\n",
       "    .dataframe thead th {\n",
       "        text-align: right;\n",
       "    }\n",
       "</style>\n",
       "<table border=\"1\" class=\"dataframe\">\n",
       "  <thead>\n",
       "    <tr style=\"text-align: right;\">\n",
       "      <th></th>\n",
       "      <th>loss</th>\n",
       "      <th>tp</th>\n",
       "      <th>fp</th>\n",
       "      <th>tn</th>\n",
       "      <th>fn</th>\n",
       "      <th>accuracy</th>\n",
       "      <th>precision</th>\n",
       "      <th>recall</th>\n",
       "      <th>val_loss</th>\n",
       "      <th>val_tp</th>\n",
       "      <th>val_fp</th>\n",
       "      <th>val_tn</th>\n",
       "      <th>val_fn</th>\n",
       "      <th>val_accuracy</th>\n",
       "      <th>val_precision</th>\n",
       "      <th>val_recall</th>\n",
       "    </tr>\n",
       "  </thead>\n",
       "  <tbody>\n",
       "    <tr>\n",
       "      <th>0</th>\n",
       "      <td>0.164045</td>\n",
       "      <td>62854.0</td>\n",
       "      <td>34782.0</td>\n",
       "      <td>4819348.0</td>\n",
       "      <td>224168.0</td>\n",
       "      <td>0.949632</td>\n",
       "      <td>0.643758</td>\n",
       "      <td>0.218987</td>\n",
       "      <td>0.184724</td>\n",
       "      <td>23622.0</td>\n",
       "      <td>26388.0</td>\n",
       "      <td>1187144.0</td>\n",
       "      <td>48134.0</td>\n",
       "      <td>0.942019</td>\n",
       "      <td>0.472346</td>\n",
       "      <td>0.329199</td>\n",
       "    </tr>\n",
       "    <tr>\n",
       "      <th>1</th>\n",
       "      <td>0.152166</td>\n",
       "      <td>72100.0</td>\n",
       "      <td>31394.0</td>\n",
       "      <td>4822736.0</td>\n",
       "      <td>214922.0</td>\n",
       "      <td>0.952089</td>\n",
       "      <td>0.696659</td>\n",
       "      <td>0.251200</td>\n",
       "      <td>0.161577</td>\n",
       "      <td>22868.0</td>\n",
       "      <td>16983.0</td>\n",
       "      <td>1196549.0</td>\n",
       "      <td>48888.0</td>\n",
       "      <td>0.948750</td>\n",
       "      <td>0.573838</td>\n",
       "      <td>0.318691</td>\n",
       "    </tr>\n",
       "    <tr>\n",
       "      <th>2</th>\n",
       "      <td>0.147187</td>\n",
       "      <td>77463.0</td>\n",
       "      <td>31800.0</td>\n",
       "      <td>4822330.0</td>\n",
       "      <td>209559.0</td>\n",
       "      <td>0.953054</td>\n",
       "      <td>0.708959</td>\n",
       "      <td>0.269885</td>\n",
       "      <td>0.150965</td>\n",
       "      <td>20596.0</td>\n",
       "      <td>10242.0</td>\n",
       "      <td>1203290.0</td>\n",
       "      <td>51160.0</td>\n",
       "      <td>0.952227</td>\n",
       "      <td>0.667877</td>\n",
       "      <td>0.287028</td>\n",
       "    </tr>\n",
       "    <tr>\n",
       "      <th>3</th>\n",
       "      <td>0.143618</td>\n",
       "      <td>81525.0</td>\n",
       "      <td>32170.0</td>\n",
       "      <td>4821960.0</td>\n",
       "      <td>205497.0</td>\n",
       "      <td>0.953772</td>\n",
       "      <td>0.717050</td>\n",
       "      <td>0.284037</td>\n",
       "      <td>0.151777</td>\n",
       "      <td>20872.0</td>\n",
       "      <td>10587.0</td>\n",
       "      <td>1202945.0</td>\n",
       "      <td>50884.0</td>\n",
       "      <td>0.952173</td>\n",
       "      <td>0.663467</td>\n",
       "      <td>0.290875</td>\n",
       "    </tr>\n",
       "    <tr>\n",
       "      <th>4</th>\n",
       "      <td>0.140713</td>\n",
       "      <td>84860.0</td>\n",
       "      <td>32149.0</td>\n",
       "      <td>4821981.0</td>\n",
       "      <td>202162.0</td>\n",
       "      <td>0.954424</td>\n",
       "      <td>0.725243</td>\n",
       "      <td>0.295657</td>\n",
       "      <td>0.152079</td>\n",
       "      <td>19638.0</td>\n",
       "      <td>8253.0</td>\n",
       "      <td>1205279.0</td>\n",
       "      <td>52118.0</td>\n",
       "      <td>0.953029</td>\n",
       "      <td>0.704098</td>\n",
       "      <td>0.273677</td>\n",
       "    </tr>\n",
       "    <tr>\n",
       "      <th>5</th>\n",
       "      <td>0.137965</td>\n",
       "      <td>87954.0</td>\n",
       "      <td>32270.0</td>\n",
       "      <td>4821860.0</td>\n",
       "      <td>199068.0</td>\n",
       "      <td>0.955003</td>\n",
       "      <td>0.731584</td>\n",
       "      <td>0.306436</td>\n",
       "      <td>0.149519</td>\n",
       "      <td>18706.0</td>\n",
       "      <td>7240.0</td>\n",
       "      <td>1206292.0</td>\n",
       "      <td>53050.0</td>\n",
       "      <td>0.953092</td>\n",
       "      <td>0.720959</td>\n",
       "      <td>0.260689</td>\n",
       "    </tr>\n",
       "    <tr>\n",
       "      <th>6</th>\n",
       "      <td>0.135585</td>\n",
       "      <td>90566.0</td>\n",
       "      <td>32054.0</td>\n",
       "      <td>4822076.0</td>\n",
       "      <td>196456.0</td>\n",
       "      <td>0.955553</td>\n",
       "      <td>0.738591</td>\n",
       "      <td>0.315537</td>\n",
       "      <td>0.149828</td>\n",
       "      <td>17895.0</td>\n",
       "      <td>6485.0</td>\n",
       "      <td>1207047.0</td>\n",
       "      <td>53861.0</td>\n",
       "      <td>0.953049</td>\n",
       "      <td>0.734003</td>\n",
       "      <td>0.249387</td>\n",
       "    </tr>\n",
       "    <tr>\n",
       "      <th>7</th>\n",
       "      <td>0.133192</td>\n",
       "      <td>93211.0</td>\n",
       "      <td>32287.0</td>\n",
       "      <td>4821843.0</td>\n",
       "      <td>193811.0</td>\n",
       "      <td>0.956022</td>\n",
       "      <td>0.742729</td>\n",
       "      <td>0.324752</td>\n",
       "      <td>0.151381</td>\n",
       "      <td>17940.0</td>\n",
       "      <td>7053.0</td>\n",
       "      <td>1206479.0</td>\n",
       "      <td>53816.0</td>\n",
       "      <td>0.952642</td>\n",
       "      <td>0.717801</td>\n",
       "      <td>0.250014</td>\n",
       "    </tr>\n",
       "    <tr>\n",
       "      <th>8</th>\n",
       "      <td>0.131001</td>\n",
       "      <td>95398.0</td>\n",
       "      <td>32008.0</td>\n",
       "      <td>4822122.0</td>\n",
       "      <td>191624.0</td>\n",
       "      <td>0.956502</td>\n",
       "      <td>0.748772</td>\n",
       "      <td>0.332372</td>\n",
       "      <td>0.149976</td>\n",
       "      <td>18722.0</td>\n",
       "      <td>7389.0</td>\n",
       "      <td>1206143.0</td>\n",
       "      <td>53034.0</td>\n",
       "      <td>0.952989</td>\n",
       "      <td>0.717016</td>\n",
       "      <td>0.260912</td>\n",
       "    </tr>\n",
       "    <tr>\n",
       "      <th>9</th>\n",
       "      <td>0.128652</td>\n",
       "      <td>97957.0</td>\n",
       "      <td>32003.0</td>\n",
       "      <td>4822127.0</td>\n",
       "      <td>189065.0</td>\n",
       "      <td>0.957000</td>\n",
       "      <td>0.753747</td>\n",
       "      <td>0.341287</td>\n",
       "      <td>0.148263</td>\n",
       "      <td>19931.0</td>\n",
       "      <td>8035.0</td>\n",
       "      <td>1205497.0</td>\n",
       "      <td>51825.0</td>\n",
       "      <td>0.953427</td>\n",
       "      <td>0.712687</td>\n",
       "      <td>0.277761</td>\n",
       "    </tr>\n",
       "    <tr>\n",
       "      <th>10</th>\n",
       "      <td>0.126509</td>\n",
       "      <td>100128.0</td>\n",
       "      <td>31898.0</td>\n",
       "      <td>4822232.0</td>\n",
       "      <td>186894.0</td>\n",
       "      <td>0.957443</td>\n",
       "      <td>0.758396</td>\n",
       "      <td>0.348851</td>\n",
       "      <td>0.150312</td>\n",
       "      <td>21521.0</td>\n",
       "      <td>10544.0</td>\n",
       "      <td>1202988.0</td>\n",
       "      <td>50235.0</td>\n",
       "      <td>0.952712</td>\n",
       "      <td>0.671168</td>\n",
       "      <td>0.299919</td>\n",
       "    </tr>\n",
       "  </tbody>\n",
       "</table>\n",
       "</div>"
      ],
      "text/plain": [
       "        loss        tp       fp         tn        fn  accuracy  precision  \\\n",
       "0   0.164045   62854.0  34782.0  4819348.0  224168.0  0.949632   0.643758   \n",
       "1   0.152166   72100.0  31394.0  4822736.0  214922.0  0.952089   0.696659   \n",
       "2   0.147187   77463.0  31800.0  4822330.0  209559.0  0.953054   0.708959   \n",
       "3   0.143618   81525.0  32170.0  4821960.0  205497.0  0.953772   0.717050   \n",
       "4   0.140713   84860.0  32149.0  4821981.0  202162.0  0.954424   0.725243   \n",
       "5   0.137965   87954.0  32270.0  4821860.0  199068.0  0.955003   0.731584   \n",
       "6   0.135585   90566.0  32054.0  4822076.0  196456.0  0.955553   0.738591   \n",
       "7   0.133192   93211.0  32287.0  4821843.0  193811.0  0.956022   0.742729   \n",
       "8   0.131001   95398.0  32008.0  4822122.0  191624.0  0.956502   0.748772   \n",
       "9   0.128652   97957.0  32003.0  4822127.0  189065.0  0.957000   0.753747   \n",
       "10  0.126509  100128.0  31898.0  4822232.0  186894.0  0.957443   0.758396   \n",
       "\n",
       "      recall  val_loss   val_tp   val_fp     val_tn   val_fn  val_accuracy  \\\n",
       "0   0.218987  0.184724  23622.0  26388.0  1187144.0  48134.0      0.942019   \n",
       "1   0.251200  0.161577  22868.0  16983.0  1196549.0  48888.0      0.948750   \n",
       "2   0.269885  0.150965  20596.0  10242.0  1203290.0  51160.0      0.952227   \n",
       "3   0.284037  0.151777  20872.0  10587.0  1202945.0  50884.0      0.952173   \n",
       "4   0.295657  0.152079  19638.0   8253.0  1205279.0  52118.0      0.953029   \n",
       "5   0.306436  0.149519  18706.0   7240.0  1206292.0  53050.0      0.953092   \n",
       "6   0.315537  0.149828  17895.0   6485.0  1207047.0  53861.0      0.953049   \n",
       "7   0.324752  0.151381  17940.0   7053.0  1206479.0  53816.0      0.952642   \n",
       "8   0.332372  0.149976  18722.0   7389.0  1206143.0  53034.0      0.952989   \n",
       "9   0.341287  0.148263  19931.0   8035.0  1205497.0  51825.0      0.953427   \n",
       "10  0.348851  0.150312  21521.0  10544.0  1202988.0  50235.0      0.952712   \n",
       "\n",
       "    val_precision  val_recall  \n",
       "0        0.472346    0.329199  \n",
       "1        0.573838    0.318691  \n",
       "2        0.667877    0.287028  \n",
       "3        0.663467    0.290875  \n",
       "4        0.704098    0.273677  \n",
       "5        0.720959    0.260689  \n",
       "6        0.734003    0.249387  \n",
       "7        0.717801    0.250014  \n",
       "8        0.717016    0.260912  \n",
       "9        0.712687    0.277761  \n",
       "10       0.671168    0.299919  "
      ]
     },
     "execution_count": 164,
     "metadata": {},
     "output_type": "execute_result"
    }
   ],
   "source": [
    "pd.DataFrame(history_model_2_fine_multi_optimizer.history)"
   ]
  },
  {
   "cell_type": "code",
   "execution_count": 82,
   "metadata": {},
   "outputs": [],
   "source": [
    "# model_2_fine_multi_optimizer.load_weights(\"../trained_models/IN_SHOP_Models/model_2_fine_multi_optimizer_STEP3.h5\") "
   ]
  },
  {
   "cell_type": "code",
   "execution_count": 83,
   "metadata": {},
   "outputs": [],
   "source": [
    "model_2_fine_multi_optimizer.save(\"../trained_models/IN_SHOP_Models/model_2_fine_multi_optimizer_STEP3_V2.h5\",include_optimizer=False)"
   ]
  },
  {
   "cell_type": "code",
   "execution_count": 183,
   "metadata": {},
   "outputs": [],
   "source": [
    "pd.DataFrame(history_model_2_fine_multi_optimizer.history).to_csv(\"../trained_models/IN_SHOP_Models/model_2_fine_multi_optimizer_STEP3.csv\")"
   ]
  },
  {
   "cell_type": "markdown",
   "metadata": {},
   "source": [
    "## Model 3: Resnets"
   ]
  },
  {
   "cell_type": "code",
   "execution_count": 34,
   "metadata": {},
   "outputs": [],
   "source": [
    "res_net = tf.keras.applications.resnet_v2.ResNet50V2(include_top=False)\n",
    "res_net.trainable = False"
   ]
  },
  {
   "cell_type": "code",
   "execution_count": 39,
   "metadata": {},
   "outputs": [],
   "source": [
    "from tensorflow import keras \n",
    "\n",
    "inputs = keras.Input(shape=(IMG_WIDTH,IMG_HEIGHT,3)) \n",
    "x = res_net(inputs) \n",
    "x = keras.layers.GlobalAveragePooling2D()(x) \n",
    "initializer = tf.keras.initializers.GlorotUniform(seed=42) \n",
    "activation = tf.keras.activations.sigmoid  \n",
    "outputs = keras.layers.Dense(nr_of_classes,\n",
    "                             kernel_initializer=initializer, \n",
    "                             activation=activation)(x) \n",
    "model_3 = keras.Model(inputs, outputs) \n",
    "\n",
    "\n",
    "METRICS = [\n",
    "      keras.metrics.TruePositives(name='tp'),\n",
    "      keras.metrics.FalsePositives(name='fp'),\n",
    "      keras.metrics.TrueNegatives(name='tn'),\n",
    "      keras.metrics.FalseNegatives(name='fn'), \n",
    "      keras.metrics.BinaryAccuracy(name='accuracy'),\n",
    "      keras.metrics.Precision(name='precision'),\n",
    "      keras.metrics.Recall(name='recall')\n",
    "]\n",
    "\n",
    "model_3.compile(optimizer=keras.optimizers.Adam(),\n",
    "                    loss=keras.losses.BinaryCrossentropy(), \n",
    "                    metrics=METRICS)\n",
    "\n",
    "checkpoint_path = \"checkpoints/IN_SHOP_Resnet_MODEL_3/checkpoint-{epoch:01d}.ckpt\" \n",
    "checkpoint_callback = tf.keras.callbacks.ModelCheckpoint(filepath=checkpoint_path,\n",
    "                                                         save_weights_only=True,\n",
    "                                                         save_best_only=False,\n",
    "                                                         verbose=1)"
   ]
  },
  {
   "cell_type": "code",
   "execution_count": 40,
   "metadata": {},
   "outputs": [
    {
     "name": "stdout",
     "output_type": "stream",
     "text": [
      "Epoch 1/5\n",
      "824/824 [==============================] - ETA: 0s - loss: 4.6921 - tp: 197623.0000 - fp: 2501373.0000 - tn: 6132541.0000 - fn: 307749.0000 - accuracy: 0.6926 - precision: 0.0732 - recall: 0.3910\n",
      "Epoch 1: saving model to checkpoints/IN_SHOP_Resnet_MODEL_3\\checkpoint-1.ckpt\n",
      "824/824 [==============================] - 2217s 3s/step - loss: 4.6921 - tp: 197623.0000 - fp: 2501373.0000 - tn: 6132541.0000 - fn: 307749.0000 - accuracy: 0.6926 - precision: 0.0732 - recall: 0.3910 - val_loss: 4.4060 - val_tp: 25920.0000 - val_fp: 303936.0000 - val_tn: 822340.0000 - val_fn: 40096.0000 - val_accuracy: 0.7115 - val_precision: 0.0786 - val_recall: 0.3926\n",
      "Epoch 2/5\n",
      "824/824 [==============================] - ETA: 0s - loss: 4.4180 - tp: 194782.0000 - fp: 2333666.0000 - tn: 6300248.0000 - fn: 310590.0000 - accuracy: 0.7107 - precision: 0.0770 - recall: 0.3854\n",
      "Epoch 2: saving model to checkpoints/IN_SHOP_Resnet_MODEL_3\\checkpoint-2.ckpt\n",
      "824/824 [==============================] - 2144s 3s/step - loss: 4.4180 - tp: 194782.0000 - fp: 2333666.0000 - tn: 6300248.0000 - fn: 310590.0000 - accuracy: 0.7107 - precision: 0.0770 - recall: 0.3854 - val_loss: 4.4060 - val_tp: 25920.0000 - val_fp: 303936.0000 - val_tn: 822340.0000 - val_fn: 40096.0000 - val_accuracy: 0.7115 - val_precision: 0.0786 - val_recall: 0.3926\n",
      "Epoch 3/5\n",
      "824/824 [==============================] - ETA: 0s - loss: 4.4180 - tp: 194782.0000 - fp: 2333666.0000 - tn: 6300248.0000 - fn: 310590.0000 - accuracy: 0.7107 - precision: 0.0770 - recall: 0.3854\n",
      "Epoch 3: saving model to checkpoints/IN_SHOP_Resnet_MODEL_3\\checkpoint-3.ckpt\n",
      "824/824 [==============================] - 2145s 3s/step - loss: 4.4180 - tp: 194782.0000 - fp: 2333666.0000 - tn: 6300248.0000 - fn: 310590.0000 - accuracy: 0.7107 - precision: 0.0770 - recall: 0.3854 - val_loss: 4.4060 - val_tp: 25920.0000 - val_fp: 303936.0000 - val_tn: 822340.0000 - val_fn: 40096.0000 - val_accuracy: 0.7115 - val_precision: 0.0786 - val_recall: 0.3926\n",
      "Epoch 4/5\n",
      "824/824 [==============================] - ETA: 0s - loss: 4.4180 - tp: 194782.0000 - fp: 2333666.0000 - tn: 6300248.0000 - fn: 310590.0000 - accuracy: 0.7107 - precision: 0.0770 - recall: 0.3854\n",
      "Epoch 4: saving model to checkpoints/IN_SHOP_Resnet_MODEL_3\\checkpoint-4.ckpt\n",
      "824/824 [==============================] - 2126s 3s/step - loss: 4.4180 - tp: 194782.0000 - fp: 2333666.0000 - tn: 6300248.0000 - fn: 310590.0000 - accuracy: 0.7107 - precision: 0.0770 - recall: 0.3854 - val_loss: 4.4060 - val_tp: 25920.0000 - val_fp: 303936.0000 - val_tn: 822340.0000 - val_fn: 40096.0000 - val_accuracy: 0.7115 - val_precision: 0.0786 - val_recall: 0.3926\n",
      "Epoch 5/5\n",
      "824/824 [==============================] - ETA: 0s - loss: 4.4180 - tp: 194782.0000 - fp: 2333666.0000 - tn: 6300248.0000 - fn: 310590.0000 - accuracy: 0.7107 - precision: 0.0770 - recall: 0.3854\n",
      "Epoch 5: saving model to checkpoints/IN_SHOP_Resnet_MODEL_3\\checkpoint-5.ckpt\n",
      "824/824 [==============================] - 2228s 3s/step - loss: 4.4180 - tp: 194782.0000 - fp: 2333666.0000 - tn: 6300248.0000 - fn: 310590.0000 - accuracy: 0.7107 - precision: 0.0770 - recall: 0.3854 - val_loss: 4.4060 - val_tp: 25920.0000 - val_fp: 303936.0000 - val_tn: 822340.0000 - val_fn: 40096.0000 - val_accuracy: 0.7115 - val_precision: 0.0786 - val_recall: 0.3926\n"
     ]
    }
   ],
   "source": [
    "history_model_3 = model_3.fit(ds_train_batched, \n",
    "        validation_data = ds_test_batched,\n",
    "        epochs=5,  \n",
    "        callbacks=[checkpoint_callback])"
   ]
  },
  {
   "cell_type": "code",
   "execution_count": null,
   "metadata": {},
   "outputs": [],
   "source": []
  }
 ],
 "metadata": {
  "kernelspec": {
   "display_name": "Python 3.9.13 ('env_similar-products')",
   "language": "python",
   "name": "python3"
  },
  "language_info": {
   "codemirror_mode": {
    "name": "ipython",
    "version": 3
   },
   "file_extension": ".py",
   "mimetype": "text/x-python",
   "name": "python",
   "nbconvert_exporter": "python",
   "pygments_lexer": "ipython3",
   "version": "3.9.13"
  },
  "orig_nbformat": 4,
  "vscode": {
   "interpreter": {
    "hash": "3a9fdba9d57aea1bb5c6986083e3594030ae55b020a0216061e1820b16640168"
   }
  }
 },
 "nbformat": 4,
 "nbformat_minor": 2
}
