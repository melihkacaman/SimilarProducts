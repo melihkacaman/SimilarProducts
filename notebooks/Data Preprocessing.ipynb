{
 "cells": [
  {
   "cell_type": "markdown",
   "source": [
    "# Data Preprocessing\n",
    "\n",
    "author: Melih Kacaman\n",
    "date: 05-10-2022"
   ],
   "metadata": {
    "collapsed": false
   }
  },
  {
   "cell_type": "markdown",
   "source": [
    "# Constants"
   ],
   "metadata": {
    "collapsed": false
   }
  },
  {
   "cell_type": "code",
   "execution_count": 3,
   "outputs": [],
   "source": [
    "import warnings\n",
    "warnings.filterwarnings(\"ignore\")\n",
    "\n",
    "DATASET1_ODBC = 'PROTO.Melih.Dataset1_SimilarProducts'\n",
    "DATASET1_TITLE = 'dataset1'"
   ],
   "metadata": {
    "collapsed": false
   }
  },
  {
   "cell_type": "markdown",
   "source": [
    "## Connect to the MSSQL Server"
   ],
   "metadata": {
    "collapsed": false
   }
  },
  {
   "cell_type": "code",
   "execution_count": 4,
   "outputs": [
    {
     "data": {
      "text/plain": "        WebSecenek MarkaKodu CinsiyetKodu UrunGrubuKodu    Renk  \\\n0   50202512-VR033        08            1           0TK   VR033   \n1  50202513-DN0022        05            1           080  DN0022   \n2  50202513-DN0022        05            1           080  DN0022   \n3  50202518-DN0022        05            1           080  DN0022   \n4  50202518-DN0022        05            1           080  DN0022   \n\n                                                cUrl  UrlNo  \n0  https://resim.aydinli.com.tr/08/1/0TK/S5020251...      2  \n1  https://resim.aydinli.com.tr/05/1/080/S5020251...      1  \n2  https://resim.aydinli.com.tr/05/1/080/S5020251...      2  \n3  https://resim.aydinli.com.tr/05/1/080/S5020251...      1  \n4  https://resim.aydinli.com.tr/05/1/080/S5020251...      2  ",
      "text/html": "<div>\n<style scoped>\n    .dataframe tbody tr th:only-of-type {\n        vertical-align: middle;\n    }\n\n    .dataframe tbody tr th {\n        vertical-align: top;\n    }\n\n    .dataframe thead th {\n        text-align: right;\n    }\n</style>\n<table border=\"1\" class=\"dataframe\">\n  <thead>\n    <tr style=\"text-align: right;\">\n      <th></th>\n      <th>WebSecenek</th>\n      <th>MarkaKodu</th>\n      <th>CinsiyetKodu</th>\n      <th>UrunGrubuKodu</th>\n      <th>Renk</th>\n      <th>cUrl</th>\n      <th>UrlNo</th>\n    </tr>\n  </thead>\n  <tbody>\n    <tr>\n      <th>0</th>\n      <td>50202512-VR033</td>\n      <td>08</td>\n      <td>1</td>\n      <td>0TK</td>\n      <td>VR033</td>\n      <td>https://resim.aydinli.com.tr/08/1/0TK/S5020251...</td>\n      <td>2</td>\n    </tr>\n    <tr>\n      <th>1</th>\n      <td>50202513-DN0022</td>\n      <td>05</td>\n      <td>1</td>\n      <td>080</td>\n      <td>DN0022</td>\n      <td>https://resim.aydinli.com.tr/05/1/080/S5020251...</td>\n      <td>1</td>\n    </tr>\n    <tr>\n      <th>2</th>\n      <td>50202513-DN0022</td>\n      <td>05</td>\n      <td>1</td>\n      <td>080</td>\n      <td>DN0022</td>\n      <td>https://resim.aydinli.com.tr/05/1/080/S5020251...</td>\n      <td>2</td>\n    </tr>\n    <tr>\n      <th>3</th>\n      <td>50202518-DN0022</td>\n      <td>05</td>\n      <td>1</td>\n      <td>080</td>\n      <td>DN0022</td>\n      <td>https://resim.aydinli.com.tr/05/1/080/S5020251...</td>\n      <td>1</td>\n    </tr>\n    <tr>\n      <th>4</th>\n      <td>50202518-DN0022</td>\n      <td>05</td>\n      <td>1</td>\n      <td>080</td>\n      <td>DN0022</td>\n      <td>https://resim.aydinli.com.tr/05/1/080/S5020251...</td>\n      <td>2</td>\n    </tr>\n  </tbody>\n</table>\n</div>"
     },
     "execution_count": 4,
     "metadata": {},
     "output_type": "execute_result"
    }
   ],
   "source": [
    "from common.sql_helper import custom_query\n",
    "import pandas as pd\n",
    "\n",
    "query = f'select * from {DATASET1_ODBC}'\n",
    "result = custom_query(query=query)\n",
    "\n",
    "result.head()"
   ],
   "metadata": {
    "collapsed": false
   }
  },
  {
   "cell_type": "markdown",
   "source": [
    "# Download Images"
   ],
   "metadata": {
    "collapsed": false
   }
  },
  {
   "cell_type": "code",
   "execution_count": 5,
   "outputs": [
    {
     "data": {
      "text/plain": "   CinsiyetKodu UrunGrubuKodu    Renk\n0             1           0TK   VR033\n1             1           080  DN0022\n5             2           011   VR013\n9             2           011   VR033\n11            3           082   VR033",
      "text/html": "<div>\n<style scoped>\n    .dataframe tbody tr th:only-of-type {\n        vertical-align: middle;\n    }\n\n    .dataframe tbody tr th {\n        vertical-align: top;\n    }\n\n    .dataframe thead th {\n        text-align: right;\n    }\n</style>\n<table border=\"1\" class=\"dataframe\">\n  <thead>\n    <tr style=\"text-align: right;\">\n      <th></th>\n      <th>CinsiyetKodu</th>\n      <th>UrunGrubuKodu</th>\n      <th>Renk</th>\n    </tr>\n  </thead>\n  <tbody>\n    <tr>\n      <th>0</th>\n      <td>1</td>\n      <td>0TK</td>\n      <td>VR033</td>\n    </tr>\n    <tr>\n      <th>1</th>\n      <td>1</td>\n      <td>080</td>\n      <td>DN0022</td>\n    </tr>\n    <tr>\n      <th>5</th>\n      <td>2</td>\n      <td>011</td>\n      <td>VR013</td>\n    </tr>\n    <tr>\n      <th>9</th>\n      <td>2</td>\n      <td>011</td>\n      <td>VR033</td>\n    </tr>\n    <tr>\n      <th>11</th>\n      <td>3</td>\n      <td>082</td>\n      <td>VR033</td>\n    </tr>\n  </tbody>\n</table>\n</div>"
     },
     "execution_count": 5,
     "metadata": {},
     "output_type": "execute_result"
    }
   ],
   "source": [
    "class_names = result[['CinsiyetKodu', 'UrunGrubuKodu', 'Renk']].drop_duplicates()\n",
    "class_names.head()"
   ],
   "metadata": {
    "collapsed": false
   }
  },
  {
   "cell_type": "code",
   "execution_count": 6,
   "outputs": [],
   "source": [
    "import requests\n",
    "\n",
    "def save_image(image_url, path):\n",
    "    img_data = requests.get(image_url).content\n",
    "    with open(path, 'wb') as handler:\n",
    "        handler.write(img_data)"
   ],
   "metadata": {
    "collapsed": false
   }
  },
  {
   "cell_type": "code",
   "execution_count": 21,
   "outputs": [],
   "source": [
    "import requests\n",
    "from PIL import Image\n",
    "import io\n",
    "\n",
    "def save_image_resize(image_url, path):\n",
    "    img_data = requests.get(image_url).content\n",
    "\n",
    "    with Image.open(io.BytesIO(img_data)) as im:\n",
    "        im = im.resize((224, 224), Image.ANTIALIAS)\n",
    "        im.save(path, optimize=True, quality=95)"
   ],
   "metadata": {
    "collapsed": false
   }
  },
  {
   "cell_type": "code",
   "execution_count": 19,
   "outputs": [],
   "source": [
    "import os\n",
    "\n",
    "def make_dataset(bran_id, dataset_name, datasource, iteration = None):\n",
    "    try:\n",
    "        base = os.path.abspath(os.path.join(os.path.dirname(os.getcwd()), '.'))\n",
    "        path = os.path.join('datasets', dataset_name)\n",
    "        path = os.path.join(base, path)\n",
    "        if not os.path.isdir(path):\n",
    "            os.mkdir(path)\n",
    "        path = os.path.join(path, f'brand_{bran_id}')\n",
    "        if not os.path.isdir(path):\n",
    "            os.mkdir(path)\n",
    "        # datasets/dataset/brand_id\n",
    "\n",
    "        iterator = 0\n",
    "        for index, row in class_names.iterrows():\n",
    "            _class = row['CinsiyetKodu'] + '-'+ row['UrunGrubuKodu'] + '-' + row['Renk']\n",
    "            folder = os.path.join(path, _class)\n",
    "            res = datasource.query(f'MarkaKodu == \"{bran_id}\" and CinsiyetKodu == \"{row.CinsiyetKodu}\" and UrunGrubuKodu == \"{row.UrunGrubuKodu}\" and Renk == \"{row.Renk}\"')\n",
    "\n",
    "            # if exists any data\n",
    "            if res.shape[0] > 0:\n",
    "                # check the folder exist\n",
    "                if not os.path.isdir(folder):\n",
    "                    os.mkdir(folder)\n",
    "\n",
    "                # add the imgs to the folder\n",
    "                for img_index, img_row in res.iterrows():\n",
    "                    save_image_resize(img_row['cUrl'], os.path.join(folder, str(img_index) + '.jpg'))\n",
    "                    if iteration is not None and iterator == iteration:\n",
    "                        break\n",
    "                    else:\n",
    "                        iterator+=1\n",
    "    except Exception as e:\n",
    "        print('An exception occurred.', e)"
   ],
   "metadata": {
    "collapsed": false
   }
  },
  {
   "cell_type": "code",
   "execution_count": 14,
   "outputs": [
    {
     "name": "stdout",
     "output_type": "stream",
     "text": [
      "CPU times: total: 33.7 s\n",
      "Wall time: 5min 17s\n"
     ]
    }
   ],
   "source": [
    "%%time\n",
    "res = make_dataset('08', dataset_name=DATASET1_TITLE, datasource=result, iteration=1000)"
   ],
   "metadata": {
    "collapsed": false
   }
  },
  {
   "cell_type": "code",
   "execution_count": 26,
   "outputs": [
    {
     "name": "stdout",
     "output_type": "stream",
     "text": [
      "CPU times: total: 16.9 s\n",
      "Wall time: 41.8 s\n"
     ]
    }
   ],
   "source": [
    "%%time\n",
    "res = make_dataset('08', dataset_name='dataset_5', datasource=result, iteration=10)"
   ],
   "metadata": {
    "collapsed": false
   }
  },
  {
   "cell_type": "code",
   "execution_count": 25,
   "outputs": [
    {
     "data": {
      "text/plain": "(69892, 7)"
     },
     "execution_count": 25,
     "metadata": {},
     "output_type": "execute_result"
    }
   ],
   "source": [
    "result.shape"
   ],
   "metadata": {
    "collapsed": false
   }
  },
  {
   "cell_type": "markdown",
   "source": [
    "## For USPA"
   ],
   "metadata": {
    "collapsed": false
   }
  },
  {
   "cell_type": "code",
   "execution_count": 8,
   "outputs": [],
   "source": [],
   "metadata": {
    "collapsed": false
   }
  },
  {
   "cell_type": "markdown",
   "source": [
    "## For PC"
   ],
   "metadata": {
    "collapsed": false
   }
  },
  {
   "cell_type": "code",
   "execution_count": 8,
   "outputs": [],
   "source": [],
   "metadata": {
    "collapsed": false
   }
  },
  {
   "cell_type": "markdown",
   "source": [
    "## For Cacharel"
   ],
   "metadata": {
    "collapsed": false
   }
  },
  {
   "cell_type": "code",
   "execution_count": 8,
   "outputs": [],
   "source": [],
   "metadata": {
    "collapsed": false
   }
  }
 ],
 "metadata": {
  "kernelspec": {
   "display_name": "Python 3",
   "language": "python",
   "name": "python3"
  },
  "language_info": {
   "codemirror_mode": {
    "name": "ipython",
    "version": 2
   },
   "file_extension": ".py",
   "mimetype": "text/x-python",
   "name": "python",
   "nbconvert_exporter": "python",
   "pygments_lexer": "ipython2",
   "version": "2.7.6"
  }
 },
 "nbformat": 4,
 "nbformat_minor": 0
}
