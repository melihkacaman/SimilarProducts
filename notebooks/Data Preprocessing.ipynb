{
 "cells": [
  {
   "cell_type": "markdown",
   "source": [
    "# Data Preprocessing\n",
    "\n",
    "author: Melih Kacaman\n",
    "date: 05-10-2022"
   ],
   "metadata": {
    "collapsed": false
   }
  },
  {
   "cell_type": "markdown",
   "source": [
    "# Constants"
   ],
   "metadata": {
    "collapsed": false
   }
  },
  {
   "cell_type": "code",
   "execution_count": 3,
   "outputs": [],
   "source": [
    "import warnings\n",
    "warnings.filterwarnings(\"ignore\")\n",
    "\n",
    "DATASET1_ODBC = 'PROTO.Melih.Dataset1_SimilarProducts'"
   ],
   "metadata": {
    "collapsed": false
   }
  },
  {
   "cell_type": "markdown",
   "source": [
    "## Connect to the MSSQL Server"
   ],
   "metadata": {
    "collapsed": false
   }
  },
  {
   "cell_type": "code",
   "execution_count": 4,
   "outputs": [
    {
     "data": {
      "text/plain": "     WebSecenek MarkaKodu CinsiyetKodu UrunGrubuKodu Renk  \\\n0  30028252-880        05            1           033  880   \n1  30028252-880        05            1           033  880   \n2  30028262-591        05            1           033  591   \n3  30028262-591        05            1           033  591   \n4  30028263-001        05            1           033  001   \n\n                                                cUrl  UrlNo  \n0  https://resim.aydinli.com.tr/05/1/033/S3002825...      1  \n1  https://resim.aydinli.com.tr/05/1/033/S3002825...      2  \n2  https://resim.aydinli.com.tr/05/1/033/S3002826...      1  \n3  https://resim.aydinli.com.tr/05/1/033/S3002826...      2  \n4  https://resim.aydinli.com.tr/05/1/033/S3002826...      1  ",
      "text/html": "<div>\n<style scoped>\n    .dataframe tbody tr th:only-of-type {\n        vertical-align: middle;\n    }\n\n    .dataframe tbody tr th {\n        vertical-align: top;\n    }\n\n    .dataframe thead th {\n        text-align: right;\n    }\n</style>\n<table border=\"1\" class=\"dataframe\">\n  <thead>\n    <tr style=\"text-align: right;\">\n      <th></th>\n      <th>WebSecenek</th>\n      <th>MarkaKodu</th>\n      <th>CinsiyetKodu</th>\n      <th>UrunGrubuKodu</th>\n      <th>Renk</th>\n      <th>cUrl</th>\n      <th>UrlNo</th>\n    </tr>\n  </thead>\n  <tbody>\n    <tr>\n      <th>0</th>\n      <td>30028252-880</td>\n      <td>05</td>\n      <td>1</td>\n      <td>033</td>\n      <td>880</td>\n      <td>https://resim.aydinli.com.tr/05/1/033/S3002825...</td>\n      <td>1</td>\n    </tr>\n    <tr>\n      <th>1</th>\n      <td>30028252-880</td>\n      <td>05</td>\n      <td>1</td>\n      <td>033</td>\n      <td>880</td>\n      <td>https://resim.aydinli.com.tr/05/1/033/S3002825...</td>\n      <td>2</td>\n    </tr>\n    <tr>\n      <th>2</th>\n      <td>30028262-591</td>\n      <td>05</td>\n      <td>1</td>\n      <td>033</td>\n      <td>591</td>\n      <td>https://resim.aydinli.com.tr/05/1/033/S3002826...</td>\n      <td>1</td>\n    </tr>\n    <tr>\n      <th>3</th>\n      <td>30028262-591</td>\n      <td>05</td>\n      <td>1</td>\n      <td>033</td>\n      <td>591</td>\n      <td>https://resim.aydinli.com.tr/05/1/033/S3002826...</td>\n      <td>2</td>\n    </tr>\n    <tr>\n      <th>4</th>\n      <td>30028263-001</td>\n      <td>05</td>\n      <td>1</td>\n      <td>033</td>\n      <td>001</td>\n      <td>https://resim.aydinli.com.tr/05/1/033/S3002826...</td>\n      <td>1</td>\n    </tr>\n  </tbody>\n</table>\n</div>"
     },
     "execution_count": 4,
     "metadata": {},
     "output_type": "execute_result"
    }
   ],
   "source": [
    "from common.sql_helper import custom_query\n",
    "import pandas as pd\n",
    "\n",
    "query = f'select * from {DATASET1_ODBC}'\n",
    "result = custom_query(query=query)\n",
    "\n",
    "result.head()"
   ],
   "metadata": {
    "collapsed": false
   }
  },
  {
   "cell_type": "code",
   "execution_count": null,
   "outputs": [],
   "source": [],
   "metadata": {
    "collapsed": false
   }
  }
 ],
 "metadata": {
  "kernelspec": {
   "display_name": "Python 3",
   "language": "python",
   "name": "python3"
  },
  "language_info": {
   "codemirror_mode": {
    "name": "ipython",
    "version": 2
   },
   "file_extension": ".py",
   "mimetype": "text/x-python",
   "name": "python",
   "nbconvert_exporter": "python",
   "pygments_lexer": "ipython2",
   "version": "2.7.6"
  }
 },
 "nbformat": 4,
 "nbformat_minor": 0
}
