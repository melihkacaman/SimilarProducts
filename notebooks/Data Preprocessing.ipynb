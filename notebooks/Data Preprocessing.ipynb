{
 "cells": [
  {
   "cell_type": "markdown",
   "source": [
    "# Data Preprocessing\n",
    "\n",
    "author: Melih Kacaman\n",
    "date: 05-10-2022"
   ],
   "metadata": {
    "collapsed": false
   }
  },
  {
   "cell_type": "markdown",
   "source": [
    "# Constants"
   ],
   "metadata": {
    "collapsed": false
   }
  },
  {
   "cell_type": "code",
   "execution_count": 125,
   "outputs": [],
   "source": [
    "import warnings\n",
    "warnings.filterwarnings(\"ignore\")\n",
    "\n",
    "DATASET1_ODBC = 'PROTO.Melih.Dataset1_SimilarProducts'\n",
    "DATASET1_TITLE = 'dataset1'"
   ],
   "metadata": {
    "collapsed": false
   }
  },
  {
   "cell_type": "markdown",
   "source": [
    "## Connect to the MSSQL Server"
   ],
   "metadata": {
    "collapsed": false
   }
  },
  {
   "cell_type": "code",
   "execution_count": 4,
   "outputs": [
    {
     "data": {
      "text/plain": "     WebSecenek MarkaKodu CinsiyetKodu UrunGrubuKodu Renk  \\\n0  30028252-880        05            1           033  880   \n1  30028252-880        05            1           033  880   \n2  30028262-591        05            1           033  591   \n3  30028262-591        05            1           033  591   \n4  30028263-001        05            1           033  001   \n\n                                                cUrl  UrlNo  \n0  https://resim.aydinli.com.tr/05/1/033/S3002825...      1  \n1  https://resim.aydinli.com.tr/05/1/033/S3002825...      2  \n2  https://resim.aydinli.com.tr/05/1/033/S3002826...      1  \n3  https://resim.aydinli.com.tr/05/1/033/S3002826...      2  \n4  https://resim.aydinli.com.tr/05/1/033/S3002826...      1  ",
      "text/html": "<div>\n<style scoped>\n    .dataframe tbody tr th:only-of-type {\n        vertical-align: middle;\n    }\n\n    .dataframe tbody tr th {\n        vertical-align: top;\n    }\n\n    .dataframe thead th {\n        text-align: right;\n    }\n</style>\n<table border=\"1\" class=\"dataframe\">\n  <thead>\n    <tr style=\"text-align: right;\">\n      <th></th>\n      <th>WebSecenek</th>\n      <th>MarkaKodu</th>\n      <th>CinsiyetKodu</th>\n      <th>UrunGrubuKodu</th>\n      <th>Renk</th>\n      <th>cUrl</th>\n      <th>UrlNo</th>\n    </tr>\n  </thead>\n  <tbody>\n    <tr>\n      <th>0</th>\n      <td>30028252-880</td>\n      <td>05</td>\n      <td>1</td>\n      <td>033</td>\n      <td>880</td>\n      <td>https://resim.aydinli.com.tr/05/1/033/S3002825...</td>\n      <td>1</td>\n    </tr>\n    <tr>\n      <th>1</th>\n      <td>30028252-880</td>\n      <td>05</td>\n      <td>1</td>\n      <td>033</td>\n      <td>880</td>\n      <td>https://resim.aydinli.com.tr/05/1/033/S3002825...</td>\n      <td>2</td>\n    </tr>\n    <tr>\n      <th>2</th>\n      <td>30028262-591</td>\n      <td>05</td>\n      <td>1</td>\n      <td>033</td>\n      <td>591</td>\n      <td>https://resim.aydinli.com.tr/05/1/033/S3002826...</td>\n      <td>1</td>\n    </tr>\n    <tr>\n      <th>3</th>\n      <td>30028262-591</td>\n      <td>05</td>\n      <td>1</td>\n      <td>033</td>\n      <td>591</td>\n      <td>https://resim.aydinli.com.tr/05/1/033/S3002826...</td>\n      <td>2</td>\n    </tr>\n    <tr>\n      <th>4</th>\n      <td>30028263-001</td>\n      <td>05</td>\n      <td>1</td>\n      <td>033</td>\n      <td>001</td>\n      <td>https://resim.aydinli.com.tr/05/1/033/S3002826...</td>\n      <td>1</td>\n    </tr>\n  </tbody>\n</table>\n</div>"
     },
     "execution_count": 4,
     "metadata": {},
     "output_type": "execute_result"
    }
   ],
   "source": [
    "from common.sql_helper import custom_query\n",
    "import pandas as pd\n",
    "\n",
    "query = f'select * from {DATASET1_ODBC}'\n",
    "result = custom_query(query=query)\n",
    "\n",
    "result.head()"
   ],
   "metadata": {
    "collapsed": false
   }
  },
  {
   "cell_type": "markdown",
   "source": [
    "# Download Images"
   ],
   "metadata": {
    "collapsed": false
   }
  },
  {
   "cell_type": "code",
   "execution_count": 127,
   "outputs": [
    {
     "data": {
      "text/plain": "   CinsiyetKodu UrunGrubuKodu Renk\n0             1           033  880\n2             1           033  591\n4             1           033  001\n8             1           033  400\n10            1           033  790",
      "text/html": "<div>\n<style scoped>\n    .dataframe tbody tr th:only-of-type {\n        vertical-align: middle;\n    }\n\n    .dataframe tbody tr th {\n        vertical-align: top;\n    }\n\n    .dataframe thead th {\n        text-align: right;\n    }\n</style>\n<table border=\"1\" class=\"dataframe\">\n  <thead>\n    <tr style=\"text-align: right;\">\n      <th></th>\n      <th>CinsiyetKodu</th>\n      <th>UrunGrubuKodu</th>\n      <th>Renk</th>\n    </tr>\n  </thead>\n  <tbody>\n    <tr>\n      <th>0</th>\n      <td>1</td>\n      <td>033</td>\n      <td>880</td>\n    </tr>\n    <tr>\n      <th>2</th>\n      <td>1</td>\n      <td>033</td>\n      <td>591</td>\n    </tr>\n    <tr>\n      <th>4</th>\n      <td>1</td>\n      <td>033</td>\n      <td>001</td>\n    </tr>\n    <tr>\n      <th>8</th>\n      <td>1</td>\n      <td>033</td>\n      <td>400</td>\n    </tr>\n    <tr>\n      <th>10</th>\n      <td>1</td>\n      <td>033</td>\n      <td>790</td>\n    </tr>\n  </tbody>\n</table>\n</div>"
     },
     "execution_count": 127,
     "metadata": {},
     "output_type": "execute_result"
    }
   ],
   "source": [
    "class_names = result[['CinsiyetKodu', 'UrunGrubuKodu', 'Renk']].drop_duplicates()\n",
    "class_names.head()"
   ],
   "metadata": {
    "collapsed": false
   }
  },
  {
   "cell_type": "code",
   "execution_count": 141,
   "outputs": [],
   "source": [
    "import requests\n",
    "\n",
    "def save_image(image_url, path):\n",
    "    img_data = requests.get(image_url).content\n",
    "    with open(path, 'wb') as handler:\n",
    "        handler.write(img_data)"
   ],
   "metadata": {
    "collapsed": false
   }
  },
  {
   "cell_type": "code",
   "execution_count": 150,
   "outputs": [],
   "source": [
    "import os\n",
    "\n",
    "def foldering(bran_id, dataset_name):\n",
    "    base = os.path.abspath(os.path.join(os.path.dirname(os.getcwd()), '.'))\n",
    "    path = os.path.join('datasets', dataset_name)\n",
    "    path = os.path.join(base, path)\n",
    "    if not os.path.isdir(path):\n",
    "        os.mkdir(path)\n",
    "    path = os.path.join(path, f'brand_{bran_id}')\n",
    "    if not os.path.isdir(path):\n",
    "        os.mkdir(path)\n",
    "    # datasets/dataset/brand_id\n",
    "\n",
    "    for index, row in class_names.iterrows():\n",
    "        _class = row['CinsiyetKodu'] + '-'+ row['UrunGrubuKodu'] + '-' + row['Renk']\n",
    "        folder = os.path.join(path, _class)\n",
    "        res = result.query(f'MarkaKodu == \"{bran_id}\" and CinsiyetKodu == \"{row.CinsiyetKodu}\" and UrunGrubuKodu == \"{row.UrunGrubuKodu}\" and Renk == \"{row.Renk}\"')\n",
    "\n",
    "        # if exists any data\n",
    "        if res.shape[0] > 0:\n",
    "            # check the folder exist\n",
    "            if not os.path.isdir(folder):\n",
    "                os.mkdir(folder)\n",
    "\n",
    "            # add the imgs to the folder\n",
    "            for img_index, img_row in res.iterrows():\n",
    "                save_image(img_row['cUrl'], os.path.join(folder, img_index + '.jpg'))\n",
    "\n",
    "    return\n"
   ],
   "metadata": {
    "collapsed": false
   }
  },
  {
   "cell_type": "code",
   "execution_count": 151,
   "outputs": [
    {
     "name": "stdout",
     "output_type": "stream",
     "text": [
      "423\n",
      "424\n",
      "817\n",
      "818\n",
      "871\n",
      "872\n",
      "1025\n",
      "1026\n",
      "1852\n",
      "1853\n",
      "1854\n",
      "1855\n",
      "2397\n",
      "2398\n",
      "3296\n",
      "3297\n",
      "3428\n",
      "3429\n",
      "3446\n",
      "3447\n",
      "4070\n",
      "4071\n",
      "5224\n",
      "5225\n",
      "5329\n",
      "5330\n",
      "5727\n",
      "5728\n",
      "5824\n",
      "5825\n",
      "6782\n",
      "6783\n"
     ]
    }
   ],
   "source": [
    "res = foldering('08', dataset_name=DATASET1_TITLE)"
   ],
   "metadata": {
    "collapsed": false
   }
  },
  {
   "cell_type": "code",
   "execution_count": null,
   "outputs": [],
   "source": [],
   "metadata": {
    "collapsed": false
   }
  },
  {
   "cell_type": "code",
   "execution_count": 88,
   "outputs": [],
   "source": [],
   "metadata": {
    "collapsed": false
   }
  },
  {
   "cell_type": "code",
   "execution_count": null,
   "outputs": [],
   "source": [],
   "metadata": {
    "collapsed": false
   }
  },
  {
   "cell_type": "markdown",
   "source": [
    "## For USPA"
   ],
   "metadata": {
    "collapsed": false
   }
  },
  {
   "cell_type": "code",
   "execution_count": 8,
   "outputs": [],
   "source": [],
   "metadata": {
    "collapsed": false
   }
  },
  {
   "cell_type": "markdown",
   "source": [
    "## For PC"
   ],
   "metadata": {
    "collapsed": false
   }
  },
  {
   "cell_type": "code",
   "execution_count": 8,
   "outputs": [],
   "source": [],
   "metadata": {
    "collapsed": false
   }
  },
  {
   "cell_type": "markdown",
   "source": [
    "## For Cacharel"
   ],
   "metadata": {
    "collapsed": false
   }
  },
  {
   "cell_type": "code",
   "execution_count": null,
   "outputs": [],
   "source": [],
   "metadata": {
    "collapsed": false
   }
  }
 ],
 "metadata": {
  "kernelspec": {
   "display_name": "Python 3",
   "language": "python",
   "name": "python3"
  },
  "language_info": {
   "codemirror_mode": {
    "name": "ipython",
    "version": 2
   },
   "file_extension": ".py",
   "mimetype": "text/x-python",
   "name": "python",
   "nbconvert_exporter": "python",
   "pygments_lexer": "ipython2",
   "version": "2.7.6"
  }
 },
 "nbformat": 4,
 "nbformat_minor": 0
}
