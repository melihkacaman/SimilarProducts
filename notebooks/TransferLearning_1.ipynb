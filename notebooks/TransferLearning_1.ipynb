{
 "cells": [
  {
   "cell_type": "markdown",
   "metadata": {},
   "source": [
    "This will be the first study for the dataset which we have just extracted.\n",
    "In this work, we begin with a Feature Extractor model. Also, we will be using Clustering Algorihtm with\n",
    "~ Melih Kaçaman - 12/12/2022"
   ]
  },
  {
   "cell_type": "markdown",
   "metadata": {},
   "source": [
    "# Creating Data Loaders"
   ]
  },
  {
   "cell_type": "code",
   "execution_count": null,
   "metadata": {},
   "outputs": [],
   "source": []
  },
  {
   "cell_type": "code",
   "execution_count": null,
   "metadata": {},
   "outputs": [],
   "source": []
  },
  {
   "cell_type": "markdown",
   "metadata": {},
   "source": [
    "# Setting Up Callbacks (things to run whilst our model trains)\n",
    "\n",
    "- Model checkpoint with the ModelCheckPoint callback\n"
   ]
  },
  {
   "cell_type": "code",
   "execution_count": 2,
   "metadata": {},
   "outputs": [],
   "source": [
    "from re import T\n",
    "# Create Tensorboard callback\n",
    "import datetime\n",
    "import tensorflow as tf\n",
    "\n",
    "def create_tensorboard_callback(dir_name, experiment_name):\n",
    "    log_dir = dir_name + '/' + experiment_name + '/' + datetime.datetime.now().strftime(\"%Y%m%d-%H%M%S\")\n",
    "    tensorboard_callback = tf.keras.callbacks.TensorBoard(log_dir=log_dir)\n",
    "    print(f\"Saving Tensorboard log files to: {log_dir}\")\n",
    "    return tensorboard_callback"
   ]
  },
  {
   "cell_type": "markdown",
   "metadata": {},
   "source": [
    "# Creating Models Using Keras Functional API"
   ]
  },
  {
   "cell_type": "code",
   "execution_count": 5,
   "metadata": {},
   "outputs": [],
   "source": [
    "SHAPE_WITH_CHANNELS = (224, 224, 3)\n",
    "SHAPE = (224, 224)"
   ]
  },
  {
   "cell_type": "code",
   "execution_count": 6,
   "metadata": {},
   "outputs": [
    {
     "name": "stdout",
     "output_type": "stream",
     "text": [
      "Downloading data from https://storage.googleapis.com/keras-applications/efficientnetb0_notop.h5\n",
      "16705208/16705208 [==============================] - 16s 1us/step\n"
     ]
    }
   ],
   "source": [
    "base_model = tf.keras.applications.EfficientNetB0(include_top=False)\n",
    "# I'm not going to fine-tune this model.\n",
    "base_model.trainable = False\n",
    "\n",
    "inputs = tf.keras.layers.Input(shape=SHAPE_WITH_CHANNELS, name='input_layer')\n",
    "x = base_model(inputs)\n",
    "outputs = tf.keras.layers.GlobalAvgPool2D(name='global_average_pooling_layer')(x)\n",
    "\n",
    "model_0 = tf.keras.Model(inputs, outputs)"
   ]
  },
  {
   "cell_type": "code",
   "execution_count": 10,
   "metadata": {},
   "outputs": [],
   "source": [
    "img_to_array_custom = tf.keras.preprocessing.image.img_to_array\n",
    "load_img_custom = tf.keras.preprocessing.image.load_img"
   ]
  },
  {
   "cell_type": "code",
   "execution_count": 12,
   "metadata": {},
   "outputs": [],
   "source": [
    "import tensorflow_hub as hub\n",
    "import numpy as np\n",
    "\n",
    "def get_embeddings_img(path):\n",
    "    model = hub.KerasLayer('https://tfhub.dev/tensorflow/efficientnet/lite0/feature-vector/2')\n",
    "    image = load_img_custom(path, target_size=SHAPE)\n",
    "    image = img_to_array_custom(image)\n",
    "    image = np.expand_dims(image, axis=0)\n",
    "\n",
    "    embeddings = model(image)\n",
    "\n",
    "    return embeddings"
   ]
  },
  {
   "cell_type": "code",
   "execution_count": 14,
   "metadata": {},
   "outputs": [
    {
     "name": "stdout",
     "output_type": "stream",
     "text": [
      "WARNING:tensorflow:Please fix your imports. Module tensorflow.python.training.tracking.data_structures has been moved to tensorflow.python.trackable.data_structures. The old module will be deleted in version 2.11.\n"
     ]
    },
    {
     "data": {
      "text/plain": [
       "<tf.Tensor: shape=(1, 1280), dtype=float32, numpy=\n",
       "array([[0.03808071, 0.        , 0.52875704, ..., 0.        , 1.4017409 ,\n",
       "        0.        ]], dtype=float32)>"
      ]
     },
     "execution_count": 14,
     "metadata": {},
     "output_type": "execute_result"
    }
   ],
   "source": [
    "path = '../datasets/dataset_523/brand_08/1-0TK-VR033/0.jpg'\n",
    "res = get_embeddings_img(path)\n",
    "res.shape"
   ]
  },
  {
   "cell_type": "code",
   "execution_count": 18,
   "metadata": {},
   "outputs": [
    {
     "data": {
      "text/plain": [
       "tensorflow.python.framework.ops.EagerTensor"
      ]
     },
     "execution_count": 18,
     "metadata": {},
     "output_type": "execute_result"
    }
   ],
   "source": [
    "type(res)"
   ]
  },
  {
   "cell_type": "code",
   "execution_count": 21,
   "metadata": {},
   "outputs": [
    {
     "data": {
      "text/plain": [
       "numpy.ndarray"
      ]
     },
     "execution_count": 21,
     "metadata": {},
     "output_type": "execute_result"
    }
   ],
   "source": [
    "type(res.numpy())"
   ]
  },
  {
   "cell_type": "code",
   "execution_count": 22,
   "metadata": {},
   "outputs": [
    {
     "data": {
      "text/plain": [
       "array([[0.03808071, 0.        , 0.52875704, ..., 0.        , 1.4017409 ,\n",
       "        0.        ]], dtype=float32)"
      ]
     },
     "execution_count": 22,
     "metadata": {},
     "output_type": "execute_result"
    }
   ],
   "source": [
    "res.numpy()"
   ]
  },
  {
   "cell_type": "code",
   "execution_count": 37,
   "metadata": {},
   "outputs": [
    {
     "data": {
      "text/plain": [
       "[<keras.engine.input_layer.InputLayer at 0x1debe920e80>,\n",
       " <keras.layers.preprocessing.image_preprocessing.Rescaling at 0x1debf708760>,\n",
       " <keras.layers.preprocessing.normalization.Normalization at 0x1debf4a62b0>,\n",
       " <keras.layers.preprocessing.image_preprocessing.Rescaling at 0x1debe920d60>,\n",
       " <keras.layers.reshaping.zero_padding2d.ZeroPadding2D at 0x1debf773940>,\n",
       " <keras.layers.convolutional.conv2d.Conv2D at 0x1debc95f3a0>,\n",
       " <keras.layers.normalization.batch_normalization.BatchNormalization at 0x1debc95f9a0>,\n",
       " <keras.layers.core.activation.Activation at 0x1debf3a2400>,\n",
       " <keras.layers.convolutional.depthwise_conv2d.DepthwiseConv2D at 0x1deb163f250>,\n",
       " <keras.layers.normalization.batch_normalization.BatchNormalization at 0x1debf1a23d0>,\n",
       " <keras.layers.core.activation.Activation at 0x1debf1a2a00>,\n",
       " <keras.layers.pooling.global_average_pooling2d.GlobalAveragePooling2D at 0x1deb163e220>,\n",
       " <keras.layers.reshaping.reshape.Reshape at 0x1debcab0e80>,\n",
       " <keras.layers.convolutional.conv2d.Conv2D at 0x1debeb38f40>,\n",
       " <keras.layers.convolutional.conv2d.Conv2D at 0x1debf27c940>,\n",
       " <keras.layers.merging.multiply.Multiply at 0x1debeb4a670>,\n",
       " <keras.layers.convolutional.conv2d.Conv2D at 0x1debe8abf10>,\n",
       " <keras.layers.normalization.batch_normalization.BatchNormalization at 0x1debf1644f0>,\n",
       " <keras.layers.convolutional.conv2d.Conv2D at 0x1debea0d520>,\n",
       " <keras.layers.normalization.batch_normalization.BatchNormalization at 0x1deb1639b50>,\n",
       " <keras.layers.core.activation.Activation at 0x1dec00c7490>,\n",
       " <keras.layers.reshaping.zero_padding2d.ZeroPadding2D at 0x1dec00b9040>,\n",
       " <keras.layers.convolutional.depthwise_conv2d.DepthwiseConv2D at 0x1dec00bc3d0>,\n",
       " <keras.layers.normalization.batch_normalization.BatchNormalization at 0x1dec00b1f40>,\n",
       " <keras.layers.core.activation.Activation at 0x1dec00b1730>,\n",
       " <keras.layers.pooling.global_average_pooling2d.GlobalAveragePooling2D at 0x1dec00be490>,\n",
       " <keras.layers.reshaping.reshape.Reshape at 0x1dec0377940>,\n",
       " <keras.layers.convolutional.conv2d.Conv2D at 0x1dec038aa90>,\n",
       " <keras.layers.convolutional.conv2d.Conv2D at 0x1dec038ad30>,\n",
       " <keras.layers.merging.multiply.Multiply at 0x1dec038af40>,\n",
       " <keras.layers.convolutional.conv2d.Conv2D at 0x1dec00d0580>,\n",
       " <keras.layers.normalization.batch_normalization.BatchNormalization at 0x1dec00c7250>,\n",
       " <keras.layers.convolutional.conv2d.Conv2D at 0x1debef7fbe0>,\n",
       " <keras.layers.normalization.batch_normalization.BatchNormalization at 0x1debef232e0>,\n",
       " <keras.layers.core.activation.Activation at 0x1debe6ed370>,\n",
       " <keras.layers.convolutional.depthwise_conv2d.DepthwiseConv2D at 0x1dec03af370>,\n",
       " <keras.layers.normalization.batch_normalization.BatchNormalization at 0x1dec038f4f0>,\n",
       " <keras.layers.core.activation.Activation at 0x1dec038f280>,\n",
       " <keras.layers.pooling.global_average_pooling2d.GlobalAveragePooling2D at 0x1debfd92070>,\n",
       " <keras.layers.reshaping.reshape.Reshape at 0x1debfd7c430>,\n",
       " <keras.layers.convolutional.conv2d.Conv2D at 0x1debfd716a0>,\n",
       " <keras.layers.convolutional.conv2d.Conv2D at 0x1debfd85280>,\n",
       " <keras.layers.merging.multiply.Multiply at 0x1debfd85340>,\n",
       " <keras.layers.convolutional.conv2d.Conv2D at 0x1debfd60e20>,\n",
       " <keras.layers.normalization.batch_normalization.BatchNormalization at 0x1debfd92430>,\n",
       " <keras.layers.regularization.dropout.Dropout at 0x1dec03821c0>,\n",
       " <keras.layers.merging.add.Add at 0x1dec0385460>,\n",
       " <keras.layers.convolutional.conv2d.Conv2D at 0x1debf8ecfd0>,\n",
       " <keras.layers.normalization.batch_normalization.BatchNormalization at 0x1debe7bf880>,\n",
       " <keras.layers.core.activation.Activation at 0x1dec00d00a0>,\n",
       " <keras.layers.reshaping.zero_padding2d.ZeroPadding2D at 0x1dec043e730>,\n",
       " <keras.layers.convolutional.depthwise_conv2d.DepthwiseConv2D at 0x1dec0455be0>,\n",
       " <keras.layers.normalization.batch_normalization.BatchNormalization at 0x1debfd79d30>,\n",
       " <keras.layers.core.activation.Activation at 0x1debfd79d00>,\n",
       " <keras.layers.pooling.global_average_pooling2d.GlobalAveragePooling2D at 0x1debfd7bf40>,\n",
       " <keras.layers.reshaping.reshape.Reshape at 0x1debfceab20>,\n",
       " <keras.layers.convolutional.conv2d.Conv2D at 0x1debfd15070>,\n",
       " <keras.layers.convolutional.conv2d.Conv2D at 0x1debfd154c0>,\n",
       " <keras.layers.merging.multiply.Multiply at 0x1debfd155b0>,\n",
       " <keras.layers.convolutional.conv2d.Conv2D at 0x1debfd79be0>,\n",
       " <keras.layers.normalization.batch_normalization.BatchNormalization at 0x1dec04554c0>,\n",
       " <keras.layers.convolutional.conv2d.Conv2D at 0x1debe6de220>,\n",
       " <keras.layers.normalization.batch_normalization.BatchNormalization at 0x1dec00d0070>,\n",
       " <keras.layers.core.activation.Activation at 0x1dec0452730>,\n",
       " <keras.layers.convolutional.depthwise_conv2d.DepthwiseConv2D at 0x1debfd60eb0>,\n",
       " <keras.layers.normalization.batch_normalization.BatchNormalization at 0x1debfce5c40>,\n",
       " <keras.layers.core.activation.Activation at 0x1debfce5670>,\n",
       " <keras.layers.pooling.global_average_pooling2d.GlobalAveragePooling2D at 0x1debfca0670>,\n",
       " <keras.layers.reshaping.reshape.Reshape at 0x1debfcd06d0>,\n",
       " <keras.layers.convolutional.conv2d.Conv2D at 0x1debfcaf790>,\n",
       " <keras.layers.convolutional.conv2d.Conv2D at 0x1dec0066ee0>,\n",
       " <keras.layers.merging.multiply.Multiply at 0x1dec0066fd0>,\n",
       " <keras.layers.convolutional.conv2d.Conv2D at 0x1debfcaf8e0>,\n",
       " <keras.layers.normalization.batch_normalization.BatchNormalization at 0x1debfcac550>,\n",
       " <keras.layers.regularization.dropout.Dropout at 0x1debf8ec310>,\n",
       " <keras.layers.merging.add.Add at 0x1debfcb8370>,\n",
       " <keras.layers.convolutional.conv2d.Conv2D at 0x1dec0385520>,\n",
       " <keras.layers.normalization.batch_normalization.BatchNormalization at 0x1dec00d0280>,\n",
       " <keras.layers.core.activation.Activation at 0x1dec038d310>,\n",
       " <keras.layers.reshaping.zero_padding2d.ZeroPadding2D at 0x1dec0065520>,\n",
       " <keras.layers.convolutional.depthwise_conv2d.DepthwiseConv2D at 0x1debfda7550>,\n",
       " <keras.layers.normalization.batch_normalization.BatchNormalization at 0x1debfddbb80>,\n",
       " <keras.layers.core.activation.Activation at 0x1debfddbca0>,\n",
       " <keras.layers.pooling.global_average_pooling2d.GlobalAveragePooling2D at 0x1debfdb9910>,\n",
       " <keras.layers.reshaping.reshape.Reshape at 0x1dec00038e0>,\n",
       " <keras.layers.convolutional.conv2d.Conv2D at 0x1dec0009a60>,\n",
       " <keras.layers.convolutional.conv2d.Conv2D at 0x1dec00241f0>,\n",
       " <keras.layers.merging.multiply.Multiply at 0x1dec001d9a0>,\n",
       " <keras.layers.convolutional.conv2d.Conv2D at 0x1dec00031f0>,\n",
       " <keras.layers.normalization.batch_normalization.BatchNormalization at 0x1dec0003310>,\n",
       " <keras.layers.convolutional.conv2d.Conv2D at 0x1dec0003070>,\n",
       " <keras.layers.normalization.batch_normalization.BatchNormalization at 0x1dec0050ca0>,\n",
       " <keras.layers.core.activation.Activation at 0x1debfddb970>,\n",
       " <keras.layers.convolutional.depthwise_conv2d.DepthwiseConv2D at 0x1debfd92af0>,\n",
       " <keras.layers.normalization.batch_normalization.BatchNormalization at 0x1debfca0e20>,\n",
       " <keras.layers.core.activation.Activation at 0x1dec0286700>,\n",
       " <keras.layers.pooling.global_average_pooling2d.GlobalAveragePooling2D at 0x1dec029d6a0>,\n",
       " <keras.layers.reshaping.reshape.Reshape at 0x1dec028ffa0>,\n",
       " <keras.layers.convolutional.conv2d.Conv2D at 0x1dec027dee0>,\n",
       " <keras.layers.convolutional.conv2d.Conv2D at 0x1dec027de20>,\n",
       " <keras.layers.merging.multiply.Multiply at 0x1debfd3c910>,\n",
       " <keras.layers.convolutional.conv2d.Conv2D at 0x1debfd5ab80>,\n",
       " <keras.layers.normalization.batch_normalization.BatchNormalization at 0x1dec00aa220>,\n",
       " <keras.layers.regularization.dropout.Dropout at 0x1dec02a0370>,\n",
       " <keras.layers.merging.add.Add at 0x1dec02a04f0>,\n",
       " <keras.layers.convolutional.conv2d.Conv2D at 0x1debfce5a90>,\n",
       " <keras.layers.normalization.batch_normalization.BatchNormalization at 0x1debfd7c850>,\n",
       " <keras.layers.core.activation.Activation at 0x1debfd7cd30>,\n",
       " <keras.layers.convolutional.depthwise_conv2d.DepthwiseConv2D at 0x1dec00412b0>,\n",
       " <keras.layers.normalization.batch_normalization.BatchNormalization at 0x1debfdb9c70>,\n",
       " <keras.layers.core.activation.Activation at 0x1debfdb9b80>,\n",
       " <keras.layers.pooling.global_average_pooling2d.GlobalAveragePooling2D at 0x1debfd2beb0>,\n",
       " <keras.layers.reshaping.reshape.Reshape at 0x1dec007be50>,\n",
       " <keras.layers.convolutional.conv2d.Conv2D at 0x1dec00a94c0>,\n",
       " <keras.layers.convolutional.conv2d.Conv2D at 0x1dec00741c0>,\n",
       " <keras.layers.merging.multiply.Multiply at 0x1dec04f2070>,\n",
       " <keras.layers.convolutional.conv2d.Conv2D at 0x1dec0095b80>,\n",
       " <keras.layers.normalization.batch_normalization.BatchNormalization at 0x1dec0095c70>,\n",
       " <keras.layers.regularization.dropout.Dropout at 0x1dec0070a90>,\n",
       " <keras.layers.merging.add.Add at 0x1dec0074d60>,\n",
       " <keras.layers.convolutional.conv2d.Conv2D at 0x1debfdb8e80>,\n",
       " <keras.layers.normalization.batch_normalization.BatchNormalization at 0x1debfdb8be0>,\n",
       " <keras.layers.core.activation.Activation at 0x1dec00ab190>,\n",
       " <keras.layers.convolutional.depthwise_conv2d.DepthwiseConv2D at 0x1dec02a06d0>,\n",
       " <keras.layers.normalization.batch_normalization.BatchNormalization at 0x1dec04f82e0>,\n",
       " <keras.layers.core.activation.Activation at 0x1dec04f80d0>,\n",
       " <keras.layers.pooling.global_average_pooling2d.GlobalAveragePooling2D at 0x1debfeef190>,\n",
       " <keras.layers.reshaping.reshape.Reshape at 0x1debff0a0a0>,\n",
       " <keras.layers.convolutional.conv2d.Conv2D at 0x1debff124c0>,\n",
       " <keras.layers.convolutional.conv2d.Conv2D at 0x1debff12a60>,\n",
       " <keras.layers.merging.multiply.Multiply at 0x1debff283d0>,\n",
       " <keras.layers.convolutional.conv2d.Conv2D at 0x1debff49550>,\n",
       " <keras.layers.normalization.batch_normalization.BatchNormalization at 0x1debff41e50>,\n",
       " <keras.layers.convolutional.conv2d.Conv2D at 0x1debff41c10>,\n",
       " <keras.layers.normalization.batch_normalization.BatchNormalization at 0x1debff025e0>,\n",
       " <keras.layers.core.activation.Activation at 0x1debff1a250>,\n",
       " <keras.layers.convolutional.depthwise_conv2d.DepthwiseConv2D at 0x1dec051f640>,\n",
       " <keras.layers.normalization.batch_normalization.BatchNormalization at 0x1debfceb790>,\n",
       " <keras.layers.core.activation.Activation at 0x1debff1a370>,\n",
       " <keras.layers.pooling.global_average_pooling2d.GlobalAveragePooling2D at 0x1debff51a60>,\n",
       " <keras.layers.reshaping.reshape.Reshape at 0x1debff22f40>,\n",
       " <keras.layers.convolutional.conv2d.Conv2D at 0x1debfeef490>,\n",
       " <keras.layers.convolutional.conv2d.Conv2D at 0x1debff0aeb0>,\n",
       " <keras.layers.merging.multiply.Multiply at 0x1debff7cac0>,\n",
       " <keras.layers.convolutional.conv2d.Conv2D at 0x1dec02a0e80>,\n",
       " <keras.layers.normalization.batch_normalization.BatchNormalization at 0x1debffc1730>,\n",
       " <keras.layers.regularization.dropout.Dropout at 0x1debffc17c0>,\n",
       " <keras.layers.merging.add.Add at 0x1debffc1790>,\n",
       " <keras.layers.convolutional.conv2d.Conv2D at 0x1dec0519b20>,\n",
       " <keras.layers.normalization.batch_normalization.BatchNormalization at 0x1debff8ac70>,\n",
       " <keras.layers.core.activation.Activation at 0x1debffc1910>,\n",
       " <keras.layers.convolutional.depthwise_conv2d.DepthwiseConv2D at 0x1debff65730>,\n",
       " <keras.layers.normalization.batch_normalization.BatchNormalization at 0x1debff56e20>,\n",
       " <keras.layers.core.activation.Activation at 0x1debffa6790>,\n",
       " <keras.layers.pooling.global_average_pooling2d.GlobalAveragePooling2D at 0x1dec028f790>,\n",
       " <keras.layers.reshaping.reshape.Reshape at 0x1debff56670>,\n",
       " <keras.layers.convolutional.conv2d.Conv2D at 0x1dec00711f0>,\n",
       " <keras.layers.convolutional.conv2d.Conv2D at 0x1debfee0ee0>,\n",
       " <keras.layers.merging.multiply.Multiply at 0x1dec1507b80>,\n",
       " <keras.layers.convolutional.conv2d.Conv2D at 0x1debff65550>,\n",
       " <keras.layers.normalization.batch_normalization.BatchNormalization at 0x1dec1544d60>,\n",
       " <keras.layers.regularization.dropout.Dropout at 0x1dec1544370>,\n",
       " <keras.layers.merging.add.Add at 0x1dec1544490>,\n",
       " <keras.layers.convolutional.conv2d.Conv2D at 0x1dec153de80>,\n",
       " <keras.layers.normalization.batch_normalization.BatchNormalization at 0x1dec1507ac0>,\n",
       " <keras.layers.core.activation.Activation at 0x1debffd10d0>,\n",
       " <keras.layers.reshaping.zero_padding2d.ZeroPadding2D at 0x1debffd99a0>,\n",
       " <keras.layers.convolutional.depthwise_conv2d.DepthwiseConv2D at 0x1debc350d60>,\n",
       " <keras.layers.normalization.batch_normalization.BatchNormalization at 0x1debff95430>,\n",
       " <keras.layers.core.activation.Activation at 0x1dec152e370>,\n",
       " <keras.layers.pooling.global_average_pooling2d.GlobalAveragePooling2D at 0x1debff7c7c0>,\n",
       " <keras.layers.reshaping.reshape.Reshape at 0x1debff8ae80>,\n",
       " <keras.layers.convolutional.conv2d.Conv2D at 0x1debffdeca0>,\n",
       " <keras.layers.convolutional.conv2d.Conv2D at 0x1dec156bc40>,\n",
       " <keras.layers.merging.multiply.Multiply at 0x1dec157e760>,\n",
       " <keras.layers.convolutional.conv2d.Conv2D at 0x1debffd9640>,\n",
       " <keras.layers.normalization.batch_normalization.BatchNormalization at 0x1dec15b5970>,\n",
       " <keras.layers.convolutional.conv2d.Conv2D at 0x1dec15b5a90>,\n",
       " <keras.layers.normalization.batch_normalization.BatchNormalization at 0x1dec15b57c0>,\n",
       " <keras.layers.core.activation.Activation at 0x1dec15964f0>,\n",
       " <keras.layers.convolutional.depthwise_conv2d.DepthwiseConv2D at 0x1dec15a26d0>,\n",
       " <keras.layers.normalization.batch_normalization.BatchNormalization at 0x1dec155d2e0>,\n",
       " <keras.layers.core.activation.Activation at 0x1dec15ba460>,\n",
       " <keras.layers.pooling.global_average_pooling2d.GlobalAveragePooling2D at 0x1debff8ad60>,\n",
       " <keras.layers.reshaping.reshape.Reshape at 0x1dec0071ac0>,\n",
       " <keras.layers.convolutional.conv2d.Conv2D at 0x1debfee5490>,\n",
       " <keras.layers.convolutional.conv2d.Conv2D at 0x1dec15c8940>,\n",
       " <keras.layers.merging.multiply.Multiply at 0x1dec15c2c70>,\n",
       " <keras.layers.convolutional.conv2d.Conv2D at 0x1dec1575c70>,\n",
       " <keras.layers.normalization.batch_normalization.BatchNormalization at 0x1dec15cf700>,\n",
       " <keras.layers.regularization.dropout.Dropout at 0x1dec1629880>,\n",
       " <keras.layers.merging.add.Add at 0x1dec1629a30>,\n",
       " <keras.layers.convolutional.conv2d.Conv2D at 0x1dec16229a0>,\n",
       " <keras.layers.normalization.batch_normalization.BatchNormalization at 0x1dec160c7f0>,\n",
       " <keras.layers.core.activation.Activation at 0x1dec160c970>,\n",
       " <keras.layers.convolutional.depthwise_conv2d.DepthwiseConv2D at 0x1dec16042e0>,\n",
       " <keras.layers.normalization.batch_normalization.BatchNormalization at 0x1dec1614eb0>,\n",
       " <keras.layers.core.activation.Activation at 0x1dec1622ca0>,\n",
       " <keras.layers.pooling.global_average_pooling2d.GlobalAveragePooling2D at 0x1dec152e520>,\n",
       " <keras.layers.reshaping.reshape.Reshape at 0x1debffc9370>,\n",
       " <keras.layers.convolutional.conv2d.Conv2D at 0x1dec155d220>,\n",
       " <keras.layers.convolutional.conv2d.Conv2D at 0x1dec15c2f10>,\n",
       " <keras.layers.merging.multiply.Multiply at 0x1dec1636c10>,\n",
       " <keras.layers.convolutional.conv2d.Conv2D at 0x1debff023d0>,\n",
       " <keras.layers.normalization.batch_normalization.BatchNormalization at 0x1dec1636bb0>,\n",
       " <keras.layers.regularization.dropout.Dropout at 0x1dec166ca90>,\n",
       " <keras.layers.merging.add.Add at 0x1dec1528760>,\n",
       " <keras.layers.convolutional.conv2d.Conv2D at 0x1dec1699880>,\n",
       " <keras.layers.normalization.batch_normalization.BatchNormalization at 0x1dec16991c0>,\n",
       " <keras.layers.core.activation.Activation at 0x1dec1699340>,\n",
       " <keras.layers.convolutional.depthwise_conv2d.DepthwiseConv2D at 0x1dec1692640>,\n",
       " <keras.layers.normalization.batch_normalization.BatchNormalization at 0x1dec167e310>,\n",
       " <keras.layers.core.activation.Activation at 0x1dec1699ca0>,\n",
       " <keras.layers.pooling.global_average_pooling2d.GlobalAveragePooling2D at 0x1dec1596b80>,\n",
       " <keras.layers.reshaping.reshape.Reshape at 0x1dec163eac0>,\n",
       " <keras.layers.convolutional.conv2d.Conv2D at 0x1dec1636160>,\n",
       " <keras.layers.convolutional.conv2d.Conv2D at 0x1dec15fdb80>,\n",
       " <keras.layers.merging.multiply.Multiply at 0x1debffc9280>,\n",
       " <keras.layers.convolutional.conv2d.Conv2D at 0x1dec1640dc0>,\n",
       " <keras.layers.normalization.batch_normalization.BatchNormalization at 0x1dec1622640>,\n",
       " <keras.layers.regularization.dropout.Dropout at 0x1dec16d66a0>,\n",
       " <keras.layers.merging.add.Add at 0x1dec163e340>,\n",
       " <keras.layers.convolutional.conv2d.Conv2D at 0x1dec16dd880>,\n",
       " <keras.layers.normalization.batch_normalization.BatchNormalization at 0x1dec1699610>,\n",
       " <keras.layers.core.activation.Activation at 0x1dec16f1880>,\n",
       " <keras.layers.convolutional.depthwise_conv2d.DepthwiseConv2D at 0x1dec16f1310>,\n",
       " <keras.layers.normalization.batch_normalization.BatchNormalization at 0x1dec16fb190>,\n",
       " <keras.layers.core.activation.Activation at 0x1dec1705d30>,\n",
       " <keras.layers.pooling.global_average_pooling2d.GlobalAveragePooling2D at 0x1dec16c6040>,\n",
       " <keras.layers.reshaping.reshape.Reshape at 0x1debff6c0d0>,\n",
       " <keras.layers.convolutional.conv2d.Conv2D at 0x1dec15fdaf0>,\n",
       " <keras.layers.convolutional.conv2d.Conv2D at 0x1dec15fd7f0>,\n",
       " <keras.layers.merging.multiply.Multiply at 0x1dec16874f0>,\n",
       " <keras.layers.convolutional.conv2d.Conv2D at 0x1dec1636ee0>,\n",
       " <keras.layers.normalization.batch_normalization.BatchNormalization at 0x1dec16762e0>,\n",
       " <keras.layers.convolutional.conv2d.Conv2D at 0x1debe97cdf0>,\n",
       " <keras.layers.normalization.batch_normalization.BatchNormalization at 0x1dec16babe0>,\n",
       " <keras.layers.core.activation.Activation at 0x1dec176b580>]"
      ]
     },
     "execution_count": 37,
     "metadata": {},
     "output_type": "execute_result"
    }
   ],
   "source": [
    "base_model.layers"
   ]
  },
  {
   "cell_type": "code",
   "execution_count": 23,
   "metadata": {},
   "outputs": [
    {
     "data": {
      "text/plain": [
       "TensorShape([1, 1280])"
      ]
     },
     "execution_count": 23,
     "metadata": {},
     "output_type": "execute_result"
    }
   ],
   "source": [
    "path = '../datasets/dataset_cv3/brand_08/1-0CD-VR029/2145.png'\n",
    "res2 = get_embeddings_img(path)\n",
    "res2.shape"
   ]
  },
  {
   "cell_type": "code",
   "execution_count": 25,
   "metadata": {},
   "outputs": [
    {
     "name": "stdout",
     "output_type": "stream",
     "text": [
      "Found 1108 files belonging to 109 classes.\n"
     ]
    }
   ],
   "source": [
    "dir = '../datasets/dataset_cv3/brand_08/'\n",
    "data_tf = tf.keras.preprocessing.image_dataset_from_directory(\n",
    "    directory=dir,\n",
    "    image_size=(224, 224),\n",
    "    label_mode='categorical',\n",
    "    batch_size=32\n",
    ")"
   ]
  },
  {
   "cell_type": "code",
   "execution_count": 28,
   "metadata": {},
   "outputs": [
    {
     "data": {
      "text/plain": [
       "tensorflow.python.data.ops.dataset_ops.BatchDataset"
      ]
     },
     "execution_count": 28,
     "metadata": {},
     "output_type": "execute_result"
    }
   ],
   "source": [
    "type(data_tf)"
   ]
  },
  {
   "cell_type": "code",
   "execution_count": 32,
   "metadata": {},
   "outputs": [
    {
     "name": "stdout",
     "output_type": "stream",
     "text": [
      "35/35 [==============================] - 64s 2s/step\n"
     ]
    }
   ],
   "source": [
    "embeddings = model_0.predict(data_tf)"
   ]
  },
  {
   "cell_type": "markdown",
   "metadata": {},
   "source": [
    "- Embeddings shapes are correct, so we can move on with tensorflow batch-dataset."
   ]
  },
  {
   "cell_type": "code",
   "execution_count": 34,
   "metadata": {},
   "outputs": [
    {
     "data": {
      "text/plain": [
       "['1-011-200',\n",
       " '1-011-600',\n",
       " '1-011-VR013',\n",
       " '1-011-VR028',\n",
       " '1-011-VR030',\n",
       " '1-011-VR033',\n",
       " '1-011-VR090',\n",
       " '1-013-VR033',\n",
       " '1-013-VR046',\n",
       " '1-013-VR086',\n",
       " '1-016-200',\n",
       " '1-016-VR014',\n",
       " '1-016-VR027',\n",
       " '1-016-VR029',\n",
       " '1-016-VR033',\n",
       " '1-016-VR046',\n",
       " '1-016-VR099',\n",
       " '1-033-001',\n",
       " '1-033-200',\n",
       " '1-033-400',\n",
       " '1-033-600',\n",
       " '1-033-VR013',\n",
       " '1-033-VR024',\n",
       " '1-033-VR027',\n",
       " '1-033-VR029',\n",
       " '1-033-VR033',\n",
       " '1-033-VR046',\n",
       " '1-035-001',\n",
       " '1-073-VR033',\n",
       " '1-073-VR046',\n",
       " '1-080-DN0022',\n",
       " '1-080-DN0023',\n",
       " '1-082-VR033',\n",
       " '1-0CD-VR014',\n",
       " '1-0CD-VR029',\n",
       " '1-0CD-VR033',\n",
       " '1-0CD-VR046',\n",
       " '1-0CD-VR099',\n",
       " '1-0GU-200',\n",
       " '1-0GU-300',\n",
       " '1-0GU-VR003',\n",
       " '1-0GU-VR013',\n",
       " '1-0GU-VR014',\n",
       " '1-0GU-VR027',\n",
       " '1-0GU-VR030',\n",
       " '1-0GU-VR033',\n",
       " '1-0GU-VR036',\n",
       " '1-0GU-VR054',\n",
       " '1-0HF-VR033',\n",
       " '1-0MS-VR033',\n",
       " '1-0OP-VR033',\n",
       " '1-0TK-VR033',\n",
       " '1-0TK-VR086',\n",
       " '1-B11-VR013',\n",
       " '1-B11-VR033',\n",
       " '1-B11-VR046',\n",
       " '1-BGU-VR003',\n",
       " '1-BGU-VR013',\n",
       " '1-BGU-VR033',\n",
       " '2-011-600',\n",
       " '2-011-VR013',\n",
       " '2-011-VR033',\n",
       " '2-013-VR033',\n",
       " '2-016-VR033',\n",
       " '2-033-001',\n",
       " '2-033-200',\n",
       " '2-033-850',\n",
       " '2-033-VR011',\n",
       " '2-033-VR013',\n",
       " '2-033-VR033',\n",
       " '2-033-VR046',\n",
       " '2-057-001',\n",
       " '2-057-200',\n",
       " '2-057-VR011',\n",
       " '2-057-VR013',\n",
       " '2-057-VR027',\n",
       " '2-057-VR029',\n",
       " '2-057-VR033',\n",
       " '2-057-VR046',\n",
       " '2-057-VR052',\n",
       " '2-057-VR096',\n",
       " '2-057-VR099',\n",
       " '2-078-VR033',\n",
       " '2-080-DN0021',\n",
       " '2-080-DN0022',\n",
       " '2-080-DN0023',\n",
       " '2-082-VR019',\n",
       " '2-082-VR033',\n",
       " '2-0GU-VR013',\n",
       " '2-0GU-VR019',\n",
       " '2-0GU-VR030',\n",
       " '2-0GU-VR033',\n",
       " '2-0GU-VR036',\n",
       " '2-0GU-VR041',\n",
       " '2-0HF-VR033',\n",
       " '2-0OP-VR033',\n",
       " '2-0SR-VR033',\n",
       " '2-0SR-VR046',\n",
       " '2-0SR-VR096',\n",
       " '2-0TH-VR033',\n",
       " '2-0TK-VR033',\n",
       " '2-BGU-VR003',\n",
       " '2-BGU-VR013',\n",
       " '3-011-VR013',\n",
       " '3-011-VR033',\n",
       " '3-013-VR033',\n",
       " '3-033-VR033',\n",
       " '3-082-VR033',\n",
       " '4-011-VR013']"
      ]
     },
     "execution_count": 34,
     "metadata": {},
     "output_type": "execute_result"
    }
   ],
   "source": [
    "data_tf.class_names"
   ]
  },
  {
   "cell_type": "code",
   "execution_count": 42,
   "metadata": {},
   "outputs": [
    {
     "data": {
      "text/plain": [
       "(1108, 1280)"
      ]
     },
     "execution_count": 42,
     "metadata": {},
     "output_type": "execute_result"
    }
   ],
   "source": [
    "embeddings.shape"
   ]
  },
  {
   "cell_type": "code",
   "execution_count": 60,
   "metadata": {},
   "outputs": [
    {
     "data": {
      "text/plain": [
       "numpy.ndarray"
      ]
     },
     "execution_count": 60,
     "metadata": {},
     "output_type": "execute_result"
    }
   ],
   "source": [
    "type(embeddings)"
   ]
  },
  {
   "cell_type": "markdown",
   "metadata": {},
   "source": [
    "# Cluestering \n",
    "\n",
    "## Model C_1: \n",
    "- We will be dealing with the dataset that includes just extracted inputs using K-Means. "
   ]
  },
  {
   "cell_type": "code",
   "execution_count": 62,
   "metadata": {},
   "outputs": [
    {
     "data": {
      "text/plain": [
       "array([78, 52, 22, ..., 83, 83, 21])"
      ]
     },
     "execution_count": 62,
     "metadata": {},
     "output_type": "execute_result"
    }
   ],
   "source": [
    "from sklearn.cluster import KMeans\n",
    "\n",
    "kmeans_model = KMeans(n_clusters=len(data_tf.class_names)).fit(embeddings)\n",
    "\n",
    "kmeans_model.labels_"
   ]
  },
  {
   "cell_type": "code",
   "execution_count": 63,
   "metadata": {},
   "outputs": [
    {
     "ename": "AttributeError",
     "evalue": "'KMeans' object has no attribute 'get_feature_names_out'",
     "output_type": "error",
     "traceback": [
      "\u001b[1;31m---------------------------------------------------------------------------\u001b[0m",
      "\u001b[1;31mAttributeError\u001b[0m                            Traceback (most recent call last)",
      "Input \u001b[1;32mIn [63]\u001b[0m, in \u001b[0;36m<cell line: 1>\u001b[1;34m()\u001b[0m\n\u001b[1;32m----> 1\u001b[0m \u001b[43mkmeans_model\u001b[49m\u001b[38;5;241;43m.\u001b[39;49m\u001b[43mget_feature_names_out\u001b[49m()\n",
      "\u001b[1;31mAttributeError\u001b[0m: 'KMeans' object has no attribute 'get_feature_names_out'"
     ]
    }
   ],
   "source": [
    "kmeans_model.get_feature_names_out() "
   ]
  },
  {
   "cell_type": "code",
   "execution_count": null,
   "metadata": {},
   "outputs": [],
   "source": []
  }
 ],
 "metadata": {
  "kernelspec": {
   "display_name": "Python 3 (ipykernel)",
   "language": "python",
   "name": "python3"
  },
  "language_info": {
   "codemirror_mode": {
    "name": "ipython",
    "version": 3
   },
   "file_extension": ".py",
   "mimetype": "text/x-python",
   "name": "python",
   "nbconvert_exporter": "python",
   "pygments_lexer": "ipython3",
   "version": "3.9.12"
  }
 },
 "nbformat": 4,
 "nbformat_minor": 1
}
