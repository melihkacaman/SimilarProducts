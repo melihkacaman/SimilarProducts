{
 "cells": [
  {
   "attachments": {},
   "cell_type": "markdown",
   "metadata": {},
   "source": [
    "# Get the Data  \n",
    "- ../datasets/attribute_set/custom_attr.csv  "
   ]
  },
  {
   "cell_type": "code",
   "execution_count": 11,
   "metadata": {},
   "outputs": [],
   "source": [
    "from helpers import read_csv_with_dtypes \n",
    "import pandas as pd \n",
    "\n",
    "data = read_csv_with_dtypes(\"../datasets/attribute_set/custom_attr.csv\")"
   ]
  },
  {
   "cell_type": "code",
   "execution_count": 12,
   "metadata": {},
   "outputs": [
    {
     "name": "stdout",
     "output_type": "stream",
     "text": [
      "<class 'pandas.core.frame.DataFrame'>\n",
      "RangeIndex: 289222 entries, 0 to 289221\n",
      "Columns: 1001 entries, paths to zippered\n",
      "dtypes: int8(1000), object(1)\n",
      "memory usage: 278.0+ MB\n"
     ]
    }
   ],
   "source": [
    "data.info() "
   ]
  },
  {
   "cell_type": "code",
   "execution_count": 13,
   "metadata": {},
   "outputs": [
    {
     "data": {
      "text/html": [
       "<div>\n",
       "<style scoped>\n",
       "    .dataframe tbody tr th:only-of-type {\n",
       "        vertical-align: middle;\n",
       "    }\n",
       "\n",
       "    .dataframe tbody tr th {\n",
       "        vertical-align: top;\n",
       "    }\n",
       "\n",
       "    .dataframe thead th {\n",
       "        text-align: right;\n",
       "    }\n",
       "</style>\n",
       "<table border=\"1\" class=\"dataframe\">\n",
       "  <thead>\n",
       "    <tr style=\"text-align: right;\">\n",
       "      <th></th>\n",
       "      <th>paths</th>\n",
       "      <th>a-line</th>\n",
       "      <th>abstract</th>\n",
       "      <th>abstract chevron</th>\n",
       "      <th>abstract chevron print</th>\n",
       "      <th>abstract diamond</th>\n",
       "      <th>abstract floral</th>\n",
       "      <th>abstract floral print</th>\n",
       "      <th>abstract geo</th>\n",
       "      <th>abstract geo print</th>\n",
       "      <th>...</th>\n",
       "      <th>zeppelin</th>\n",
       "      <th>zig</th>\n",
       "      <th>zigzag</th>\n",
       "      <th>zip</th>\n",
       "      <th>zip-front</th>\n",
       "      <th>zip-pocket</th>\n",
       "      <th>zip-up</th>\n",
       "      <th>zipped</th>\n",
       "      <th>zipper</th>\n",
       "      <th>zippered</th>\n",
       "    </tr>\n",
       "  </thead>\n",
       "  <tbody>\n",
       "    <tr>\n",
       "      <th>0</th>\n",
       "      <td>img/Sheer_Pleated-Front_Blouse/img_00000001.jpg</td>\n",
       "      <td>0</td>\n",
       "      <td>0</td>\n",
       "      <td>0</td>\n",
       "      <td>0</td>\n",
       "      <td>0</td>\n",
       "      <td>0</td>\n",
       "      <td>0</td>\n",
       "      <td>0</td>\n",
       "      <td>0</td>\n",
       "      <td>...</td>\n",
       "      <td>0</td>\n",
       "      <td>0</td>\n",
       "      <td>0</td>\n",
       "      <td>0</td>\n",
       "      <td>0</td>\n",
       "      <td>0</td>\n",
       "      <td>0</td>\n",
       "      <td>0</td>\n",
       "      <td>0</td>\n",
       "      <td>0</td>\n",
       "    </tr>\n",
       "    <tr>\n",
       "      <th>1</th>\n",
       "      <td>img/Sheer_Pleated-Front_Blouse/img_00000002.jpg</td>\n",
       "      <td>0</td>\n",
       "      <td>0</td>\n",
       "      <td>0</td>\n",
       "      <td>0</td>\n",
       "      <td>0</td>\n",
       "      <td>0</td>\n",
       "      <td>0</td>\n",
       "      <td>0</td>\n",
       "      <td>0</td>\n",
       "      <td>...</td>\n",
       "      <td>0</td>\n",
       "      <td>0</td>\n",
       "      <td>0</td>\n",
       "      <td>0</td>\n",
       "      <td>0</td>\n",
       "      <td>0</td>\n",
       "      <td>0</td>\n",
       "      <td>0</td>\n",
       "      <td>0</td>\n",
       "      <td>0</td>\n",
       "    </tr>\n",
       "    <tr>\n",
       "      <th>2</th>\n",
       "      <td>img/Sheer_Pleated-Front_Blouse/img_00000003.jpg</td>\n",
       "      <td>0</td>\n",
       "      <td>0</td>\n",
       "      <td>0</td>\n",
       "      <td>0</td>\n",
       "      <td>0</td>\n",
       "      <td>0</td>\n",
       "      <td>0</td>\n",
       "      <td>0</td>\n",
       "      <td>0</td>\n",
       "      <td>...</td>\n",
       "      <td>0</td>\n",
       "      <td>0</td>\n",
       "      <td>0</td>\n",
       "      <td>0</td>\n",
       "      <td>0</td>\n",
       "      <td>0</td>\n",
       "      <td>0</td>\n",
       "      <td>0</td>\n",
       "      <td>0</td>\n",
       "      <td>0</td>\n",
       "    </tr>\n",
       "    <tr>\n",
       "      <th>3</th>\n",
       "      <td>img/Sheer_Pleated-Front_Blouse/img_00000004.jpg</td>\n",
       "      <td>0</td>\n",
       "      <td>0</td>\n",
       "      <td>0</td>\n",
       "      <td>0</td>\n",
       "      <td>0</td>\n",
       "      <td>0</td>\n",
       "      <td>0</td>\n",
       "      <td>0</td>\n",
       "      <td>0</td>\n",
       "      <td>...</td>\n",
       "      <td>0</td>\n",
       "      <td>0</td>\n",
       "      <td>0</td>\n",
       "      <td>0</td>\n",
       "      <td>0</td>\n",
       "      <td>0</td>\n",
       "      <td>0</td>\n",
       "      <td>0</td>\n",
       "      <td>0</td>\n",
       "      <td>0</td>\n",
       "    </tr>\n",
       "    <tr>\n",
       "      <th>4</th>\n",
       "      <td>img/Sheer_Pleated-Front_Blouse/img_00000005.jpg</td>\n",
       "      <td>0</td>\n",
       "      <td>0</td>\n",
       "      <td>0</td>\n",
       "      <td>0</td>\n",
       "      <td>0</td>\n",
       "      <td>0</td>\n",
       "      <td>0</td>\n",
       "      <td>0</td>\n",
       "      <td>0</td>\n",
       "      <td>...</td>\n",
       "      <td>0</td>\n",
       "      <td>0</td>\n",
       "      <td>0</td>\n",
       "      <td>0</td>\n",
       "      <td>0</td>\n",
       "      <td>0</td>\n",
       "      <td>0</td>\n",
       "      <td>0</td>\n",
       "      <td>0</td>\n",
       "      <td>0</td>\n",
       "    </tr>\n",
       "  </tbody>\n",
       "</table>\n",
       "<p>5 rows × 1001 columns</p>\n",
       "</div>"
      ],
      "text/plain": [
       "                                             paths  a-line  abstract  \\\n",
       "0  img/Sheer_Pleated-Front_Blouse/img_00000001.jpg       0         0   \n",
       "1  img/Sheer_Pleated-Front_Blouse/img_00000002.jpg       0         0   \n",
       "2  img/Sheer_Pleated-Front_Blouse/img_00000003.jpg       0         0   \n",
       "3  img/Sheer_Pleated-Front_Blouse/img_00000004.jpg       0         0   \n",
       "4  img/Sheer_Pleated-Front_Blouse/img_00000005.jpg       0         0   \n",
       "\n",
       "   abstract chevron  abstract chevron print  abstract diamond  \\\n",
       "0                 0                       0                 0   \n",
       "1                 0                       0                 0   \n",
       "2                 0                       0                 0   \n",
       "3                 0                       0                 0   \n",
       "4                 0                       0                 0   \n",
       "\n",
       "   abstract floral  abstract floral print  abstract geo  abstract geo print  \\\n",
       "0                0                      0             0                   0   \n",
       "1                0                      0             0                   0   \n",
       "2                0                      0             0                   0   \n",
       "3                0                      0             0                   0   \n",
       "4                0                      0             0                   0   \n",
       "\n",
       "   ...  zeppelin  zig  zigzag  zip  zip-front  zip-pocket  zip-up  zipped  \\\n",
       "0  ...         0    0       0    0          0           0       0       0   \n",
       "1  ...         0    0       0    0          0           0       0       0   \n",
       "2  ...         0    0       0    0          0           0       0       0   \n",
       "3  ...         0    0       0    0          0           0       0       0   \n",
       "4  ...         0    0       0    0          0           0       0       0   \n",
       "\n",
       "   zipper  zippered  \n",
       "0       0         0  \n",
       "1       0         0  \n",
       "2       0         0  \n",
       "3       0         0  \n",
       "4       0         0  \n",
       "\n",
       "[5 rows x 1001 columns]"
      ]
     },
     "execution_count": 13,
     "metadata": {},
     "output_type": "execute_result"
    }
   ],
   "source": [
    "data.head() "
   ]
  },
  {
   "cell_type": "code",
   "execution_count": 14,
   "metadata": {},
   "outputs": [
    {
     "data": {
      "text/plain": [
       "['a-line',\n",
       " 'abstract',\n",
       " 'abstract chevron',\n",
       " 'abstract chevron print',\n",
       " 'abstract diamond']"
      ]
     },
     "execution_count": 14,
     "metadata": {},
     "output_type": "execute_result"
    }
   ],
   "source": [
    "LABELS = list(data.columns.values[1:])\n",
    "LABELS[:5]"
   ]
  },
  {
   "cell_type": "code",
   "execution_count": 15,
   "metadata": {},
   "outputs": [
    {
     "data": {
      "text/plain": [
       "1000"
      ]
     },
     "execution_count": 15,
     "metadata": {},
     "output_type": "execute_result"
    }
   ],
   "source": [
    "len(LABELS)"
   ]
  },
  {
   "cell_type": "code",
   "execution_count": 16,
   "metadata": {},
   "outputs": [
    {
     "data": {
      "text/plain": [
       "'../datasets/big_ds/img-001/'"
      ]
     },
     "execution_count": 16,
     "metadata": {},
     "output_type": "execute_result"
    }
   ],
   "source": [
    "base = \"../datasets/big_ds/img-001/\" \n",
    "base"
   ]
  },
  {
   "cell_type": "code",
   "execution_count": 17,
   "metadata": {},
   "outputs": [
    {
     "data": {
      "text/html": [
       "<div>\n",
       "<style scoped>\n",
       "    .dataframe tbody tr th:only-of-type {\n",
       "        vertical-align: middle;\n",
       "    }\n",
       "\n",
       "    .dataframe tbody tr th {\n",
       "        vertical-align: top;\n",
       "    }\n",
       "\n",
       "    .dataframe thead th {\n",
       "        text-align: right;\n",
       "    }\n",
       "</style>\n",
       "<table border=\"1\" class=\"dataframe\">\n",
       "  <thead>\n",
       "    <tr style=\"text-align: right;\">\n",
       "      <th></th>\n",
       "      <th>paths</th>\n",
       "      <th>a-line</th>\n",
       "      <th>abstract</th>\n",
       "      <th>abstract chevron</th>\n",
       "      <th>abstract chevron print</th>\n",
       "      <th>abstract diamond</th>\n",
       "      <th>abstract floral</th>\n",
       "      <th>abstract floral print</th>\n",
       "      <th>abstract geo</th>\n",
       "      <th>abstract geo print</th>\n",
       "      <th>...</th>\n",
       "      <th>zeppelin</th>\n",
       "      <th>zig</th>\n",
       "      <th>zigzag</th>\n",
       "      <th>zip</th>\n",
       "      <th>zip-front</th>\n",
       "      <th>zip-pocket</th>\n",
       "      <th>zip-up</th>\n",
       "      <th>zipped</th>\n",
       "      <th>zipper</th>\n",
       "      <th>zippered</th>\n",
       "    </tr>\n",
       "  </thead>\n",
       "  <tbody>\n",
       "    <tr>\n",
       "      <th>0</th>\n",
       "      <td>../datasets/big_ds/img-001/img/Sheer_Pleated-F...</td>\n",
       "      <td>0</td>\n",
       "      <td>0</td>\n",
       "      <td>0</td>\n",
       "      <td>0</td>\n",
       "      <td>0</td>\n",
       "      <td>0</td>\n",
       "      <td>0</td>\n",
       "      <td>0</td>\n",
       "      <td>0</td>\n",
       "      <td>...</td>\n",
       "      <td>0</td>\n",
       "      <td>0</td>\n",
       "      <td>0</td>\n",
       "      <td>0</td>\n",
       "      <td>0</td>\n",
       "      <td>0</td>\n",
       "      <td>0</td>\n",
       "      <td>0</td>\n",
       "      <td>0</td>\n",
       "      <td>0</td>\n",
       "    </tr>\n",
       "    <tr>\n",
       "      <th>1</th>\n",
       "      <td>../datasets/big_ds/img-001/img/Sheer_Pleated-F...</td>\n",
       "      <td>0</td>\n",
       "      <td>0</td>\n",
       "      <td>0</td>\n",
       "      <td>0</td>\n",
       "      <td>0</td>\n",
       "      <td>0</td>\n",
       "      <td>0</td>\n",
       "      <td>0</td>\n",
       "      <td>0</td>\n",
       "      <td>...</td>\n",
       "      <td>0</td>\n",
       "      <td>0</td>\n",
       "      <td>0</td>\n",
       "      <td>0</td>\n",
       "      <td>0</td>\n",
       "      <td>0</td>\n",
       "      <td>0</td>\n",
       "      <td>0</td>\n",
       "      <td>0</td>\n",
       "      <td>0</td>\n",
       "    </tr>\n",
       "    <tr>\n",
       "      <th>2</th>\n",
       "      <td>../datasets/big_ds/img-001/img/Sheer_Pleated-F...</td>\n",
       "      <td>0</td>\n",
       "      <td>0</td>\n",
       "      <td>0</td>\n",
       "      <td>0</td>\n",
       "      <td>0</td>\n",
       "      <td>0</td>\n",
       "      <td>0</td>\n",
       "      <td>0</td>\n",
       "      <td>0</td>\n",
       "      <td>...</td>\n",
       "      <td>0</td>\n",
       "      <td>0</td>\n",
       "      <td>0</td>\n",
       "      <td>0</td>\n",
       "      <td>0</td>\n",
       "      <td>0</td>\n",
       "      <td>0</td>\n",
       "      <td>0</td>\n",
       "      <td>0</td>\n",
       "      <td>0</td>\n",
       "    </tr>\n",
       "    <tr>\n",
       "      <th>3</th>\n",
       "      <td>../datasets/big_ds/img-001/img/Sheer_Pleated-F...</td>\n",
       "      <td>0</td>\n",
       "      <td>0</td>\n",
       "      <td>0</td>\n",
       "      <td>0</td>\n",
       "      <td>0</td>\n",
       "      <td>0</td>\n",
       "      <td>0</td>\n",
       "      <td>0</td>\n",
       "      <td>0</td>\n",
       "      <td>...</td>\n",
       "      <td>0</td>\n",
       "      <td>0</td>\n",
       "      <td>0</td>\n",
       "      <td>0</td>\n",
       "      <td>0</td>\n",
       "      <td>0</td>\n",
       "      <td>0</td>\n",
       "      <td>0</td>\n",
       "      <td>0</td>\n",
       "      <td>0</td>\n",
       "    </tr>\n",
       "    <tr>\n",
       "      <th>4</th>\n",
       "      <td>../datasets/big_ds/img-001/img/Sheer_Pleated-F...</td>\n",
       "      <td>0</td>\n",
       "      <td>0</td>\n",
       "      <td>0</td>\n",
       "      <td>0</td>\n",
       "      <td>0</td>\n",
       "      <td>0</td>\n",
       "      <td>0</td>\n",
       "      <td>0</td>\n",
       "      <td>0</td>\n",
       "      <td>...</td>\n",
       "      <td>0</td>\n",
       "      <td>0</td>\n",
       "      <td>0</td>\n",
       "      <td>0</td>\n",
       "      <td>0</td>\n",
       "      <td>0</td>\n",
       "      <td>0</td>\n",
       "      <td>0</td>\n",
       "      <td>0</td>\n",
       "      <td>0</td>\n",
       "    </tr>\n",
       "  </tbody>\n",
       "</table>\n",
       "<p>5 rows × 1001 columns</p>\n",
       "</div>"
      ],
      "text/plain": [
       "                                               paths  a-line  abstract  \\\n",
       "0  ../datasets/big_ds/img-001/img/Sheer_Pleated-F...       0         0   \n",
       "1  ../datasets/big_ds/img-001/img/Sheer_Pleated-F...       0         0   \n",
       "2  ../datasets/big_ds/img-001/img/Sheer_Pleated-F...       0         0   \n",
       "3  ../datasets/big_ds/img-001/img/Sheer_Pleated-F...       0         0   \n",
       "4  ../datasets/big_ds/img-001/img/Sheer_Pleated-F...       0         0   \n",
       "\n",
       "   abstract chevron  abstract chevron print  abstract diamond  \\\n",
       "0                 0                       0                 0   \n",
       "1                 0                       0                 0   \n",
       "2                 0                       0                 0   \n",
       "3                 0                       0                 0   \n",
       "4                 0                       0                 0   \n",
       "\n",
       "   abstract floral  abstract floral print  abstract geo  abstract geo print  \\\n",
       "0                0                      0             0                   0   \n",
       "1                0                      0             0                   0   \n",
       "2                0                      0             0                   0   \n",
       "3                0                      0             0                   0   \n",
       "4                0                      0             0                   0   \n",
       "\n",
       "   ...  zeppelin  zig  zigzag  zip  zip-front  zip-pocket  zip-up  zipped  \\\n",
       "0  ...         0    0       0    0          0           0       0       0   \n",
       "1  ...         0    0       0    0          0           0       0       0   \n",
       "2  ...         0    0       0    0          0           0       0       0   \n",
       "3  ...         0    0       0    0          0           0       0       0   \n",
       "4  ...         0    0       0    0          0           0       0       0   \n",
       "\n",
       "   zipper  zippered  \n",
       "0       0         0  \n",
       "1       0         0  \n",
       "2       0         0  \n",
       "3       0         0  \n",
       "4       0         0  \n",
       "\n",
       "[5 rows x 1001 columns]"
      ]
     },
     "execution_count": 17,
     "metadata": {},
     "output_type": "execute_result"
    }
   ],
   "source": [
    "data.paths = data.paths.apply(lambda x: base + x) \n",
    "data.head() "
   ]
  },
  {
   "cell_type": "code",
   "execution_count": 18,
   "metadata": {},
   "outputs": [
    {
     "name": "stdout",
     "output_type": "stream",
     "text": [
      "(289222, 1001)\n"
     ]
    },
    {
     "data": {
      "text/plain": [
       "(289222, 1001)"
      ]
     },
     "execution_count": 18,
     "metadata": {},
     "output_type": "execute_result"
    }
   ],
   "source": [
    "print(data.shape)\n",
    "data = data.drop_duplicates() \n",
    "data.shape"
   ]
  },
  {
   "cell_type": "code",
   "execution_count": 19,
   "metadata": {},
   "outputs": [
    {
     "data": {
      "text/html": [
       "<div>\n",
       "<style scoped>\n",
       "    .dataframe tbody tr th:only-of-type {\n",
       "        vertical-align: middle;\n",
       "    }\n",
       "\n",
       "    .dataframe tbody tr th {\n",
       "        vertical-align: top;\n",
       "    }\n",
       "\n",
       "    .dataframe thead th {\n",
       "        text-align: right;\n",
       "    }\n",
       "</style>\n",
       "<table border=\"1\" class=\"dataframe\">\n",
       "  <thead>\n",
       "    <tr style=\"text-align: right;\">\n",
       "      <th></th>\n",
       "      <th>path</th>\n",
       "      <th>group</th>\n",
       "    </tr>\n",
       "  </thead>\n",
       "  <tbody>\n",
       "    <tr>\n",
       "      <th>0</th>\n",
       "      <td>img/Sheer_Pleated-Front_Blouse/img_00000001.jpg</td>\n",
       "      <td>train</td>\n",
       "    </tr>\n",
       "    <tr>\n",
       "      <th>1</th>\n",
       "      <td>img/Sheer_Pleated-Front_Blouse/img_00000002.jpg</td>\n",
       "      <td>train</td>\n",
       "    </tr>\n",
       "    <tr>\n",
       "      <th>2</th>\n",
       "      <td>img/Sheer_Pleated-Front_Blouse/img_00000003.jpg</td>\n",
       "      <td>val</td>\n",
       "    </tr>\n",
       "    <tr>\n",
       "      <th>3</th>\n",
       "      <td>img/Sheer_Pleated-Front_Blouse/img_00000004.jpg</td>\n",
       "      <td>train</td>\n",
       "    </tr>\n",
       "    <tr>\n",
       "      <th>4</th>\n",
       "      <td>img/Sheer_Pleated-Front_Blouse/img_00000005.jpg</td>\n",
       "      <td>test</td>\n",
       "    </tr>\n",
       "  </tbody>\n",
       "</table>\n",
       "</div>"
      ],
      "text/plain": [
       "                                              path  group\n",
       "0  img/Sheer_Pleated-Front_Blouse/img_00000001.jpg  train\n",
       "1  img/Sheer_Pleated-Front_Blouse/img_00000002.jpg  train\n",
       "2  img/Sheer_Pleated-Front_Blouse/img_00000003.jpg    val\n",
       "3  img/Sheer_Pleated-Front_Blouse/img_00000004.jpg  train\n",
       "4  img/Sheer_Pleated-Front_Blouse/img_00000005.jpg   test"
      ]
     },
     "execution_count": 19,
     "metadata": {},
     "output_type": "execute_result"
    }
   ],
   "source": [
    "partitions = pd.read_csv(\"../datasets/attribute_set/list_eval_partition.txt\", delim_whitespace=True, header=None, names=[\"path\", \"group\"]) \n",
    "partitions.head() "
   ]
  },
  {
   "cell_type": "code",
   "execution_count": 20,
   "metadata": {},
   "outputs": [
    {
     "data": {
      "text/plain": [
       "('../datasets/big_ds/img-001/img/Floral-Embroidered_Blouse/img_00000002.jpg',\n",
       " 'img/Floral-Embroidered_Blouse/img_00000002.jpg')"
      ]
     },
     "execution_count": 20,
     "metadata": {},
     "output_type": "execute_result"
    }
   ],
   "source": [
    "data.paths[21134], partitions.path[21134]"
   ]
  },
  {
   "cell_type": "code",
   "execution_count": 21,
   "metadata": {},
   "outputs": [
    {
     "data": {
      "text/plain": [
       "((289222, 1001), (289222, 2))"
      ]
     },
     "execution_count": 21,
     "metadata": {},
     "output_type": "execute_result"
    }
   ],
   "source": [
    "data.shape, partitions.shape"
   ]
  },
  {
   "cell_type": "code",
   "execution_count": 22,
   "metadata": {},
   "outputs": [
    {
     "data": {
      "text/html": [
       "<div>\n",
       "<style scoped>\n",
       "    .dataframe tbody tr th:only-of-type {\n",
       "        vertical-align: middle;\n",
       "    }\n",
       "\n",
       "    .dataframe tbody tr th {\n",
       "        vertical-align: top;\n",
       "    }\n",
       "\n",
       "    .dataframe thead th {\n",
       "        text-align: right;\n",
       "    }\n",
       "</style>\n",
       "<table border=\"1\" class=\"dataframe\">\n",
       "  <thead>\n",
       "    <tr style=\"text-align: right;\">\n",
       "      <th></th>\n",
       "      <th>paths</th>\n",
       "      <th>a-line</th>\n",
       "      <th>abstract</th>\n",
       "      <th>abstract chevron</th>\n",
       "      <th>abstract chevron print</th>\n",
       "      <th>abstract diamond</th>\n",
       "      <th>abstract floral</th>\n",
       "      <th>abstract floral print</th>\n",
       "      <th>abstract geo</th>\n",
       "      <th>abstract geo print</th>\n",
       "      <th>...</th>\n",
       "      <th>zig</th>\n",
       "      <th>zigzag</th>\n",
       "      <th>zip</th>\n",
       "      <th>zip-front</th>\n",
       "      <th>zip-pocket</th>\n",
       "      <th>zip-up</th>\n",
       "      <th>zipped</th>\n",
       "      <th>zipper</th>\n",
       "      <th>zippered</th>\n",
       "      <th>group</th>\n",
       "    </tr>\n",
       "  </thead>\n",
       "  <tbody>\n",
       "    <tr>\n",
       "      <th>0</th>\n",
       "      <td>../datasets/big_ds/img-001/img/Sheer_Pleated-F...</td>\n",
       "      <td>0</td>\n",
       "      <td>0</td>\n",
       "      <td>0</td>\n",
       "      <td>0</td>\n",
       "      <td>0</td>\n",
       "      <td>0</td>\n",
       "      <td>0</td>\n",
       "      <td>0</td>\n",
       "      <td>0</td>\n",
       "      <td>...</td>\n",
       "      <td>0</td>\n",
       "      <td>0</td>\n",
       "      <td>0</td>\n",
       "      <td>0</td>\n",
       "      <td>0</td>\n",
       "      <td>0</td>\n",
       "      <td>0</td>\n",
       "      <td>0</td>\n",
       "      <td>0</td>\n",
       "      <td>train</td>\n",
       "    </tr>\n",
       "    <tr>\n",
       "      <th>1</th>\n",
       "      <td>../datasets/big_ds/img-001/img/Sheer_Pleated-F...</td>\n",
       "      <td>0</td>\n",
       "      <td>0</td>\n",
       "      <td>0</td>\n",
       "      <td>0</td>\n",
       "      <td>0</td>\n",
       "      <td>0</td>\n",
       "      <td>0</td>\n",
       "      <td>0</td>\n",
       "      <td>0</td>\n",
       "      <td>...</td>\n",
       "      <td>0</td>\n",
       "      <td>0</td>\n",
       "      <td>0</td>\n",
       "      <td>0</td>\n",
       "      <td>0</td>\n",
       "      <td>0</td>\n",
       "      <td>0</td>\n",
       "      <td>0</td>\n",
       "      <td>0</td>\n",
       "      <td>train</td>\n",
       "    </tr>\n",
       "    <tr>\n",
       "      <th>2</th>\n",
       "      <td>../datasets/big_ds/img-001/img/Sheer_Pleated-F...</td>\n",
       "      <td>0</td>\n",
       "      <td>0</td>\n",
       "      <td>0</td>\n",
       "      <td>0</td>\n",
       "      <td>0</td>\n",
       "      <td>0</td>\n",
       "      <td>0</td>\n",
       "      <td>0</td>\n",
       "      <td>0</td>\n",
       "      <td>...</td>\n",
       "      <td>0</td>\n",
       "      <td>0</td>\n",
       "      <td>0</td>\n",
       "      <td>0</td>\n",
       "      <td>0</td>\n",
       "      <td>0</td>\n",
       "      <td>0</td>\n",
       "      <td>0</td>\n",
       "      <td>0</td>\n",
       "      <td>val</td>\n",
       "    </tr>\n",
       "    <tr>\n",
       "      <th>3</th>\n",
       "      <td>../datasets/big_ds/img-001/img/Sheer_Pleated-F...</td>\n",
       "      <td>0</td>\n",
       "      <td>0</td>\n",
       "      <td>0</td>\n",
       "      <td>0</td>\n",
       "      <td>0</td>\n",
       "      <td>0</td>\n",
       "      <td>0</td>\n",
       "      <td>0</td>\n",
       "      <td>0</td>\n",
       "      <td>...</td>\n",
       "      <td>0</td>\n",
       "      <td>0</td>\n",
       "      <td>0</td>\n",
       "      <td>0</td>\n",
       "      <td>0</td>\n",
       "      <td>0</td>\n",
       "      <td>0</td>\n",
       "      <td>0</td>\n",
       "      <td>0</td>\n",
       "      <td>train</td>\n",
       "    </tr>\n",
       "    <tr>\n",
       "      <th>4</th>\n",
       "      <td>../datasets/big_ds/img-001/img/Sheer_Pleated-F...</td>\n",
       "      <td>0</td>\n",
       "      <td>0</td>\n",
       "      <td>0</td>\n",
       "      <td>0</td>\n",
       "      <td>0</td>\n",
       "      <td>0</td>\n",
       "      <td>0</td>\n",
       "      <td>0</td>\n",
       "      <td>0</td>\n",
       "      <td>...</td>\n",
       "      <td>0</td>\n",
       "      <td>0</td>\n",
       "      <td>0</td>\n",
       "      <td>0</td>\n",
       "      <td>0</td>\n",
       "      <td>0</td>\n",
       "      <td>0</td>\n",
       "      <td>0</td>\n",
       "      <td>0</td>\n",
       "      <td>test</td>\n",
       "    </tr>\n",
       "  </tbody>\n",
       "</table>\n",
       "<p>5 rows × 1002 columns</p>\n",
       "</div>"
      ],
      "text/plain": [
       "                                               paths  a-line  abstract  \\\n",
       "0  ../datasets/big_ds/img-001/img/Sheer_Pleated-F...       0         0   \n",
       "1  ../datasets/big_ds/img-001/img/Sheer_Pleated-F...       0         0   \n",
       "2  ../datasets/big_ds/img-001/img/Sheer_Pleated-F...       0         0   \n",
       "3  ../datasets/big_ds/img-001/img/Sheer_Pleated-F...       0         0   \n",
       "4  ../datasets/big_ds/img-001/img/Sheer_Pleated-F...       0         0   \n",
       "\n",
       "   abstract chevron  abstract chevron print  abstract diamond  \\\n",
       "0                 0                       0                 0   \n",
       "1                 0                       0                 0   \n",
       "2                 0                       0                 0   \n",
       "3                 0                       0                 0   \n",
       "4                 0                       0                 0   \n",
       "\n",
       "   abstract floral  abstract floral print  abstract geo  abstract geo print  \\\n",
       "0                0                      0             0                   0   \n",
       "1                0                      0             0                   0   \n",
       "2                0                      0             0                   0   \n",
       "3                0                      0             0                   0   \n",
       "4                0                      0             0                   0   \n",
       "\n",
       "   ...  zig  zigzag  zip  zip-front  zip-pocket  zip-up  zipped  zipper  \\\n",
       "0  ...    0       0    0          0           0       0       0       0   \n",
       "1  ...    0       0    0          0           0       0       0       0   \n",
       "2  ...    0       0    0          0           0       0       0       0   \n",
       "3  ...    0       0    0          0           0       0       0       0   \n",
       "4  ...    0       0    0          0           0       0       0       0   \n",
       "\n",
       "   zippered  group  \n",
       "0         0  train  \n",
       "1         0  train  \n",
       "2         0    val  \n",
       "3         0  train  \n",
       "4         0   test  \n",
       "\n",
       "[5 rows x 1002 columns]"
      ]
     },
     "execution_count": 22,
     "metadata": {},
     "output_type": "execute_result"
    }
   ],
   "source": [
    "data[\"group\"] = partitions.group\n",
    "data.head() "
   ]
  },
  {
   "attachments": {},
   "cell_type": "markdown",
   "metadata": {},
   "source": [
    "## Handle Attrbute Type \n",
    "\n",
    "<b>Attribute Type</b>  \n",
    "- \"1\" represents texture-related attributes, \n",
    "- \"2\" represents fabric-related attributes, \n",
    "- \"3\" represents shape-related attributes, \n",
    "- \"4\" represents part-related attributes, \n",
    "- \"5\" represents style-related attributes;"
   ]
  },
  {
   "cell_type": "code",
   "execution_count": 23,
   "metadata": {},
   "outputs": [
    {
     "data": {
      "text/html": [
       "<div>\n",
       "<style scoped>\n",
       "    .dataframe tbody tr th:only-of-type {\n",
       "        vertical-align: middle;\n",
       "    }\n",
       "\n",
       "    .dataframe tbody tr th {\n",
       "        vertical-align: top;\n",
       "    }\n",
       "\n",
       "    .dataframe thead th {\n",
       "        text-align: right;\n",
       "    }\n",
       "</style>\n",
       "<table border=\"1\" class=\"dataframe\">\n",
       "  <thead>\n",
       "    <tr style=\"text-align: right;\">\n",
       "      <th></th>\n",
       "      <th>attribute_name</th>\n",
       "      <th>attribute_type</th>\n",
       "    </tr>\n",
       "  </thead>\n",
       "  <tbody>\n",
       "    <tr>\n",
       "      <th>0</th>\n",
       "      <td>a-line</td>\n",
       "      <td>3</td>\n",
       "    </tr>\n",
       "    <tr>\n",
       "      <th>1</th>\n",
       "      <td>abstract</td>\n",
       "      <td>1</td>\n",
       "    </tr>\n",
       "    <tr>\n",
       "      <th>2</th>\n",
       "      <td>abstract chevron</td>\n",
       "      <td>1</td>\n",
       "    </tr>\n",
       "    <tr>\n",
       "      <th>3</th>\n",
       "      <td>abstract chevron print</td>\n",
       "      <td>1</td>\n",
       "    </tr>\n",
       "    <tr>\n",
       "      <th>4</th>\n",
       "      <td>abstract diamond</td>\n",
       "      <td>1</td>\n",
       "    </tr>\n",
       "  </tbody>\n",
       "</table>\n",
       "</div>"
      ],
      "text/plain": [
       "           attribute_name  attribute_type\n",
       "0                  a-line               3\n",
       "1                abstract               1\n",
       "2        abstract chevron               1\n",
       "3  abstract chevron print               1\n",
       "4        abstract diamond               1"
      ]
     },
     "execution_count": 23,
     "metadata": {},
     "output_type": "execute_result"
    }
   ],
   "source": [
    "attr = pd.read_csv(\"../datasets/attribute_set/custom_attr_definitions.csv\", index_col=0)\n",
    "attr.head() "
   ]
  },
  {
   "cell_type": "code",
   "execution_count": 24,
   "metadata": {},
   "outputs": [
    {
     "data": {
      "text/plain": [
       "array([5, 2, 4, 3, 1], dtype=int64)"
      ]
     },
     "execution_count": 24,
     "metadata": {},
     "output_type": "execute_result"
    }
   ],
   "source": [
    "attr.attribute_type.value_counts().index.to_numpy()"
   ]
  },
  {
   "attachments": {},
   "cell_type": "markdown",
   "metadata": {},
   "source": [
    "### Part Related Attributes \"4\""
   ]
  },
  {
   "cell_type": "code",
   "execution_count": 25,
   "metadata": {},
   "outputs": [
    {
     "data": {
      "text/html": [
       "<div>\n",
       "<style scoped>\n",
       "    .dataframe tbody tr th:only-of-type {\n",
       "        vertical-align: middle;\n",
       "    }\n",
       "\n",
       "    .dataframe tbody tr th {\n",
       "        vertical-align: top;\n",
       "    }\n",
       "\n",
       "    .dataframe thead th {\n",
       "        text-align: right;\n",
       "    }\n",
       "</style>\n",
       "<table border=\"1\" class=\"dataframe\">\n",
       "  <thead>\n",
       "    <tr style=\"text-align: right;\">\n",
       "      <th></th>\n",
       "      <th>attribute_name</th>\n",
       "      <th>attribute_type</th>\n",
       "    </tr>\n",
       "  </thead>\n",
       "  <tbody>\n",
       "    <tr>\n",
       "      <th>22</th>\n",
       "      <td>arrow collar</td>\n",
       "      <td>4</td>\n",
       "    </tr>\n",
       "    <tr>\n",
       "      <th>26</th>\n",
       "      <td>asymmetrical hem</td>\n",
       "      <td>4</td>\n",
       "    </tr>\n",
       "    <tr>\n",
       "      <th>31</th>\n",
       "      <td>back bow</td>\n",
       "      <td>4</td>\n",
       "    </tr>\n",
       "    <tr>\n",
       "      <th>32</th>\n",
       "      <td>back cutout</td>\n",
       "      <td>4</td>\n",
       "    </tr>\n",
       "    <tr>\n",
       "      <th>33</th>\n",
       "      <td>back knit</td>\n",
       "      <td>4</td>\n",
       "    </tr>\n",
       "  </tbody>\n",
       "</table>\n",
       "</div>"
      ],
      "text/plain": [
       "      attribute_name  attribute_type\n",
       "22      arrow collar               4\n",
       "26  asymmetrical hem               4\n",
       "31          back bow               4\n",
       "32       back cutout               4\n",
       "33         back knit               4"
      ]
     },
     "execution_count": 25,
     "metadata": {},
     "output_type": "execute_result"
    }
   ],
   "source": [
    "attr[attr.attribute_type == 4].head() "
   ]
  },
  {
   "cell_type": "code",
   "execution_count": 26,
   "metadata": {},
   "outputs": [
    {
     "data": {
      "text/plain": [
       "(216, 2)"
      ]
     },
     "execution_count": 26,
     "metadata": {},
     "output_type": "execute_result"
    }
   ],
   "source": [
    "attr[attr.attribute_type == 4].shape "
   ]
  },
  {
   "cell_type": "code",
   "execution_count": 27,
   "metadata": {},
   "outputs": [],
   "source": [
    "import numpy as np \n",
    "\n",
    "df_category_4 = data.loc[:,np.concatenate([['paths', 'group'], attr[attr.attribute_type == 4].iloc[:,0].values])]"
   ]
  },
  {
   "cell_type": "code",
   "execution_count": 28,
   "metadata": {},
   "outputs": [
    {
     "data": {
      "text/plain": [
       "(289222, 218)"
      ]
     },
     "execution_count": 28,
     "metadata": {},
     "output_type": "execute_result"
    }
   ],
   "source": [
    "df_category_4.shape "
   ]
  },
  {
   "cell_type": "code",
   "execution_count": 29,
   "metadata": {},
   "outputs": [],
   "source": [
    "import matplotlib.pyplot as plt\n",
    "import seaborn\n",
    "\n",
    "def create_pi(df):\n",
    "    zeros = 0\n",
    "    ones = 0 \n",
    "    for i in range(2, df.shape[1]):\n",
    "        zeros = zeros + df.iloc[:, i].value_counts().to_numpy()[0] \n",
    "        ones = ones + df.iloc[:, i].value_counts().to_numpy()[1]  \n",
    "\n",
    "    \n",
    "    data_m = [ones, zeros]\n",
    "    keys = ['Positive', 'Negative']\n",
    "    \n",
    "    palette_color = seaborn.color_palette('bright')\n",
    "    plt.pie(data_m, labels=keys, colors=palette_color, autopct='%.0f%%')\n",
    "\n",
    "    plt.show()"
   ]
  },
  {
   "cell_type": "code",
   "execution_count": 30,
   "metadata": {},
   "outputs": [
    {
     "data": {
      "image/png": "[encoded data removed]",
      "text/plain": [
       "<Figure size 640x480 with 1 Axes>"
      ]
     },
     "metadata": {},
     "output_type": "display_data"
    }
   ],
   "source": [
    "create_pi(df_category_4)"
   ]
  },
  {
   "cell_type": "code",
   "execution_count": 31,
   "metadata": {},
   "outputs": [
    {
     "data": {
      "text/plain": [
       "(289222, 182)"
      ]
     },
     "execution_count": 31,
     "metadata": {},
     "output_type": "execute_result"
    }
   ],
   "source": [
    "df_category_3 = data.loc[:,np.concatenate([['paths', 'group'], attr[attr.attribute_type == 3].iloc[:,0].values])]\n",
    "df_category_3.shape "
   ]
  },
  {
   "cell_type": "code",
   "execution_count": 32,
   "metadata": {},
   "outputs": [
    {
     "data": {
      "image/png": "[encoded data removed]",
      "text/plain": [
       "<Figure size 640x480 with 1 Axes>"
      ]
     },
     "metadata": {},
     "output_type": "display_data"
    }
   ],
   "source": [
    "create_pi(df_category_3)"
   ]
  },
  {
   "cell_type": "code",
   "execution_count": 33,
   "metadata": {},
   "outputs": [
    {
     "data": {
      "text/plain": [
       "(289222, 232)"
      ]
     },
     "execution_count": 33,
     "metadata": {},
     "output_type": "execute_result"
    }
   ],
   "source": [
    "df_category_5 = data.loc[:,np.concatenate([['paths', 'group'], attr[attr.attribute_type == 5].iloc[:,0].values])]\n",
    "df_category_5.shape "
   ]
  },
  {
   "cell_type": "code",
   "execution_count": 34,
   "metadata": {},
   "outputs": [
    {
     "data": {
      "image/png": "[encoded data removed]",
      "text/plain": [
       "<Figure size 640x480 with 1 Axes>"
      ]
     },
     "metadata": {},
     "output_type": "display_data"
    }
   ],
   "source": [
    "create_pi(df_category_5) "
   ]
  },
  {
   "cell_type": "code",
   "execution_count": 35,
   "metadata": {},
   "outputs": [
    {
     "data": {
      "text/plain": [
       "((289222, 232), (289222, 182), (289222, 218))"
      ]
     },
     "execution_count": 35,
     "metadata": {},
     "output_type": "execute_result"
    }
   ],
   "source": [
    "df_category_5.shape, df_category_3.shape, df_category_4.shape"
   ]
  },
  {
   "attachments": {},
   "cell_type": "markdown",
   "metadata": {},
   "source": [
    "# Prepare Data Pipeline by using tf.data "
   ]
  },
  {
   "cell_type": "code",
   "execution_count": 36,
   "metadata": {},
   "outputs": [
    {
     "data": {
      "text/plain": [
       "((209222, 182), (40000, 182), (40000, 182))"
      ]
     },
     "execution_count": 36,
     "metadata": {},
     "output_type": "execute_result"
    }
   ],
   "source": [
    "df_category_3[df_category_3.group == 'train'].shape,  df_category_3[df_category_3.group == 'val'].shape,  df_category_3[df_category_3.group == 'test'].shape"
   ]
  },
  {
   "cell_type": "code",
   "execution_count": 37,
   "metadata": {},
   "outputs": [],
   "source": [
    "TRAIN_SIZE = df_category_3[df_category_3.group == 'train'].shape[0]\n",
    "data = pd.concat([df_category_3[df_category_3.group == 'train'].sample(frac=1),  \n",
    "                df_category_3[df_category_3.group == 'val'].sample(frac=1)]).reset_index(drop=True).drop(['group'], axis=1)"
   ]
  },
  {
   "cell_type": "code",
   "execution_count": 38,
   "metadata": {},
   "outputs": [
    {
     "data": {
      "text/plain": [
       "array(['../datasets/big_ds/img-001/img/Striped_Chiffon_Blouse/img_00000148.jpg',\n",
       "       '../datasets/big_ds/img-001/img/Faux_Shearling_Parka/img_00000011.jpg',\n",
       "       '../datasets/big_ds/img-001/img/Striped_A-Line_Dress/img_00000008.jpg',\n",
       "       '../datasets/big_ds/img-001/img/Go_Baroque_Trapeze_Dress/img_00000027.jpg',\n",
       "       '../datasets/big_ds/img-001/img/Beaded_Trim_Mini_Skirt/img_00000004.jpg'],\n",
       "      dtype=object)"
      ]
     },
     "execution_count": 38,
     "metadata": {},
     "output_type": "execute_result"
    }
   ],
   "source": [
    "fnames = data.paths.to_numpy()  \n",
    "fnames[:5]"
   ]
  },
  {
   "cell_type": "code",
   "execution_count": 39,
   "metadata": {},
   "outputs": [
    {
     "data": {
      "text/plain": [
       "249222"
      ]
     },
     "execution_count": 39,
     "metadata": {},
     "output_type": "execute_result"
    }
   ],
   "source": [
    "import tensorflow as tf \n",
    "\n",
    "ds_size = data.shape[0] \n",
    "# number_of_selected_samples = 2000 \n",
    "\n",
    "filelist_ds = tf.data.Dataset.from_tensor_slices(fnames) \n",
    "\n",
    "filelist_ds.cardinality().numpy() "
   ]
  },
  {
   "attachments": {},
   "cell_type": "markdown",
   "metadata": {},
   "source": [
    "## Custom tf Helpers "
   ]
  },
  {
   "cell_type": "code",
   "execution_count": 40,
   "metadata": {},
   "outputs": [],
   "source": [
    "def get_label(file_path):\n",
    "    \"\"\"\n",
    "        file_path: the file path for the image that you want to select\n",
    "    \"\"\"\n",
    "    labels = data.loc[data.paths == file_path].to_numpy().squeeze()[1:].astype(\"int64\")\n",
    "    return tf.convert_to_tensor(labels) "
   ]
  },
  {
   "cell_type": "code",
   "execution_count": 41,
   "metadata": {},
   "outputs": [
    {
     "data": {
      "text/plain": [
       "<tf.Tensor: shape=(180,), dtype=int64, numpy=\n",
       "array([0, 0, 0, 0, 0, 0, 0, 0, 0, 0, 0, 0, 0, 0, 0, 0, 0, 0, 0, 0, 0, 0,\n",
       "       0, 0, 0, 0, 0, 0, 0, 0, 0, 0, 0, 0, 0, 0, 0, 0, 0, 0, 0, 0, 0, 0,\n",
       "       0, 0, 0, 0, 0, 0, 0, 0, 0, 0, 0, 0, 0, 0, 0, 0, 0, 0, 0, 0, 0, 0,\n",
       "       0, 0, 0, 0, 1, 0, 0, 0, 1, 0, 0, 0, 0, 0, 0, 0, 0, 0, 0, 0, 0, 0,\n",
       "       0, 0, 0, 0, 0, 0, 0, 0, 0, 0, 0, 0, 0, 0, 0, 0, 0, 0, 0, 0, 0, 0,\n",
       "       0, 0, 0, 0, 0, 0, 0, 0, 0, 0, 0, 0, 0, 0, 0, 0, 0, 0, 0, 0, 0, 0,\n",
       "       0, 0, 0, 0, 0, 0, 0, 0, 0, 0, 0, 0, 0, 0, 0, 0, 0, 0, 0, 0, 0, 0,\n",
       "       0, 0, 0, 0, 0, 0, 0, 0, 0, 0, 0, 0, 0, 0, 0, 0, 0, 0, 0, 0, 0, 0,\n",
       "       0, 0, 0, 0], dtype=int64)>"
      ]
     },
     "execution_count": 41,
     "metadata": {},
     "output_type": "execute_result"
    }
   ],
   "source": [
    "get_label(fnames[100])"
   ]
  },
  {
   "cell_type": "code",
   "execution_count": 42,
   "metadata": {},
   "outputs": [],
   "source": [
    "# resize and scale the images so that we can save time in training  \n",
    "IMG_WIDTH, IMG_HEIGHT = 64, 64 \n",
    "def decode_img(img):\n",
    "    \"\"\"\n",
    "        img: img is the image \n",
    "    \"\"\" \n",
    "    #color images \n",
    "    img = tf.image.decode_jpeg(img, channels=3) \n",
    "    img = tf.image.convert_image_dtype(img, tf.float32) \n",
    "    img = tf.image.resize(img, [IMG_WIDTH, IMG_HEIGHT]) \n",
    "    img = img / tf.constant(256, dtype=tf.float32)\n",
    "    return img"
   ]
  },
  {
   "cell_type": "code",
   "execution_count": 43,
   "metadata": {},
   "outputs": [],
   "source": [
    "def combine_images_labels(file_path: tf.Tensor): \n",
    "    label = get_label(file_path) \n",
    "    img = tf.io.read_file(file_path) \n",
    "    img = decode_img(img) \n",
    "    return img, label "
   ]
  },
  {
   "attachments": {},
   "cell_type": "markdown",
   "metadata": {},
   "source": [
    "# Train/Test Split "
   ]
  },
  {
   "cell_type": "code",
   "execution_count": 44,
   "metadata": {},
   "outputs": [],
   "source": [
    "train_ratio = 0.80 \n",
    "ds_train = filelist_ds.take(TRAIN_SIZE) \n",
    "ds_test = filelist_ds.skip(TRAIN_SIZE)"
   ]
  },
  {
   "cell_type": "code",
   "execution_count": 45,
   "metadata": {},
   "outputs": [],
   "source": [
    "BATCH_SIZE = 32 "
   ]
  },
  {
   "attachments": {},
   "cell_type": "markdown",
   "metadata": {},
   "source": [
    "## Pre-process All the Images "
   ]
  },
  {
   "cell_type": "code",
   "execution_count": 46,
   "metadata": {},
   "outputs": [],
   "source": [
    "ds_train = ds_train.map(lambda x: \n",
    "                        tf.py_function(func=combine_images_labels, \n",
    "                                       inp=[x], # input of the function \n",
    "                                       Tout=(tf.float32,tf.int64)),  # return type \n",
    "                        num_parallel_calls=tf.data.AUTOTUNE, # parallelizing data extraction \n",
    "                        deterministic=False \n",
    "                        )"
   ]
  },
  {
   "cell_type": "code",
   "execution_count": 47,
   "metadata": {},
   "outputs": [],
   "source": [
    "ds_test= ds_test.map(lambda x: tf.py_function(func=combine_images_labels,\n",
    "          inp=[x], Tout=(tf.float32,tf.int64)),\n",
    "          num_parallel_calls=tf.data.AUTOTUNE,\n",
    "          deterministic=False)"
   ]
  },
  {
   "attachments": {},
   "cell_type": "markdown",
   "metadata": {},
   "source": [
    "### Prepare Data Pipeline \n",
    "\n",
    "- **batch**(): Combines consecutive elements of this dataset into batches.\n",
    "- **cache**(): Caches the elements in this dataset. he first time the dataset is iterated over, its elements will be cached either in the specified file or in memory.Subsequent iterations will use the cached data.\n",
    "- **prefetch**(): Creates a Dataset that prefetches elements from this dataset. Most dataset input pipelines should end with a call to *prefetch*. This allows later elements to be prepared while the current element is being processed. This often improves latency and throughput, at the cost of using additional memory to store prefetched elements.\n",
    " "
   ]
  },
  {
   "cell_type": "code",
   "execution_count": 48,
   "metadata": {},
   "outputs": [],
   "source": [
    "ds_train_batched = ds_train.batch(BATCH_SIZE).cache().prefetch(tf.data.experimental.AUTOTUNE) \n",
    "ds_test_batched = ds_test.batch(BATCH_SIZE).cache().prefetch(tf.data.experimental.AUTOTUNE) "
   ]
  },
  {
   "cell_type": "code",
   "execution_count": 49,
   "metadata": {},
   "outputs": [
    {
     "data": {
      "text/plain": [
       "6539"
      ]
     },
     "execution_count": 49,
     "metadata": {},
     "output_type": "execute_result"
    }
   ],
   "source": [
    "ds_train_batched.cardinality().numpy() "
   ]
  },
  {
   "cell_type": "code",
   "execution_count": 50,
   "metadata": {},
   "outputs": [
    {
     "data": {
      "text/plain": [
       "180"
      ]
     },
     "execution_count": 50,
     "metadata": {},
     "output_type": "execute_result"
    }
   ],
   "source": [
    "nr_of_classes = len(data.columns) - 1  \n",
    "nr_of_classes"
   ]
  },
  {
   "attachments": {},
   "cell_type": "markdown",
   "metadata": {},
   "source": [
    "# Models "
   ]
  },
  {
   "cell_type": "markdown",
   "metadata": {},
   "source": [
    "## Model 1:Fine Grained VGG16 "
   ]
  },
  {
   "cell_type": "code",
   "execution_count": 51,
   "metadata": {},
   "outputs": [],
   "source": [
    "from tensorflow import keras \n",
    "base_model = keras.applications.VGG16(\n",
    "    weights=\"imagenet\", # load weights pre-trained on ImageNet. \n",
    "    input_shape=(IMG_WIDTH, IMG_HEIGHT, 3), # VGG16 expects min 32 x 32 \n",
    "    include_top = False # do not include output layer of the image net vgg \n",
    ")\n",
    "base_model.trainable = False "
   ]
  },
  {
   "cell_type": "code",
   "execution_count": 52,
   "metadata": {},
   "outputs": [],
   "source": [
    "inputs = keras.Input(shape=(IMG_WIDTH,IMG_HEIGHT,3))\n",
    "x = tf.cast(inputs, tf.float32)\n",
    "x = tf.keras.applications.vgg16.preprocess_input(x)   \n",
    "x = base_model(x) \n",
    "x = keras.layers.GlobalAveragePooling2D()(x) \n",
    "\n",
    "initializer = tf.keras.initializers.GlorotUniform(seed=42) \n",
    "activation = tf.keras.activations.sigmoid  \n",
    "\n",
    "outputs = keras.layers.Dense(nr_of_classes,\n",
    "                             kernel_initializer=initializer, \n",
    "                             activation=activation)(x) \n",
    "\n",
    "model_1 = keras.Model(inputs, outputs) "
   ]
  },
  {
   "cell_type": "code",
   "execution_count": 53,
   "metadata": {},
   "outputs": [],
   "source": [
    "model_1.compile(optimizer=keras.optimizers.Adam(),\n",
    "              loss=keras.losses.BinaryCrossentropy(), # default from_logits=False\n",
    "              metrics=[keras.metrics.TruePositives(name='tp'),\n",
    "      keras.metrics.FalsePositives(name='fp'),\n",
    "      keras.metrics.TrueNegatives(name='tn'),\n",
    "      keras.metrics.FalseNegatives(name='fn'), \n",
    "      keras.metrics.BinaryAccuracy(name='accuracy'),\n",
    "      keras.metrics.Precision(name='precision'),\n",
    "      keras.metrics.Recall(name='recall')])"
   ]
  },
  {
   "cell_type": "code",
   "execution_count": 54,
   "metadata": {},
   "outputs": [],
   "source": [
    "early_stopping = tf.keras.callbacks.EarlyStopping(monitor='loss', patience=5) \n",
    "checkpoint_path = \"checkpoints/NORMAL_DATASET/Model 1: VGG/checkpoint_VGG_Model_1-{epoch:01d}.ckpt\" \n",
    "checkpoint_callback = tf.keras.callbacks.ModelCheckpoint(filepath=checkpoint_path,\n",
    "                                                         save_weights_only=True,\n",
    "                                                         save_best_only=False,\n",
    "                                                         verbose=1)"
   ]
  },
  {
   "cell_type": "code",
   "execution_count": null,
   "metadata": {},
   "outputs": [
    {
     "data": {
      "text/plain": [
       "<tensorflow.python.training.tracking.util.CheckpointLoadStatus at 0x23077b103a0>"
      ]
     },
     "metadata": {},
     "output_type": "display_data"
    }
   ],
   "source": [
    "# model_1.load_weights(previous_checkpoint)"
   ]
  },
  {
   "cell_type": "code",
   "execution_count": 55,
   "metadata": {},
   "outputs": [
    {
     "name": "stdout",
     "output_type": "stream",
     "text": [
      "Epoch 1/10\n",
      "  27/6539 [..............................] - ETA: 3740:37:07 - loss: 1.0224 - tp: 151.0000 - fp: 44905.0000 - tn: 110041.0000 - fn: 423.0000 - accuracy: 0.7085 - precision: 0.0034 - recall: 0.2631"
     ]
    }
   ],
   "source": [
    "history_model_1 = model_1.fit(ds_train_batched, \n",
    "                            epochs=10,\n",
    "                            validation_data =ds_test_batched,\n",
    "                            callbacks=[early_stopping, checkpoint_callback]\n",
    "                            )"
   ]
  },
  {
   "cell_type": "code",
   "execution_count": 1,
   "metadata": {},
   "outputs": [
    {
     "ename": "NameError",
     "evalue": "name 'model_1' is not defined",
     "output_type": "error",
     "traceback": [
      "\u001b[1;31m---------------------------------------------------------------------------\u001b[0m",
      "\u001b[1;31mNameError\u001b[0m                                 Traceback (most recent call last)",
      "\u001b[1;32m~\\AppData\\Local\\Temp\\13\\ipykernel_18328\\1222367645.py\u001b[0m in \u001b[0;36m<module>\u001b[1;34m\u001b[0m\n\u001b[1;32m----> 1\u001b[1;33m \u001b[0mmodel_1\u001b[0m\u001b[1;33m.\u001b[0m\u001b[0msave\u001b[0m\u001b[1;33m(\u001b[0m\u001b[1;34m\"../trained_models/IN_SHOP_Models/model_1_vgg.h5\"\u001b[0m\u001b[1;33m)\u001b[0m\u001b[1;33m\u001b[0m\u001b[1;33m\u001b[0m\u001b[0m\n\u001b[0m",
      "\u001b[1;31mNameError\u001b[0m: name 'model_1' is not defined"
     ]
    }
   ],
   "source": [
    "model_1.save(\"../trained_models/IN_SHOP_Models/model_1_vgg.h5\") "
   ]
  },
  {
   "cell_type": "code",
   "execution_count": null,
   "metadata": {},
   "outputs": [],
   "source": [
    "pd.DataFrame(history_model_1.history).to_csv(\"../trained_models/IN_SHOP_Models/model_1_vgg_RESULT_2.csv\")"
   ]
  },
  {
   "cell_type": "markdown",
   "metadata": {},
   "source": [
    "## Model 2: Efficient Net "
   ]
  },
  {
   "cell_type": "code",
   "execution_count": null,
   "metadata": {},
   "outputs": [],
   "source": [
    "efficient_net = tf.keras.applications.EfficientNetB0(include_top=False)\n",
    "efficient_net.trainable = False"
   ]
  },
  {
   "cell_type": "code",
   "execution_count": null,
   "metadata": {},
   "outputs": [],
   "source": [
    "from tensorflow import keras \n",
    "inputs = keras.Input(shape=(IMG_WIDTH,IMG_HEIGHT,3)) \n",
    "x = efficient_net(inputs) \n",
    "x = keras.layers.GlobalAveragePooling2D()(x) \n",
    "\n",
    "initializer = tf.keras.initializers.GlorotUniform(seed=42) \n",
    "activation = tf.keras.activations.sigmoid  \n",
    "\n",
    "outputs = keras.layers.Dense(nr_of_classes,\n",
    "                             kernel_initializer=initializer, \n",
    "                             activation=activation)(x) \n",
    "\n",
    "model_2 = keras.Model(inputs, outputs) "
   ]
  },
  {
   "cell_type": "code",
   "execution_count": null,
   "metadata": {},
   "outputs": [],
   "source": [
    "METRICS = [\n",
    "      keras.metrics.TruePositives(name='tp'),\n",
    "      keras.metrics.FalsePositives(name='fp'),\n",
    "      keras.metrics.TrueNegatives(name='tn'),\n",
    "      keras.metrics.FalseNegatives(name='fn'), \n",
    "      keras.metrics.BinaryAccuracy(name='accuracy'),\n",
    "      keras.metrics.Precision(name='precision'),\n",
    "      keras.metrics.Recall(name='recall')\n",
    "]\n",
    "\n",
    "model_2.compile(optimizer=keras.optimizers.Adam(),\n",
    "              loss=keras.losses.BinaryCrossentropy(), # default from_logits=False\n",
    "              metrics=METRICS)"
   ]
  },
  {
   "cell_type": "code",
   "execution_count": null,
   "metadata": {},
   "outputs": [
    {
     "data": {
      "text/plain": [
       "<tensorflow.python.training.tracking.util.CheckpointLoadStatus at 0x234804c1640>"
      ]
     },
     "metadata": {},
     "output_type": "display_data"
    }
   ],
   "source": [
    "model_2.load_weights(\"checkpoints/in-shop_ds_model2/checkpoint_Efficient_Base.ckpt\")"
   ]
  },
  {
   "cell_type": "code",
   "execution_count": null,
   "metadata": {},
   "outputs": [],
   "source": [
    "early_stopping = tf.keras.callbacks.EarlyStopping(monitor='loss', patience=5) \n",
    "checkpoint_path = \"checkpoints/in-shop_ds_model2_STEP_3/checkpoint_Efficient_Base.ckpt\" \n",
    "checkpoint_callback = tf.keras.callbacks.ModelCheckpoint(filepath=checkpoint_path,\n",
    "                                                         save_weights_only=True,\n",
    "                                                         save_best_only=False,\n",
    "                                                         verbose=1)"
   ]
  },
  {
   "cell_type": "code",
   "execution_count": null,
   "metadata": {},
   "outputs": [
    {
     "name": "stdout",
     "output_type": "stream",
     "text": [
      "Epoch 1/10\n",
      "463/463 [==============================] - ETA: 0s - loss: 0.1703 - tp: 62134.0000 - fp: 42225.0000 - tn: 4811905.0000 - fn: 224888.0000 - accuracy: 0.9480 - precision: 0.5954 - recall: 0.2165\n",
      "Epoch 1: saving model to checkpoints/in-shop_ds_model2_STEP_3\\checkpoint_Efficient_Base.ckpt\n",
      "463/463 [==============================] - 376s 781ms/step - loss: 0.1703 - tp: 62134.0000 - fp: 42225.0000 - tn: 4811905.0000 - fn: 224888.0000 - accuracy: 0.9480 - precision: 0.5954 - recall: 0.2165 - val_loss: 0.1547 - val_tp: 16258.0000 - val_fp: 6287.0000 - val_tn: 1207245.0000 - val_fn: 55498.0000 - val_accuracy: 0.9519 - val_precision: 0.7211 - val_recall: 0.2266\n",
      "Epoch 2/10\n",
      "463/463 [==============================] - ETA: 0s - loss: 0.1516 - tp: 71549.0000 - fp: 30430.0000 - tn: 4823700.0000 - fn: 215473.0000 - accuracy: 0.9522 - precision: 0.7016 - recall: 0.2493\n",
      "Epoch 2: saving model to checkpoints/in-shop_ds_model2_STEP_3\\checkpoint_Efficient_Base.ckpt\n",
      "463/463 [==============================] - 383s 822ms/step - loss: 0.1516 - tp: 71549.0000 - fp: 30430.0000 - tn: 4823700.0000 - fn: 215473.0000 - accuracy: 0.9522 - precision: 0.7016 - recall: 0.2493 - val_loss: 0.1506 - val_tp: 17393.0000 - val_fp: 6585.0000 - val_tn: 1206947.0000 - val_fn: 54363.0000 - val_accuracy: 0.9526 - val_precision: 0.7254 - val_recall: 0.2424\n",
      "Epoch 3/10\n",
      "463/463 [==============================] - ETA: 0s - loss: 0.1470 - tp: 75705.0000 - fp: 30986.0000 - tn: 4823144.0000 - fn: 211317.0000 - accuracy: 0.9529 - precision: 0.7096 - recall: 0.2638\n",
      "Epoch 3: saving model to checkpoints/in-shop_ds_model2_STEP_3\\checkpoint_Efficient_Base.ckpt\n",
      "463/463 [==============================] - 389s 836ms/step - loss: 0.1470 - tp: 75705.0000 - fp: 30986.0000 - tn: 4823144.0000 - fn: 211317.0000 - accuracy: 0.9529 - precision: 0.7096 - recall: 0.2638 - val_loss: 0.1484 - val_tp: 18115.0000 - val_fp: 6857.0000 - val_tn: 1206675.0000 - val_fn: 53641.0000 - val_accuracy: 0.9529 - val_precision: 0.7254 - val_recall: 0.2525\n",
      "Epoch 4/10\n",
      "463/463 [==============================] - ETA: 0s - loss: 0.1440 - tp: 78448.0000 - fp: 31352.0000 - tn: 4822778.0000 - fn: 208574.0000 - accuracy: 0.9533 - precision: 0.7145 - recall: 0.2733\n",
      "Epoch 4: saving model to checkpoints/in-shop_ds_model2_STEP_3\\checkpoint_Efficient_Base.ckpt\n",
      "463/463 [==============================] - 407s 875ms/step - loss: 0.1440 - tp: 78448.0000 - fp: 31352.0000 - tn: 4822778.0000 - fn: 208574.0000 - accuracy: 0.9533 - precision: 0.7145 - recall: 0.2733 - val_loss: 0.1471 - val_tp: 18652.0000 - val_fp: 7088.0000 - val_tn: 1206444.0000 - val_fn: 53104.0000 - val_accuracy: 0.9532 - val_precision: 0.7246 - val_recall: 0.2599\n",
      "Epoch 5/10\n",
      "463/463 [==============================] - ETA: 0s - loss: 0.1416 - tp: 80641.0000 - fp: 31457.0000 - tn: 4822673.0000 - fn: 206381.0000 - accuracy: 0.9537 - precision: 0.7194 - recall: 0.2810\n",
      "Epoch 5: saving model to checkpoints/in-shop_ds_model2_STEP_3\\checkpoint_Efficient_Base.ckpt\n",
      "463/463 [==============================] - 390s 838ms/step - loss: 0.1416 - tp: 80641.0000 - fp: 31457.0000 - tn: 4822673.0000 - fn: 206381.0000 - accuracy: 0.9537 - precision: 0.7194 - recall: 0.2810 - val_loss: 0.1459 - val_tp: 19119.0000 - val_fp: 7279.0000 - val_tn: 1206253.0000 - val_fn: 52637.0000 - val_accuracy: 0.9534 - val_precision: 0.7243 - val_recall: 0.2664\n",
      "Epoch 6/10\n",
      "463/463 [==============================] - ETA: 0s - loss: 0.1396 - tp: 82255.0000 - fp: 31566.0000 - tn: 4822564.0000 - fn: 204767.0000 - accuracy: 0.9540 - precision: 0.7227 - recall: 0.2866\n",
      "Epoch 6: saving model to checkpoints/in-shop_ds_model2_STEP_3\\checkpoint_Efficient_Base.ckpt\n",
      "463/463 [==============================] - 378s 813ms/step - loss: 0.1396 - tp: 82255.0000 - fp: 31566.0000 - tn: 4822564.0000 - fn: 204767.0000 - accuracy: 0.9540 - precision: 0.7227 - recall: 0.2866 - val_loss: 0.1451 - val_tp: 19415.0000 - val_fp: 7412.0000 - val_tn: 1206120.0000 - val_fn: 52341.0000 - val_accuracy: 0.9535 - val_precision: 0.7237 - val_recall: 0.2706\n",
      "Epoch 7/10\n",
      "463/463 [==============================] - ETA: 0s - loss: 0.1380 - tp: 83670.0000 - fp: 31731.0000 - tn: 4822399.0000 - fn: 203352.0000 - accuracy: 0.9543 - precision: 0.7250 - recall: 0.2915\n",
      "Epoch 7: saving model to checkpoints/in-shop_ds_model2_STEP_3\\checkpoint_Efficient_Base.ckpt\n",
      "463/463 [==============================] - 349s 754ms/step - loss: 0.1380 - tp: 83670.0000 - fp: 31731.0000 - tn: 4822399.0000 - fn: 203352.0000 - accuracy: 0.9543 - precision: 0.7250 - recall: 0.2915 - val_loss: 0.1444 - val_tp: 19671.0000 - val_fp: 7512.0000 - val_tn: 1206020.0000 - val_fn: 52085.0000 - val_accuracy: 0.9536 - val_precision: 0.7237 - val_recall: 0.2741\n",
      "Epoch 8/10\n",
      "463/463 [==============================] - ETA: 0s - loss: 0.1365 - tp: 85136.0000 - fp: 31782.0000 - tn: 4822348.0000 - fn: 201886.0000 - accuracy: 0.9545 - precision: 0.7282 - recall: 0.2966\n",
      "Epoch 8: saving model to checkpoints/in-shop_ds_model2_STEP_3\\checkpoint_Efficient_Base.ckpt\n",
      "463/463 [==============================] - 356s 769ms/step - loss: 0.1365 - tp: 85136.0000 - fp: 31782.0000 - tn: 4822348.0000 - fn: 201886.0000 - accuracy: 0.9545 - precision: 0.7282 - recall: 0.2966 - val_loss: 0.1439 - val_tp: 20009.0000 - val_fp: 7765.0000 - val_tn: 1205767.0000 - val_fn: 51747.0000 - val_accuracy: 0.9537 - val_precision: 0.7204 - val_recall: 0.2788\n",
      "Epoch 9/10\n",
      "463/463 [==============================] - ETA: 0s - loss: 0.1352 - tp: 85799.0000 - fp: 31865.0000 - tn: 4822265.0000 - fn: 201223.0000 - accuracy: 0.9547 - precision: 0.7292 - recall: 0.2989\n",
      "Epoch 9: saving model to checkpoints/in-shop_ds_model2_STEP_3\\checkpoint_Efficient_Base.ckpt\n",
      "463/463 [==============================] - 391s 841ms/step - loss: 0.1352 - tp: 85799.0000 - fp: 31865.0000 - tn: 4822265.0000 - fn: 201223.0000 - accuracy: 0.9547 - precision: 0.7292 - recall: 0.2989 - val_loss: 0.1435 - val_tp: 20065.0000 - val_fp: 7721.0000 - val_tn: 1205811.0000 - val_fn: 51691.0000 - val_accuracy: 0.9538 - val_precision: 0.7221 - val_recall: 0.2796\n",
      "Epoch 10/10\n",
      "463/463 [==============================] - ETA: 0s - loss: 0.1340 - tp: 87296.0000 - fp: 32037.0000 - tn: 4822093.0000 - fn: 199726.0000 - accuracy: 0.9549 - precision: 0.7315 - recall: 0.3041\n",
      "Epoch 10: saving model to checkpoints/in-shop_ds_model2_STEP_3\\checkpoint_Efficient_Base.ckpt\n",
      "463/463 [==============================] - 381s 817ms/step - loss: 0.1340 - tp: 87296.0000 - fp: 32037.0000 - tn: 4822093.0000 - fn: 199726.0000 - accuracy: 0.9549 - precision: 0.7315 - recall: 0.3041 - val_loss: 0.1431 - val_tp: 20256.0000 - val_fp: 7785.0000 - val_tn: 1205747.0000 - val_fn: 51500.0000 - val_accuracy: 0.9539 - val_precision: 0.7224 - val_recall: 0.2823\n"
     ]
    }
   ],
   "source": [
    "history_model_2 = model_2.fit(ds_train_batched, \n",
    "        validation_data =ds_test_batched,\n",
    "        epochs=10,\n",
    "        callbacks=[early_stopping, checkpoint_callback])"
   ]
  },
  {
   "cell_type": "code",
   "execution_count": null,
   "metadata": {},
   "outputs": [],
   "source": [
    "model_2.save(\"../trained_models/IN_SHOP_Models/model_2_efficient_net.h5\") "
   ]
  },
  {
   "cell_type": "code",
   "execution_count": null,
   "metadata": {},
   "outputs": [],
   "source": [
    "pd.DataFrame(history_model_2.history).to_csv(\"../trained_models/IN_SHOP_Models/model_2_efficient_net_step3.csv\")"
   ]
  },
  {
   "cell_type": "markdown",
   "metadata": {},
   "source": [
    "### Model 2 Fine Tune"
   ]
  },
  {
   "cell_type": "code",
   "execution_count": null,
   "metadata": {},
   "outputs": [],
   "source": [
    "from tensorflow.keras.models import clone_model \n",
    "\n",
    "model_2_fine = clone_model(model_2)\n",
    "model_2_fine.set_weights(model_2.get_weights())"
   ]
  },
  {
   "cell_type": "code",
   "execution_count": null,
   "metadata": {},
   "outputs": [
    {
     "name": "stdout",
     "output_type": "stream",
     "text": [
      "True name: input_8\n",
      "True name: efficientnetb0\n",
      "True name: global_average_pooling2d_3\n",
      "True name: dense_3\n"
     ]
    }
   ],
   "source": [
    "for layer in model_2_fine.layers: \n",
    "    print(layer.trainable,\"name:\" ,layer.name)"
   ]
  },
  {
   "cell_type": "code",
   "execution_count": null,
   "metadata": {},
   "outputs": [
    {
     "data": {
      "text/plain": [
       "'efficientnetb0'"
      ]
     },
     "metadata": {},
     "output_type": "display_data"
    }
   ],
   "source": [
    "ef_net_for_fine = model_2_fine.layers[1]\n",
    "model_2_fine.layers[1].name "
   ]
  },
  {
   "cell_type": "code",
   "execution_count": null,
   "metadata": {},
   "outputs": [],
   "source": [
    "ef_net_for_fine.trainable = True  \n",
    "\n",
    "for layer in ef_net_for_fine.layers[:-10]:\n",
    "    layer.trainable = False "
   ]
  },
  {
   "cell_type": "code",
   "execution_count": null,
   "metadata": {},
   "outputs": [],
   "source": [
    "METRICS = [\n",
    "      keras.metrics.TruePositives(name='tp'),\n",
    "      keras.metrics.FalsePositives(name='fp'),\n",
    "      keras.metrics.TrueNegatives(name='tn'),\n",
    "      keras.metrics.FalseNegatives(name='fn'), \n",
    "      keras.metrics.BinaryAccuracy(name='accuracy'),\n",
    "      keras.metrics.Precision(name='precision'),\n",
    "      keras.metrics.Recall(name='recall')\n",
    "]\n",
    "\n",
    "model_2_fine.compile(optimizer=keras.optimizers.Adam(),\n",
    "              loss=keras.losses.BinaryCrossentropy(), \n",
    "              metrics=METRICS)"
   ]
  },
  {
   "cell_type": "code",
   "execution_count": null,
   "metadata": {},
   "outputs": [
    {
     "name": "stdout",
     "output_type": "stream",
     "text": [
      "True block7a_se_squeeze\n",
      "True block7a_se_reshape\n",
      "True block7a_se_reduce\n",
      "True block7a_se_expand\n",
      "True block7a_se_excite\n",
      "True block7a_project_conv\n",
      "True block7a_project_bn\n",
      "True top_conv\n",
      "True top_bn\n",
      "True top_activation\n"
     ]
    }
   ],
   "source": [
    "for layer in ef_net_for_fine.layers[-10:]: \n",
    "    print(layer.trainable, layer.name)"
   ]
  },
  {
   "cell_type": "code",
   "execution_count": null,
   "metadata": {},
   "outputs": [
    {
     "data": {
      "text/plain": [
       "<tensorflow.python.training.tracking.util.CheckpointLoadStatus at 0x2349d965fa0>"
      ]
     },
     "metadata": {},
     "output_type": "display_data"
    }
   ],
   "source": [
    "# model_2_fine.load_weights(\"checkpoints/in-shop_ds_model2_fine_tune/checkpoint_Efficient_Base.ckpt\" )"
   ]
  },
  {
   "cell_type": "code",
   "execution_count": null,
   "metadata": {},
   "outputs": [],
   "source": [
    "checkpoint_path = \"checkpoints/in-shop_ds_model2_fine_tune_STEP3/checkpoint_Efficient_Base.ckpt\" \n",
    "checkpoint_callback = tf.keras.callbacks.ModelCheckpoint(filepath=checkpoint_path,\n",
    "                                                         save_weights_only=True,\n",
    "                                                         save_best_only=False,\n",
    "                                                         verbose=1)"
   ]
  },
  {
   "cell_type": "code",
   "execution_count": null,
   "metadata": {},
   "outputs": [
    {
     "name": "stdout",
     "output_type": "stream",
     "text": [
      "Epoch 10/20\n",
      "463/463 [==============================] - ETA: 0s - loss: 0.1437 - tp: 81404.0000 - fp: 38510.0000 - tn: 4815620.0000 - fn: 205618.0000 - accuracy: 0.9525 - precision: 0.6789 - recall: 0.2836\n",
      "Epoch 10: saving model to checkpoints/in-shop_ds_model2_fine_tune_STEP3\\checkpoint_Efficient_Base.ckpt\n",
      "463/463 [==============================] - 683s 1s/step - loss: 0.1437 - tp: 81404.0000 - fp: 38510.0000 - tn: 4815620.0000 - fn: 205618.0000 - accuracy: 0.9525 - precision: 0.6789 - recall: 0.2836 - val_loss: 0.1428 - val_tp: 22207.0000 - val_fp: 9873.0000 - val_tn: 1203659.0000 - val_fn: 49549.0000 - val_accuracy: 0.9538 - val_precision: 0.6922 - val_recall: 0.3095\n",
      "Epoch 11/20\n",
      "463/463 [==============================] - ETA: 0s - loss: 0.1344 - tp: 88316.0000 - fp: 34777.0000 - tn: 4819353.0000 - fn: 198706.0000 - accuracy: 0.9546 - precision: 0.7175 - recall: 0.3077\n",
      "Epoch 11: saving model to checkpoints/in-shop_ds_model2_fine_tune_STEP3\\checkpoint_Efficient_Base.ckpt\n",
      "463/463 [==============================] - 695s 1s/step - loss: 0.1344 - tp: 88316.0000 - fp: 34777.0000 - tn: 4819353.0000 - fn: 198706.0000 - accuracy: 0.9546 - precision: 0.7175 - recall: 0.3077 - val_loss: 0.1427 - val_tp: 22352.0000 - val_fp: 9425.0000 - val_tn: 1204107.0000 - val_fn: 49404.0000 - val_accuracy: 0.9542 - val_precision: 0.7034 - val_recall: 0.3115\n",
      "Epoch 12/20\n",
      "463/463 [==============================] - ETA: 0s - loss: 0.1287 - tp: 93409.0000 - fp: 33435.0000 - tn: 4820695.0000 - fn: 193613.0000 - accuracy: 0.9558 - precision: 0.7364 - recall: 0.3254\n",
      "Epoch 12: saving model to checkpoints/in-shop_ds_model2_fine_tune_STEP3\\checkpoint_Efficient_Base.ckpt\n",
      "463/463 [==============================] - 672s 1s/step - loss: 0.1287 - tp: 93409.0000 - fp: 33435.0000 - tn: 4820695.0000 - fn: 193613.0000 - accuracy: 0.9558 - precision: 0.7364 - recall: 0.3254 - val_loss: 0.1433 - val_tp: 23242.0000 - val_fp: 10334.0000 - val_tn: 1203198.0000 - val_fn: 48514.0000 - val_accuracy: 0.9542 - val_precision: 0.6922 - val_recall: 0.3239\n",
      "Epoch 13/20\n",
      "463/463 [==============================] - ETA: 0s - loss: 0.1240 - tp: 98269.0000 - fp: 32439.0000 - tn: 4821691.0000 - fn: 188753.0000 - accuracy: 0.9570 - precision: 0.7518 - recall: 0.3424\n",
      "Epoch 13: saving model to checkpoints/in-shop_ds_model2_fine_tune_STEP3\\checkpoint_Efficient_Base.ckpt\n",
      "463/463 [==============================] - 656s 1s/step - loss: 0.1240 - tp: 98269.0000 - fp: 32439.0000 - tn: 4821691.0000 - fn: 188753.0000 - accuracy: 0.9570 - precision: 0.7518 - recall: 0.3424 - val_loss: 0.1425 - val_tp: 23764.0000 - val_fp: 10718.0000 - val_tn: 1202814.0000 - val_fn: 47992.0000 - val_accuracy: 0.9543 - val_precision: 0.6892 - val_recall: 0.3312\n",
      "Epoch 14/20\n",
      "463/463 [==============================] - ETA: 0s - loss: 0.1199 - tp: 102546.0000 - fp: 31927.0000 - tn: 4822203.0000 - fn: 184476.0000 - accuracy: 0.9579 - precision: 0.7626 - recall: 0.3573\n",
      "Epoch 14: saving model to checkpoints/in-shop_ds_model2_fine_tune_STEP3\\checkpoint_Efficient_Base.ckpt\n",
      "463/463 [==============================] - 763s 2s/step - loss: 0.1199 - tp: 102546.0000 - fp: 31927.0000 - tn: 4822203.0000 - fn: 184476.0000 - accuracy: 0.9579 - precision: 0.7626 - recall: 0.3573 - val_loss: 0.1417 - val_tp: 23771.0000 - val_fp: 10945.0000 - val_tn: 1202587.0000 - val_fn: 47985.0000 - val_accuracy: 0.9542 - val_precision: 0.6847 - val_recall: 0.3313\n",
      "Epoch 15/20\n",
      "463/463 [==============================] - ETA: 0s - loss: 0.1159 - tp: 107125.0000 - fp: 31421.0000 - tn: 4822709.0000 - fn: 179897.0000 - accuracy: 0.9589 - precision: 0.7732 - recall: 0.3732\n",
      "Epoch 15: saving model to checkpoints/in-shop_ds_model2_fine_tune_STEP3\\checkpoint_Efficient_Base.ckpt\n",
      "463/463 [==============================] - 718s 2s/step - loss: 0.1159 - tp: 107125.0000 - fp: 31421.0000 - tn: 4822709.0000 - fn: 179897.0000 - accuracy: 0.9589 - precision: 0.7732 - recall: 0.3732 - val_loss: 0.1411 - val_tp: 24341.0000 - val_fp: 11483.0000 - val_tn: 1202049.0000 - val_fn: 47415.0000 - val_accuracy: 0.9542 - val_precision: 0.6795 - val_recall: 0.3392\n",
      "Epoch 16/20\n",
      "463/463 [==============================] - ETA: 0s - loss: 0.1123 - tp: 111488.0000 - fp: 31088.0000 - tn: 4823042.0000 - fn: 175534.0000 - accuracy: 0.9598 - precision: 0.7820 - recall: 0.3884\n",
      "Epoch 16: saving model to checkpoints/in-shop_ds_model2_fine_tune_STEP3\\checkpoint_Efficient_Base.ckpt\n",
      "463/463 [==============================] - 662s 1s/step - loss: 0.1123 - tp: 111488.0000 - fp: 31088.0000 - tn: 4823042.0000 - fn: 175534.0000 - accuracy: 0.9598 - precision: 0.7820 - recall: 0.3884 - val_loss: 0.1411 - val_tp: 24461.0000 - val_fp: 11545.0000 - val_tn: 1201987.0000 - val_fn: 47295.0000 - val_accuracy: 0.9542 - val_precision: 0.6794 - val_recall: 0.3409\n",
      "Epoch 17/20\n",
      "463/463 [==============================] - ETA: 0s - loss: 0.1087 - tp: 116011.0000 - fp: 30822.0000 - tn: 4823308.0000 - fn: 171011.0000 - accuracy: 0.9607 - precision: 0.7901 - recall: 0.4042\n",
      "Epoch 17: saving model to checkpoints/in-shop_ds_model2_fine_tune_STEP3\\checkpoint_Efficient_Base.ckpt\n",
      "463/463 [==============================] - 657s 1s/step - loss: 0.1087 - tp: 116011.0000 - fp: 30822.0000 - tn: 4823308.0000 - fn: 171011.0000 - accuracy: 0.9607 - precision: 0.7901 - recall: 0.4042 - val_loss: 0.1433 - val_tp: 23888.0000 - val_fp: 11460.0000 - val_tn: 1202072.0000 - val_fn: 47868.0000 - val_accuracy: 0.9538 - val_precision: 0.6758 - val_recall: 0.3329\n",
      "Epoch 18/20\n",
      "463/463 [==============================] - ETA: 0s - loss: 0.1051 - tp: 120556.0000 - fp: 30267.0000 - tn: 4823863.0000 - fn: 166466.0000 - accuracy: 0.9617 - precision: 0.7993 - recall: 0.4200\n",
      "Epoch 18: saving model to checkpoints/in-shop_ds_model2_fine_tune_STEP3\\checkpoint_Efficient_Base.ckpt\n",
      "463/463 [==============================] - 655s 1s/step - loss: 0.1051 - tp: 120556.0000 - fp: 30267.0000 - tn: 4823863.0000 - fn: 166466.0000 - accuracy: 0.9617 - precision: 0.7993 - recall: 0.4200 - val_loss: 0.1476 - val_tp: 24407.0000 - val_fp: 13945.0000 - val_tn: 1199587.0000 - val_fn: 47349.0000 - val_accuracy: 0.9523 - val_precision: 0.6364 - val_recall: 0.3401\n",
      "Epoch 19/20\n",
      "463/463 [==============================] - ETA: 0s - loss: 0.1020 - tp: 124877.0000 - fp: 30095.0000 - tn: 4824035.0000 - fn: 162145.0000 - accuracy: 0.9626 - precision: 0.8058 - recall: 0.4351\n",
      "Epoch 19: saving model to checkpoints/in-shop_ds_model2_fine_tune_STEP3\\checkpoint_Efficient_Base.ckpt\n",
      "463/463 [==============================] - 657s 1s/step - loss: 0.1020 - tp: 124877.0000 - fp: 30095.0000 - tn: 4824035.0000 - fn: 162145.0000 - accuracy: 0.9626 - precision: 0.8058 - recall: 0.4351 - val_loss: 0.1494 - val_tp: 24692.0000 - val_fp: 15471.0000 - val_tn: 1198061.0000 - val_fn: 47064.0000 - val_accuracy: 0.9513 - val_precision: 0.6148 - val_recall: 0.3441\n",
      "Epoch 20/20\n",
      "463/463 [==============================] - ETA: 0s - loss: 0.0989 - tp: 129592.0000 - fp: 29832.0000 - tn: 4824298.0000 - fn: 157430.0000 - accuracy: 0.9636 - precision: 0.8129 - recall: 0.4515\n",
      "Epoch 20: saving model to checkpoints/in-shop_ds_model2_fine_tune_STEP3\\checkpoint_Efficient_Base.ckpt\n",
      "463/463 [==============================] - 643s 1s/step - loss: 0.0989 - tp: 129592.0000 - fp: 29832.0000 - tn: 4824298.0000 - fn: 157430.0000 - accuracy: 0.9636 - precision: 0.8129 - recall: 0.4515 - val_loss: 0.1501 - val_tp: 24570.0000 - val_fp: 15076.0000 - val_tn: 1198456.0000 - val_fn: 47186.0000 - val_accuracy: 0.9516 - val_precision: 0.6197 - val_recall: 0.3424\n"
     ]
    }
   ],
   "source": [
    "history_model_2_fine = model_2_fine.fit(ds_train_batched, \n",
    "        validation_data =ds_test_batched,\n",
    "        epochs=20, \n",
    "        initial_epoch=history_model_2.epoch[-1], # start from previous last epoch \n",
    "        callbacks=[early_stopping, checkpoint_callback])"
   ]
  },
  {
   "cell_type": "code",
   "execution_count": null,
   "metadata": {},
   "outputs": [],
   "source": [
    "model_2_fine.save(\"../trained_models/IN_SHOP_Models/model_2_efficient_net_fine_tune_STEP_3_OverFitting.h5\") "
   ]
  },
  {
   "cell_type": "code",
   "execution_count": null,
   "metadata": {},
   "outputs": [],
   "source": [
    "pd.DataFrame(history_model_2_fine.history).to_csv(\"../trained_models/IN_SHOP_Models/model_2_efficient_net_fine_tune_STEP_3_OverFitting.csv\")"
   ]
  },
  {
   "cell_type": "code",
   "execution_count": null,
   "metadata": {},
   "outputs": [
    {
     "data": {
      "text/html": [
       "<div>\n",
       "<style scoped>\n",
       "    .dataframe tbody tr th:only-of-type {\n",
       "        vertical-align: middle;\n",
       "    }\n",
       "\n",
       "    .dataframe tbody tr th {\n",
       "        vertical-align: top;\n",
       "    }\n",
       "\n",
       "    .dataframe thead th {\n",
       "        text-align: right;\n",
       "    }\n",
       "</style>\n",
       "<table border=\"1\" class=\"dataframe\">\n",
       "  <thead>\n",
       "    <tr style=\"text-align: right;\">\n",
       "      <th></th>\n",
       "      <th>loss</th>\n",
       "      <th>tp</th>\n",
       "      <th>fp</th>\n",
       "      <th>tn</th>\n",
       "      <th>fn</th>\n",
       "      <th>accuracy</th>\n",
       "      <th>precision</th>\n",
       "      <th>recall</th>\n",
       "      <th>val_loss</th>\n",
       "      <th>val_tp</th>\n",
       "      <th>val_fp</th>\n",
       "      <th>val_tn</th>\n",
       "      <th>val_fn</th>\n",
       "      <th>val_accuracy</th>\n",
       "      <th>val_precision</th>\n",
       "      <th>val_recall</th>\n",
       "    </tr>\n",
       "  </thead>\n",
       "  <tbody>\n",
       "    <tr>\n",
       "      <th>0</th>\n",
       "      <td>0.143684</td>\n",
       "      <td>81404.0</td>\n",
       "      <td>38510.0</td>\n",
       "      <td>4815620.0</td>\n",
       "      <td>205618.0</td>\n",
       "      <td>0.952515</td>\n",
       "      <td>0.678853</td>\n",
       "      <td>0.283616</td>\n",
       "      <td>0.142841</td>\n",
       "      <td>22207.0</td>\n",
       "      <td>9873.0</td>\n",
       "      <td>1203659.0</td>\n",
       "      <td>49549.0</td>\n",
       "      <td>0.953768</td>\n",
       "      <td>0.692238</td>\n",
       "      <td>0.309479</td>\n",
       "    </tr>\n",
       "    <tr>\n",
       "      <th>1</th>\n",
       "      <td>0.134357</td>\n",
       "      <td>88316.0</td>\n",
       "      <td>34777.0</td>\n",
       "      <td>4819353.0</td>\n",
       "      <td>198706.0</td>\n",
       "      <td>0.954585</td>\n",
       "      <td>0.717474</td>\n",
       "      <td>0.307698</td>\n",
       "      <td>0.142742</td>\n",
       "      <td>22352.0</td>\n",
       "      <td>9425.0</td>\n",
       "      <td>1204107.0</td>\n",
       "      <td>49404.0</td>\n",
       "      <td>0.954229</td>\n",
       "      <td>0.703402</td>\n",
       "      <td>0.311500</td>\n",
       "    </tr>\n",
       "    <tr>\n",
       "      <th>2</th>\n",
       "      <td>0.128667</td>\n",
       "      <td>93409.0</td>\n",
       "      <td>33435.0</td>\n",
       "      <td>4820695.0</td>\n",
       "      <td>193613.0</td>\n",
       "      <td>0.955837</td>\n",
       "      <td>0.736408</td>\n",
       "      <td>0.325442</td>\n",
       "      <td>0.143303</td>\n",
       "      <td>23242.0</td>\n",
       "      <td>10334.0</td>\n",
       "      <td>1203198.0</td>\n",
       "      <td>48514.0</td>\n",
       "      <td>0.954214</td>\n",
       "      <td>0.692221</td>\n",
       "      <td>0.323903</td>\n",
       "    </tr>\n",
       "    <tr>\n",
       "      <th>3</th>\n",
       "      <td>0.124024</td>\n",
       "      <td>98269.0</td>\n",
       "      <td>32439.0</td>\n",
       "      <td>4821691.0</td>\n",
       "      <td>188753.0</td>\n",
       "      <td>0.956976</td>\n",
       "      <td>0.751821</td>\n",
       "      <td>0.342374</td>\n",
       "      <td>0.142470</td>\n",
       "      <td>23764.0</td>\n",
       "      <td>10718.0</td>\n",
       "      <td>1202814.0</td>\n",
       "      <td>47992.0</td>\n",
       "      <td>0.954322</td>\n",
       "      <td>0.689171</td>\n",
       "      <td>0.331178</td>\n",
       "    </tr>\n",
       "    <tr>\n",
       "      <th>4</th>\n",
       "      <td>0.119882</td>\n",
       "      <td>102546.0</td>\n",
       "      <td>31927.0</td>\n",
       "      <td>4822203.0</td>\n",
       "      <td>184476.0</td>\n",
       "      <td>0.957908</td>\n",
       "      <td>0.762577</td>\n",
       "      <td>0.357276</td>\n",
       "      <td>0.141750</td>\n",
       "      <td>23771.0</td>\n",
       "      <td>10945.0</td>\n",
       "      <td>1202587.0</td>\n",
       "      <td>47985.0</td>\n",
       "      <td>0.954150</td>\n",
       "      <td>0.684727</td>\n",
       "      <td>0.331275</td>\n",
       "    </tr>\n",
       "    <tr>\n",
       "      <th>5</th>\n",
       "      <td>0.115948</td>\n",
       "      <td>107125.0</td>\n",
       "      <td>31421.0</td>\n",
       "      <td>4822709.0</td>\n",
       "      <td>179897.0</td>\n",
       "      <td>0.958897</td>\n",
       "      <td>0.773209</td>\n",
       "      <td>0.373229</td>\n",
       "      <td>0.141099</td>\n",
       "      <td>24341.0</td>\n",
       "      <td>11483.0</td>\n",
       "      <td>1202049.0</td>\n",
       "      <td>47415.0</td>\n",
       "      <td>0.954175</td>\n",
       "      <td>0.679461</td>\n",
       "      <td>0.339219</td>\n",
       "    </tr>\n",
       "    <tr>\n",
       "      <th>6</th>\n",
       "      <td>0.112315</td>\n",
       "      <td>111488.0</td>\n",
       "      <td>31088.0</td>\n",
       "      <td>4823042.0</td>\n",
       "      <td>175534.0</td>\n",
       "      <td>0.959810</td>\n",
       "      <td>0.781955</td>\n",
       "      <td>0.388430</td>\n",
       "      <td>0.141108</td>\n",
       "      <td>24461.0</td>\n",
       "      <td>11545.0</td>\n",
       "      <td>1201987.0</td>\n",
       "      <td>47295.0</td>\n",
       "      <td>0.954220</td>\n",
       "      <td>0.679359</td>\n",
       "      <td>0.340891</td>\n",
       "    </tr>\n",
       "    <tr>\n",
       "      <th>7</th>\n",
       "      <td>0.108673</td>\n",
       "      <td>116011.0</td>\n",
       "      <td>30822.0</td>\n",
       "      <td>4823308.0</td>\n",
       "      <td>171011.0</td>\n",
       "      <td>0.960742</td>\n",
       "      <td>0.790088</td>\n",
       "      <td>0.404189</td>\n",
       "      <td>0.143254</td>\n",
       "      <td>23888.0</td>\n",
       "      <td>11460.0</td>\n",
       "      <td>1202072.0</td>\n",
       "      <td>47868.0</td>\n",
       "      <td>0.953841</td>\n",
       "      <td>0.675795</td>\n",
       "      <td>0.332906</td>\n",
       "    </tr>\n",
       "    <tr>\n",
       "      <th>8</th>\n",
       "      <td>0.105093</td>\n",
       "      <td>120556.0</td>\n",
       "      <td>30267.0</td>\n",
       "      <td>4823863.0</td>\n",
       "      <td>166466.0</td>\n",
       "      <td>0.961734</td>\n",
       "      <td>0.799321</td>\n",
       "      <td>0.420024</td>\n",
       "      <td>0.147587</td>\n",
       "      <td>24407.0</td>\n",
       "      <td>13945.0</td>\n",
       "      <td>1199587.0</td>\n",
       "      <td>47349.0</td>\n",
       "      <td>0.952311</td>\n",
       "      <td>0.636394</td>\n",
       "      <td>0.340139</td>\n",
       "    </tr>\n",
       "    <tr>\n",
       "      <th>9</th>\n",
       "      <td>0.102033</td>\n",
       "      <td>124877.0</td>\n",
       "      <td>30095.0</td>\n",
       "      <td>4824035.0</td>\n",
       "      <td>162145.0</td>\n",
       "      <td>0.962608</td>\n",
       "      <td>0.805804</td>\n",
       "      <td>0.435078</td>\n",
       "      <td>0.149421</td>\n",
       "      <td>24692.0</td>\n",
       "      <td>15471.0</td>\n",
       "      <td>1198061.0</td>\n",
       "      <td>47064.0</td>\n",
       "      <td>0.951346</td>\n",
       "      <td>0.614795</td>\n",
       "      <td>0.344111</td>\n",
       "    </tr>\n",
       "    <tr>\n",
       "      <th>10</th>\n",
       "      <td>0.098880</td>\n",
       "      <td>129592.0</td>\n",
       "      <td>29832.0</td>\n",
       "      <td>4824298.0</td>\n",
       "      <td>157430.0</td>\n",
       "      <td>0.963576</td>\n",
       "      <td>0.812876</td>\n",
       "      <td>0.451505</td>\n",
       "      <td>0.150148</td>\n",
       "      <td>24570.0</td>\n",
       "      <td>15076.0</td>\n",
       "      <td>1198456.0</td>\n",
       "      <td>47186.0</td>\n",
       "      <td>0.951558</td>\n",
       "      <td>0.619735</td>\n",
       "      <td>0.342410</td>\n",
       "    </tr>\n",
       "  </tbody>\n",
       "</table>\n",
       "</div>"
      ],
      "text/plain": [
       "        loss        tp       fp         tn        fn  accuracy  precision  \\\n",
       "0   0.143684   81404.0  38510.0  4815620.0  205618.0  0.952515   0.678853   \n",
       "1   0.134357   88316.0  34777.0  4819353.0  198706.0  0.954585   0.717474   \n",
       "2   0.128667   93409.0  33435.0  4820695.0  193613.0  0.955837   0.736408   \n",
       "3   0.124024   98269.0  32439.0  4821691.0  188753.0  0.956976   0.751821   \n",
       "4   0.119882  102546.0  31927.0  4822203.0  184476.0  0.957908   0.762577   \n",
       "5   0.115948  107125.0  31421.0  4822709.0  179897.0  0.958897   0.773209   \n",
       "6   0.112315  111488.0  31088.0  4823042.0  175534.0  0.959810   0.781955   \n",
       "7   0.108673  116011.0  30822.0  4823308.0  171011.0  0.960742   0.790088   \n",
       "8   0.105093  120556.0  30267.0  4823863.0  166466.0  0.961734   0.799321   \n",
       "9   0.102033  124877.0  30095.0  4824035.0  162145.0  0.962608   0.805804   \n",
       "10  0.098880  129592.0  29832.0  4824298.0  157430.0  0.963576   0.812876   \n",
       "\n",
       "      recall  val_loss   val_tp   val_fp     val_tn   val_fn  val_accuracy  \\\n",
       "0   0.283616  0.142841  22207.0   9873.0  1203659.0  49549.0      0.953768   \n",
       "1   0.307698  0.142742  22352.0   9425.0  1204107.0  49404.0      0.954229   \n",
       "2   0.325442  0.143303  23242.0  10334.0  1203198.0  48514.0      0.954214   \n",
       "3   0.342374  0.142470  23764.0  10718.0  1202814.0  47992.0      0.954322   \n",
       "4   0.357276  0.141750  23771.0  10945.0  1202587.0  47985.0      0.954150   \n",
       "5   0.373229  0.141099  24341.0  11483.0  1202049.0  47415.0      0.954175   \n",
       "6   0.388430  0.141108  24461.0  11545.0  1201987.0  47295.0      0.954220   \n",
       "7   0.404189  0.143254  23888.0  11460.0  1202072.0  47868.0      0.953841   \n",
       "8   0.420024  0.147587  24407.0  13945.0  1199587.0  47349.0      0.952311   \n",
       "9   0.435078  0.149421  24692.0  15471.0  1198061.0  47064.0      0.951346   \n",
       "10  0.451505  0.150148  24570.0  15076.0  1198456.0  47186.0      0.951558   \n",
       "\n",
       "    val_precision  val_recall  \n",
       "0        0.692238    0.309479  \n",
       "1        0.703402    0.311500  \n",
       "2        0.692221    0.323903  \n",
       "3        0.689171    0.331178  \n",
       "4        0.684727    0.331275  \n",
       "5        0.679461    0.339219  \n",
       "6        0.679359    0.340891  \n",
       "7        0.675795    0.332906  \n",
       "8        0.636394    0.340139  \n",
       "9        0.614795    0.344111  \n",
       "10       0.619735    0.342410  "
      ]
     },
     "metadata": {},
     "output_type": "display_data"
    }
   ],
   "source": [
    "pd.DataFrame(history_model_2_fine.history)"
   ]
  },
  {
   "cell_type": "markdown",
   "metadata": {},
   "source": [
    "### Model 2 Fine Tune: Partitioned Learning Rate and MultiOptimizer "
   ]
  },
  {
   "cell_type": "code",
   "execution_count": null,
   "metadata": {},
   "outputs": [],
   "source": [
    "int(len(ef_net_for_fine.layers) / 3)\n",
    "\n",
    "optimizers = [\n",
    "    keras.optimizers.Adam(), # for layer [0] and last layer \n",
    "    tf.keras.optimizers.Adam(learning_rate=1e-6), # ef net [0 to 80] \n",
    "    tf.keras.optimizers.Adam(learning_rate=1e-4), # ef net [80 to 160] \n",
    "    tf.keras.optimizers.Adam(learning_rate=1e-2), # # ef net [160 to :ef net last] \n",
    "]"
   ]
  },
  {
   "cell_type": "code",
   "execution_count": null,
   "metadata": {},
   "outputs": [],
   "source": [
    "optimizers_and_layers = [\n",
    "    (optimizers[0], model_2_fine.layers[0]), \n",
    "    (optimizers[1], ef_net_for_fine.layers[0:80]), \n",
    "    (optimizers[2], ef_net_for_fine.layers[80:160]),\n",
    "    (optimizers[3], ef_net_for_fine.layers[160:]),\n",
    "    (optimizers[0], model_2_fine.layers[-1]),   \n",
    "]"
   ]
  },
  {
   "cell_type": "code",
   "execution_count": null,
   "metadata": {},
   "outputs": [],
   "source": [
    "#!pip install tensorflow-addons"
   ]
  },
  {
   "cell_type": "code",
   "execution_count": null,
   "metadata": {},
   "outputs": [],
   "source": [
    "import tensorflow_addons as tfa\n",
    "optimizer = tfa.optimizers.MultiOptimizer(optimizers_and_layers)"
   ]
  },
  {
   "cell_type": "code",
   "execution_count": null,
   "metadata": {},
   "outputs": [
    {
     "name": "stdout",
     "output_type": "stream",
     "text": [
      "Epoch 10/20\n",
      "463/463 [==============================] - ETA: 0s - loss: 0.1640 - tp: 62854.0000 - fp: 34782.0000 - tn: 4819348.0000 - fn: 224168.0000 - accuracy: 0.9496 - precision: 0.6438 - recall: 0.2190\n",
      "Epoch 10: saving model to checkpoints/in-shop_ds_model2_fine_tune_STEP3\\checkpoint_Efficient_multi_optimizer.ckpt\n",
      "463/463 [==============================] - 923s 2s/step - loss: 0.1640 - tp: 62854.0000 - fp: 34782.0000 - tn: 4819348.0000 - fn: 224168.0000 - accuracy: 0.9496 - precision: 0.6438 - recall: 0.2190 - val_loss: 0.1847 - val_tp: 23622.0000 - val_fp: 26388.0000 - val_tn: 1187144.0000 - val_fn: 48134.0000 - val_accuracy: 0.9420 - val_precision: 0.4723 - val_recall: 0.3292\n",
      "Epoch 11/20\n",
      "463/463 [==============================] - ETA: 0s - loss: 0.1522 - tp: 72100.0000 - fp: 31394.0000 - tn: 4822736.0000 - fn: 214922.0000 - accuracy: 0.9521 - precision: 0.6967 - recall: 0.2512\n",
      "Epoch 11: saving model to checkpoints/in-shop_ds_model2_fine_tune_STEP3\\checkpoint_Efficient_multi_optimizer.ckpt\n",
      "463/463 [==============================] - 923s 2s/step - loss: 0.1522 - tp: 72100.0000 - fp: 31394.0000 - tn: 4822736.0000 - fn: 214922.0000 - accuracy: 0.9521 - precision: 0.6967 - recall: 0.2512 - val_loss: 0.1616 - val_tp: 22868.0000 - val_fp: 16983.0000 - val_tn: 1196549.0000 - val_fn: 48888.0000 - val_accuracy: 0.9488 - val_precision: 0.5738 - val_recall: 0.3187\n",
      "Epoch 12/20\n",
      "463/463 [==============================] - ETA: 0s - loss: 0.1472 - tp: 77463.0000 - fp: 31800.0000 - tn: 4822330.0000 - fn: 209559.0000 - accuracy: 0.9531 - precision: 0.7090 - recall: 0.2699\n",
      "Epoch 12: saving model to checkpoints/in-shop_ds_model2_fine_tune_STEP3\\checkpoint_Efficient_multi_optimizer.ckpt\n",
      "463/463 [==============================] - 960s 2s/step - loss: 0.1472 - tp: 77463.0000 - fp: 31800.0000 - tn: 4822330.0000 - fn: 209559.0000 - accuracy: 0.9531 - precision: 0.7090 - recall: 0.2699 - val_loss: 0.1510 - val_tp: 20596.0000 - val_fp: 10242.0000 - val_tn: 1203290.0000 - val_fn: 51160.0000 - val_accuracy: 0.9522 - val_precision: 0.6679 - val_recall: 0.2870\n",
      "Epoch 13/20\n",
      "463/463 [==============================] - ETA: 0s - loss: 0.1436 - tp: 81525.0000 - fp: 32170.0000 - tn: 4821960.0000 - fn: 205497.0000 - accuracy: 0.9538 - precision: 0.7171 - recall: 0.2840\n",
      "Epoch 13: saving model to checkpoints/in-shop_ds_model2_fine_tune_STEP3\\checkpoint_Efficient_multi_optimizer.ckpt\n",
      "463/463 [==============================] - 1033s 2s/step - loss: 0.1436 - tp: 81525.0000 - fp: 32170.0000 - tn: 4821960.0000 - fn: 205497.0000 - accuracy: 0.9538 - precision: 0.7171 - recall: 0.2840 - val_loss: 0.1518 - val_tp: 20872.0000 - val_fp: 10587.0000 - val_tn: 1202945.0000 - val_fn: 50884.0000 - val_accuracy: 0.9522 - val_precision: 0.6635 - val_recall: 0.2909\n",
      "Epoch 14/20\n",
      "463/463 [==============================] - ETA: 0s - loss: 0.1407 - tp: 84860.0000 - fp: 32149.0000 - tn: 4821981.0000 - fn: 202162.0000 - accuracy: 0.9544 - precision: 0.7252 - recall: 0.2957\n",
      "Epoch 14: saving model to checkpoints/in-shop_ds_model2_fine_tune_STEP3\\checkpoint_Efficient_multi_optimizer.ckpt\n",
      "463/463 [==============================] - 986s 2s/step - loss: 0.1407 - tp: 84860.0000 - fp: 32149.0000 - tn: 4821981.0000 - fn: 202162.0000 - accuracy: 0.9544 - precision: 0.7252 - recall: 0.2957 - val_loss: 0.1521 - val_tp: 19638.0000 - val_fp: 8253.0000 - val_tn: 1205279.0000 - val_fn: 52118.0000 - val_accuracy: 0.9530 - val_precision: 0.7041 - val_recall: 0.2737\n",
      "Epoch 15/20\n",
      "463/463 [==============================] - ETA: 0s - loss: 0.1380 - tp: 87954.0000 - fp: 32270.0000 - tn: 4821860.0000 - fn: 199068.0000 - accuracy: 0.9550 - precision: 0.7316 - recall: 0.3064\n",
      "Epoch 15: saving model to checkpoints/in-shop_ds_model2_fine_tune_STEP3\\checkpoint_Efficient_multi_optimizer.ckpt\n",
      "463/463 [==============================] - 920s 2s/step - loss: 0.1380 - tp: 87954.0000 - fp: 32270.0000 - tn: 4821860.0000 - fn: 199068.0000 - accuracy: 0.9550 - precision: 0.7316 - recall: 0.3064 - val_loss: 0.1495 - val_tp: 18706.0000 - val_fp: 7240.0000 - val_tn: 1206292.0000 - val_fn: 53050.0000 - val_accuracy: 0.9531 - val_precision: 0.7210 - val_recall: 0.2607\n",
      "Epoch 16/20\n",
      "463/463 [==============================] - ETA: 0s - loss: 0.1356 - tp: 90566.0000 - fp: 32054.0000 - tn: 4822076.0000 - fn: 196456.0000 - accuracy: 0.9556 - precision: 0.7386 - recall: 0.3155\n",
      "Epoch 16: saving model to checkpoints/in-shop_ds_model2_fine_tune_STEP3\\checkpoint_Efficient_multi_optimizer.ckpt\n",
      "463/463 [==============================] - 891s 2s/step - loss: 0.1356 - tp: 90566.0000 - fp: 32054.0000 - tn: 4822076.0000 - fn: 196456.0000 - accuracy: 0.9556 - precision: 0.7386 - recall: 0.3155 - val_loss: 0.1498 - val_tp: 17895.0000 - val_fp: 6485.0000 - val_tn: 1207047.0000 - val_fn: 53861.0000 - val_accuracy: 0.9530 - val_precision: 0.7340 - val_recall: 0.2494\n",
      "Epoch 17/20\n",
      "463/463 [==============================] - ETA: 0s - loss: 0.1332 - tp: 93211.0000 - fp: 32287.0000 - tn: 4821843.0000 - fn: 193811.0000 - accuracy: 0.9560 - precision: 0.7427 - recall: 0.3248\n",
      "Epoch 17: saving model to checkpoints/in-shop_ds_model2_fine_tune_STEP3\\checkpoint_Efficient_multi_optimizer.ckpt\n",
      "463/463 [==============================] - 885s 2s/step - loss: 0.1332 - tp: 93211.0000 - fp: 32287.0000 - tn: 4821843.0000 - fn: 193811.0000 - accuracy: 0.9560 - precision: 0.7427 - recall: 0.3248 - val_loss: 0.1514 - val_tp: 17940.0000 - val_fp: 7053.0000 - val_tn: 1206479.0000 - val_fn: 53816.0000 - val_accuracy: 0.9526 - val_precision: 0.7178 - val_recall: 0.2500\n",
      "Epoch 18/20\n",
      "463/463 [==============================] - ETA: 0s - loss: 0.1310 - tp: 95398.0000 - fp: 32008.0000 - tn: 4822122.0000 - fn: 191624.0000 - accuracy: 0.9565 - precision: 0.7488 - recall: 0.3324\n",
      "Epoch 18: saving model to checkpoints/in-shop_ds_model2_fine_tune_STEP3\\checkpoint_Efficient_multi_optimizer.ckpt\n",
      "463/463 [==============================] - 885s 2s/step - loss: 0.1310 - tp: 95398.0000 - fp: 32008.0000 - tn: 4822122.0000 - fn: 191624.0000 - accuracy: 0.9565 - precision: 0.7488 - recall: 0.3324 - val_loss: 0.1500 - val_tp: 18722.0000 - val_fp: 7389.0000 - val_tn: 1206143.0000 - val_fn: 53034.0000 - val_accuracy: 0.9530 - val_precision: 0.7170 - val_recall: 0.2609\n",
      "Epoch 19/20\n",
      "463/463 [==============================] - ETA: 0s - loss: 0.1287 - tp: 97957.0000 - fp: 32003.0000 - tn: 4822127.0000 - fn: 189065.0000 - accuracy: 0.9570 - precision: 0.7537 - recall: 0.3413\n",
      "Epoch 19: saving model to checkpoints/in-shop_ds_model2_fine_tune_STEP3\\checkpoint_Efficient_multi_optimizer.ckpt\n",
      "463/463 [==============================] - 877s 2s/step - loss: 0.1287 - tp: 97957.0000 - fp: 32003.0000 - tn: 4822127.0000 - fn: 189065.0000 - accuracy: 0.9570 - precision: 0.7537 - recall: 0.3413 - val_loss: 0.1483 - val_tp: 19931.0000 - val_fp: 8035.0000 - val_tn: 1205497.0000 - val_fn: 51825.0000 - val_accuracy: 0.9534 - val_precision: 0.7127 - val_recall: 0.2778\n",
      "Epoch 20/20\n",
      "463/463 [==============================] - ETA: 0s - loss: 0.1265 - tp: 100128.0000 - fp: 31898.0000 - tn: 4822232.0000 - fn: 186894.0000 - accuracy: 0.9574 - precision: 0.7584 - recall: 0.3489\n",
      "Epoch 20: saving model to checkpoints/in-shop_ds_model2_fine_tune_STEP3\\checkpoint_Efficient_multi_optimizer.ckpt\n",
      "463/463 [==============================] - 854s 2s/step - loss: 0.1265 - tp: 100128.0000 - fp: 31898.0000 - tn: 4822232.0000 - fn: 186894.0000 - accuracy: 0.9574 - precision: 0.7584 - recall: 0.3489 - val_loss: 0.1503 - val_tp: 21521.0000 - val_fp: 10544.0000 - val_tn: 1202988.0000 - val_fn: 50235.0000 - val_accuracy: 0.9527 - val_precision: 0.6712 - val_recall: 0.2999\n"
     ]
    }
   ],
   "source": [
    "model_2_fine_multi_optimizer = clone_model(model_2)\n",
    "model_2_fine_multi_optimizer.set_weights(model_2.get_weights())\n",
    "ef_net_for_fine = model_2_fine_multi_optimizer.layers[1]\n",
    "\n",
    "\n",
    "ef_net_for_fine.trainable = True  \n",
    "for layer in ef_net_for_fine.layers[:-20]:\n",
    "    layer.trainable = False \n",
    "\n",
    "METRICS = [\n",
    "      keras.metrics.TruePositives(name='tp'),\n",
    "      keras.metrics.FalsePositives(name='fp'),\n",
    "      keras.metrics.TrueNegatives(name='tn'),\n",
    "      keras.metrics.FalseNegatives(name='fn'), \n",
    "      keras.metrics.BinaryAccuracy(name='accuracy'),\n",
    "      keras.metrics.Precision(name='precision'),\n",
    "      keras.metrics.Recall(name='recall')\n",
    "]\n",
    "\n",
    "model_2_fine_multi_optimizer.compile(optimizer=optimizer,\n",
    "                    loss=keras.losses.BinaryCrossentropy(), \n",
    "                    metrics=METRICS)\n",
    "\n",
    "checkpoint_path = \"checkpoints/in-shop_ds_model2_fine_tune_STEP3/checkpoint_Efficient_multi_optimizer.ckpt\" \n",
    "checkpoint_callback = tf.keras.callbacks.ModelCheckpoint(filepath=checkpoint_path,\n",
    "                                                         save_weights_only=True,\n",
    "                                                         save_best_only=False,\n",
    "                                                         verbose=1)\n",
    "\n",
    "history_model_2_fine_multi_optimizer = model_2_fine_multi_optimizer.fit(ds_train_batched, \n",
    "        validation_data =ds_test_batched,\n",
    "        epochs=20, \n",
    "        initial_epoch=history_model_2.epoch[-1], # start from previous last epoch \n",
    "        callbacks=[early_stopping, checkpoint_callback])"
   ]
  },
  {
   "cell_type": "code",
   "execution_count": null,
   "metadata": {},
   "outputs": [
    {
     "data": {
      "text/html": [
       "<div>\n",
       "<style scoped>\n",
       "    .dataframe tbody tr th:only-of-type {\n",
       "        vertical-align: middle;\n",
       "    }\n",
       "\n",
       "    .dataframe tbody tr th {\n",
       "        vertical-align: top;\n",
       "    }\n",
       "\n",
       "    .dataframe thead th {\n",
       "        text-align: right;\n",
       "    }\n",
       "</style>\n",
       "<table border=\"1\" class=\"dataframe\">\n",
       "  <thead>\n",
       "    <tr style=\"text-align: right;\">\n",
       "      <th></th>\n",
       "      <th>loss</th>\n",
       "      <th>tp</th>\n",
       "      <th>fp</th>\n",
       "      <th>tn</th>\n",
       "      <th>fn</th>\n",
       "      <th>accuracy</th>\n",
       "      <th>precision</th>\n",
       "      <th>recall</th>\n",
       "      <th>val_loss</th>\n",
       "      <th>val_tp</th>\n",
       "      <th>val_fp</th>\n",
       "      <th>val_tn</th>\n",
       "      <th>val_fn</th>\n",
       "      <th>val_accuracy</th>\n",
       "      <th>val_precision</th>\n",
       "      <th>val_recall</th>\n",
       "    </tr>\n",
       "  </thead>\n",
       "  <tbody>\n",
       "    <tr>\n",
       "      <th>0</th>\n",
       "      <td>0.164045</td>\n",
       "      <td>62854.0</td>\n",
       "      <td>34782.0</td>\n",
       "      <td>4819348.0</td>\n",
       "      <td>224168.0</td>\n",
       "      <td>0.949632</td>\n",
       "      <td>0.643758</td>\n",
       "      <td>0.218987</td>\n",
       "      <td>0.184724</td>\n",
       "      <td>23622.0</td>\n",
       "      <td>26388.0</td>\n",
       "      <td>1187144.0</td>\n",
       "      <td>48134.0</td>\n",
       "      <td>0.942019</td>\n",
       "      <td>0.472346</td>\n",
       "      <td>0.329199</td>\n",
       "    </tr>\n",
       "    <tr>\n",
       "      <th>1</th>\n",
       "      <td>0.152166</td>\n",
       "      <td>72100.0</td>\n",
       "      <td>31394.0</td>\n",
       "      <td>4822736.0</td>\n",
       "      <td>214922.0</td>\n",
       "      <td>0.952089</td>\n",
       "      <td>0.696659</td>\n",
       "      <td>0.251200</td>\n",
       "      <td>0.161577</td>\n",
       "      <td>22868.0</td>\n",
       "      <td>16983.0</td>\n",
       "      <td>1196549.0</td>\n",
       "      <td>48888.0</td>\n",
       "      <td>0.948750</td>\n",
       "      <td>0.573838</td>\n",
       "      <td>0.318691</td>\n",
       "    </tr>\n",
       "    <tr>\n",
       "      <th>2</th>\n",
       "      <td>0.147187</td>\n",
       "      <td>77463.0</td>\n",
       "      <td>31800.0</td>\n",
       "      <td>4822330.0</td>\n",
       "      <td>209559.0</td>\n",
       "      <td>0.953054</td>\n",
       "      <td>0.708959</td>\n",
       "      <td>0.269885</td>\n",
       "      <td>0.150965</td>\n",
       "      <td>20596.0</td>\n",
       "      <td>10242.0</td>\n",
       "      <td>1203290.0</td>\n",
       "      <td>51160.0</td>\n",
       "      <td>0.952227</td>\n",
       "      <td>0.667877</td>\n",
       "      <td>0.287028</td>\n",
       "    </tr>\n",
       "    <tr>\n",
       "      <th>3</th>\n",
       "      <td>0.143618</td>\n",
       "      <td>81525.0</td>\n",
       "      <td>32170.0</td>\n",
       "      <td>4821960.0</td>\n",
       "      <td>205497.0</td>\n",
       "      <td>0.953772</td>\n",
       "      <td>0.717050</td>\n",
       "      <td>0.284037</td>\n",
       "      <td>0.151777</td>\n",
       "      <td>20872.0</td>\n",
       "      <td>10587.0</td>\n",
       "      <td>1202945.0</td>\n",
       "      <td>50884.0</td>\n",
       "      <td>0.952173</td>\n",
       "      <td>0.663467</td>\n",
       "      <td>0.290875</td>\n",
       "    </tr>\n",
       "    <tr>\n",
       "      <th>4</th>\n",
       "      <td>0.140713</td>\n",
       "      <td>84860.0</td>\n",
       "      <td>32149.0</td>\n",
       "      <td>4821981.0</td>\n",
       "      <td>202162.0</td>\n",
       "      <td>0.954424</td>\n",
       "      <td>0.725243</td>\n",
       "      <td>0.295657</td>\n",
       "      <td>0.152079</td>\n",
       "      <td>19638.0</td>\n",
       "      <td>8253.0</td>\n",
       "      <td>1205279.0</td>\n",
       "      <td>52118.0</td>\n",
       "      <td>0.953029</td>\n",
       "      <td>0.704098</td>\n",
       "      <td>0.273677</td>\n",
       "    </tr>\n",
       "    <tr>\n",
       "      <th>5</th>\n",
       "      <td>0.137965</td>\n",
       "      <td>87954.0</td>\n",
       "      <td>32270.0</td>\n",
       "      <td>4821860.0</td>\n",
       "      <td>199068.0</td>\n",
       "      <td>0.955003</td>\n",
       "      <td>0.731584</td>\n",
       "      <td>0.306436</td>\n",
       "      <td>0.149519</td>\n",
       "      <td>18706.0</td>\n",
       "      <td>7240.0</td>\n",
       "      <td>1206292.0</td>\n",
       "      <td>53050.0</td>\n",
       "      <td>0.953092</td>\n",
       "      <td>0.720959</td>\n",
       "      <td>0.260689</td>\n",
       "    </tr>\n",
       "    <tr>\n",
       "      <th>6</th>\n",
       "      <td>0.135585</td>\n",
       "      <td>90566.0</td>\n",
       "      <td>32054.0</td>\n",
       "      <td>4822076.0</td>\n",
       "      <td>196456.0</td>\n",
       "      <td>0.955553</td>\n",
       "      <td>0.738591</td>\n",
       "      <td>0.315537</td>\n",
       "      <td>0.149828</td>\n",
       "      <td>17895.0</td>\n",
       "      <td>6485.0</td>\n",
       "      <td>1207047.0</td>\n",
       "      <td>53861.0</td>\n",
       "      <td>0.953049</td>\n",
       "      <td>0.734003</td>\n",
       "      <td>0.249387</td>\n",
       "    </tr>\n",
       "    <tr>\n",
       "      <th>7</th>\n",
       "      <td>0.133192</td>\n",
       "      <td>93211.0</td>\n",
       "      <td>32287.0</td>\n",
       "      <td>4821843.0</td>\n",
       "      <td>193811.0</td>\n",
       "      <td>0.956022</td>\n",
       "      <td>0.742729</td>\n",
       "      <td>0.324752</td>\n",
       "      <td>0.151381</td>\n",
       "      <td>17940.0</td>\n",
       "      <td>7053.0</td>\n",
       "      <td>1206479.0</td>\n",
       "      <td>53816.0</td>\n",
       "      <td>0.952642</td>\n",
       "      <td>0.717801</td>\n",
       "      <td>0.250014</td>\n",
       "    </tr>\n",
       "    <tr>\n",
       "      <th>8</th>\n",
       "      <td>0.131001</td>\n",
       "      <td>95398.0</td>\n",
       "      <td>32008.0</td>\n",
       "      <td>4822122.0</td>\n",
       "      <td>191624.0</td>\n",
       "      <td>0.956502</td>\n",
       "      <td>0.748772</td>\n",
       "      <td>0.332372</td>\n",
       "      <td>0.149976</td>\n",
       "      <td>18722.0</td>\n",
       "      <td>7389.0</td>\n",
       "      <td>1206143.0</td>\n",
       "      <td>53034.0</td>\n",
       "      <td>0.952989</td>\n",
       "      <td>0.717016</td>\n",
       "      <td>0.260912</td>\n",
       "    </tr>\n",
       "    <tr>\n",
       "      <th>9</th>\n",
       "      <td>0.128652</td>\n",
       "      <td>97957.0</td>\n",
       "      <td>32003.0</td>\n",
       "      <td>4822127.0</td>\n",
       "      <td>189065.0</td>\n",
       "      <td>0.957000</td>\n",
       "      <td>0.753747</td>\n",
       "      <td>0.341287</td>\n",
       "      <td>0.148263</td>\n",
       "      <td>19931.0</td>\n",
       "      <td>8035.0</td>\n",
       "      <td>1205497.0</td>\n",
       "      <td>51825.0</td>\n",
       "      <td>0.953427</td>\n",
       "      <td>0.712687</td>\n",
       "      <td>0.277761</td>\n",
       "    </tr>\n",
       "    <tr>\n",
       "      <th>10</th>\n",
       "      <td>0.126509</td>\n",
       "      <td>100128.0</td>\n",
       "      <td>31898.0</td>\n",
       "      <td>4822232.0</td>\n",
       "      <td>186894.0</td>\n",
       "      <td>0.957443</td>\n",
       "      <td>0.758396</td>\n",
       "      <td>0.348851</td>\n",
       "      <td>0.150312</td>\n",
       "      <td>21521.0</td>\n",
       "      <td>10544.0</td>\n",
       "      <td>1202988.0</td>\n",
       "      <td>50235.0</td>\n",
       "      <td>0.952712</td>\n",
       "      <td>0.671168</td>\n",
       "      <td>0.299919</td>\n",
       "    </tr>\n",
       "  </tbody>\n",
       "</table>\n",
       "</div>"
      ],
      "text/plain": [
       "        loss        tp       fp         tn        fn  accuracy  precision  \\\n",
       "0   0.164045   62854.0  34782.0  4819348.0  224168.0  0.949632   0.643758   \n",
       "1   0.152166   72100.0  31394.0  4822736.0  214922.0  0.952089   0.696659   \n",
       "2   0.147187   77463.0  31800.0  4822330.0  209559.0  0.953054   0.708959   \n",
       "3   0.143618   81525.0  32170.0  4821960.0  205497.0  0.953772   0.717050   \n",
       "4   0.140713   84860.0  32149.0  4821981.0  202162.0  0.954424   0.725243   \n",
       "5   0.137965   87954.0  32270.0  4821860.0  199068.0  0.955003   0.731584   \n",
       "6   0.135585   90566.0  32054.0  4822076.0  196456.0  0.955553   0.738591   \n",
       "7   0.133192   93211.0  32287.0  4821843.0  193811.0  0.956022   0.742729   \n",
       "8   0.131001   95398.0  32008.0  4822122.0  191624.0  0.956502   0.748772   \n",
       "9   0.128652   97957.0  32003.0  4822127.0  189065.0  0.957000   0.753747   \n",
       "10  0.126509  100128.0  31898.0  4822232.0  186894.0  0.957443   0.758396   \n",
       "\n",
       "      recall  val_loss   val_tp   val_fp     val_tn   val_fn  val_accuracy  \\\n",
       "0   0.218987  0.184724  23622.0  26388.0  1187144.0  48134.0      0.942019   \n",
       "1   0.251200  0.161577  22868.0  16983.0  1196549.0  48888.0      0.948750   \n",
       "2   0.269885  0.150965  20596.0  10242.0  1203290.0  51160.0      0.952227   \n",
       "3   0.284037  0.151777  20872.0  10587.0  1202945.0  50884.0      0.952173   \n",
       "4   0.295657  0.152079  19638.0   8253.0  1205279.0  52118.0      0.953029   \n",
       "5   0.306436  0.149519  18706.0   7240.0  1206292.0  53050.0      0.953092   \n",
       "6   0.315537  0.149828  17895.0   6485.0  1207047.0  53861.0      0.953049   \n",
       "7   0.324752  0.151381  17940.0   7053.0  1206479.0  53816.0      0.952642   \n",
       "8   0.332372  0.149976  18722.0   7389.0  1206143.0  53034.0      0.952989   \n",
       "9   0.341287  0.148263  19931.0   8035.0  1205497.0  51825.0      0.953427   \n",
       "10  0.348851  0.150312  21521.0  10544.0  1202988.0  50235.0      0.952712   \n",
       "\n",
       "    val_precision  val_recall  \n",
       "0        0.472346    0.329199  \n",
       "1        0.573838    0.318691  \n",
       "2        0.667877    0.287028  \n",
       "3        0.663467    0.290875  \n",
       "4        0.704098    0.273677  \n",
       "5        0.720959    0.260689  \n",
       "6        0.734003    0.249387  \n",
       "7        0.717801    0.250014  \n",
       "8        0.717016    0.260912  \n",
       "9        0.712687    0.277761  \n",
       "10       0.671168    0.299919  "
      ]
     },
     "metadata": {},
     "output_type": "display_data"
    }
   ],
   "source": [
    "pd.DataFrame(history_model_2_fine_multi_optimizer.history)"
   ]
  }
 ],
 "metadata": {
  "kernelspec": {
   "display_name": "Python 3.9.13 ('env_similar-products')",
   "language": "python",
   "name": "python3"
  },
  "language_info": {
   "codemirror_mode": {
    "name": "ipython",
    "version": 3
   },
   "file_extension": ".py",
   "mimetype": "text/x-python",
   "name": "python",
   "nbconvert_exporter": "python",
   "pygments_lexer": "ipython3",
   "version": "3.9.13"
  },
  "orig_nbformat": 4,
  "vscode": {
   "interpreter": {
    "hash": "3a9fdba9d57aea1bb5c6986083e3594030ae55b020a0216061e1820b16640168"
   }
  }
 },
 "nbformat": 4,
 "nbformat_minor": 2
}
