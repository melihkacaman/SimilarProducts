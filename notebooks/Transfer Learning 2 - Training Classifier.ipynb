{
 "cells": [
  {
   "cell_type": "markdown",
   "source": [
    "# Get the Data"
   ],
   "metadata": {
    "collapsed": false
   }
  },
  {
   "cell_type": "code",
   "execution_count": 1,
   "outputs": [],
   "source": [
    "import pandas as pd\n",
    "import numpy as np\n",
    "import tensorflow as tf"
   ],
   "metadata": {
    "collapsed": false
   }
  },
  {
   "cell_type": "code",
   "execution_count": 2,
   "outputs": [],
   "source": [
    "import warnings\n",
    "warnings.filterwarnings(\"ignore\")\n",
    "\n",
    "DATASET2_ODBC = 'PROTO.Melih.Dataset2_SimilarProducts'\n",
    "DATASET2_TITLE = 'dataset2'"
   ],
   "metadata": {
    "collapsed": false
   }
  },
  {
   "cell_type": "code",
   "execution_count": 3,
   "outputs": [
    {
     "data": {
      "text/plain": "       WebSecenek MarkaKodu CinsiyetKodu UrunGrubuKodu   Renk  \\\n0  50189274-VR046        08            1           016  VR046   \n1  50189277-VR033        08            1           016  VR033   \n2  50189277-VR033        08            1           016  VR033   \n3  50189278-VR085        08            1           016  VR085   \n4  50189278-VR085        08            1           016  VR085   \n\n                                                cUrl  UrlNo  \n0  https://resim.aydinli.com.tr/08/1/016/S5018927...      2  \n1  https://resim.aydinli.com.tr/08/1/016/S5018927...      1  \n2  https://resim.aydinli.com.tr/08/1/016/S5018927...      2  \n3  https://resim.aydinli.com.tr/08/1/016/S5018927...      1  \n4  https://resim.aydinli.com.tr/08/1/016/S5018927...      2  ",
      "text/html": "<div>\n<style scoped>\n    .dataframe tbody tr th:only-of-type {\n        vertical-align: middle;\n    }\n\n    .dataframe tbody tr th {\n        vertical-align: top;\n    }\n\n    .dataframe thead th {\n        text-align: right;\n    }\n</style>\n<table border=\"1\" class=\"dataframe\">\n  <thead>\n    <tr style=\"text-align: right;\">\n      <th></th>\n      <th>WebSecenek</th>\n      <th>MarkaKodu</th>\n      <th>CinsiyetKodu</th>\n      <th>UrunGrubuKodu</th>\n      <th>Renk</th>\n      <th>cUrl</th>\n      <th>UrlNo</th>\n    </tr>\n  </thead>\n  <tbody>\n    <tr>\n      <th>0</th>\n      <td>50189274-VR046</td>\n      <td>08</td>\n      <td>1</td>\n      <td>016</td>\n      <td>VR046</td>\n      <td>https://resim.aydinli.com.tr/08/1/016/S5018927...</td>\n      <td>2</td>\n    </tr>\n    <tr>\n      <th>1</th>\n      <td>50189277-VR033</td>\n      <td>08</td>\n      <td>1</td>\n      <td>016</td>\n      <td>VR033</td>\n      <td>https://resim.aydinli.com.tr/08/1/016/S5018927...</td>\n      <td>1</td>\n    </tr>\n    <tr>\n      <th>2</th>\n      <td>50189277-VR033</td>\n      <td>08</td>\n      <td>1</td>\n      <td>016</td>\n      <td>VR033</td>\n      <td>https://resim.aydinli.com.tr/08/1/016/S5018927...</td>\n      <td>2</td>\n    </tr>\n    <tr>\n      <th>3</th>\n      <td>50189278-VR085</td>\n      <td>08</td>\n      <td>1</td>\n      <td>016</td>\n      <td>VR085</td>\n      <td>https://resim.aydinli.com.tr/08/1/016/S5018927...</td>\n      <td>1</td>\n    </tr>\n    <tr>\n      <th>4</th>\n      <td>50189278-VR085</td>\n      <td>08</td>\n      <td>1</td>\n      <td>016</td>\n      <td>VR085</td>\n      <td>https://resim.aydinli.com.tr/08/1/016/S5018927...</td>\n      <td>2</td>\n    </tr>\n  </tbody>\n</table>\n</div>"
     },
     "execution_count": 3,
     "metadata": {},
     "output_type": "execute_result"
    }
   ],
   "source": [
    "from common.sql_helper import custom_query\n",
    "\n",
    "query = f'select * from {DATASET2_ODBC}'\n",
    "result = custom_query(query=query)\n",
    "\n",
    "result.head()"
   ],
   "metadata": {
    "collapsed": false
   }
  },
  {
   "cell_type": "code",
   "execution_count": 4,
   "outputs": [
    {
     "data": {
      "text/plain": "(125246, 7)"
     },
     "execution_count": 4,
     "metadata": {},
     "output_type": "execute_result"
    }
   ],
   "source": [
    "result.shape"
   ],
   "metadata": {
    "collapsed": false
   }
  },
  {
   "cell_type": "code",
   "execution_count": 5,
   "outputs": [
    {
     "data": {
      "text/plain": "    CinsiyetKodu UrunGrubuKodu\n0              1           016\n63             2           016\n83             2           057\n93             2           013\n111            1           013",
      "text/html": "<div>\n<style scoped>\n    .dataframe tbody tr th:only-of-type {\n        vertical-align: middle;\n    }\n\n    .dataframe tbody tr th {\n        vertical-align: top;\n    }\n\n    .dataframe thead th {\n        text-align: right;\n    }\n</style>\n<table border=\"1\" class=\"dataframe\">\n  <thead>\n    <tr style=\"text-align: right;\">\n      <th></th>\n      <th>CinsiyetKodu</th>\n      <th>UrunGrubuKodu</th>\n    </tr>\n  </thead>\n  <tbody>\n    <tr>\n      <th>0</th>\n      <td>1</td>\n      <td>016</td>\n    </tr>\n    <tr>\n      <th>63</th>\n      <td>2</td>\n      <td>016</td>\n    </tr>\n    <tr>\n      <th>83</th>\n      <td>2</td>\n      <td>057</td>\n    </tr>\n    <tr>\n      <th>93</th>\n      <td>2</td>\n      <td>013</td>\n    </tr>\n    <tr>\n      <th>111</th>\n      <td>1</td>\n      <td>013</td>\n    </tr>\n  </tbody>\n</table>\n</div>"
     },
     "execution_count": 5,
     "metadata": {},
     "output_type": "execute_result"
    }
   ],
   "source": [
    "class_names = result[['CinsiyetKodu', 'UrunGrubuKodu']].drop_duplicates()\n",
    "class_names.head()"
   ],
   "metadata": {
    "collapsed": false
   }
  },
  {
   "cell_type": "code",
   "execution_count": 6,
   "outputs": [
    {
     "data": {
      "text/plain": "(50, 2)"
     },
     "execution_count": 6,
     "metadata": {},
     "output_type": "execute_result"
    }
   ],
   "source": [
    "class_names.shape"
   ],
   "metadata": {
    "collapsed": false
   }
  },
  {
   "cell_type": "code",
   "execution_count": null,
   "outputs": [],
   "source": [
    "%%time\n",
    "from common.model_helper import make_dataset_cv\n",
    "\n",
    "errors = make_dataset_cv('08', 'DATASETDENEME', result,class_names , 1000)\n",
    "errors"
   ],
   "metadata": {
    "collapsed": false
   }
  },
  {
   "cell_type": "code",
   "execution_count": null,
   "outputs": [],
   "source": [],
   "metadata": {
    "collapsed": false
   }
  },
  {
   "cell_type": "code",
   "execution_count": null,
   "outputs": [],
   "source": [],
   "metadata": {
    "collapsed": false
   }
  }
 ],
 "metadata": {
  "kernelspec": {
   "display_name": "Python 3",
   "language": "python",
   "name": "python3"
  },
  "language_info": {
   "codemirror_mode": {
    "name": "ipython",
    "version": 2
   },
   "file_extension": ".py",
   "mimetype": "text/x-python",
   "name": "python",
   "nbconvert_exporter": "python",
   "pygments_lexer": "ipython2",
   "version": "2.7.6"
  }
 },
 "nbformat": 4,
 "nbformat_minor": 0
}
