{
 "cells": [
  {
   "cell_type": "markdown",
   "metadata": {},
   "source": [
    "# Get the Data"
   ]
  },
  {
   "cell_type": "code",
   "execution_count": 1,
   "metadata": {},
   "outputs": [],
   "source": [
    "import pandas as pd\n",
    "import numpy as np\n",
    "import tensorflow as tf"
   ]
  },
  {
   "cell_type": "code",
   "execution_count": 2,
   "metadata": {},
   "outputs": [],
   "source": [
    "import warnings\n",
    "warnings.filterwarnings(\"ignore\")\n",
    "\n",
    "DATASET2_ODBC = 'PROTO.Melih.Dataset2_SimilarProducts'\n",
    "DATASET2_TITLE = 'dataset2'"
   ]
  },
  {
   "cell_type": "code",
   "execution_count": 3,
   "metadata": {},
   "outputs": [
    {
     "data": {
      "text/html": [
       "<div>\n",
       "<style scoped>\n",
       "    .dataframe tbody tr th:only-of-type {\n",
       "        vertical-align: middle;\n",
       "    }\n",
       "\n",
       "    .dataframe tbody tr th {\n",
       "        vertical-align: top;\n",
       "    }\n",
       "\n",
       "    .dataframe thead th {\n",
       "        text-align: right;\n",
       "    }\n",
       "</style>\n",
       "<table border=\"1\" class=\"dataframe\">\n",
       "  <thead>\n",
       "    <tr style=\"text-align: right;\">\n",
       "      <th></th>\n",
       "      <th>WebSecenek</th>\n",
       "      <th>MarkaKodu</th>\n",
       "      <th>CinsiyetKodu</th>\n",
       "      <th>UrunGrubuKodu</th>\n",
       "      <th>Renk</th>\n",
       "      <th>cUrl</th>\n",
       "      <th>UrlNo</th>\n",
       "    </tr>\n",
       "  </thead>\n",
       "  <tbody>\n",
       "    <tr>\n",
       "      <th>0</th>\n",
       "      <td>50189274-VR046</td>\n",
       "      <td>08</td>\n",
       "      <td>1</td>\n",
       "      <td>016</td>\n",
       "      <td>VR046</td>\n",
       "      <td>https://resim.aydinli.com.tr/08/1/016/S5018927...</td>\n",
       "      <td>2</td>\n",
       "    </tr>\n",
       "    <tr>\n",
       "      <th>1</th>\n",
       "      <td>50189277-VR033</td>\n",
       "      <td>08</td>\n",
       "      <td>1</td>\n",
       "      <td>016</td>\n",
       "      <td>VR033</td>\n",
       "      <td>https://resim.aydinli.com.tr/08/1/016/S5018927...</td>\n",
       "      <td>1</td>\n",
       "    </tr>\n",
       "    <tr>\n",
       "      <th>2</th>\n",
       "      <td>50189277-VR033</td>\n",
       "      <td>08</td>\n",
       "      <td>1</td>\n",
       "      <td>016</td>\n",
       "      <td>VR033</td>\n",
       "      <td>https://resim.aydinli.com.tr/08/1/016/S5018927...</td>\n",
       "      <td>2</td>\n",
       "    </tr>\n",
       "    <tr>\n",
       "      <th>3</th>\n",
       "      <td>50189278-VR085</td>\n",
       "      <td>08</td>\n",
       "      <td>1</td>\n",
       "      <td>016</td>\n",
       "      <td>VR085</td>\n",
       "      <td>https://resim.aydinli.com.tr/08/1/016/S5018927...</td>\n",
       "      <td>1</td>\n",
       "    </tr>\n",
       "    <tr>\n",
       "      <th>4</th>\n",
       "      <td>50189278-VR085</td>\n",
       "      <td>08</td>\n",
       "      <td>1</td>\n",
       "      <td>016</td>\n",
       "      <td>VR085</td>\n",
       "      <td>https://resim.aydinli.com.tr/08/1/016/S5018927...</td>\n",
       "      <td>2</td>\n",
       "    </tr>\n",
       "  </tbody>\n",
       "</table>\n",
       "</div>"
      ],
      "text/plain": [
       "       WebSecenek MarkaKodu CinsiyetKodu UrunGrubuKodu   Renk  \\\n",
       "0  50189274-VR046        08            1           016  VR046   \n",
       "1  50189277-VR033        08            1           016  VR033   \n",
       "2  50189277-VR033        08            1           016  VR033   \n",
       "3  50189278-VR085        08            1           016  VR085   \n",
       "4  50189278-VR085        08            1           016  VR085   \n",
       "\n",
       "                                                cUrl  UrlNo  \n",
       "0  https://resim.aydinli.com.tr/08/1/016/S5018927...      2  \n",
       "1  https://resim.aydinli.com.tr/08/1/016/S5018927...      1  \n",
       "2  https://resim.aydinli.com.tr/08/1/016/S5018927...      2  \n",
       "3  https://resim.aydinli.com.tr/08/1/016/S5018927...      1  \n",
       "4  https://resim.aydinli.com.tr/08/1/016/S5018927...      2  "
      ]
     },
     "execution_count": 3,
     "metadata": {},
     "output_type": "execute_result"
    }
   ],
   "source": [
    "from common.sql_helper import custom_query\n",
    "\n",
    "query = f'select * from {DATASET2_ODBC}'\n",
    "result = custom_query(query=query)\n",
    "\n",
    "result.head()"
   ]
  },
  {
   "cell_type": "code",
   "execution_count": 4,
   "metadata": {},
   "outputs": [
    {
     "data": {
      "text/plain": [
       "(125246, 7)"
      ]
     },
     "execution_count": 4,
     "metadata": {},
     "output_type": "execute_result"
    }
   ],
   "source": [
    "result.shape"
   ]
  },
  {
   "cell_type": "code",
   "execution_count": 5,
   "metadata": {},
   "outputs": [
    {
     "data": {
      "text/html": [
       "<div>\n",
       "<style scoped>\n",
       "    .dataframe tbody tr th:only-of-type {\n",
       "        vertical-align: middle;\n",
       "    }\n",
       "\n",
       "    .dataframe tbody tr th {\n",
       "        vertical-align: top;\n",
       "    }\n",
       "\n",
       "    .dataframe thead th {\n",
       "        text-align: right;\n",
       "    }\n",
       "</style>\n",
       "<table border=\"1\" class=\"dataframe\">\n",
       "  <thead>\n",
       "    <tr style=\"text-align: right;\">\n",
       "      <th></th>\n",
       "      <th>CinsiyetKodu</th>\n",
       "      <th>UrunGrubuKodu</th>\n",
       "    </tr>\n",
       "  </thead>\n",
       "  <tbody>\n",
       "    <tr>\n",
       "      <th>0</th>\n",
       "      <td>1</td>\n",
       "      <td>016</td>\n",
       "    </tr>\n",
       "    <tr>\n",
       "      <th>63</th>\n",
       "      <td>2</td>\n",
       "      <td>016</td>\n",
       "    </tr>\n",
       "    <tr>\n",
       "      <th>83</th>\n",
       "      <td>2</td>\n",
       "      <td>057</td>\n",
       "    </tr>\n",
       "    <tr>\n",
       "      <th>93</th>\n",
       "      <td>2</td>\n",
       "      <td>013</td>\n",
       "    </tr>\n",
       "    <tr>\n",
       "      <th>111</th>\n",
       "      <td>1</td>\n",
       "      <td>013</td>\n",
       "    </tr>\n",
       "  </tbody>\n",
       "</table>\n",
       "</div>"
      ],
      "text/plain": [
       "    CinsiyetKodu UrunGrubuKodu\n",
       "0              1           016\n",
       "63             2           016\n",
       "83             2           057\n",
       "93             2           013\n",
       "111            1           013"
      ]
     },
     "execution_count": 5,
     "metadata": {},
     "output_type": "execute_result"
    }
   ],
   "source": [
    "class_names = result[['CinsiyetKodu', 'UrunGrubuKodu']].drop_duplicates()\n",
    "class_names.head()"
   ]
  },
  {
   "cell_type": "code",
   "execution_count": 6,
   "metadata": {},
   "outputs": [
    {
     "data": {
      "text/plain": [
       "(50, 2)"
      ]
     },
     "execution_count": 6,
     "metadata": {},
     "output_type": "execute_result"
    }
   ],
   "source": [
    "class_names.shape"
   ]
  },
  {
   "cell_type": "code",
   "execution_count": null,
   "metadata": {},
   "outputs": [],
   "source": [
    "# from common.model_helper import make_dataset_cv\n",
    "\n",
    "# errors = make_dataset_cv('08', 'DATASETDENEME', result,class_names , 1000)\n",
    "# errors"
   ]
  },
  {
   "cell_type": "markdown",
   "metadata": {},
   "source": [
    "# Creating Model"
   ]
  },
  {
   "cell_type": "markdown",
   "metadata": {},
   "source": [
    "## Creating Model CheckPoint"
   ]
  },
  {
   "cell_type": "code",
   "execution_count": 3,
   "metadata": {},
   "outputs": [],
   "source": [
    "checkpoint_path = \"checkpoints/TL_training_classifier/checkpoint.ckpt\" # note: remember saving directly to Colab is temporary\n",
    "checkpoint_callback = tf.keras.callbacks.ModelCheckpoint(filepath=checkpoint_path,\n",
    "                                                         save_weights_only=True,\n",
    "                                                         save_best_only=True,\n",
    "                                                         verbose=1)"
   ]
  },
  {
   "cell_type": "markdown",
   "metadata": {},
   "source": [
    "## Flow Data"
   ]
  },
  {
   "cell_type": "code",
   "execution_count": 4,
   "metadata": {},
   "outputs": [],
   "source": [
    "dir_ds_2 =  '../datasets/dataset2/brand_08/'"
   ]
  },
  {
   "cell_type": "code",
   "execution_count": 5,
   "metadata": {},
   "outputs": [
    {
     "name": "stdout",
     "output_type": "stream",
     "text": [
      "Found 97761 images belonging to 50 classes.\n",
      "Found 24415 images belonging to 50 classes.\n"
     ]
    }
   ],
   "source": [
    "datagen = tf.keras.preprocessing.image.ImageDataGenerator(validation_split=0.2)\n",
    "\n",
    "train_generator = datagen.flow_from_directory(dir_ds_2,\n",
    "                                              target_size=(224, 224),\n",
    "                                              batch_size=32,\n",
    "                                              class_mode='categorical',\n",
    "                                              subset=\"training\",\n",
    "                                              shuffle=True) # training dataset\n",
    "test_generator = datagen.flow_from_directory(dir_ds_2,\n",
    "                                             target_size=(224, 224),\n",
    "                                             batch_size=32,\n",
    "                                             class_mode=\"categorical\",\n",
    "                                             subset=\"validation\",\n",
    "                                             shuffle=True\n",
    "                                             ) # validation dataset"
   ]
  },
  {
   "cell_type": "code",
   "execution_count": 8,
   "metadata": {},
   "outputs": [
    {
     "data": {
      "text/plain": [
       "50"
      ]
     },
     "execution_count": 8,
     "metadata": {},
     "output_type": "execute_result"
    }
   ],
   "source": [
    "train_generator.num_classes"
   ]
  },
  {
   "cell_type": "markdown",
   "metadata": {},
   "source": [
    "## Model 0: Building a transfer learning model using the Keras Functional API"
   ]
  },
  {
   "cell_type": "code",
   "execution_count": 9,
   "metadata": {},
   "outputs": [],
   "source": [
    "base_model = tf.keras.applications.EfficientNetB0(include_top=False)\n",
    "base_model.trainable = False\n",
    "\n",
    "inputs = tf.keras.layers.Input(shape=(224, 224, 3), name=\"input_layer\")\n",
    "x = base_model(inputs)\n",
    "x = tf.keras.layers.GlobalAveragePooling2D(name=\"global_average_pooling2D\")(x)\n",
    "outputs = tf.keras.layers.Dense(train_generator.num_classes, name=\"output_layer\")(x)\n",
    "\n",
    "model_0 = tf.keras.Model(inputs, outputs)"
   ]
  },
  {
   "cell_type": "code",
   "execution_count": 11,
   "metadata": {},
   "outputs": [
    {
     "name": "stdout",
     "output_type": "stream",
     "text": [
      "Epoch 1/5\n",
      "3056/3056 [==============================] - ETA: 0s - loss: 9.1264 - accuracy: 0.2342\n",
      "Epoch 1: val_loss improved from inf to 8.99029, saving model to checkpoints/TL_training_classifier\\checkpoint.ckpt\n",
      "3056/3056 [==============================] - 4164s 1s/step - loss: 9.1264 - accuracy: 0.2342 - val_loss: 8.9903 - val_accuracy: 0.2602\n",
      "Epoch 2/5\n",
      "3056/3056 [==============================] - ETA: 0s - loss: 9.0197 - accuracy: 0.2826\n",
      "Epoch 2: val_loss did not improve from 8.99029\n",
      "3056/3056 [==============================] - 4060s 1s/step - loss: 9.0197 - accuracy: 0.2826 - val_loss: 9.4349 - val_accuracy: 0.2896\n",
      "Epoch 3/5\n",
      "3056/3056 [==============================] - ETA: 0s - loss: 9.0109 - accuracy: 0.3019\n",
      "Epoch 3: val_loss did not improve from 8.99029\n",
      "3056/3056 [==============================] - 4084s 1s/step - loss: 9.0109 - accuracy: 0.3019 - val_loss: 9.5500 - val_accuracy: 0.3109\n",
      "Epoch 4/5\n",
      "3056/3056 [==============================] - ETA: 0s - loss: 8.8732 - accuracy: 0.3222\n",
      "Epoch 4: val_loss improved from 8.99029 to 8.51578, saving model to checkpoints/TL_training_classifier\\checkpoint.ckpt\n",
      "3056/3056 [==============================] - 4047s 1s/step - loss: 8.8732 - accuracy: 0.3222 - val_loss: 8.5158 - val_accuracy: 0.3377\n",
      "Epoch 5/5\n",
      "3056/3056 [==============================] - ETA: 0s - loss: 8.6931 - accuracy: 0.3373\n",
      "Epoch 5: val_loss did not improve from 8.51578\n",
      "3056/3056 [==============================] - 4059s 1s/step - loss: 8.6931 - accuracy: 0.3373 - val_loss: 8.9394 - val_accuracy: 0.3456\n"
     ]
    }
   ],
   "source": [
    "model_0.compile(loss=\"categorical_crossentropy\",\n",
    "                optimizer=tf.keras.optimizers.Adam(),\n",
    "                metrics=['accuracy']\n",
    "                )\n",
    "\n",
    "history_0 = model_0.fit(train_generator,\n",
    "                        epochs=5,\n",
    "                        steps_per_epoch=len(train_generator),\n",
    "                        validation_data=test_generator,\n",
    "                        validation_steps=int(0.25 * len(test_generator)),\n",
    "                        callbacks=[checkpoint_callback])"
   ]
  },
  {
   "cell_type": "markdown",
   "metadata": {},
   "source": [
    "## Evaluation\n",
    "\n",
    "The model_0 has been trained in remote desktop. So we need to copy the architecture. "
   ]
  },
  {
   "cell_type": "code",
   "execution_count": 18,
   "metadata": {},
   "outputs": [
    {
     "data": {
      "text/plain": [
       "<keras.engine.functional.Functional at 0x25d351aabb0>"
      ]
     },
     "execution_count": 18,
     "metadata": {},
     "output_type": "execute_result"
    }
   ],
   "source": [
    "model_0"
   ]
  },
  {
   "cell_type": "code",
   "execution_count": null,
   "metadata": {},
   "outputs": [],
   "source": [
    "# coming back "
   ]
  }
 ],
 "metadata": {
  "kernelspec": {
   "display_name": "Python 3 (ipykernel)",
   "language": "python",
   "name": "python3"
  },
  "language_info": {
   "codemirror_mode": {
    "name": "ipython",
    "version": 3
   },
   "file_extension": ".py",
   "mimetype": "text/x-python",
   "name": "python",
   "nbconvert_exporter": "python",
   "pygments_lexer": "ipython3",
   "version": "3.9.12"
  }
 },
 "nbformat": 4,
 "nbformat_minor": 1
}
