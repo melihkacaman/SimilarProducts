{
 "cells": [
  {
   "cell_type": "markdown",
   "source": [
    "# Get the Data"
   ],
   "metadata": {
    "collapsed": false
   }
  },
  {
   "cell_type": "code",
   "execution_count": 1,
   "outputs": [],
   "source": [
    "import pandas as pd\n",
    "import numpy as np\n",
    "import tensorflow as tf"
   ],
   "metadata": {
    "collapsed": false
   }
  },
  {
   "cell_type": "code",
   "execution_count": 2,
   "outputs": [],
   "source": [
    "import warnings\n",
    "warnings.filterwarnings(\"ignore\")\n",
    "\n",
    "DATASET2_ODBC = 'PROTO.Melih.Dataset2_SimilarProducts'\n",
    "DATASET2_TITLE = 'dataset2'"
   ],
   "metadata": {
    "collapsed": false
   }
  },
  {
   "cell_type": "code",
   "execution_count": 3,
   "outputs": [
    {
     "data": {
      "text/plain": "       WebSecenek MarkaKodu CinsiyetKodu UrunGrubuKodu   Renk  \\\n0  50189274-VR046        08            1           016  VR046   \n1  50189277-VR033        08            1           016  VR033   \n2  50189277-VR033        08            1           016  VR033   \n3  50189278-VR085        08            1           016  VR085   \n4  50189278-VR085        08            1           016  VR085   \n\n                                                cUrl  UrlNo  \n0  https://resim.aydinli.com.tr/08/1/016/S5018927...      2  \n1  https://resim.aydinli.com.tr/08/1/016/S5018927...      1  \n2  https://resim.aydinli.com.tr/08/1/016/S5018927...      2  \n3  https://resim.aydinli.com.tr/08/1/016/S5018927...      1  \n4  https://resim.aydinli.com.tr/08/1/016/S5018927...      2  ",
      "text/html": "<div>\n<style scoped>\n    .dataframe tbody tr th:only-of-type {\n        vertical-align: middle;\n    }\n\n    .dataframe tbody tr th {\n        vertical-align: top;\n    }\n\n    .dataframe thead th {\n        text-align: right;\n    }\n</style>\n<table border=\"1\" class=\"dataframe\">\n  <thead>\n    <tr style=\"text-align: right;\">\n      <th></th>\n      <th>WebSecenek</th>\n      <th>MarkaKodu</th>\n      <th>CinsiyetKodu</th>\n      <th>UrunGrubuKodu</th>\n      <th>Renk</th>\n      <th>cUrl</th>\n      <th>UrlNo</th>\n    </tr>\n  </thead>\n  <tbody>\n    <tr>\n      <th>0</th>\n      <td>50189274-VR046</td>\n      <td>08</td>\n      <td>1</td>\n      <td>016</td>\n      <td>VR046</td>\n      <td>https://resim.aydinli.com.tr/08/1/016/S5018927...</td>\n      <td>2</td>\n    </tr>\n    <tr>\n      <th>1</th>\n      <td>50189277-VR033</td>\n      <td>08</td>\n      <td>1</td>\n      <td>016</td>\n      <td>VR033</td>\n      <td>https://resim.aydinli.com.tr/08/1/016/S5018927...</td>\n      <td>1</td>\n    </tr>\n    <tr>\n      <th>2</th>\n      <td>50189277-VR033</td>\n      <td>08</td>\n      <td>1</td>\n      <td>016</td>\n      <td>VR033</td>\n      <td>https://resim.aydinli.com.tr/08/1/016/S5018927...</td>\n      <td>2</td>\n    </tr>\n    <tr>\n      <th>3</th>\n      <td>50189278-VR085</td>\n      <td>08</td>\n      <td>1</td>\n      <td>016</td>\n      <td>VR085</td>\n      <td>https://resim.aydinli.com.tr/08/1/016/S5018927...</td>\n      <td>1</td>\n    </tr>\n    <tr>\n      <th>4</th>\n      <td>50189278-VR085</td>\n      <td>08</td>\n      <td>1</td>\n      <td>016</td>\n      <td>VR085</td>\n      <td>https://resim.aydinli.com.tr/08/1/016/S5018927...</td>\n      <td>2</td>\n    </tr>\n  </tbody>\n</table>\n</div>"
     },
     "execution_count": 3,
     "metadata": {},
     "output_type": "execute_result"
    }
   ],
   "source": [
    "from common.sql_helper import custom_query\n",
    "\n",
    "query = f'select * from {DATASET2_ODBC}'\n",
    "result = custom_query(query=query)\n",
    "\n",
    "result.head()"
   ],
   "metadata": {
    "collapsed": false
   }
  },
  {
   "cell_type": "code",
   "execution_count": 4,
   "outputs": [
    {
     "data": {
      "text/plain": "(125246, 7)"
     },
     "execution_count": 4,
     "metadata": {},
     "output_type": "execute_result"
    }
   ],
   "source": [
    "result.shape"
   ],
   "metadata": {
    "collapsed": false
   }
  },
  {
   "cell_type": "code",
   "execution_count": 5,
   "outputs": [
    {
     "data": {
      "text/plain": "    CinsiyetKodu UrunGrubuKodu\n0              1           016\n63             2           016\n83             2           057\n93             2           013\n111            1           013",
      "text/html": "<div>\n<style scoped>\n    .dataframe tbody tr th:only-of-type {\n        vertical-align: middle;\n    }\n\n    .dataframe tbody tr th {\n        vertical-align: top;\n    }\n\n    .dataframe thead th {\n        text-align: right;\n    }\n</style>\n<table border=\"1\" class=\"dataframe\">\n  <thead>\n    <tr style=\"text-align: right;\">\n      <th></th>\n      <th>CinsiyetKodu</th>\n      <th>UrunGrubuKodu</th>\n    </tr>\n  </thead>\n  <tbody>\n    <tr>\n      <th>0</th>\n      <td>1</td>\n      <td>016</td>\n    </tr>\n    <tr>\n      <th>63</th>\n      <td>2</td>\n      <td>016</td>\n    </tr>\n    <tr>\n      <th>83</th>\n      <td>2</td>\n      <td>057</td>\n    </tr>\n    <tr>\n      <th>93</th>\n      <td>2</td>\n      <td>013</td>\n    </tr>\n    <tr>\n      <th>111</th>\n      <td>1</td>\n      <td>013</td>\n    </tr>\n  </tbody>\n</table>\n</div>"
     },
     "execution_count": 5,
     "metadata": {},
     "output_type": "execute_result"
    }
   ],
   "source": [
    "class_names = result[['CinsiyetKodu', 'UrunGrubuKodu']].drop_duplicates()\n",
    "class_names.head()"
   ],
   "metadata": {
    "collapsed": false
   }
  },
  {
   "cell_type": "code",
   "execution_count": 6,
   "outputs": [
    {
     "data": {
      "text/plain": "(50, 2)"
     },
     "execution_count": 6,
     "metadata": {},
     "output_type": "execute_result"
    }
   ],
   "source": [
    "class_names.shape"
   ],
   "metadata": {
    "collapsed": false
   }
  },
  {
   "cell_type": "code",
   "execution_count": null,
   "outputs": [],
   "source": [
    "%%time\n",
    "from common.model_helper import make_dataset_cv\n",
    "\n",
    "errors = make_dataset_cv('08', 'DATASETDENEME', result,class_names , 1000)\n",
    "errors"
   ],
   "metadata": {
    "collapsed": false
   }
  },
  {
   "cell_type": "markdown",
   "source": [
    "# Creating Model"
   ],
   "metadata": {
    "collapsed": false
   }
  },
  {
   "cell_type": "markdown",
   "source": [
    "## Creating Model CheckPoint"
   ],
   "metadata": {
    "collapsed": false
   }
  },
  {
   "cell_type": "code",
   "execution_count": 11,
   "outputs": [],
   "source": [
    "checkpoint_path = \"checkpoints/TL_training_classifier/checkpoint.ckpt\" # note: remember saving directly to Colab is temporary\n",
    "checkpoint_callback = tf.keras.callbacks.ModelCheckpoint(filepath=checkpoint_path,\n",
    "                                                         save_weights_only=True,\n",
    "                                                         save_best_only=True,\n",
    "                                                         verbose=1)"
   ],
   "metadata": {
    "collapsed": false
   }
  },
  {
   "cell_type": "markdown",
   "source": [
    "## Flow Data"
   ],
   "metadata": {
    "collapsed": false
   }
  },
  {
   "cell_type": "code",
   "execution_count": 14,
   "outputs": [],
   "source": [
    "dir_ds_2 =  '../datasets/dataset2/brand_08/'"
   ],
   "metadata": {
    "collapsed": false
   }
  },
  {
   "cell_type": "code",
   "execution_count": 15,
   "outputs": [
    {
     "name": "stdout",
     "output_type": "stream",
     "text": [
      "Found 850 images belonging to 50 classes.\n",
      "Found 200 images belonging to 50 classes.\n"
     ]
    }
   ],
   "source": [
    "datagen = tf.keras.preprocessing.image.ImageDataGenerator(validation_split=0.2)\n",
    "\n",
    "train_generator = datagen.flow_from_directory(dir_ds_2,\n",
    "                                              target_size=(224, 224),\n",
    "                                              batch_size=32,\n",
    "                                              class_mode='categorical',\n",
    "                                              subset=\"training\") # training dataset\n",
    "test_generator = datagen.flow_from_directory(dir_ds_2,\n",
    "                                             target_size=(224, 224),\n",
    "                                             batch_size=32,\n",
    "                                             class_mode=\"categorical\",\n",
    "                                             subset=\"validation\"\n",
    "                                             ) # validation dataset"
   ],
   "metadata": {
    "collapsed": false
   }
  },
  {
   "cell_type": "markdown",
   "source": [
    "## Model 0: Building a transfer learning model using the Keras Functional API"
   ],
   "metadata": {
    "collapsed": false
   }
  },
  {
   "cell_type": "code",
   "execution_count": 13,
   "outputs": [],
   "source": [
    "base_model = tf.keras.applications.EfficientNetB0(include_top=False)\n",
    "base_model.trainable = False\n",
    "\n",
    "inputs = tf.keras.layers.Input(shape=(224, 224, 3), name=\"input_layer\")\n",
    "x = base_model(inputs)\n",
    "x = tf.keras.layers.GlobalAveragePooling2D(name=\"global_average_pooling2D\")(x)\n",
    "outputs = tf.keras.layers.Dense(len(class_names), name=\"output_layer\")(x)\n",
    "\n",
    "model_0 = tf.keras.Model(inputs, outputs)"
   ],
   "metadata": {
    "collapsed": false
   }
  },
  {
   "cell_type": "code",
   "execution_count": 16,
   "outputs": [
    {
     "name": "stdout",
     "output_type": "stream",
     "text": [
      "Epoch 1/5\n",
      "27/27 [==============================] - 53s 2s/step - loss: 13.1926 - accuracy: 0.0082 - val_loss: 14.4904 - val_accuracy: 0.0000e+00\n",
      "Epoch 2/5\n",
      "27/27 [==============================] - 39s 1s/step - loss: 11.7251 - accuracy: 0.1765 - val_loss: 13.3862 - val_accuracy: 0.4688\n",
      "Epoch 3/5\n",
      "27/27 [==============================] - 39s 1s/step - loss: 14.3274 - accuracy: 0.6600 - val_loss: 16.1181 - val_accuracy: 0.6562\n",
      "Epoch 4/5\n",
      "27/27 [==============================] - 41s 2s/step - loss: 15.6020 - accuracy: 0.8659 - val_loss: 16.1181 - val_accuracy: 0.7812\n",
      "Epoch 5/5\n",
      "27/27 [==============================] - 38s 1s/step - loss: 15.5684 - accuracy: 0.8353 - val_loss: 9.2479 - val_accuracy: 0.4375\n"
     ]
    }
   ],
   "source": [
    "model_0.compile(loss=\"categorical_crossentropy\",\n",
    "                optimizer=tf.keras.optimizers.Adam(),\n",
    "                metrics=['accuracy']\n",
    "                )\n",
    "\n",
    "history_0 = model_0.fit(train_generator,\n",
    "                        epochs=5,\n",
    "                        steps_per_epoch=len(train_generator),\n",
    "                        validation_data=test_generator,\n",
    "                        validation_steps=int(0.25 * len(test_generator)))"
   ],
   "metadata": {
    "collapsed": false
   }
  },
  {
   "cell_type": "markdown",
   "source": [
    "## Evaluation"
   ],
   "metadata": {
    "collapsed": false
   }
  },
  {
   "cell_type": "code",
   "execution_count": null,
   "outputs": [],
   "source": [],
   "metadata": {
    "collapsed": false
   }
  }
 ],
 "metadata": {
  "kernelspec": {
   "display_name": "Python 3",
   "language": "python",
   "name": "python3"
  },
  "language_info": {
   "codemirror_mode": {
    "name": "ipython",
    "version": 2
   },
   "file_extension": ".py",
   "mimetype": "text/x-python",
   "name": "python",
   "nbconvert_exporter": "python",
   "pygments_lexer": "ipython2",
   "version": "2.7.6"
  }
 },
 "nbformat": 4,
 "nbformat_minor": 0
}
